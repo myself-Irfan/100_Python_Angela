{
 "cells": [
  {
   "cell_type": "code",
   "execution_count": 4,
   "id": "72316edb",
   "metadata": {},
   "outputs": [],
   "source": [
    "import logging\n",
    "import pandas as pd\n",
    "import matplotlib.pyplot as plt\n",
    "\n",
    "def setup_logging() -> None:\n",
    "    logging.basicConfig(\n",
    "        level=logging.INFO, \n",
    "        format='%(asctime)s - %(levelname)s - %(funcName)s | %(message)s',\n",
    "        handlers=[\n",
    "            logging.FileHandler('78-ipynb.log')\n",
    "        ]\n",
    "    )\n",
    "\n",
    "    logging.info('Logging setup complete.')\n",
    "\n",
    "def fetch_df(file_path: str) -> pd.DataFrame:\n",
    "    logging.info(f'Fetching DataFrame from {file_path}')\n",
    "\n",
    "    try:\n",
    "        df = pd.read_csv(file_path)\n",
    "    except FileNotFoundError as na_error:\n",
    "        logging.error(f'File not found in {file_path}: {na_error}')\n",
    "        raise na_error\n",
    "    except pd.errors.EmptyDataError as empty_error:\n",
    "        logging.error(f'No data found in {file_path}: {empty_error}')\n",
    "        raise empty_error\n",
    "    except pd.errors.ParserError as parse_error:\n",
    "        logging.error(f'Error parsing data in {file_path}: {parse_error}')\n",
    "        raise parse_error\n",
    "    except Exception as e:\n",
    "        logging.error(f\"An unexpected error occurred while reading {file_path}. Error: {e}\")\n",
    "        raise e\n",
    "    else:\n",
    "        logging.info(f'Data successfully fetched from {file_path}')\n",
    "        return df\n",
    "    \n",
    "def log_df_info(df: pd.DataFrame) -> None:\n",
    "    print(f'DataFrame shape: {df.shape}')\n",
    "    print(f'NaN values: {df.isna().values.any()}')\n",
    "    print(f'Duplicate: {df.duplicated().values.any()}')\n",
    "    print(f'Data Types:\\n{df.dtypes}')"
   ]
  },
  {
   "cell_type": "markdown",
   "id": "efa50e58",
   "metadata": {},
   "source": [
    "# Explore and Clean the Data"
   ]
  },
  {
   "cell_type": "code",
   "execution_count": 7,
   "id": "6ae89280",
   "metadata": {},
   "outputs": [
    {
     "name": "stdout",
     "output_type": "stream",
     "text": [
      "DataFrame shape: (5391, 6)\n",
      "NaN values: False\n",
      "Duplicate: False\n",
      "Data Types:\n",
      "Rank                      int64\n",
      "Release_Date             object\n",
      "Movie_Title              object\n",
      "USD_Production_Budget    object\n",
      "USD_Worldwide_Gross      object\n",
      "USD_Domestic_Gross       object\n",
      "dtype: object\n",
      "DataFrame shape: (5391, 6)\n",
      "NaN values: False\n",
      "Duplicate: False\n",
      "Data Types:\n",
      "Rank                              int64\n",
      "Release_Date             datetime64[ns]\n",
      "Movie_Title                      object\n",
      "USD_Production_Budget             int64\n",
      "USD_Worldwide_Gross               int64\n",
      "USD_Domestic_Gross                int64\n",
      "dtype: object\n"
     ]
    }
   ],
   "source": [
    "if __name__ == \"__main__\":\n",
    "    setup_logging()\n",
    "\n",
    "    file_path = 'input-78.csv'\n",
    "\n",
    "    in_df = fetch_df(file_path)\n",
    "    log_df_info(in_df)\n",
    "\n",
    "    in_df.USD_Production_Budget = pd.to_numeric(\n",
    "        in_df.USD_Production_Budget.replace('[\\$,]', '', regex=True), \n",
    "        errors='coerce'\n",
    "    )\n",
    "\n",
    "    in_df.USD_Worldwide_Gross = pd.to_numeric(\n",
    "        in_df.USD_Worldwide_Gross.replace('[\\$,]', '', regex=True), \n",
    "        errors='coerce'\n",
    "    )\n",
    "\n",
    "    in_df.USD_Domestic_Gross = pd.to_numeric(\n",
    "        in_df.USD_Domestic_Gross.replace('[\\$,]', '', regex=True), \n",
    "        errors='coerce'\n",
    "    )\n",
    "\n",
    "    in_df.Release_Date = pd.to_datetime(\n",
    "        in_df.Release_Date, \n",
    "        errors='coerce'\n",
    "    )\n",
    "\n",
    "    log_df_info(in_df)"
   ]
  }
 ],
 "metadata": {
  "kernelspec": {
   "display_name": ".venv",
   "language": "python",
   "name": "python3"
  },
  "language_info": {
   "codemirror_mode": {
    "name": "ipython",
    "version": 3
   },
   "file_extension": ".py",
   "mimetype": "text/x-python",
   "name": "python",
   "nbconvert_exporter": "python",
   "pygments_lexer": "ipython3",
   "version": "3.12.3"
  }
 },
 "nbformat": 4,
 "nbformat_minor": 5
}
