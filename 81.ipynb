{
 "cells": [
  {
   "cell_type": "code",
   "execution_count": 36,
   "id": "a1ff6e59",
   "metadata": {},
   "outputs": [],
   "source": [
    "import logging\n",
    "import pandas as pd\n",
    "import numpy as np\n",
    "import seaborn as sns\n",
    "import plotly.express as px\n",
    "import matplotlib.pyplot as plt\n",
    "from sklearn.linear_model import LinearRegression\n",
    "from sklearn.model_selection import train_test_split\n",
    "\n",
    "\n",
    "def setup_logging() -> None:\n",
    "    logging.basicConfig(\n",
    "        level=logging.INFO,\n",
    "        format='%(asctime)s - %(levelname)s - %(funcName)s | %(message)s',\n",
    "        handlers=[\n",
    "            logging.FileHandler(\"81-ipynb.log\")\n",
    "        ]\n",
    "    )\n",
    "\n",
    "    logging.info('Logging setup complete.')\n",
    "\n",
    "\n",
    "def fetch_df(file_path: str) -> pd.DataFrame:\n",
    "    logging.info('Initiating reading file: {file_path}')\n",
    "\n",
    "    try:\n",
    "        in_df = pd.read_csv(file_path, index_col=0)\n",
    "    except FileNotFoundError as notfound_err:\n",
    "        logging.error(f'Faile not found at: {file_path}. Error: {notfound_err}')\n",
    "        raise notfound_err\n",
    "    except pd.errors.EmptyDataError as empty_err:\n",
    "        logging.error(f'File empty at: {file_path}. Error: {empty_err}')\n",
    "        raise empty_err\n",
    "    except pd.errors.ParserError as parse_err:\n",
    "        logging.error(f'File parsing error: {parse_err}')\n",
    "        raise parse_err\n",
    "    except Exception as e:\n",
    "        logging.error(f'An unexpected error occurred: {e}')\n",
    "        raise e\n",
    "    else:\n",
    "        logging.info(f'File read successfuly.')\n",
    "        pd.options.display.float_format = '{:,.2f}'.format\n",
    "        return in_df"
   ]
  },
  {
   "cell_type": "markdown",
   "id": "4818dcb7",
   "metadata": {},
   "source": [
    "# Preliminary Data Exploration 🔎"
   ]
  },
  {
   "cell_type": "code",
   "execution_count": 37,
   "id": "2472b630",
   "metadata": {},
   "outputs": [
    {
     "name": "stdout",
     "output_type": "stream",
     "text": [
      "DataFrame shape: (506, 14)\n",
      "Columns: ['CRIM', 'ZN', 'INDUS', 'CHAS', 'NOX', 'RM', 'AGE', 'DIS', 'RAD', 'TAX', 'PTRATIO', 'B', 'LSTAT', 'PRICE']\n",
      "NaN: False\n",
      "Duplicate: False\n",
      "Data types:\n",
      "CRIM       float64\n",
      "ZN         float64\n",
      "INDUS      float64\n",
      "CHAS       float64\n",
      "NOX        float64\n",
      "RM         float64\n",
      "AGE        float64\n",
      "DIS        float64\n",
      "RAD        float64\n",
      "TAX        float64\n",
      "PTRATIO    float64\n",
      "B          float64\n",
      "LSTAT      float64\n",
      "PRICE      float64\n",
      "dtype: object\n"
     ]
    }
   ],
   "source": [
    "def pleliminary_df_exploration(in_df: pd.DataFrame) -> None:\n",
    "    logging.info('Starting preliminary DataFrame exploration.')\n",
    "\n",
    "    print(f'DataFrame shape: {in_df.shape}')\n",
    "    print(f'Columns: {in_df.columns.tolist()}')\n",
    "    print(f'NaN: {in_df.isna().values.any()}')\n",
    "    print(f'Duplicate: {in_df.duplicated().values.any()}')\n",
    "    print(f'Data types:\\n{in_df.dtypes}')\n",
    "\n",
    "    logging.info('DataFrame exploration complete.')\n",
    "\n",
    "\n",
    "if __name__== '__main__':\n",
    "    setup_logging()\n",
    "    logging.info('Starting script execution')\n",
    "\n",
    "    in_df = fetch_df('input-81.csv')\n",
    "    pleliminary_df_exploration(in_df)"
   ]
  },
  {
   "cell_type": "markdown",
   "id": "f458b64a",
   "metadata": {},
   "source": [
    "# Descriptive Statistics"
   ]
  },
  {
   "cell_type": "code",
   "execution_count": 38,
   "id": "726aea0d",
   "metadata": {},
   "outputs": [
    {
     "name": "stdout",
     "output_type": "stream",
     "text": [
      "Abg student-teacher ratio: 18.46\n",
      "Avg price of a home: $22532.81\n",
      "Min and Max of CHAS: 0.0 and 1.0\n",
      "Min and Max of RM: 3.561 and 8.78\n",
      "DF description\n"
     ]
    },
    {
     "data": {
      "text/html": [
       "<div>\n",
       "<style scoped>\n",
       "    .dataframe tbody tr th:only-of-type {\n",
       "        vertical-align: middle;\n",
       "    }\n",
       "\n",
       "    .dataframe tbody tr th {\n",
       "        vertical-align: top;\n",
       "    }\n",
       "\n",
       "    .dataframe thead th {\n",
       "        text-align: right;\n",
       "    }\n",
       "</style>\n",
       "<table border=\"1\" class=\"dataframe\">\n",
       "  <thead>\n",
       "    <tr style=\"text-align: right;\">\n",
       "      <th></th>\n",
       "      <th>CRIM</th>\n",
       "      <th>ZN</th>\n",
       "      <th>INDUS</th>\n",
       "      <th>CHAS</th>\n",
       "      <th>NOX</th>\n",
       "      <th>RM</th>\n",
       "      <th>AGE</th>\n",
       "      <th>DIS</th>\n",
       "      <th>RAD</th>\n",
       "      <th>TAX</th>\n",
       "      <th>PTRATIO</th>\n",
       "      <th>B</th>\n",
       "      <th>LSTAT</th>\n",
       "      <th>PRICE</th>\n",
       "    </tr>\n",
       "  </thead>\n",
       "  <tbody>\n",
       "    <tr>\n",
       "      <th>count</th>\n",
       "      <td>506.00</td>\n",
       "      <td>506.00</td>\n",
       "      <td>506.00</td>\n",
       "      <td>506.00</td>\n",
       "      <td>506.00</td>\n",
       "      <td>506.00</td>\n",
       "      <td>506.00</td>\n",
       "      <td>506.00</td>\n",
       "      <td>506.00</td>\n",
       "      <td>506.00</td>\n",
       "      <td>506.00</td>\n",
       "      <td>506.00</td>\n",
       "      <td>506.00</td>\n",
       "      <td>506.00</td>\n",
       "    </tr>\n",
       "    <tr>\n",
       "      <th>mean</th>\n",
       "      <td>3.61</td>\n",
       "      <td>11.36</td>\n",
       "      <td>11.14</td>\n",
       "      <td>0.07</td>\n",
       "      <td>0.55</td>\n",
       "      <td>6.28</td>\n",
       "      <td>68.57</td>\n",
       "      <td>3.80</td>\n",
       "      <td>9.55</td>\n",
       "      <td>408.24</td>\n",
       "      <td>18.46</td>\n",
       "      <td>356.67</td>\n",
       "      <td>12.65</td>\n",
       "      <td>22.53</td>\n",
       "    </tr>\n",
       "    <tr>\n",
       "      <th>std</th>\n",
       "      <td>8.60</td>\n",
       "      <td>23.32</td>\n",
       "      <td>6.86</td>\n",
       "      <td>0.25</td>\n",
       "      <td>0.12</td>\n",
       "      <td>0.70</td>\n",
       "      <td>28.15</td>\n",
       "      <td>2.11</td>\n",
       "      <td>8.71</td>\n",
       "      <td>168.54</td>\n",
       "      <td>2.16</td>\n",
       "      <td>91.29</td>\n",
       "      <td>7.14</td>\n",
       "      <td>9.20</td>\n",
       "    </tr>\n",
       "    <tr>\n",
       "      <th>min</th>\n",
       "      <td>0.01</td>\n",
       "      <td>0.00</td>\n",
       "      <td>0.46</td>\n",
       "      <td>0.00</td>\n",
       "      <td>0.39</td>\n",
       "      <td>3.56</td>\n",
       "      <td>2.90</td>\n",
       "      <td>1.13</td>\n",
       "      <td>1.00</td>\n",
       "      <td>187.00</td>\n",
       "      <td>12.60</td>\n",
       "      <td>0.32</td>\n",
       "      <td>1.73</td>\n",
       "      <td>5.00</td>\n",
       "    </tr>\n",
       "    <tr>\n",
       "      <th>25%</th>\n",
       "      <td>0.08</td>\n",
       "      <td>0.00</td>\n",
       "      <td>5.19</td>\n",
       "      <td>0.00</td>\n",
       "      <td>0.45</td>\n",
       "      <td>5.89</td>\n",
       "      <td>45.02</td>\n",
       "      <td>2.10</td>\n",
       "      <td>4.00</td>\n",
       "      <td>279.00</td>\n",
       "      <td>17.40</td>\n",
       "      <td>375.38</td>\n",
       "      <td>6.95</td>\n",
       "      <td>17.02</td>\n",
       "    </tr>\n",
       "    <tr>\n",
       "      <th>50%</th>\n",
       "      <td>0.26</td>\n",
       "      <td>0.00</td>\n",
       "      <td>9.69</td>\n",
       "      <td>0.00</td>\n",
       "      <td>0.54</td>\n",
       "      <td>6.21</td>\n",
       "      <td>77.50</td>\n",
       "      <td>3.21</td>\n",
       "      <td>5.00</td>\n",
       "      <td>330.00</td>\n",
       "      <td>19.05</td>\n",
       "      <td>391.44</td>\n",
       "      <td>11.36</td>\n",
       "      <td>21.20</td>\n",
       "    </tr>\n",
       "    <tr>\n",
       "      <th>75%</th>\n",
       "      <td>3.68</td>\n",
       "      <td>12.50</td>\n",
       "      <td>18.10</td>\n",
       "      <td>0.00</td>\n",
       "      <td>0.62</td>\n",
       "      <td>6.62</td>\n",
       "      <td>94.07</td>\n",
       "      <td>5.19</td>\n",
       "      <td>24.00</td>\n",
       "      <td>666.00</td>\n",
       "      <td>20.20</td>\n",
       "      <td>396.23</td>\n",
       "      <td>16.96</td>\n",
       "      <td>25.00</td>\n",
       "    </tr>\n",
       "    <tr>\n",
       "      <th>max</th>\n",
       "      <td>88.98</td>\n",
       "      <td>100.00</td>\n",
       "      <td>27.74</td>\n",
       "      <td>1.00</td>\n",
       "      <td>0.87</td>\n",
       "      <td>8.78</td>\n",
       "      <td>100.00</td>\n",
       "      <td>12.13</td>\n",
       "      <td>24.00</td>\n",
       "      <td>711.00</td>\n",
       "      <td>22.00</td>\n",
       "      <td>396.90</td>\n",
       "      <td>37.97</td>\n",
       "      <td>50.00</td>\n",
       "    </tr>\n",
       "  </tbody>\n",
       "</table>\n",
       "</div>"
      ],
      "text/plain": [
       "        CRIM     ZN  INDUS   CHAS    NOX     RM    AGE    DIS    RAD    TAX  \\\n",
       "count 506.00 506.00 506.00 506.00 506.00 506.00 506.00 506.00 506.00 506.00   \n",
       "mean    3.61  11.36  11.14   0.07   0.55   6.28  68.57   3.80   9.55 408.24   \n",
       "std     8.60  23.32   6.86   0.25   0.12   0.70  28.15   2.11   8.71 168.54   \n",
       "min     0.01   0.00   0.46   0.00   0.39   3.56   2.90   1.13   1.00 187.00   \n",
       "25%     0.08   0.00   5.19   0.00   0.45   5.89  45.02   2.10   4.00 279.00   \n",
       "50%     0.26   0.00   9.69   0.00   0.54   6.21  77.50   3.21   5.00 330.00   \n",
       "75%     3.68  12.50  18.10   0.00   0.62   6.62  94.07   5.19  24.00 666.00   \n",
       "max    88.98 100.00  27.74   1.00   0.87   8.78 100.00  12.13  24.00 711.00   \n",
       "\n",
       "       PTRATIO      B  LSTAT  PRICE  \n",
       "count   506.00 506.00 506.00 506.00  \n",
       "mean     18.46 356.67  12.65  22.53  \n",
       "std       2.16  91.29   7.14   9.20  \n",
       "min      12.60   0.32   1.73   5.00  \n",
       "25%      17.40 375.38   6.95  17.02  \n",
       "50%      19.05 391.44  11.36  21.20  \n",
       "75%      20.20 396.23  16.96  25.00  \n",
       "max      22.00 396.90  37.97  50.00  "
      ]
     },
     "metadata": {},
     "output_type": "display_data"
    }
   ],
   "source": [
    "# PTRATIO  pupil-teacher ratio by town\n",
    "\n",
    "if __name__ == '__main__':\n",
    "    logging.info('Starting data visualization')\n",
    "\n",
    "    in_df = fetch_df('input-81.csv')\n",
    "    print(f'Abg student-teacher ratio: {in_df.PTRATIO.mean():.2f}')\n",
    "    print(f'Avg price of a home: ${in_df.PRICE.mean() * 1000:.2f}')\n",
    "    print(f'Min and Max of CHAS: {in_df.CHAS.min()} and {in_df.CHAS.max()}')\n",
    "    print(f'Min and Max of RM: {in_df.RM.min()} and {in_df.RM.max()}')\n",
    "\n",
    "    print('DF description')\n",
    "    display(in_df.describe())"
   ]
  },
  {
   "cell_type": "markdown",
   "id": "b88dc357",
   "metadata": {},
   "source": [
    "# Visualize Features"
   ]
  },
  {
   "cell_type": "code",
   "execution_count": 39,
   "id": "40404a68",
   "metadata": {},
   "outputs": [
    {
     "name": "stdout",
     "output_type": "stream",
     "text": [
      "River Access df:]\n",
      "CHAS\n",
      "0.00    471\n",
      "1.00     35\n",
      "Name: count, dtype: int64\n"
     ]
    },
    {
     "data": {
      "application/vnd.plotly.v1+json": {
       "config": {
        "plotlyServerURL": "https://plot.ly"
       },
       "data": [
        {
         "hovertemplate": "color=No<br>Property Located Next to the River?=%{x}<br>Number of Homes=%{y}<extra></extra>",
         "legendgroup": "No",
         "marker": {
          "color": "#f32121",
          "pattern": {
           "shape": ""
          }
         },
         "name": "No",
         "orientation": "v",
         "showlegend": true,
         "textposition": "auto",
         "type": "bar",
         "x": [
          "No"
         ],
         "xaxis": "x",
         "y": {
          "bdata": "1wE=",
          "dtype": "i2"
         },
         "yaxis": "y"
        },
        {
         "hovertemplate": "color=Yes<br>Property Located Next to the River?=%{x}<br>Number of Homes=%{y}<extra></extra>",
         "legendgroup": "Yes",
         "marker": {
          "color": "#33ff00",
          "pattern": {
           "shape": ""
          }
         },
         "name": "Yes",
         "orientation": "v",
         "showlegend": true,
         "textposition": "auto",
         "type": "bar",
         "x": [
          "Yes"
         ],
         "xaxis": "x",
         "y": {
          "bdata": "Iw==",
          "dtype": "i1"
         },
         "yaxis": "y"
        }
       ],
       "layout": {
        "barmode": "relative",
        "legend": {
         "title": {
          "text": "color"
         },
         "tracegroupgap": 0
        },
        "showlegend": false,
        "template": {
         "data": {
          "bar": [
           {
            "error_x": {
             "color": "#2a3f5f"
            },
            "error_y": {
             "color": "#2a3f5f"
            },
            "marker": {
             "line": {
              "color": "white",
              "width": 0.5
             },
             "pattern": {
              "fillmode": "overlay",
              "size": 10,
              "solidity": 0.2
             }
            },
            "type": "bar"
           }
          ],
          "barpolar": [
           {
            "marker": {
             "line": {
              "color": "white",
              "width": 0.5
             },
             "pattern": {
              "fillmode": "overlay",
              "size": 10,
              "solidity": 0.2
             }
            },
            "type": "barpolar"
           }
          ],
          "carpet": [
           {
            "aaxis": {
             "endlinecolor": "#2a3f5f",
             "gridcolor": "#C8D4E3",
             "linecolor": "#C8D4E3",
             "minorgridcolor": "#C8D4E3",
             "startlinecolor": "#2a3f5f"
            },
            "baxis": {
             "endlinecolor": "#2a3f5f",
             "gridcolor": "#C8D4E3",
             "linecolor": "#C8D4E3",
             "minorgridcolor": "#C8D4E3",
             "startlinecolor": "#2a3f5f"
            },
            "type": "carpet"
           }
          ],
          "choropleth": [
           {
            "colorbar": {
             "outlinewidth": 0,
             "ticks": ""
            },
            "type": "choropleth"
           }
          ],
          "contour": [
           {
            "colorbar": {
             "outlinewidth": 0,
             "ticks": ""
            },
            "colorscale": [
             [
              0,
              "#0d0887"
             ],
             [
              0.1111111111111111,
              "#46039f"
             ],
             [
              0.2222222222222222,
              "#7201a8"
             ],
             [
              0.3333333333333333,
              "#9c179e"
             ],
             [
              0.4444444444444444,
              "#bd3786"
             ],
             [
              0.5555555555555556,
              "#d8576b"
             ],
             [
              0.6666666666666666,
              "#ed7953"
             ],
             [
              0.7777777777777778,
              "#fb9f3a"
             ],
             [
              0.8888888888888888,
              "#fdca26"
             ],
             [
              1,
              "#f0f921"
             ]
            ],
            "type": "contour"
           }
          ],
          "contourcarpet": [
           {
            "colorbar": {
             "outlinewidth": 0,
             "ticks": ""
            },
            "type": "contourcarpet"
           }
          ],
          "heatmap": [
           {
            "colorbar": {
             "outlinewidth": 0,
             "ticks": ""
            },
            "colorscale": [
             [
              0,
              "#0d0887"
             ],
             [
              0.1111111111111111,
              "#46039f"
             ],
             [
              0.2222222222222222,
              "#7201a8"
             ],
             [
              0.3333333333333333,
              "#9c179e"
             ],
             [
              0.4444444444444444,
              "#bd3786"
             ],
             [
              0.5555555555555556,
              "#d8576b"
             ],
             [
              0.6666666666666666,
              "#ed7953"
             ],
             [
              0.7777777777777778,
              "#fb9f3a"
             ],
             [
              0.8888888888888888,
              "#fdca26"
             ],
             [
              1,
              "#f0f921"
             ]
            ],
            "type": "heatmap"
           }
          ],
          "histogram": [
           {
            "marker": {
             "pattern": {
              "fillmode": "overlay",
              "size": 10,
              "solidity": 0.2
             }
            },
            "type": "histogram"
           }
          ],
          "histogram2d": [
           {
            "colorbar": {
             "outlinewidth": 0,
             "ticks": ""
            },
            "colorscale": [
             [
              0,
              "#0d0887"
             ],
             [
              0.1111111111111111,
              "#46039f"
             ],
             [
              0.2222222222222222,
              "#7201a8"
             ],
             [
              0.3333333333333333,
              "#9c179e"
             ],
             [
              0.4444444444444444,
              "#bd3786"
             ],
             [
              0.5555555555555556,
              "#d8576b"
             ],
             [
              0.6666666666666666,
              "#ed7953"
             ],
             [
              0.7777777777777778,
              "#fb9f3a"
             ],
             [
              0.8888888888888888,
              "#fdca26"
             ],
             [
              1,
              "#f0f921"
             ]
            ],
            "type": "histogram2d"
           }
          ],
          "histogram2dcontour": [
           {
            "colorbar": {
             "outlinewidth": 0,
             "ticks": ""
            },
            "colorscale": [
             [
              0,
              "#0d0887"
             ],
             [
              0.1111111111111111,
              "#46039f"
             ],
             [
              0.2222222222222222,
              "#7201a8"
             ],
             [
              0.3333333333333333,
              "#9c179e"
             ],
             [
              0.4444444444444444,
              "#bd3786"
             ],
             [
              0.5555555555555556,
              "#d8576b"
             ],
             [
              0.6666666666666666,
              "#ed7953"
             ],
             [
              0.7777777777777778,
              "#fb9f3a"
             ],
             [
              0.8888888888888888,
              "#fdca26"
             ],
             [
              1,
              "#f0f921"
             ]
            ],
            "type": "histogram2dcontour"
           }
          ],
          "mesh3d": [
           {
            "colorbar": {
             "outlinewidth": 0,
             "ticks": ""
            },
            "type": "mesh3d"
           }
          ],
          "parcoords": [
           {
            "line": {
             "colorbar": {
              "outlinewidth": 0,
              "ticks": ""
             }
            },
            "type": "parcoords"
           }
          ],
          "pie": [
           {
            "automargin": true,
            "type": "pie"
           }
          ],
          "scatter": [
           {
            "fillpattern": {
             "fillmode": "overlay",
             "size": 10,
             "solidity": 0.2
            },
            "type": "scatter"
           }
          ],
          "scatter3d": [
           {
            "line": {
             "colorbar": {
              "outlinewidth": 0,
              "ticks": ""
             }
            },
            "marker": {
             "colorbar": {
              "outlinewidth": 0,
              "ticks": ""
             }
            },
            "type": "scatter3d"
           }
          ],
          "scattercarpet": [
           {
            "marker": {
             "colorbar": {
              "outlinewidth": 0,
              "ticks": ""
             }
            },
            "type": "scattercarpet"
           }
          ],
          "scattergeo": [
           {
            "marker": {
             "colorbar": {
              "outlinewidth": 0,
              "ticks": ""
             }
            },
            "type": "scattergeo"
           }
          ],
          "scattergl": [
           {
            "marker": {
             "colorbar": {
              "outlinewidth": 0,
              "ticks": ""
             }
            },
            "type": "scattergl"
           }
          ],
          "scattermap": [
           {
            "marker": {
             "colorbar": {
              "outlinewidth": 0,
              "ticks": ""
             }
            },
            "type": "scattermap"
           }
          ],
          "scattermapbox": [
           {
            "marker": {
             "colorbar": {
              "outlinewidth": 0,
              "ticks": ""
             }
            },
            "type": "scattermapbox"
           }
          ],
          "scatterpolar": [
           {
            "marker": {
             "colorbar": {
              "outlinewidth": 0,
              "ticks": ""
             }
            },
            "type": "scatterpolar"
           }
          ],
          "scatterpolargl": [
           {
            "marker": {
             "colorbar": {
              "outlinewidth": 0,
              "ticks": ""
             }
            },
            "type": "scatterpolargl"
           }
          ],
          "scatterternary": [
           {
            "marker": {
             "colorbar": {
              "outlinewidth": 0,
              "ticks": ""
             }
            },
            "type": "scatterternary"
           }
          ],
          "surface": [
           {
            "colorbar": {
             "outlinewidth": 0,
             "ticks": ""
            },
            "colorscale": [
             [
              0,
              "#0d0887"
             ],
             [
              0.1111111111111111,
              "#46039f"
             ],
             [
              0.2222222222222222,
              "#7201a8"
             ],
             [
              0.3333333333333333,
              "#9c179e"
             ],
             [
              0.4444444444444444,
              "#bd3786"
             ],
             [
              0.5555555555555556,
              "#d8576b"
             ],
             [
              0.6666666666666666,
              "#ed7953"
             ],
             [
              0.7777777777777778,
              "#fb9f3a"
             ],
             [
              0.8888888888888888,
              "#fdca26"
             ],
             [
              1,
              "#f0f921"
             ]
            ],
            "type": "surface"
           }
          ],
          "table": [
           {
            "cells": {
             "fill": {
              "color": "#EBF0F8"
             },
             "line": {
              "color": "white"
             }
            },
            "header": {
             "fill": {
              "color": "#C8D4E3"
             },
             "line": {
              "color": "white"
             }
            },
            "type": "table"
           }
          ]
         },
         "layout": {
          "annotationdefaults": {
           "arrowcolor": "#2a3f5f",
           "arrowhead": 0,
           "arrowwidth": 1
          },
          "autotypenumbers": "strict",
          "coloraxis": {
           "colorbar": {
            "outlinewidth": 0,
            "ticks": ""
           }
          },
          "colorscale": {
           "diverging": [
            [
             0,
             "#8e0152"
            ],
            [
             0.1,
             "#c51b7d"
            ],
            [
             0.2,
             "#de77ae"
            ],
            [
             0.3,
             "#f1b6da"
            ],
            [
             0.4,
             "#fde0ef"
            ],
            [
             0.5,
             "#f7f7f7"
            ],
            [
             0.6,
             "#e6f5d0"
            ],
            [
             0.7,
             "#b8e186"
            ],
            [
             0.8,
             "#7fbc41"
            ],
            [
             0.9,
             "#4d9221"
            ],
            [
             1,
             "#276419"
            ]
           ],
           "sequential": [
            [
             0,
             "#0d0887"
            ],
            [
             0.1111111111111111,
             "#46039f"
            ],
            [
             0.2222222222222222,
             "#7201a8"
            ],
            [
             0.3333333333333333,
             "#9c179e"
            ],
            [
             0.4444444444444444,
             "#bd3786"
            ],
            [
             0.5555555555555556,
             "#d8576b"
            ],
            [
             0.6666666666666666,
             "#ed7953"
            ],
            [
             0.7777777777777778,
             "#fb9f3a"
            ],
            [
             0.8888888888888888,
             "#fdca26"
            ],
            [
             1,
             "#f0f921"
            ]
           ],
           "sequentialminus": [
            [
             0,
             "#0d0887"
            ],
            [
             0.1111111111111111,
             "#46039f"
            ],
            [
             0.2222222222222222,
             "#7201a8"
            ],
            [
             0.3333333333333333,
             "#9c179e"
            ],
            [
             0.4444444444444444,
             "#bd3786"
            ],
            [
             0.5555555555555556,
             "#d8576b"
            ],
            [
             0.6666666666666666,
             "#ed7953"
            ],
            [
             0.7777777777777778,
             "#fb9f3a"
            ],
            [
             0.8888888888888888,
             "#fdca26"
            ],
            [
             1,
             "#f0f921"
            ]
           ]
          },
          "colorway": [
           "#636efa",
           "#EF553B",
           "#00cc96",
           "#ab63fa",
           "#FFA15A",
           "#19d3f3",
           "#FF6692",
           "#B6E880",
           "#FF97FF",
           "#FECB52"
          ],
          "font": {
           "color": "#2a3f5f"
          },
          "geo": {
           "bgcolor": "white",
           "lakecolor": "white",
           "landcolor": "white",
           "showlakes": true,
           "showland": true,
           "subunitcolor": "#C8D4E3"
          },
          "hoverlabel": {
           "align": "left"
          },
          "hovermode": "closest",
          "mapbox": {
           "style": "light"
          },
          "paper_bgcolor": "white",
          "plot_bgcolor": "white",
          "polar": {
           "angularaxis": {
            "gridcolor": "#EBF0F8",
            "linecolor": "#EBF0F8",
            "ticks": ""
           },
           "bgcolor": "white",
           "radialaxis": {
            "gridcolor": "#EBF0F8",
            "linecolor": "#EBF0F8",
            "ticks": ""
           }
          },
          "scene": {
           "xaxis": {
            "backgroundcolor": "white",
            "gridcolor": "#DFE8F3",
            "gridwidth": 2,
            "linecolor": "#EBF0F8",
            "showbackground": true,
            "ticks": "",
            "zerolinecolor": "#EBF0F8"
           },
           "yaxis": {
            "backgroundcolor": "white",
            "gridcolor": "#DFE8F3",
            "gridwidth": 2,
            "linecolor": "#EBF0F8",
            "showbackground": true,
            "ticks": "",
            "zerolinecolor": "#EBF0F8"
           },
           "zaxis": {
            "backgroundcolor": "white",
            "gridcolor": "#DFE8F3",
            "gridwidth": 2,
            "linecolor": "#EBF0F8",
            "showbackground": true,
            "ticks": "",
            "zerolinecolor": "#EBF0F8"
           }
          },
          "shapedefaults": {
           "line": {
            "color": "#2a3f5f"
           }
          },
          "ternary": {
           "aaxis": {
            "gridcolor": "#DFE8F3",
            "linecolor": "#A2B1C6",
            "ticks": ""
           },
           "baxis": {
            "gridcolor": "#DFE8F3",
            "linecolor": "#A2B1C6",
            "ticks": ""
           },
           "bgcolor": "white",
           "caxis": {
            "gridcolor": "#DFE8F3",
            "linecolor": "#A2B1C6",
            "ticks": ""
           }
          },
          "title": {
           "x": 0.05
          },
          "xaxis": {
           "automargin": true,
           "gridcolor": "#EBF0F8",
           "linecolor": "#EBF0F8",
           "ticks": "",
           "title": {
            "standoff": 15
           },
           "zerolinecolor": "#EBF0F8",
           "zerolinewidth": 2
          },
          "yaxis": {
           "automargin": true,
           "gridcolor": "#EBF0F8",
           "linecolor": "#EBF0F8",
           "ticks": "",
           "title": {
            "standoff": 15
           },
           "zerolinecolor": "#EBF0F8",
           "zerolinewidth": 2
          }
         }
        },
        "title": {
         "text": "Access to Charles River"
        },
        "xaxis": {
         "anchor": "y",
         "domain": [
          0,
          1
         ],
         "title": {
          "text": "Property Located Next to the River?"
         }
        },
        "yaxis": {
         "anchor": "x",
         "domain": [
          0,
          1
         ],
         "title": {
          "text": "Number of Homes"
         }
        }
       }
      }
     },
     "metadata": {},
     "output_type": "display_data"
    }
   ],
   "source": [
    "def gen_fig_house_price(in_df: pd.DataFrame) -> None:\n",
    "    logging.info('Generating house price figure.')\n",
    "    \n",
    "    plt.figure(\n",
    "        figsize=(10, 5),\n",
    "        dpi=150\n",
    "    )\n",
    "    sns.displot(\n",
    "        in_df,\n",
    "        x='PRICE',\n",
    "        bins=50,\n",
    "        aspect=2,\n",
    "        kde=True,\n",
    "        color='#2196f3'\n",
    "    )\n",
    "    plt.title(f'1970s Home Values in Boston. Avg: ${1000*in_df.PRICE.mean():,.2f}')\n",
    "    plt.xlabel('Price in $1000')\n",
    "    plt.ylabel('Count of Homes')\n",
    "    plt.show()\n",
    "\n",
    "    logging.info('House price figure generated successfully.')\n",
    "\n",
    "\n",
    "def gen_fig_distance_work(in_df: pd.DataFrame) -> None:\n",
    "    logging.info('Generating Distance to Employment Centre figure.')\n",
    "    \n",
    "    plt.figure(\n",
    "        figsize=(10, 5),\n",
    "        dpi=150\n",
    "    )\n",
    "    sns.displot(\n",
    "        in_df,\n",
    "        x='DIS',\n",
    "        bins=50,\n",
    "        aspect=2,\n",
    "        kde=True,\n",
    "        color=\"#2196f3\"\n",
    "    )\n",
    "    plt.title(f'Weighted Home to Employement Distance. Avg Distance: {in_df.DIS.mean():,.2f}')\n",
    "    plt.xlabel('Distance to Employment Centre')\n",
    "    plt.ylabel('Count of Homes')\n",
    "    plt.show()\n",
    "\n",
    "    logging.info('House price figure generated successfully.')\n",
    "\n",
    "\n",
    "def gen_fig_room_per_home(in_df: pd.DataFrame) -> None:\n",
    "    logging.info('Generating figure: Rooms per Dwelling.')\n",
    "    \n",
    "    plt.figure(\n",
    "        figsize=(10, 5),\n",
    "        dpi=150\n",
    "    )\n",
    "    sns.displot(\n",
    "        in_df,\n",
    "        x='RM',\n",
    "        bins=50,\n",
    "        aspect=2,\n",
    "        kde=True,\n",
    "        color=\"#2196f3\"\n",
    "    )\n",
    "    plt.title(f'Avg rooms per home: {in_df.RM.mean():,.1f}')\n",
    "    plt.xlabel('Rooms per Home')\n",
    "    plt.ylabel('Count of Homes')\n",
    "    plt.show()\n",
    "\n",
    "    logging.info('Rooms per Dwelling figure generated successfully.')\n",
    "\n",
    "\n",
    "def gen_fig_highway_access(in_df: pd.DataFrame) -> None:\n",
    "    logging.info(f'Generating figure: Highway Access')\n",
    "    \n",
    "    plt.figure(\n",
    "        figsize=(10, 5),\n",
    "        dpi=150\n",
    "    )\n",
    "\n",
    "    sns.displot(\n",
    "        data=in_df,\n",
    "        x='RAD',\n",
    "        bins=50,\n",
    "        aspect=2,\n",
    "        color=\"#2196f3\"\n",
    "    )\n",
    "    plt.title(f'Access to Highway. Avg: {in_df.RAD.mean():,.1f}')\n",
    "    plt.xlabel('Access to Highway')\n",
    "    plt.ylabel('Count of Homes')\n",
    "    plt.show()\n",
    "\n",
    "\n",
    "def gen_fig_river(in_df: pd.DataFrame) -> None:\n",
    "    logging.info('Generating figure: River Access')\n",
    "\n",
    "    river_access = in_df.CHAS.value_counts().sort_index()\n",
    "    print(f'River Access df:]\\n{river_access}')\n",
    "\n",
    "    bar = px.bar(\n",
    "        x=['No', 'Yes'],\n",
    "        y=river_access.values,\n",
    "        color=['No', 'Yes'],\n",
    "        color_discrete_sequence=[\"#f32121\", \"#33ff00\"],\n",
    "        labels={'x': 'Property Located Next to the River?', 'y': 'Number of Homes'},\n",
    "        title='Access to Charles River'\n",
    "    )\n",
    "    bar.update_layout(\n",
    "        xaxis_title='Property Located Next to the River?', \n",
    "        yaxis_title='Number of Homes',\n",
    "        showlegend=False,\n",
    "        template='plotly_white',\n",
    "    )\n",
    "    bar.show()\n",
    "    logging.info('River Access figure generated successfully.')\n",
    "    \n",
    "\n",
    "if __name__ == '__main__':\n",
    "    setup_logging()\n",
    "\n",
    "    in_df = fetch_df('input-81.csv')\n",
    "    # gen_fig_house_price(in_df)\n",
    "    # gen_fig_distance_work(in_df)\n",
    "    # gen_fig_room_per_home(in_df)\n",
    "    # gen_fig_highway_access(in_df)\n",
    "    gen_fig_river(in_df)"
   ]
  },
  {
   "cell_type": "markdown",
   "id": "51cb8c8d",
   "metadata": {},
   "source": [
    "# Relationship in Data"
   ]
  },
  {
   "cell_type": "code",
   "execution_count": 40,
   "id": "4184a28c",
   "metadata": {},
   "outputs": [],
   "source": [
    "def gen_fig_dis_empvspol(in_df: pd.DataFrame) -> None:\n",
    "    logging.info('Generating figure: Distance to Employment vs Pollution.')\n",
    "    \n",
    "    with sns.axes_style('darkgrid'):\n",
    "        plot = sns.jointplot(\n",
    "            data=in_df,\n",
    "            x='DIS',\n",
    "            y='NOX',\n",
    "            kind='scatter',\n",
    "            color='blue',\n",
    "            height=5,\n",
    "            joint_kws={'alpha': 0.5}\n",
    "        )\n",
    "        plot.set_axis_labels(\n",
    "            xlabel='Distance to Employment Centers (DIS)',\n",
    "            ylabel='Nitric Oxide Concentration (NOX)',\n",
    "            fontsize=10\n",
    "        )\n",
    "    plt.tight_layout()\n",
    "    plt.show()\n",
    "\n",
    "    logging.info('Distance to Employment vs Pollution figure generated successfully.')\n",
    "\n",
    "\n",
    "def gen_fig_nonretailvspol(in_df: pd.DataFrame) -> None:\n",
    "    logging.info('Generating figure: Non-Retail Business Acres vs Pollution.')\n",
    "    \n",
    "    with sns.axes_style('darkgrid'):\n",
    "        plot = sns.jointplot(\n",
    "            data=in_df,\n",
    "            x='INDUS',\n",
    "            y='NOX',\n",
    "            kind='scatter',\n",
    "            color='yellow',\n",
    "            height=5,\n",
    "            joint_kws={'alpha': 0.5}\n",
    "        )\n",
    "        plot.set_axis_labels(\n",
    "            xlabel='Proportion of Non-Retail Business Acres (INDUS)',\n",
    "            ylabel='Nitric Oxide Concentration (NOX)',\n",
    "            fontsize=10\n",
    "        )\n",
    "    plt.tight_layout()\n",
    "    plt.show()\n",
    "\n",
    "    logging.info('Non-Retail Business Acres vs Pollution figure generated successfully.')\n",
    "\n",
    "\n",
    "def gen_fig_lstat_vs_rm(in_df: pd.DataFrame) -> None:\n",
    "    logging.info('Generating figure: Lower Status of the Population vs Average Number of Rooms.')\n",
    "\n",
    "    with sns.axes_style('darkgrid'):\n",
    "        plot = sns.jointplot(\n",
    "            data=in_df,\n",
    "            x='LSTAT',\n",
    "            y='RM',\n",
    "            kind='reg',\n",
    "            color='seagreen',\n",
    "            height=5,\n",
    "            joint_kws={'scatter_kws': {'alpha': 0.5}}\n",
    "        )\n",
    "        plot.set_axis_labels(\n",
    "            xlabel='Lower Status of the Population (LSTAT)',\n",
    "            ylabel='Average Number of Rooms per Dwelling (RM)',\n",
    "            fontsize=10\n",
    "        )\n",
    "    plt.tight_layout()\n",
    "    plt.show()    \n",
    "\n",
    "    logging.info('Lower Status of the Population vs Average Number of Rooms figure generated successfully.')\n",
    "\n",
    "\n",
    "def gen_fig_lstat_vs_price(in_df: pd.DataFrame) -> None:\n",
    "    logging.info('Generating figure: Lower Income population vs Home Price.')\n",
    "\n",
    "    with sns.axes_style('darkgrid'):\n",
    "        plot = sns.jointplot(\n",
    "            data=in_df,\n",
    "            x='LSTAT',\n",
    "            y='PRICE',\n",
    "            kind='reg',\n",
    "            color='crimson',\n",
    "            height=7,\n",
    "            joint_kws={'scatter_kws': {'alpha': 0.5}}\n",
    "        )\n",
    "        plot.set_axis_labels(\n",
    "            xlabel='Lower Status of the Population (LSTAT)',\n",
    "            ylabel='Home Price in $1000 (PRICE)',\n",
    "            fontsize=10\n",
    "        )\n",
    "    plt.tight_layout()\n",
    "    plt.show()\n",
    "\n",
    "    logging.info('Figure generated successfully.')\n",
    "\n",
    "\n",
    "def gen_fig_rm_vs_price(in_df: pd.DataFrame) -> None:\n",
    "    logging.info('Generating figure: Average Number of Rooms vs Home Price.')\n",
    "\n",
    "    with sns.axes_style('darkgrid'):\n",
    "        plot = sns.jointplot(\n",
    "            data=in_df,\n",
    "            x='RM',\n",
    "            y='PRICE',\n",
    "            kind='reg',\n",
    "            color='darkblue',\n",
    "            height=7,\n",
    "            joint_kws={'scatter_kws': {'alpha': 0.5}}\n",
    "        )\n",
    "        plot.set_axis_labels(\n",
    "            xlabel='Average Number of Rooms per Dwelling (RM)',\n",
    "            ylabel='Home Price in $1000 (PRICE)',\n",
    "            fontsize=10\n",
    "        )\n",
    "    plt.tight_layout()\n",
    "    plt.show()\n",
    "\n",
    "    logging.info('Figure generated successfully.')\n",
    "\n",
    "\n",
    "if __name__ == '__main__':\n",
    "    setup_logging()\n",
    "    in_df = fetch_df('input-81.csv')\n",
    "\n",
    "    logging.info('Initiating data visualization.')\n",
    "\n",
    "    # sns.pairplot(data=in_df)\n",
    "    # gen_fig_dis_empvspol(in_df)\n",
    "    # gen_fig_nonretailvspol(in_df)\n",
    "    # gen_fig_lstat_vs_rm(in_df)\n",
    "    # gen_fig_lstat_vs_price(in_df)\n",
    "    # gen_fig_rm_vs_price(in_df)\n",
    "\n",
    "    logging.info(f'Data visualization complete.')\n"
   ]
  },
  {
   "cell_type": "markdown",
   "id": "e88b46b4",
   "metadata": {},
   "source": [
    "# Split Training & Test Dataset"
   ]
  },
  {
   "cell_type": "code",
   "execution_count": 41,
   "id": "219b9ad4",
   "metadata": {},
   "outputs": [
    {
     "name": "stdout",
     "output_type": "stream",
     "text": [
      "Training data is 79.8% of the total data.\n",
      "Test data makes up the remaining 20.2%.\n"
     ]
    }
   ],
   "source": [
    "def split_data_train_test(in_df: pd.DataFrame) -> tuple:\n",
    "    logging.info('Splitting data into training and testing sets.')\n",
    "    \n",
    "    target = in_df.PRICE\n",
    "    feature = in_df.drop(columns=['PRICE'], axis=1)\n",
    "\n",
    "    X_train, X_test, y_train, y_test = train_test_split(\n",
    "        feature,\n",
    "        target,\n",
    "        test_size=0.2,\n",
    "        random_state=10\n",
    "    )\n",
    "\n",
    "    logging.info('Data split complete.')\n",
    "\n",
    "    train_pct = 100*len(X_train) / len(feature)\n",
    "    print(f'Training data is {train_pct:.3}% of the total data.')\n",
    "\n",
    "    test_pct = 100*X_test.shape[0] / feature.shape[0]\n",
    "    print(f'Test data makes up the remaining {test_pct:0.3}%.')\n",
    "\n",
    "    logging.info(f'Train set shape: {X_train.shape}, Test set shape: {X_test.shape}')\n",
    "\n",
    "    return X_train, X_test, y_train, y_test\n",
    "\n",
    "\n",
    "if __name__ == '__main__':\n",
    "    setup_logging()\n",
    "    in_df = fetch_df('input-81.csv')\n",
    "\n",
    "    X_train, X_test, y_train, y_test = split_data_train_test(in_df)"
   ]
  },
  {
   "cell_type": "markdown",
   "id": "26b750bf",
   "metadata": {},
   "source": [
    "# Multivariable Regression"
   ]
  },
  {
   "cell_type": "code",
   "execution_count": null,
   "id": "db53d058",
   "metadata": {},
   "outputs": [
    {
     "name": "stdout",
     "output_type": "stream",
     "text": [
      "Training data is 79.8% of the total data.\n",
      "Test data makes up the remaining 20.2%.\n",
      "Training data R-squared: 75.01%\n",
      "Test data R-squared: 67.09%\n",
      "Regression Coefficients: What changes in the feature will do to the price of a home?\n"
     ]
    },
    {
     "data": {
      "text/html": [
       "<div>\n",
       "<style scoped>\n",
       "    .dataframe tbody tr th:only-of-type {\n",
       "        vertical-align: middle;\n",
       "    }\n",
       "\n",
       "    .dataframe tbody tr th {\n",
       "        vertical-align: top;\n",
       "    }\n",
       "\n",
       "    .dataframe thead th {\n",
       "        text-align: right;\n",
       "    }\n",
       "</style>\n",
       "<table border=\"1\" class=\"dataframe\">\n",
       "  <thead>\n",
       "    <tr style=\"text-align: right;\">\n",
       "      <th></th>\n",
       "      <th>Coefficient</th>\n",
       "    </tr>\n",
       "  </thead>\n",
       "  <tbody>\n",
       "    <tr>\n",
       "      <th>CRIM</th>\n",
       "      <td>-0.13</td>\n",
       "    </tr>\n",
       "    <tr>\n",
       "      <th>ZN</th>\n",
       "      <td>0.06</td>\n",
       "    </tr>\n",
       "    <tr>\n",
       "      <th>INDUS</th>\n",
       "      <td>-0.01</td>\n",
       "    </tr>\n",
       "    <tr>\n",
       "      <th>CHAS</th>\n",
       "      <td>1.97</td>\n",
       "    </tr>\n",
       "    <tr>\n",
       "      <th>NOX</th>\n",
       "      <td>-16.27</td>\n",
       "    </tr>\n",
       "    <tr>\n",
       "      <th>RM</th>\n",
       "      <td>3.11</td>\n",
       "    </tr>\n",
       "    <tr>\n",
       "      <th>AGE</th>\n",
       "      <td>0.02</td>\n",
       "    </tr>\n",
       "    <tr>\n",
       "      <th>DIS</th>\n",
       "      <td>-1.48</td>\n",
       "    </tr>\n",
       "    <tr>\n",
       "      <th>RAD</th>\n",
       "      <td>0.30</td>\n",
       "    </tr>\n",
       "    <tr>\n",
       "      <th>TAX</th>\n",
       "      <td>-0.01</td>\n",
       "    </tr>\n",
       "    <tr>\n",
       "      <th>PTRATIO</th>\n",
       "      <td>-0.82</td>\n",
       "    </tr>\n",
       "    <tr>\n",
       "      <th>B</th>\n",
       "      <td>0.01</td>\n",
       "    </tr>\n",
       "    <tr>\n",
       "      <th>LSTAT</th>\n",
       "      <td>-0.58</td>\n",
       "    </tr>\n",
       "  </tbody>\n",
       "</table>\n",
       "</div>"
      ],
      "text/plain": [
       "         Coefficient\n",
       "CRIM           -0.13\n",
       "ZN              0.06\n",
       "INDUS          -0.01\n",
       "CHAS            1.97\n",
       "NOX           -16.27\n",
       "RM              3.11\n",
       "AGE             0.02\n",
       "DIS            -1.48\n",
       "RAD             0.30\n",
       "TAX            -0.01\n",
       "PTRATIO        -0.82\n",
       "B               0.01\n",
       "LSTAT          -0.58"
      ]
     },
     "metadata": {},
     "output_type": "display_data"
    }
   ],
   "source": [
    "if __name__ == '__main__':\n",
    "    setup_logging()\n",
    "    in_df = fetch_df('input-81.csv')\n",
    "\n",
    "    X_train, X_test, y_train, y_test = split_data_train_test(in_df)\n",
    "\n",
    "    regr_model = LinearRegression()\n",
    "    regr_model.fit(X_train, y_train)\n",
    "    train_rsquared = regr_model.score(X_train, y_train)\n",
    "    test_rsquared = regr_model.score(X_test, y_test)\n",
    "\n",
    "    print(f'Training data R-squared: {train_rsquared*100:.2f}%')\n",
    "    print(f'Test data R-squared: {test_rsquared*100:.2f}%')\n",
    "\n",
    "    if abs(train_rsquared - test_rsquared) > 0.2:\n",
    "        print(\"Warning: Possible overfitting or underfitting\")\n",
    "\n",
    "    # the coefficients of the regression model\n",
    "    regr_coef = pd.DataFrame(\n",
    "        data=regr_model.coef_,\n",
    "        index=X_train.columns,\n",
    "        columns=['Coefficient']\n",
    "    )\n",
    "    print('Regression Coefficients: What changes in the feature will do to the price of a home?')\n",
    "    display(regr_coef)"
   ]
  }
 ],
 "metadata": {
  "kernelspec": {
   "display_name": ".venv",
   "language": "python",
   "name": "python3"
  },
  "language_info": {
   "codemirror_mode": {
    "name": "ipython",
    "version": 3
   },
   "file_extension": ".py",
   "mimetype": "text/x-python",
   "name": "python",
   "nbconvert_exporter": "python",
   "pygments_lexer": "ipython3",
   "version": "3.12.3"
  }
 },
 "nbformat": 4,
 "nbformat_minor": 5
}
