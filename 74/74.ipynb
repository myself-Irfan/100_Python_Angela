{
 "cells": [
  {
   "cell_type": "markdown",
   "id": "2269d36c",
   "metadata": {},
   "source": [
    "<img src='https://i.imgur.com/49FNOHj.jpeg' width='50%'>"
   ]
  },
  {
   "cell_type": "markdown",
   "id": "1fbe7023",
   "metadata": {},
   "source": [
    "# Import Statements"
   ]
  },
  {
   "cell_type": "code",
   "execution_count": 1,
   "id": "6e741cb8",
   "metadata": {},
   "outputs": [],
   "source": [
    "import os\n",
    "import logging\n",
    "import pandas as pd"
   ]
  },
  {
   "cell_type": "markdown",
   "id": "935fe0f0",
   "metadata": {},
   "source": [
    "# Setup Logging"
   ]
  },
  {
   "cell_type": "code",
   "execution_count": 2,
   "id": "f1191b7c",
   "metadata": {},
   "outputs": [],
   "source": [
    "def setup_logging(cur_f_name: str = '74'):\n",
    "    logging.basicConfig(\n",
    "        level=logging.INFO,\n",
    "        format='%(asctime)s - %(levelname)s - %(funcName)s | %(message)s',\n",
    "        handlers=[\n",
    "            # logging.StreamHandler(),\n",
    "            logging.FileHandler(f'{cur_f_name}.log')\n",
    "        ]\n",
    "    )\n",
    "\n",
    "    logging.info('Logging setup complete for {cur_f_name}')"
   ]
  },
  {
   "cell_type": "markdown",
   "id": "cb9961c8",
   "metadata": {},
   "source": [
    "# Read CSV and return DF"
   ]
  },
  {
   "cell_type": "code",
   "execution_count": 3,
   "id": "954d0bef",
   "metadata": {},
   "outputs": [],
   "source": [
    "def fetch_df(csv_in: str) -> pd.DataFrame:\n",
    "    logging.info(f'Fetching DataFrame from {csv_in}')\n",
    "\n",
    "    try:\n",
    "        df = pd.read_csv(csv_in, index_col=0)\n",
    "    except FileNotFoundError as notfound_err:\n",
    "        logging.error(f'File not found: {csv_in}')\n",
    "        raise notfound_err\n",
    "    except pd.errors.EmptyDataError as empty_err:\n",
    "        logging.error(f'Empty data in file: {csv_in}')\n",
    "        raise empty_err\n",
    "    except pd.errors.ParserError as parse_err:\n",
    "        logging.error(f'Error parsing file: {csv_in}')\n",
    "        raise parse_err\n",
    "    except Exception as e:\n",
    "        logging.error(f'An unexpected error occurred: {e}')\n",
    "        raise e\n",
    "    else:\n",
    "        logging.info(f'DataFrame fetched successfully with {len(df)} rows and {len(df.columns)} columns')\n",
    "        return df"
   ]
  },
  {
   "cell_type": "markdown",
   "id": "4eefda5c",
   "metadata": {},
   "source": [
    "# Data Exploration with colors"
   ]
  },
  {
   "cell_type": "code",
   "execution_count": null,
   "id": "5d2b88d5",
   "metadata": {},
   "outputs": [
    {
     "name": "stdout",
     "output_type": "stream",
     "text": [
      "Unique colors: 135\n",
      "Number of transparent colors: is_trans\n",
      "f    107\n",
      "t     28\n",
      "Name: count, dtype: int64\n"
     ]
    }
   ],
   "source": [
    "if __name__ == '__main__':\n",
    "    setup_logging()\n",
    "    \n",
    "    color_df = fetch_df('data/colors.csv')\n",
    "    \n",
    "    print(f'Unique colors: {color_df.name.nunique()}')\n",
    "    print(f'Number of transparent colors: {color_df.is_trans.value_counts()}')\n",
    "    "
   ]
  },
  {
   "cell_type": "markdown",
   "id": "687de636",
   "metadata": {},
   "source": [
    "# Find the oldest and largest Lego sets"
   ]
  },
  {
   "cell_type": "code",
   "execution_count": 5,
   "id": "3b32ca32",
   "metadata": {},
   "outputs": [
    {
     "name": "stdout",
     "output_type": "stream",
     "text": [
      "First year set details:\n",
      "                                      name  year  theme_id  num_parts\n",
      "set_num                                                              \n",
      "700.1-1         Extra-Large Gift Set (ABB)  1949       365        142\n",
      "700.2-1               Large Gift Set (ABB)  1949       365        178\n",
      "700.3-1              Medium Gift Set (ABB)  1949       365        142\n",
      "700.A-1              Small Brick Set (ABB)  1949       371         24\n",
      "700.B-1  Small Doors and Windows Set (ABB)  1949       371         12\n",
      "Top 5 sets with most number of parts:                                    name  year  theme_id  num_parts\n",
      "set_num                                                           \n",
      "BIGBOX-1  The Ultimate Battle for Chima  2015       571       9987\n",
      "75192-1           UCS Millennium Falcon  2017       171       7541\n",
      "71043-1                 Hogwarts Castle  2018       246       6020\n",
      "10256-1                       Taj Mahal  2017       673       5923\n",
      "10189-1                       Taj Mahal  2008       673       5922\n"
     ]
    }
   ],
   "source": [
    "if __name__ == '__main__':\n",
    "    setup_logging('74')\n",
    "\n",
    "    sets_df = fetch_df('data/sets.csv')\n",
    "    print(f'First year set details:\\n{sets_df[sets_df.year == sets_df.year.min()]}')\n",
    "    print(f'Top 5 sets with most number of parts: {sets_df.sort_values(by=\"num_parts\", ascending=False).head(5)}')\n"
   ]
  }
 ],
 "metadata": {
  "kernelspec": {
   "display_name": ".venv",
   "language": "python",
   "name": "python3"
  },
  "language_info": {
   "codemirror_mode": {
    "name": "ipython",
    "version": 3
   },
   "file_extension": ".py",
   "mimetype": "text/x-python",
   "name": "python",
   "nbconvert_exporter": "python",
   "pygments_lexer": "ipython3",
   "version": "3.12.3"
  }
 },
 "nbformat": 4,
 "nbformat_minor": 5
}
