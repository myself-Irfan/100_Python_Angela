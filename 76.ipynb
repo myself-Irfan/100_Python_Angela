{
 "cells": [
  {
   "cell_type": "code",
   "execution_count": 1,
   "id": "b5d3115c",
   "metadata": {},
   "outputs": [],
   "source": [
    "import logging\n",
    "import pandas as pd\n",
    "import matplotlib.pyplot as plt\n",
    "import matplotlib.dates as mdates\n",
    "\n",
    "\n",
    "def setup_logging():\n",
    "    logging.basicConfig(\n",
    "        level=logging.INFO, \n",
    "        format='%(asctime)s - %(levelname)s %(funcName)s | %(message)s',\n",
    "        handlers=[\n",
    "            logging.FileHandler('76-ipynb.log')\n",
    "        ]\n",
    "    )\n",
    "\n",
    "    logging.info(\"Logging setup complete.\")\n",
    "\n",
    "\n",
    "def fetch_df(file_path: str) -> pd.DataFrame:\n",
    "    try:\n",
    "        df = pd.read_csv(file_path)\n",
    "    except FileNotFoundError as notfound_error:\n",
    "        logging.error(f\"File not found: {file_path}. Error: {notfound_error}\")\n",
    "        raise notfound_error\n",
    "    except pd.errors.EmptyDataError as empty_error:\n",
    "        logging.error(f\"File is empty: {file_path}. Error: {empty_error}\")\n",
    "        raise empty_error\n",
    "    except pd.errors.ParserError as parse_error:\n",
    "        logging.error(f\"Error parsing file: {file_path}. Error: {parse_error}\")\n",
    "        raise parse_error\n",
    "    except Exception as e:\n",
    "        logging.error(f\"An unexpected error occurred while reading {file_path}. Error: {e}\")\n",
    "        raise e\n",
    "    else:\n",
    "        logging.info(f\"DataFrame loaded successfully from {file_path}.\")\n",
    "        return df\n",
    "    \n",
    "\n",
    "def log_df_info(df: pd.DataFrame) -> None:\n",
    "    print(f\"Shape: {df.shape}\")\n",
    "    print(f\"Columns: {df.columns.tolist()}\")\n",
    "    # print(f\"Sample:\\n{df.sample(5)}\")\n",
    "    print(f'NaN: {df.isna().values.any()}')\n",
    "    print(f'Duplicate: {df.duplicated().any()}')\n",
    "    "
   ]
  },
  {
   "cell_type": "markdown",
   "id": "c0a083fd",
   "metadata": {},
   "source": [
    "# Data Cleaning: Removing NaN Values and Duplicates"
   ]
  },
  {
   "cell_type": "code",
   "execution_count": null,
   "id": "50e5d497",
   "metadata": {},
   "outputs": [],
   "source": [
    "if __name__ == \"__main__\":\n",
    "    setup_logging()\n",
    "\n",
    "    app_df = fetch_df('input-76.csv')\n",
    "    # dropping columns that are not needed for analysis\n",
    "    app_df = app_df.drop(columns=['Last_Updated', 'Android_Ver'], axis=1)\n",
    "    \n",
    "    duplicated_rows = app_df\n",
    "    \n",
    "\n",
    "\n",
    "    "
   ]
  }
 ],
 "metadata": {
  "kernelspec": {
   "display_name": ".venv",
   "language": "python",
   "name": "python3"
  },
  "language_info": {
   "codemirror_mode": {
    "name": "ipython",
    "version": 3
   },
   "file_extension": ".py",
   "mimetype": "text/x-python",
   "name": "python",
   "nbconvert_exporter": "python",
   "pygments_lexer": "ipython3",
   "version": "3.12.3"
  }
 },
 "nbformat": 4,
 "nbformat_minor": 5
}
