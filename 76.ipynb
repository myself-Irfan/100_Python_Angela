{
 "cells": [
  {
   "cell_type": "code",
   "execution_count": 1,
   "id": "b5d3115c",
   "metadata": {},
   "outputs": [],
   "source": [
    "import logging\n",
    "import pandas as pd\n",
    "import plotly.express as px\n",
    "\n",
    "\n",
    "def setup_logging():\n",
    "    logging.basicConfig(\n",
    "        level=logging.INFO, \n",
    "        format='%(asctime)s - %(levelname)s %(funcName)s | %(message)s',\n",
    "        handlers=[\n",
    "            logging.FileHandler('76-ipynb.log')\n",
    "        ]\n",
    "    )\n",
    "\n",
    "    logging.info(\"Logging setup complete.\")\n",
    "\n",
    "\n",
    "def fetch_df(file_path: str) -> pd.DataFrame:\n",
    "    try:\n",
    "        df = pd.read_csv(file_path)\n",
    "    except FileNotFoundError as notfound_error:\n",
    "        logging.error(f\"File not found: {file_path}. Error: {notfound_error}\")\n",
    "        raise notfound_error\n",
    "    except pd.errors.EmptyDataError as empty_error:\n",
    "        logging.error(f\"File is empty: {file_path}. Error: {empty_error}\")\n",
    "        raise empty_error\n",
    "    except pd.errors.ParserError as parse_error:\n",
    "        logging.error(f\"Error parsing file: {file_path}. Error: {parse_error}\")\n",
    "        raise parse_error\n",
    "    except Exception as e:\n",
    "        logging.error(f\"An unexpected error occurred while reading {file_path}. Error: {e}\")\n",
    "        raise e\n",
    "    else:\n",
    "        logging.info(f\"DataFrame loaded successfully from {file_path}.\")\n",
    "        return df\n",
    "    \n",
    "\n",
    "def log_df_info(df: pd.DataFrame) -> None:\n",
    "    print(f\"Shape: {df.shape}\")\n",
    "    print(f\"Columns: {df.columns.tolist()}\")\n",
    "    # print(f\"Sample:\\n{df.sample(5)}\")\n",
    "    print(f'NaN: {df.isna().values.any()}')\n",
    "    print(f'Duplicate: {df.duplicated().any()}')\n",
    "    "
   ]
  },
  {
   "cell_type": "markdown",
   "id": "c0a083fd",
   "metadata": {},
   "source": [
    "# Data Cleaning: Removing NaN Values and Duplicates"
   ]
  },
  {
   "cell_type": "code",
   "execution_count": 2,
   "id": "50e5d497",
   "metadata": {},
   "outputs": [],
   "source": [
    "def return_cleaned_df() -> pd.DataFrame:\n",
    "    app_df = fetch_df('input-76.csv')\n",
    "    # dropping columns that are not needed for analysis\n",
    "    app_df = app_df.drop(columns=['Last_Updated', 'Android_Ver'], axis=1)\n",
    "    app_df = app_df.dropna().drop_duplicates(subset=['App', 'Category', 'Type', 'Price'])\n",
    "    return app_df"
   ]
  },
  {
   "cell_type": "markdown",
   "id": "0c0a5262",
   "metadata": {},
   "source": [
    "# Preliminary Exploration: The Highest Ratings, Most Reviews, and Largest Size"
   ]
  },
  {
   "cell_type": "code",
   "execution_count": 3,
   "id": "11a1f98e",
   "metadata": {},
   "outputs": [
    {
     "name": "stdout",
     "output_type": "stream",
     "text": [
      "Top 5 highest rated apps:\n",
      "                                                 App       Category  Rating  \\\n",
      "21                               KBA-EZ Health Guide        MEDICAL     5.0   \n",
      "99   Anatomy & Physiology Vocabulary Exam Review App        MEDICAL     5.0   \n",
      "126                                  Tablet Reminder        MEDICAL     5.0   \n",
      "181                                     EJ messenger  COMMUNICATION     5.0   \n",
      "179                                 Bh Public School         FAMILY     5.0   \n",
      "\n",
      "     Reviews  Size_MBs Installs  Type Price Content_Rating         Genres  \n",
      "21         4      25.0        1  Free     0       Everyone        Medical  \n",
      "99         1       4.6        5  Free     0       Everyone        Medical  \n",
      "126        4       2.5        5  Free     0       Everyone        Medical  \n",
      "181        1      25.0       10  Free     0           Teen  Communication  \n",
      "179        2       8.7       10  Free     0       Everyone      Education  \n",
      "Top 5 largest apps by size:\n",
      "                                    App            Category  Rating  Reviews  \\\n",
      "1795               Navi Radiography Pro             MEDICAL     4.7       11   \n",
      "3144                         Vi Trainer  HEALTH_AND_FITNESS     3.6      124   \n",
      "9944       Gangster Town: Vice District              FAMILY     4.3    65146   \n",
      "8719         Draft Simulator for FUT 18              SPORTS     4.6   162933   \n",
      "8718  Mini Golf King - Multiplayer Game                GAME     4.5   531458   \n",
      "\n",
      "      Size_MBs    Installs  Type   Price Content_Rating            Genres  \n",
      "1795     100.0         500  Paid  $15.99       Everyone           Medical  \n",
      "3144     100.0       5,000  Free       0       Everyone  Health & Fitness  \n",
      "9944     100.0  10,000,000  Free       0     Mature 17+        Simulation  \n",
      "8719     100.0   5,000,000  Free       0       Everyone            Sports  \n",
      "8718     100.0   5,000,000  Free       0       Everyone            Sports  \n",
      "Top 5 highest reviews app:\n",
      "                                                     App            Category  \\\n",
      "10805                                           Facebook              SOCIAL   \n",
      "10785                                 WhatsApp Messenger       COMMUNICATION   \n",
      "10806                                          Instagram              SOCIAL   \n",
      "10784           Messenger – Text and Video Chat for Free       COMMUNICATION   \n",
      "10650                                     Clash of Clans                GAME   \n",
      "10653                                     Clash of Clans              FAMILY   \n",
      "10744            Clean Master- Space Cleaner & Antivirus               TOOLS   \n",
      "10835                                     Subway Surfers                GAME   \n",
      "10828                                            YouTube       VIDEO_PLAYERS   \n",
      "10746  Security Master - Antivirus, VPN, AppLock, Boo...               TOOLS   \n",
      "10584                                       Clash Royale                GAME   \n",
      "10592                                       Clash Royale              FAMILY   \n",
      "10763                                   Candy Crush Saga                GAME   \n",
      "10769                                   Candy Crush Saga              FAMILY   \n",
      "10770        UC Browser - Fast Download Private & Secure       COMMUNICATION   \n",
      "10735                                           Snapchat              SOCIAL   \n",
      "10489    360 Security - Free Antivirus, Booster, Cleaner               TOOLS   \n",
      "10731                                     My Talking Tom                GAME   \n",
      "10733                                     My Talking Tom              FAMILY   \n",
      "10594                                        8 Ball Pool                GAME   \n",
      "10602                                        8 Ball Pool              SPORTS   \n",
      "10302  DU Battery Saver - Battery Charger & Battery Life               TOOLS   \n",
      "10354                        BBM - Free Calls & Messages       COMMUNICATION   \n",
      "10549  Cache Cleaner-DU Speed Booster (booster & clea...               TOOLS   \n",
      "10757                                            Twitter  NEWS_AND_MAGAZINES   \n",
      "10721                                    Viber Messenger       COMMUNICATION   \n",
      "10578                                     Shadow Fight 2                GAME   \n",
      "10813                                      Google Photos         PHOTOGRAPHY   \n",
      "10724                        LINE: Free Calls & Messages       COMMUNICATION   \n",
      "10717                                                Pou                GAME   \n",
      "10792                      Skype - free IM & video calls       COMMUNICATION   \n",
      "10720                                                Pou              FAMILY   \n",
      "10628                                         Pokémon GO                GAME   \n",
      "10409           Minion Rush: Despicable Me Official Game              FAMILY   \n",
      "10388           Minion Rush: Despicable Me Official Game                GAME   \n",
      "10694                                            Yes day                GAME   \n",
      "10695                                            Hay Day              FAMILY   \n",
      "10644                           Dream League Soccer 2018                GAME   \n",
      "10696                                  My Talking Angela                GAME   \n",
      "10660             VivaVideo - Video Editor & Photo Movie       VIDEO_PLAYERS   \n",
      "10700                                  My Talking Angela              FAMILY   \n",
      "10646                           Dream League Soccer 2018              SPORTS   \n",
      "10786                       Google Chrome: Fast & Secure       COMMUNICATION   \n",
      "10817                          Maps - Navigate & Explore    TRAVEL_AND_LOCAL   \n",
      "10672                                  Hill Climb Racing                GAME   \n",
      "10734                                      Facebook Lite              SOCIAL   \n",
      "10649                                Asphalt 8: Airborne                GAME   \n",
      "10699                          Mobile Legends: Bang Bang                GAME   \n",
      "10322  Battery Doctor-Battery Life Saver & Battery Co...               TOOLS   \n",
      "10396                                     Piano Tiles 2™                GAME   \n",
      "\n",
      "       Rating   Reviews  Size_MBs       Installs  Type Price Content_Rating  \\\n",
      "10805     4.1  78158306      5.30  1,000,000,000  Free     0           Teen   \n",
      "10785     4.4  69119316      3.50  1,000,000,000  Free     0       Everyone   \n",
      "10806     4.5  66577313      5.30  1,000,000,000  Free     0           Teen   \n",
      "10784     4.0  56642847      3.50  1,000,000,000  Free     0       Everyone   \n",
      "10650     4.6  44891723     98.00    100,000,000  Free     0   Everyone 10+   \n",
      "10653     4.6  44881447     98.00    100,000,000  Free     0   Everyone 10+   \n",
      "10744     4.7  42916526      3.40    500,000,000  Free     0       Everyone   \n",
      "10835     4.5  27722264     76.00  1,000,000,000  Free     0   Everyone 10+   \n",
      "10828     4.3  25655305      4.65  1,000,000,000  Free     0           Teen   \n",
      "10746     4.7  24900999      3.40    500,000,000  Free     0       Everyone   \n",
      "10584     4.6  23133508     97.00    100,000,000  Free     0   Everyone 10+   \n",
      "10592     4.6  23125280     97.00    100,000,000  Free     0   Everyone 10+   \n",
      "10763     4.4  22426677     74.00    500,000,000  Free     0       Everyone   \n",
      "10769     4.4  22419455     74.00    500,000,000  Free     0       Everyone   \n",
      "10770     4.5  17712922     40.00    500,000,000  Free     0           Teen   \n",
      "10735     4.0  17014787      5.30    500,000,000  Free     0           Teen   \n",
      "10489     4.6  16771865      3.40    100,000,000  Free     0       Everyone   \n",
      "10731     4.5  14891223     36.00    500,000,000  Free     0       Everyone   \n",
      "10733     4.5  14885236     19.00    500,000,000  Free     0       Everyone   \n",
      "10594     4.5  14198297     52.00    100,000,000  Free     0       Everyone   \n",
      "10602     4.5  14184910     52.00    100,000,000  Free     0       Everyone   \n",
      "10302     4.5  13479633     14.00    100,000,000  Free     0       Everyone   \n",
      "10354     4.3  12842860      3.50    100,000,000  Free     0       Everyone   \n",
      "10549     4.5  12759663     15.00    100,000,000  Free     0       Everyone   \n",
      "10757     4.3  11667403      6.30    500,000,000  Free     0     Mature 17+   \n",
      "10721     4.3  11334799      3.50    500,000,000  Free     0       Everyone   \n",
      "10578     4.6  10979062     88.00    100,000,000  Free     0   Everyone 10+   \n",
      "10813     4.5  10858556      6.90  1,000,000,000  Free     0       Everyone   \n",
      "10724     4.2  10790289      3.50    500,000,000  Free     0       Everyone   \n",
      "10717     4.3  10485308     24.00    500,000,000  Free     0       Everyone   \n",
      "10792     4.1  10484169      3.50  1,000,000,000  Free     0       Everyone   \n",
      "10720     4.3  10483141     24.00    500,000,000  Free     0       Everyone   \n",
      "10628     4.1  10424925     85.00    100,000,000  Free     0       Everyone   \n",
      "10409     4.5  10216997     19.00    100,000,000  Free     0   Everyone 10+   \n",
      "10388     4.5  10216538     36.00    100,000,000  Free     0   Everyone 10+   \n",
      "10694     4.5  10055521     94.00    100,000,000  Free     0       Everyone   \n",
      "10695     4.5  10053186     94.00    100,000,000  Free     0       Everyone   \n",
      "10644     4.6   9882639     74.00    100,000,000  Free     0       Everyone   \n",
      "10696     4.5   9881829     99.00    100,000,000  Free     0       Everyone   \n",
      "10660     4.6   9879473     40.00    100,000,000  Free     0           Teen   \n",
      "10700     4.5   9876369     99.00    100,000,000  Free     0       Everyone   \n",
      "10646     4.6   9873470     74.00    100,000,000  Free     0       Everyone   \n",
      "10786     4.3   9642995      3.50  1,000,000,000  Free     0       Everyone   \n",
      "10817     4.3   9235155     12.00  1,000,000,000  Free     0       Everyone   \n",
      "10672     4.4   8923587     63.00    100,000,000  Free     0       Everyone   \n",
      "10734     4.3   8606259      5.30    500,000,000  Free     0           Teen   \n",
      "10649     4.5   8389714     92.00    100,000,000  Free     0           Teen   \n",
      "10699     4.4   8219586     99.00    100,000,000  Free     0           Teen   \n",
      "10322     4.5   8190074     17.00    100,000,000  Free     0       Everyone   \n",
      "10396     4.7   8118880     36.00    100,000,000  Free     0       Everyone   \n",
      "\n",
      "                          Genres  \n",
      "10805                     Social  \n",
      "10785              Communication  \n",
      "10806                     Social  \n",
      "10784              Communication  \n",
      "10650                   Strategy  \n",
      "10653                   Strategy  \n",
      "10744                      Tools  \n",
      "10835                     Arcade  \n",
      "10828    Video Players & Editors  \n",
      "10746                      Tools  \n",
      "10584                   Strategy  \n",
      "10592                   Strategy  \n",
      "10763                     Casual  \n",
      "10769                     Casual  \n",
      "10770              Communication  \n",
      "10735                     Social  \n",
      "10489                      Tools  \n",
      "10731                     Casual  \n",
      "10733                     Casual  \n",
      "10594                     Sports  \n",
      "10602                     Sports  \n",
      "10302                      Tools  \n",
      "10354              Communication  \n",
      "10549                      Tools  \n",
      "10757           News & Magazines  \n",
      "10721              Communication  \n",
      "10578                     Action  \n",
      "10813                Photography  \n",
      "10724              Communication  \n",
      "10717                     Casual  \n",
      "10792              Communication  \n",
      "10720                     Casual  \n",
      "10628                  Adventure  \n",
      "10409  Casual;Action & Adventure  \n",
      "10388  Casual;Action & Adventure  \n",
      "10694                     Casual  \n",
      "10695                     Casual  \n",
      "10644                     Sports  \n",
      "10696                     Casual  \n",
      "10660    Video Players & Editors  \n",
      "10700                     Casual  \n",
      "10646                     Sports  \n",
      "10786              Communication  \n",
      "10817             Travel & Local  \n",
      "10672                     Racing  \n",
      "10734                     Social  \n",
      "10649                     Racing  \n",
      "10699                     Action  \n",
      "10322                      Tools  \n",
      "10396                     Arcade  \n"
     ]
    }
   ],
   "source": [
    "if __name__ == \"__main__\":\n",
    "    setup_logging()\n",
    "\n",
    "    app_df = return_cleaned_df()\n",
    "\n",
    "    print(f'Top 5 highest rated apps:\\n{app_df.sort_values(by=\"Rating\", ascending=False).head(5)}')\n",
    "    # print(f'Top 5 highest rated apps:\\n{app_df.sort_values(by=[\"Reviews\", \"Rating\"], ascending=False).head(5)}')\n",
    "    print(f'Top 5 largest apps by size:\\n{app_df.sort_values(by=\"Size_MBs\", ascending=False).head(5)}')\n",
    "    print(f'Top 5 highest reviews app:\\n{app_df.sort_values(by=\"Reviews\", ascending=False).head(50)}')"
   ]
  },
  {
   "cell_type": "markdown",
   "id": "84e8661e",
   "metadata": {},
   "source": [
    "# Data Visualisation with Plotly: Create Pie and Donut Charts"
   ]
  },
  {
   "cell_type": "code",
   "execution_count": 4,
   "id": "809ca04c",
   "metadata": {},
   "outputs": [
    {
     "data": {
      "application/vnd.plotly.v1+json": {
       "config": {
        "plotlyServerURL": "https://plot.ly"
       },
       "data": [
        {
         "domain": {
          "x": [
           0,
           1
          ],
          "y": [
           0,
           1
          ]
         },
         "hole": 0.5,
         "hovertemplate": "label=%{label}<br>value=%{value}<extra></extra>",
         "labels": [
          "Everyone",
          "Teen",
          "Mature 17+",
          "Everyone 10+",
          "Adults only 18+",
          "Unrated"
         ],
         "legendgroup": "",
         "name": "",
         "showlegend": true,
         "textinfo": "percent+label",
         "textposition": "outside",
         "type": "pie",
         "values": {
          "bdata": "DRqlA2UBPwEDAAEA",
          "dtype": "i2"
         }
        }
       ],
       "layout": {
        "legend": {
         "tracegroupgap": 0
        },
        "template": {
         "data": {
          "bar": [
           {
            "error_x": {
             "color": "#2a3f5f"
            },
            "error_y": {
             "color": "#2a3f5f"
            },
            "marker": {
             "line": {
              "color": "#E5ECF6",
              "width": 0.5
             },
             "pattern": {
              "fillmode": "overlay",
              "size": 10,
              "solidity": 0.2
             }
            },
            "type": "bar"
           }
          ],
          "barpolar": [
           {
            "marker": {
             "line": {
              "color": "#E5ECF6",
              "width": 0.5
             },
             "pattern": {
              "fillmode": "overlay",
              "size": 10,
              "solidity": 0.2
             }
            },
            "type": "barpolar"
           }
          ],
          "carpet": [
           {
            "aaxis": {
             "endlinecolor": "#2a3f5f",
             "gridcolor": "white",
             "linecolor": "white",
             "minorgridcolor": "white",
             "startlinecolor": "#2a3f5f"
            },
            "baxis": {
             "endlinecolor": "#2a3f5f",
             "gridcolor": "white",
             "linecolor": "white",
             "minorgridcolor": "white",
             "startlinecolor": "#2a3f5f"
            },
            "type": "carpet"
           }
          ],
          "choropleth": [
           {
            "colorbar": {
             "outlinewidth": 0,
             "ticks": ""
            },
            "type": "choropleth"
           }
          ],
          "contour": [
           {
            "colorbar": {
             "outlinewidth": 0,
             "ticks": ""
            },
            "colorscale": [
             [
              0,
              "#0d0887"
             ],
             [
              0.1111111111111111,
              "#46039f"
             ],
             [
              0.2222222222222222,
              "#7201a8"
             ],
             [
              0.3333333333333333,
              "#9c179e"
             ],
             [
              0.4444444444444444,
              "#bd3786"
             ],
             [
              0.5555555555555556,
              "#d8576b"
             ],
             [
              0.6666666666666666,
              "#ed7953"
             ],
             [
              0.7777777777777778,
              "#fb9f3a"
             ],
             [
              0.8888888888888888,
              "#fdca26"
             ],
             [
              1,
              "#f0f921"
             ]
            ],
            "type": "contour"
           }
          ],
          "contourcarpet": [
           {
            "colorbar": {
             "outlinewidth": 0,
             "ticks": ""
            },
            "type": "contourcarpet"
           }
          ],
          "heatmap": [
           {
            "colorbar": {
             "outlinewidth": 0,
             "ticks": ""
            },
            "colorscale": [
             [
              0,
              "#0d0887"
             ],
             [
              0.1111111111111111,
              "#46039f"
             ],
             [
              0.2222222222222222,
              "#7201a8"
             ],
             [
              0.3333333333333333,
              "#9c179e"
             ],
             [
              0.4444444444444444,
              "#bd3786"
             ],
             [
              0.5555555555555556,
              "#d8576b"
             ],
             [
              0.6666666666666666,
              "#ed7953"
             ],
             [
              0.7777777777777778,
              "#fb9f3a"
             ],
             [
              0.8888888888888888,
              "#fdca26"
             ],
             [
              1,
              "#f0f921"
             ]
            ],
            "type": "heatmap"
           }
          ],
          "histogram": [
           {
            "marker": {
             "pattern": {
              "fillmode": "overlay",
              "size": 10,
              "solidity": 0.2
             }
            },
            "type": "histogram"
           }
          ],
          "histogram2d": [
           {
            "colorbar": {
             "outlinewidth": 0,
             "ticks": ""
            },
            "colorscale": [
             [
              0,
              "#0d0887"
             ],
             [
              0.1111111111111111,
              "#46039f"
             ],
             [
              0.2222222222222222,
              "#7201a8"
             ],
             [
              0.3333333333333333,
              "#9c179e"
             ],
             [
              0.4444444444444444,
              "#bd3786"
             ],
             [
              0.5555555555555556,
              "#d8576b"
             ],
             [
              0.6666666666666666,
              "#ed7953"
             ],
             [
              0.7777777777777778,
              "#fb9f3a"
             ],
             [
              0.8888888888888888,
              "#fdca26"
             ],
             [
              1,
              "#f0f921"
             ]
            ],
            "type": "histogram2d"
           }
          ],
          "histogram2dcontour": [
           {
            "colorbar": {
             "outlinewidth": 0,
             "ticks": ""
            },
            "colorscale": [
             [
              0,
              "#0d0887"
             ],
             [
              0.1111111111111111,
              "#46039f"
             ],
             [
              0.2222222222222222,
              "#7201a8"
             ],
             [
              0.3333333333333333,
              "#9c179e"
             ],
             [
              0.4444444444444444,
              "#bd3786"
             ],
             [
              0.5555555555555556,
              "#d8576b"
             ],
             [
              0.6666666666666666,
              "#ed7953"
             ],
             [
              0.7777777777777778,
              "#fb9f3a"
             ],
             [
              0.8888888888888888,
              "#fdca26"
             ],
             [
              1,
              "#f0f921"
             ]
            ],
            "type": "histogram2dcontour"
           }
          ],
          "mesh3d": [
           {
            "colorbar": {
             "outlinewidth": 0,
             "ticks": ""
            },
            "type": "mesh3d"
           }
          ],
          "parcoords": [
           {
            "line": {
             "colorbar": {
              "outlinewidth": 0,
              "ticks": ""
             }
            },
            "type": "parcoords"
           }
          ],
          "pie": [
           {
            "automargin": true,
            "type": "pie"
           }
          ],
          "scatter": [
           {
            "fillpattern": {
             "fillmode": "overlay",
             "size": 10,
             "solidity": 0.2
            },
            "type": "scatter"
           }
          ],
          "scatter3d": [
           {
            "line": {
             "colorbar": {
              "outlinewidth": 0,
              "ticks": ""
             }
            },
            "marker": {
             "colorbar": {
              "outlinewidth": 0,
              "ticks": ""
             }
            },
            "type": "scatter3d"
           }
          ],
          "scattercarpet": [
           {
            "marker": {
             "colorbar": {
              "outlinewidth": 0,
              "ticks": ""
             }
            },
            "type": "scattercarpet"
           }
          ],
          "scattergeo": [
           {
            "marker": {
             "colorbar": {
              "outlinewidth": 0,
              "ticks": ""
             }
            },
            "type": "scattergeo"
           }
          ],
          "scattergl": [
           {
            "marker": {
             "colorbar": {
              "outlinewidth": 0,
              "ticks": ""
             }
            },
            "type": "scattergl"
           }
          ],
          "scattermap": [
           {
            "marker": {
             "colorbar": {
              "outlinewidth": 0,
              "ticks": ""
             }
            },
            "type": "scattermap"
           }
          ],
          "scattermapbox": [
           {
            "marker": {
             "colorbar": {
              "outlinewidth": 0,
              "ticks": ""
             }
            },
            "type": "scattermapbox"
           }
          ],
          "scatterpolar": [
           {
            "marker": {
             "colorbar": {
              "outlinewidth": 0,
              "ticks": ""
             }
            },
            "type": "scatterpolar"
           }
          ],
          "scatterpolargl": [
           {
            "marker": {
             "colorbar": {
              "outlinewidth": 0,
              "ticks": ""
             }
            },
            "type": "scatterpolargl"
           }
          ],
          "scatterternary": [
           {
            "marker": {
             "colorbar": {
              "outlinewidth": 0,
              "ticks": ""
             }
            },
            "type": "scatterternary"
           }
          ],
          "surface": [
           {
            "colorbar": {
             "outlinewidth": 0,
             "ticks": ""
            },
            "colorscale": [
             [
              0,
              "#0d0887"
             ],
             [
              0.1111111111111111,
              "#46039f"
             ],
             [
              0.2222222222222222,
              "#7201a8"
             ],
             [
              0.3333333333333333,
              "#9c179e"
             ],
             [
              0.4444444444444444,
              "#bd3786"
             ],
             [
              0.5555555555555556,
              "#d8576b"
             ],
             [
              0.6666666666666666,
              "#ed7953"
             ],
             [
              0.7777777777777778,
              "#fb9f3a"
             ],
             [
              0.8888888888888888,
              "#fdca26"
             ],
             [
              1,
              "#f0f921"
             ]
            ],
            "type": "surface"
           }
          ],
          "table": [
           {
            "cells": {
             "fill": {
              "color": "#EBF0F8"
             },
             "line": {
              "color": "white"
             }
            },
            "header": {
             "fill": {
              "color": "#C8D4E3"
             },
             "line": {
              "color": "white"
             }
            },
            "type": "table"
           }
          ]
         },
         "layout": {
          "annotationdefaults": {
           "arrowcolor": "#2a3f5f",
           "arrowhead": 0,
           "arrowwidth": 1
          },
          "autotypenumbers": "strict",
          "coloraxis": {
           "colorbar": {
            "outlinewidth": 0,
            "ticks": ""
           }
          },
          "colorscale": {
           "diverging": [
            [
             0,
             "#8e0152"
            ],
            [
             0.1,
             "#c51b7d"
            ],
            [
             0.2,
             "#de77ae"
            ],
            [
             0.3,
             "#f1b6da"
            ],
            [
             0.4,
             "#fde0ef"
            ],
            [
             0.5,
             "#f7f7f7"
            ],
            [
             0.6,
             "#e6f5d0"
            ],
            [
             0.7,
             "#b8e186"
            ],
            [
             0.8,
             "#7fbc41"
            ],
            [
             0.9,
             "#4d9221"
            ],
            [
             1,
             "#276419"
            ]
           ],
           "sequential": [
            [
             0,
             "#0d0887"
            ],
            [
             0.1111111111111111,
             "#46039f"
            ],
            [
             0.2222222222222222,
             "#7201a8"
            ],
            [
             0.3333333333333333,
             "#9c179e"
            ],
            [
             0.4444444444444444,
             "#bd3786"
            ],
            [
             0.5555555555555556,
             "#d8576b"
            ],
            [
             0.6666666666666666,
             "#ed7953"
            ],
            [
             0.7777777777777778,
             "#fb9f3a"
            ],
            [
             0.8888888888888888,
             "#fdca26"
            ],
            [
             1,
             "#f0f921"
            ]
           ],
           "sequentialminus": [
            [
             0,
             "#0d0887"
            ],
            [
             0.1111111111111111,
             "#46039f"
            ],
            [
             0.2222222222222222,
             "#7201a8"
            ],
            [
             0.3333333333333333,
             "#9c179e"
            ],
            [
             0.4444444444444444,
             "#bd3786"
            ],
            [
             0.5555555555555556,
             "#d8576b"
            ],
            [
             0.6666666666666666,
             "#ed7953"
            ],
            [
             0.7777777777777778,
             "#fb9f3a"
            ],
            [
             0.8888888888888888,
             "#fdca26"
            ],
            [
             1,
             "#f0f921"
            ]
           ]
          },
          "colorway": [
           "#636efa",
           "#EF553B",
           "#00cc96",
           "#ab63fa",
           "#FFA15A",
           "#19d3f3",
           "#FF6692",
           "#B6E880",
           "#FF97FF",
           "#FECB52"
          ],
          "font": {
           "color": "#2a3f5f"
          },
          "geo": {
           "bgcolor": "white",
           "lakecolor": "white",
           "landcolor": "#E5ECF6",
           "showlakes": true,
           "showland": true,
           "subunitcolor": "white"
          },
          "hoverlabel": {
           "align": "left"
          },
          "hovermode": "closest",
          "mapbox": {
           "style": "light"
          },
          "paper_bgcolor": "white",
          "plot_bgcolor": "#E5ECF6",
          "polar": {
           "angularaxis": {
            "gridcolor": "white",
            "linecolor": "white",
            "ticks": ""
           },
           "bgcolor": "#E5ECF6",
           "radialaxis": {
            "gridcolor": "white",
            "linecolor": "white",
            "ticks": ""
           }
          },
          "scene": {
           "xaxis": {
            "backgroundcolor": "#E5ECF6",
            "gridcolor": "white",
            "gridwidth": 2,
            "linecolor": "white",
            "showbackground": true,
            "ticks": "",
            "zerolinecolor": "white"
           },
           "yaxis": {
            "backgroundcolor": "#E5ECF6",
            "gridcolor": "white",
            "gridwidth": 2,
            "linecolor": "white",
            "showbackground": true,
            "ticks": "",
            "zerolinecolor": "white"
           },
           "zaxis": {
            "backgroundcolor": "#E5ECF6",
            "gridcolor": "white",
            "gridwidth": 2,
            "linecolor": "white",
            "showbackground": true,
            "ticks": "",
            "zerolinecolor": "white"
           }
          },
          "shapedefaults": {
           "line": {
            "color": "#2a3f5f"
           }
          },
          "ternary": {
           "aaxis": {
            "gridcolor": "white",
            "linecolor": "white",
            "ticks": ""
           },
           "baxis": {
            "gridcolor": "white",
            "linecolor": "white",
            "ticks": ""
           },
           "bgcolor": "#E5ECF6",
           "caxis": {
            "gridcolor": "white",
            "linecolor": "white",
            "ticks": ""
           }
          },
          "title": {
           "x": 0.05
          },
          "xaxis": {
           "automargin": true,
           "gridcolor": "white",
           "linecolor": "white",
           "ticks": "",
           "title": {
            "standoff": 15
           },
           "zerolinecolor": "white",
           "zerolinewidth": 2
          },
          "yaxis": {
           "automargin": true,
           "gridcolor": "white",
           "linecolor": "white",
           "ticks": "",
           "title": {
            "standoff": 15
           },
           "zerolinecolor": "white",
           "zerolinewidth": 2
          }
         }
        },
        "title": {
         "text": "Content Rating"
        }
       }
      }
     },
     "metadata": {},
     "output_type": "display_data"
    }
   ],
   "source": [
    "if __name__ == \"__main__\":\n",
    "    setup_logging()\n",
    "\n",
    "    app_df = return_cleaned_df()\n",
    "\n",
    "    ratings = app_df.Content_Rating.value_counts()\n",
    "    \n",
    "    fig = px.pie(\n",
    "        labels=ratings.index, \n",
    "        values=ratings.values, \n",
    "        names=ratings.index, \n",
    "        title='Content Rating',\n",
    "        hole=0.5\n",
    "    )\n",
    "    fig.update_traces(\n",
    "        textposition='outside', \n",
    "        textinfo='percent+label'\n",
    "    )\n",
    "\n",
    "    fig.show()"
   ]
  },
  {
   "cell_type": "markdown",
   "id": "e4518bde",
   "metadata": {},
   "source": [
    "# Numeric Type Conversions for the Installations & Price Data"
   ]
  },
  {
   "cell_type": "code",
   "execution_count": 5,
   "id": "af7a8043",
   "metadata": {},
   "outputs": [
    {
     "name": "stdout",
     "output_type": "stream",
     "text": [
      "Column type:\n",
      "count          8282\n",
      "unique           19\n",
      "top       1,000,000\n",
      "freq           1428\n",
      "Name: Installs, dtype: object\n",
      "Column type:\n",
      "count     8282\n",
      "unique      73\n",
      "top          0\n",
      "freq      7676\n",
      "Name: Price, dtype: object\n",
      "(8267, 10)\n",
      "Top 10 apps by revenue:\n",
      "                                App     Category  Rating  Reviews   Size_MBs  \\\n",
      "9220                      Minecraft       FAMILY     4.5  2376564  19.000000   \n",
      "8825                  Hitman Sniper         GAME     4.6   408292  29.000000   \n",
      "7151  Grand Theft Auto: San Andreas         GAME     4.4   348962  26.000000   \n",
      "7477            Facetune - For Free  PHOTOGRAPHY     4.4    49553  48.000000   \n",
      "7977        Sleep as Android Unlock    LIFESTYLE     4.5    23966   0.851562   \n",
      "6594            DraStic DS Emulator         GAME     4.6    87766  12.000000   \n",
      "6082                   Weather Live      WEATHER     4.5    76593   4.750000   \n",
      "6746     Card Wars - Adventure Time       FAMILY     4.3   129603  23.000000   \n",
      "7954                    Bloons TD 5       FAMILY     4.6   190086  94.000000   \n",
      "7633        Five Nights at Freddy's         GAME     4.6   100805  50.000000   \n",
      "\n",
      "      Installs  Type  Price Content_Rating                     Genres  \\\n",
      "9220  10000000  Paid   6.99   Everyone 10+  Arcade;Action & Adventure   \n",
      "8825  10000000  Paid   0.99     Mature 17+                     Action   \n",
      "7151   1000000  Paid   6.99     Mature 17+                     Action   \n",
      "7477   1000000  Paid   5.99       Everyone                Photography   \n",
      "7977   1000000  Paid   5.99       Everyone                  Lifestyle   \n",
      "6594   1000000  Paid   4.99       Everyone                     Action   \n",
      "6082    500000  Paid   5.99       Everyone                    Weather   \n",
      "6746   1000000  Paid   2.99   Everyone 10+    Card;Action & Adventure   \n",
      "7954   1000000  Paid   2.99       Everyone                   Strategy   \n",
      "7633   1000000  Paid   2.99           Teen                     Action   \n",
      "\n",
      "      Revenue_Estimate  \n",
      "9220        69900000.0  \n",
      "8825         9900000.0  \n",
      "7151         6990000.0  \n",
      "7477         5990000.0  \n",
      "7977         5990000.0  \n",
      "6594         4990000.0  \n",
      "6082         2995000.0  \n",
      "6746         2990000.0  \n",
      "7954         2990000.0  \n",
      "7633         2990000.0  \n",
      "Games among top 10 highest revenue apps:\n",
      "                                App Category  Rating  Reviews  Size_MBs  \\\n",
      "8825                  Hitman Sniper     GAME     4.6   408292      29.0   \n",
      "7151  Grand Theft Auto: San Andreas     GAME     4.4   348962      26.0   \n",
      "6594            DraStic DS Emulator     GAME     4.6    87766      12.0   \n",
      "7633        Five Nights at Freddy's     GAME     4.6   100805      50.0   \n",
      "\n",
      "      Installs  Type  Price Content_Rating  Genres  Revenue_Estimate  \n",
      "8825  10000000  Paid   0.99     Mature 17+  Action         9900000.0  \n",
      "7151   1000000  Paid   6.99     Mature 17+  Action         6990000.0  \n",
      "6594   1000000  Paid   4.99       Everyone  Action         4990000.0  \n",
      "7633   1000000  Paid   2.99           Teen  Action         2990000.0  \n"
     ]
    }
   ],
   "source": [
    "if __name__ == \"__main__\":\n",
    "    setup_logging()\n",
    "\n",
    "    app_df = return_cleaned_df()\n",
    "    print(f'Column type:\\n{app_df.Installs.describe()}')\n",
    "    print(f'Column type:\\n{app_df.Price.describe()}')\n",
    "\n",
    "    app_df.Price = app_df.Price.replace('[\\$,]', '', regex=True).astype(float)\n",
    "    app_df.Installs = app_df.Installs.replace('[\\+,]', '', regex=True).astype(int)\n",
    "\n",
    "    # print(f'App count with download rate:\\n{app_df[['App', 'Installs']].groupby('Installs').count().sort_values(by='Installs', ascending=False).reset_index()}')\n",
    "    \n",
    "    app_df = app_df[app_df.Price < 250]\n",
    "    print(app_df.shape)\n",
    "\n",
    "    app_df['Revenue_Estimate'] = app_df.Installs * app_df.Price\n",
    "    app_df = app_df.sort_values(by='Revenue_Estimate', ascending=False).head(10)\n",
    "    print(f'Top 10 apps by revenue:\\n{app_df}')\n",
    "    print(f'Games among top 10 highest revenue apps:\\n{app_df[app_df.Category == \"GAME\"]}')\n"
   ]
  },
  {
   "cell_type": "markdown",
   "id": "0e7b7a5e",
   "metadata": {},
   "source": [
    "# Plotly Bar Charts & Scatter Plots: The Most Competitive & Popular App Categories"
   ]
  },
  {
   "cell_type": "code",
   "execution_count": 9,
   "id": "7d631168",
   "metadata": {},
   "outputs": [
    {
     "data": {
      "application/vnd.plotly.v1+json": {
       "config": {
        "plotlyServerURL": "https://plot.ly"
       },
       "data": [
        {
         "hovertemplate": "Category=%{x}<br>App Count=%{y}<extra></extra>",
         "legendgroup": "",
         "marker": {
          "color": "#636efa",
          "pattern": {
           "shape": ""
          }
         },
         "name": "",
         "orientation": "v",
         "showlegend": false,
         "textposition": "auto",
         "type": "bar",
         "x": [
          "FAMILY",
          "GAME",
          "TOOLS",
          "FINANCE",
          "LIFESTYLE",
          "PRODUCTIVITY",
          "PERSONALIZATION",
          "MEDICAL",
          "BUSINESS",
          "PHOTOGRAPHY"
         ],
         "xaxis": "x",
         "y": {
          "bdata": "lAaRA9ACLgEuAS0BKgEkAQcBBwE=",
          "dtype": "i2"
         },
         "yaxis": "y"
        }
       ],
       "layout": {
        "barmode": "relative",
        "legend": {
         "tracegroupgap": 0
        },
        "template": {
         "data": {
          "bar": [
           {
            "error_x": {
             "color": "#2a3f5f"
            },
            "error_y": {
             "color": "#2a3f5f"
            },
            "marker": {
             "line": {
              "color": "#E5ECF6",
              "width": 0.5
             },
             "pattern": {
              "fillmode": "overlay",
              "size": 10,
              "solidity": 0.2
             }
            },
            "type": "bar"
           }
          ],
          "barpolar": [
           {
            "marker": {
             "line": {
              "color": "#E5ECF6",
              "width": 0.5
             },
             "pattern": {
              "fillmode": "overlay",
              "size": 10,
              "solidity": 0.2
             }
            },
            "type": "barpolar"
           }
          ],
          "carpet": [
           {
            "aaxis": {
             "endlinecolor": "#2a3f5f",
             "gridcolor": "white",
             "linecolor": "white",
             "minorgridcolor": "white",
             "startlinecolor": "#2a3f5f"
            },
            "baxis": {
             "endlinecolor": "#2a3f5f",
             "gridcolor": "white",
             "linecolor": "white",
             "minorgridcolor": "white",
             "startlinecolor": "#2a3f5f"
            },
            "type": "carpet"
           }
          ],
          "choropleth": [
           {
            "colorbar": {
             "outlinewidth": 0,
             "ticks": ""
            },
            "type": "choropleth"
           }
          ],
          "contour": [
           {
            "colorbar": {
             "outlinewidth": 0,
             "ticks": ""
            },
            "colorscale": [
             [
              0,
              "#0d0887"
             ],
             [
              0.1111111111111111,
              "#46039f"
             ],
             [
              0.2222222222222222,
              "#7201a8"
             ],
             [
              0.3333333333333333,
              "#9c179e"
             ],
             [
              0.4444444444444444,
              "#bd3786"
             ],
             [
              0.5555555555555556,
              "#d8576b"
             ],
             [
              0.6666666666666666,
              "#ed7953"
             ],
             [
              0.7777777777777778,
              "#fb9f3a"
             ],
             [
              0.8888888888888888,
              "#fdca26"
             ],
             [
              1,
              "#f0f921"
             ]
            ],
            "type": "contour"
           }
          ],
          "contourcarpet": [
           {
            "colorbar": {
             "outlinewidth": 0,
             "ticks": ""
            },
            "type": "contourcarpet"
           }
          ],
          "heatmap": [
           {
            "colorbar": {
             "outlinewidth": 0,
             "ticks": ""
            },
            "colorscale": [
             [
              0,
              "#0d0887"
             ],
             [
              0.1111111111111111,
              "#46039f"
             ],
             [
              0.2222222222222222,
              "#7201a8"
             ],
             [
              0.3333333333333333,
              "#9c179e"
             ],
             [
              0.4444444444444444,
              "#bd3786"
             ],
             [
              0.5555555555555556,
              "#d8576b"
             ],
             [
              0.6666666666666666,
              "#ed7953"
             ],
             [
              0.7777777777777778,
              "#fb9f3a"
             ],
             [
              0.8888888888888888,
              "#fdca26"
             ],
             [
              1,
              "#f0f921"
             ]
            ],
            "type": "heatmap"
           }
          ],
          "histogram": [
           {
            "marker": {
             "pattern": {
              "fillmode": "overlay",
              "size": 10,
              "solidity": 0.2
             }
            },
            "type": "histogram"
           }
          ],
          "histogram2d": [
           {
            "colorbar": {
             "outlinewidth": 0,
             "ticks": ""
            },
            "colorscale": [
             [
              0,
              "#0d0887"
             ],
             [
              0.1111111111111111,
              "#46039f"
             ],
             [
              0.2222222222222222,
              "#7201a8"
             ],
             [
              0.3333333333333333,
              "#9c179e"
             ],
             [
              0.4444444444444444,
              "#bd3786"
             ],
             [
              0.5555555555555556,
              "#d8576b"
             ],
             [
              0.6666666666666666,
              "#ed7953"
             ],
             [
              0.7777777777777778,
              "#fb9f3a"
             ],
             [
              0.8888888888888888,
              "#fdca26"
             ],
             [
              1,
              "#f0f921"
             ]
            ],
            "type": "histogram2d"
           }
          ],
          "histogram2dcontour": [
           {
            "colorbar": {
             "outlinewidth": 0,
             "ticks": ""
            },
            "colorscale": [
             [
              0,
              "#0d0887"
             ],
             [
              0.1111111111111111,
              "#46039f"
             ],
             [
              0.2222222222222222,
              "#7201a8"
             ],
             [
              0.3333333333333333,
              "#9c179e"
             ],
             [
              0.4444444444444444,
              "#bd3786"
             ],
             [
              0.5555555555555556,
              "#d8576b"
             ],
             [
              0.6666666666666666,
              "#ed7953"
             ],
             [
              0.7777777777777778,
              "#fb9f3a"
             ],
             [
              0.8888888888888888,
              "#fdca26"
             ],
             [
              1,
              "#f0f921"
             ]
            ],
            "type": "histogram2dcontour"
           }
          ],
          "mesh3d": [
           {
            "colorbar": {
             "outlinewidth": 0,
             "ticks": ""
            },
            "type": "mesh3d"
           }
          ],
          "parcoords": [
           {
            "line": {
             "colorbar": {
              "outlinewidth": 0,
              "ticks": ""
             }
            },
            "type": "parcoords"
           }
          ],
          "pie": [
           {
            "automargin": true,
            "type": "pie"
           }
          ],
          "scatter": [
           {
            "fillpattern": {
             "fillmode": "overlay",
             "size": 10,
             "solidity": 0.2
            },
            "type": "scatter"
           }
          ],
          "scatter3d": [
           {
            "line": {
             "colorbar": {
              "outlinewidth": 0,
              "ticks": ""
             }
            },
            "marker": {
             "colorbar": {
              "outlinewidth": 0,
              "ticks": ""
             }
            },
            "type": "scatter3d"
           }
          ],
          "scattercarpet": [
           {
            "marker": {
             "colorbar": {
              "outlinewidth": 0,
              "ticks": ""
             }
            },
            "type": "scattercarpet"
           }
          ],
          "scattergeo": [
           {
            "marker": {
             "colorbar": {
              "outlinewidth": 0,
              "ticks": ""
             }
            },
            "type": "scattergeo"
           }
          ],
          "scattergl": [
           {
            "marker": {
             "colorbar": {
              "outlinewidth": 0,
              "ticks": ""
             }
            },
            "type": "scattergl"
           }
          ],
          "scattermap": [
           {
            "marker": {
             "colorbar": {
              "outlinewidth": 0,
              "ticks": ""
             }
            },
            "type": "scattermap"
           }
          ],
          "scattermapbox": [
           {
            "marker": {
             "colorbar": {
              "outlinewidth": 0,
              "ticks": ""
             }
            },
            "type": "scattermapbox"
           }
          ],
          "scatterpolar": [
           {
            "marker": {
             "colorbar": {
              "outlinewidth": 0,
              "ticks": ""
             }
            },
            "type": "scatterpolar"
           }
          ],
          "scatterpolargl": [
           {
            "marker": {
             "colorbar": {
              "outlinewidth": 0,
              "ticks": ""
             }
            },
            "type": "scatterpolargl"
           }
          ],
          "scatterternary": [
           {
            "marker": {
             "colorbar": {
              "outlinewidth": 0,
              "ticks": ""
             }
            },
            "type": "scatterternary"
           }
          ],
          "surface": [
           {
            "colorbar": {
             "outlinewidth": 0,
             "ticks": ""
            },
            "colorscale": [
             [
              0,
              "#0d0887"
             ],
             [
              0.1111111111111111,
              "#46039f"
             ],
             [
              0.2222222222222222,
              "#7201a8"
             ],
             [
              0.3333333333333333,
              "#9c179e"
             ],
             [
              0.4444444444444444,
              "#bd3786"
             ],
             [
              0.5555555555555556,
              "#d8576b"
             ],
             [
              0.6666666666666666,
              "#ed7953"
             ],
             [
              0.7777777777777778,
              "#fb9f3a"
             ],
             [
              0.8888888888888888,
              "#fdca26"
             ],
             [
              1,
              "#f0f921"
             ]
            ],
            "type": "surface"
           }
          ],
          "table": [
           {
            "cells": {
             "fill": {
              "color": "#EBF0F8"
             },
             "line": {
              "color": "white"
             }
            },
            "header": {
             "fill": {
              "color": "#C8D4E3"
             },
             "line": {
              "color": "white"
             }
            },
            "type": "table"
           }
          ]
         },
         "layout": {
          "annotationdefaults": {
           "arrowcolor": "#2a3f5f",
           "arrowhead": 0,
           "arrowwidth": 1
          },
          "autotypenumbers": "strict",
          "coloraxis": {
           "colorbar": {
            "outlinewidth": 0,
            "ticks": ""
           }
          },
          "colorscale": {
           "diverging": [
            [
             0,
             "#8e0152"
            ],
            [
             0.1,
             "#c51b7d"
            ],
            [
             0.2,
             "#de77ae"
            ],
            [
             0.3,
             "#f1b6da"
            ],
            [
             0.4,
             "#fde0ef"
            ],
            [
             0.5,
             "#f7f7f7"
            ],
            [
             0.6,
             "#e6f5d0"
            ],
            [
             0.7,
             "#b8e186"
            ],
            [
             0.8,
             "#7fbc41"
            ],
            [
             0.9,
             "#4d9221"
            ],
            [
             1,
             "#276419"
            ]
           ],
           "sequential": [
            [
             0,
             "#0d0887"
            ],
            [
             0.1111111111111111,
             "#46039f"
            ],
            [
             0.2222222222222222,
             "#7201a8"
            ],
            [
             0.3333333333333333,
             "#9c179e"
            ],
            [
             0.4444444444444444,
             "#bd3786"
            ],
            [
             0.5555555555555556,
             "#d8576b"
            ],
            [
             0.6666666666666666,
             "#ed7953"
            ],
            [
             0.7777777777777778,
             "#fb9f3a"
            ],
            [
             0.8888888888888888,
             "#fdca26"
            ],
            [
             1,
             "#f0f921"
            ]
           ],
           "sequentialminus": [
            [
             0,
             "#0d0887"
            ],
            [
             0.1111111111111111,
             "#46039f"
            ],
            [
             0.2222222222222222,
             "#7201a8"
            ],
            [
             0.3333333333333333,
             "#9c179e"
            ],
            [
             0.4444444444444444,
             "#bd3786"
            ],
            [
             0.5555555555555556,
             "#d8576b"
            ],
            [
             0.6666666666666666,
             "#ed7953"
            ],
            [
             0.7777777777777778,
             "#fb9f3a"
            ],
            [
             0.8888888888888888,
             "#fdca26"
            ],
            [
             1,
             "#f0f921"
            ]
           ]
          },
          "colorway": [
           "#636efa",
           "#EF553B",
           "#00cc96",
           "#ab63fa",
           "#FFA15A",
           "#19d3f3",
           "#FF6692",
           "#B6E880",
           "#FF97FF",
           "#FECB52"
          ],
          "font": {
           "color": "#2a3f5f"
          },
          "geo": {
           "bgcolor": "white",
           "lakecolor": "white",
           "landcolor": "#E5ECF6",
           "showlakes": true,
           "showland": true,
           "subunitcolor": "white"
          },
          "hoverlabel": {
           "align": "left"
          },
          "hovermode": "closest",
          "mapbox": {
           "style": "light"
          },
          "paper_bgcolor": "white",
          "plot_bgcolor": "#E5ECF6",
          "polar": {
           "angularaxis": {
            "gridcolor": "white",
            "linecolor": "white",
            "ticks": ""
           },
           "bgcolor": "#E5ECF6",
           "radialaxis": {
            "gridcolor": "white",
            "linecolor": "white",
            "ticks": ""
           }
          },
          "scene": {
           "xaxis": {
            "backgroundcolor": "#E5ECF6",
            "gridcolor": "white",
            "gridwidth": 2,
            "linecolor": "white",
            "showbackground": true,
            "ticks": "",
            "zerolinecolor": "white"
           },
           "yaxis": {
            "backgroundcolor": "#E5ECF6",
            "gridcolor": "white",
            "gridwidth": 2,
            "linecolor": "white",
            "showbackground": true,
            "ticks": "",
            "zerolinecolor": "white"
           },
           "zaxis": {
            "backgroundcolor": "#E5ECF6",
            "gridcolor": "white",
            "gridwidth": 2,
            "linecolor": "white",
            "showbackground": true,
            "ticks": "",
            "zerolinecolor": "white"
           }
          },
          "shapedefaults": {
           "line": {
            "color": "#2a3f5f"
           }
          },
          "ternary": {
           "aaxis": {
            "gridcolor": "white",
            "linecolor": "white",
            "ticks": ""
           },
           "baxis": {
            "gridcolor": "white",
            "linecolor": "white",
            "ticks": ""
           },
           "bgcolor": "#E5ECF6",
           "caxis": {
            "gridcolor": "white",
            "linecolor": "white",
            "ticks": ""
           }
          },
          "title": {
           "x": 0.05
          },
          "xaxis": {
           "automargin": true,
           "gridcolor": "white",
           "linecolor": "white",
           "ticks": "",
           "title": {
            "standoff": 15
           },
           "zerolinecolor": "white",
           "zerolinewidth": 2
          },
          "yaxis": {
           "automargin": true,
           "gridcolor": "white",
           "linecolor": "white",
           "ticks": "",
           "title": {
            "standoff": 15
           },
           "zerolinecolor": "white",
           "zerolinewidth": 2
          }
         }
        },
        "title": {
         "text": "Top 10 Categories by App Count"
        },
        "xaxis": {
         "anchor": "y",
         "domain": [
          0,
          1
         ],
         "title": {
          "text": "Category"
         }
        },
        "yaxis": {
         "anchor": "x",
         "domain": [
          0,
          1
         ],
         "title": {
          "text": "App Count"
         }
        }
       }
      }
     },
     "metadata": {},
     "output_type": "display_data"
    },
    {
     "data": {
      "application/vnd.plotly.v1+json": {
       "config": {
        "plotlyServerURL": "https://plot.ly"
       },
       "data": [
        {
         "hovertemplate": "Installs=%{x}<br>Category=%{y}<extra></extra>",
         "legendgroup": "",
         "marker": {
          "color": "#636efa",
          "pattern": {
           "shape": ""
          }
         },
         "name": "",
         "orientation": "h",
         "showlegend": false,
         "textposition": "auto",
         "type": "bar",
         "x": [
          15949410,
          26916200,
          31116110,
          39162676,
          44931100,
          52083000,
          53129800,
          97082000,
          114233100,
          140912410,
          211677750,
          352852000,
          361096500,
          455312400,
          503267560,
          503742120,
          697018120,
          1144006220,
          1296431465,
          1400331540,
          1532352930,
          1665791655,
          2113660000,
          2369110650,
          2894859300,
          3926897200,
          4649143130,
          5487841475,
          5788070180,
          8100724500,
          8885080590,
          11039241530,
          13923762717
         ],
         "xaxis": "x",
         "y": [
          "EVENTS",
          "BEAUTY",
          "PARENTING",
          "MEDICAL",
          "COMICS",
          "LIBRARIES_AND_DEMO",
          "AUTO_AND_VEHICLES",
          "HOUSE_AND_HOME",
          "ART_AND_DESIGN",
          "DATING",
          "FOOD_AND_DRINK",
          "EDUCATION",
          "WEATHER",
          "FINANCE",
          "MAPS_AND_NAVIGATION",
          "LIFESTYLE",
          "BUSINESS",
          "HEALTH_AND_FITNESS",
          "SPORTS",
          "SHOPPING",
          "PERSONALIZATION",
          "BOOKS_AND_REFERENCE",
          "ENTERTAINMENT",
          "NEWS_AND_MAGAZINES",
          "TRAVEL_AND_LOCAL",
          "VIDEO_PLAYERS",
          "PHOTOGRAPHY",
          "SOCIAL",
          "PRODUCTIVITY",
          "TOOLS",
          "FAMILY",
          "COMMUNICATION",
          "GAME"
         ],
         "yaxis": "y"
        }
       ],
       "layout": {
        "barmode": "relative",
        "legend": {
         "tracegroupgap": 0
        },
        "template": {
         "data": {
          "bar": [
           {
            "error_x": {
             "color": "#2a3f5f"
            },
            "error_y": {
             "color": "#2a3f5f"
            },
            "marker": {
             "line": {
              "color": "#E5ECF6",
              "width": 0.5
             },
             "pattern": {
              "fillmode": "overlay",
              "size": 10,
              "solidity": 0.2
             }
            },
            "type": "bar"
           }
          ],
          "barpolar": [
           {
            "marker": {
             "line": {
              "color": "#E5ECF6",
              "width": 0.5
             },
             "pattern": {
              "fillmode": "overlay",
              "size": 10,
              "solidity": 0.2
             }
            },
            "type": "barpolar"
           }
          ],
          "carpet": [
           {
            "aaxis": {
             "endlinecolor": "#2a3f5f",
             "gridcolor": "white",
             "linecolor": "white",
             "minorgridcolor": "white",
             "startlinecolor": "#2a3f5f"
            },
            "baxis": {
             "endlinecolor": "#2a3f5f",
             "gridcolor": "white",
             "linecolor": "white",
             "minorgridcolor": "white",
             "startlinecolor": "#2a3f5f"
            },
            "type": "carpet"
           }
          ],
          "choropleth": [
           {
            "colorbar": {
             "outlinewidth": 0,
             "ticks": ""
            },
            "type": "choropleth"
           }
          ],
          "contour": [
           {
            "colorbar": {
             "outlinewidth": 0,
             "ticks": ""
            },
            "colorscale": [
             [
              0,
              "#0d0887"
             ],
             [
              0.1111111111111111,
              "#46039f"
             ],
             [
              0.2222222222222222,
              "#7201a8"
             ],
             [
              0.3333333333333333,
              "#9c179e"
             ],
             [
              0.4444444444444444,
              "#bd3786"
             ],
             [
              0.5555555555555556,
              "#d8576b"
             ],
             [
              0.6666666666666666,
              "#ed7953"
             ],
             [
              0.7777777777777778,
              "#fb9f3a"
             ],
             [
              0.8888888888888888,
              "#fdca26"
             ],
             [
              1,
              "#f0f921"
             ]
            ],
            "type": "contour"
           }
          ],
          "contourcarpet": [
           {
            "colorbar": {
             "outlinewidth": 0,
             "ticks": ""
            },
            "type": "contourcarpet"
           }
          ],
          "heatmap": [
           {
            "colorbar": {
             "outlinewidth": 0,
             "ticks": ""
            },
            "colorscale": [
             [
              0,
              "#0d0887"
             ],
             [
              0.1111111111111111,
              "#46039f"
             ],
             [
              0.2222222222222222,
              "#7201a8"
             ],
             [
              0.3333333333333333,
              "#9c179e"
             ],
             [
              0.4444444444444444,
              "#bd3786"
             ],
             [
              0.5555555555555556,
              "#d8576b"
             ],
             [
              0.6666666666666666,
              "#ed7953"
             ],
             [
              0.7777777777777778,
              "#fb9f3a"
             ],
             [
              0.8888888888888888,
              "#fdca26"
             ],
             [
              1,
              "#f0f921"
             ]
            ],
            "type": "heatmap"
           }
          ],
          "histogram": [
           {
            "marker": {
             "pattern": {
              "fillmode": "overlay",
              "size": 10,
              "solidity": 0.2
             }
            },
            "type": "histogram"
           }
          ],
          "histogram2d": [
           {
            "colorbar": {
             "outlinewidth": 0,
             "ticks": ""
            },
            "colorscale": [
             [
              0,
              "#0d0887"
             ],
             [
              0.1111111111111111,
              "#46039f"
             ],
             [
              0.2222222222222222,
              "#7201a8"
             ],
             [
              0.3333333333333333,
              "#9c179e"
             ],
             [
              0.4444444444444444,
              "#bd3786"
             ],
             [
              0.5555555555555556,
              "#d8576b"
             ],
             [
              0.6666666666666666,
              "#ed7953"
             ],
             [
              0.7777777777777778,
              "#fb9f3a"
             ],
             [
              0.8888888888888888,
              "#fdca26"
             ],
             [
              1,
              "#f0f921"
             ]
            ],
            "type": "histogram2d"
           }
          ],
          "histogram2dcontour": [
           {
            "colorbar": {
             "outlinewidth": 0,
             "ticks": ""
            },
            "colorscale": [
             [
              0,
              "#0d0887"
             ],
             [
              0.1111111111111111,
              "#46039f"
             ],
             [
              0.2222222222222222,
              "#7201a8"
             ],
             [
              0.3333333333333333,
              "#9c179e"
             ],
             [
              0.4444444444444444,
              "#bd3786"
             ],
             [
              0.5555555555555556,
              "#d8576b"
             ],
             [
              0.6666666666666666,
              "#ed7953"
             ],
             [
              0.7777777777777778,
              "#fb9f3a"
             ],
             [
              0.8888888888888888,
              "#fdca26"
             ],
             [
              1,
              "#f0f921"
             ]
            ],
            "type": "histogram2dcontour"
           }
          ],
          "mesh3d": [
           {
            "colorbar": {
             "outlinewidth": 0,
             "ticks": ""
            },
            "type": "mesh3d"
           }
          ],
          "parcoords": [
           {
            "line": {
             "colorbar": {
              "outlinewidth": 0,
              "ticks": ""
             }
            },
            "type": "parcoords"
           }
          ],
          "pie": [
           {
            "automargin": true,
            "type": "pie"
           }
          ],
          "scatter": [
           {
            "fillpattern": {
             "fillmode": "overlay",
             "size": 10,
             "solidity": 0.2
            },
            "type": "scatter"
           }
          ],
          "scatter3d": [
           {
            "line": {
             "colorbar": {
              "outlinewidth": 0,
              "ticks": ""
             }
            },
            "marker": {
             "colorbar": {
              "outlinewidth": 0,
              "ticks": ""
             }
            },
            "type": "scatter3d"
           }
          ],
          "scattercarpet": [
           {
            "marker": {
             "colorbar": {
              "outlinewidth": 0,
              "ticks": ""
             }
            },
            "type": "scattercarpet"
           }
          ],
          "scattergeo": [
           {
            "marker": {
             "colorbar": {
              "outlinewidth": 0,
              "ticks": ""
             }
            },
            "type": "scattergeo"
           }
          ],
          "scattergl": [
           {
            "marker": {
             "colorbar": {
              "outlinewidth": 0,
              "ticks": ""
             }
            },
            "type": "scattergl"
           }
          ],
          "scattermap": [
           {
            "marker": {
             "colorbar": {
              "outlinewidth": 0,
              "ticks": ""
             }
            },
            "type": "scattermap"
           }
          ],
          "scattermapbox": [
           {
            "marker": {
             "colorbar": {
              "outlinewidth": 0,
              "ticks": ""
             }
            },
            "type": "scattermapbox"
           }
          ],
          "scatterpolar": [
           {
            "marker": {
             "colorbar": {
              "outlinewidth": 0,
              "ticks": ""
             }
            },
            "type": "scatterpolar"
           }
          ],
          "scatterpolargl": [
           {
            "marker": {
             "colorbar": {
              "outlinewidth": 0,
              "ticks": ""
             }
            },
            "type": "scatterpolargl"
           }
          ],
          "scatterternary": [
           {
            "marker": {
             "colorbar": {
              "outlinewidth": 0,
              "ticks": ""
             }
            },
            "type": "scatterternary"
           }
          ],
          "surface": [
           {
            "colorbar": {
             "outlinewidth": 0,
             "ticks": ""
            },
            "colorscale": [
             [
              0,
              "#0d0887"
             ],
             [
              0.1111111111111111,
              "#46039f"
             ],
             [
              0.2222222222222222,
              "#7201a8"
             ],
             [
              0.3333333333333333,
              "#9c179e"
             ],
             [
              0.4444444444444444,
              "#bd3786"
             ],
             [
              0.5555555555555556,
              "#d8576b"
             ],
             [
              0.6666666666666666,
              "#ed7953"
             ],
             [
              0.7777777777777778,
              "#fb9f3a"
             ],
             [
              0.8888888888888888,
              "#fdca26"
             ],
             [
              1,
              "#f0f921"
             ]
            ],
            "type": "surface"
           }
          ],
          "table": [
           {
            "cells": {
             "fill": {
              "color": "#EBF0F8"
             },
             "line": {
              "color": "white"
             }
            },
            "header": {
             "fill": {
              "color": "#C8D4E3"
             },
             "line": {
              "color": "white"
             }
            },
            "type": "table"
           }
          ]
         },
         "layout": {
          "annotationdefaults": {
           "arrowcolor": "#2a3f5f",
           "arrowhead": 0,
           "arrowwidth": 1
          },
          "autotypenumbers": "strict",
          "coloraxis": {
           "colorbar": {
            "outlinewidth": 0,
            "ticks": ""
           }
          },
          "colorscale": {
           "diverging": [
            [
             0,
             "#8e0152"
            ],
            [
             0.1,
             "#c51b7d"
            ],
            [
             0.2,
             "#de77ae"
            ],
            [
             0.3,
             "#f1b6da"
            ],
            [
             0.4,
             "#fde0ef"
            ],
            [
             0.5,
             "#f7f7f7"
            ],
            [
             0.6,
             "#e6f5d0"
            ],
            [
             0.7,
             "#b8e186"
            ],
            [
             0.8,
             "#7fbc41"
            ],
            [
             0.9,
             "#4d9221"
            ],
            [
             1,
             "#276419"
            ]
           ],
           "sequential": [
            [
             0,
             "#0d0887"
            ],
            [
             0.1111111111111111,
             "#46039f"
            ],
            [
             0.2222222222222222,
             "#7201a8"
            ],
            [
             0.3333333333333333,
             "#9c179e"
            ],
            [
             0.4444444444444444,
             "#bd3786"
            ],
            [
             0.5555555555555556,
             "#d8576b"
            ],
            [
             0.6666666666666666,
             "#ed7953"
            ],
            [
             0.7777777777777778,
             "#fb9f3a"
            ],
            [
             0.8888888888888888,
             "#fdca26"
            ],
            [
             1,
             "#f0f921"
            ]
           ],
           "sequentialminus": [
            [
             0,
             "#0d0887"
            ],
            [
             0.1111111111111111,
             "#46039f"
            ],
            [
             0.2222222222222222,
             "#7201a8"
            ],
            [
             0.3333333333333333,
             "#9c179e"
            ],
            [
             0.4444444444444444,
             "#bd3786"
            ],
            [
             0.5555555555555556,
             "#d8576b"
            ],
            [
             0.6666666666666666,
             "#ed7953"
            ],
            [
             0.7777777777777778,
             "#fb9f3a"
            ],
            [
             0.8888888888888888,
             "#fdca26"
            ],
            [
             1,
             "#f0f921"
            ]
           ]
          },
          "colorway": [
           "#636efa",
           "#EF553B",
           "#00cc96",
           "#ab63fa",
           "#FFA15A",
           "#19d3f3",
           "#FF6692",
           "#B6E880",
           "#FF97FF",
           "#FECB52"
          ],
          "font": {
           "color": "#2a3f5f"
          },
          "geo": {
           "bgcolor": "white",
           "lakecolor": "white",
           "landcolor": "#E5ECF6",
           "showlakes": true,
           "showland": true,
           "subunitcolor": "white"
          },
          "hoverlabel": {
           "align": "left"
          },
          "hovermode": "closest",
          "mapbox": {
           "style": "light"
          },
          "paper_bgcolor": "white",
          "plot_bgcolor": "#E5ECF6",
          "polar": {
           "angularaxis": {
            "gridcolor": "white",
            "linecolor": "white",
            "ticks": ""
           },
           "bgcolor": "#E5ECF6",
           "radialaxis": {
            "gridcolor": "white",
            "linecolor": "white",
            "ticks": ""
           }
          },
          "scene": {
           "xaxis": {
            "backgroundcolor": "#E5ECF6",
            "gridcolor": "white",
            "gridwidth": 2,
            "linecolor": "white",
            "showbackground": true,
            "ticks": "",
            "zerolinecolor": "white"
           },
           "yaxis": {
            "backgroundcolor": "#E5ECF6",
            "gridcolor": "white",
            "gridwidth": 2,
            "linecolor": "white",
            "showbackground": true,
            "ticks": "",
            "zerolinecolor": "white"
           },
           "zaxis": {
            "backgroundcolor": "#E5ECF6",
            "gridcolor": "white",
            "gridwidth": 2,
            "linecolor": "white",
            "showbackground": true,
            "ticks": "",
            "zerolinecolor": "white"
           }
          },
          "shapedefaults": {
           "line": {
            "color": "#2a3f5f"
           }
          },
          "ternary": {
           "aaxis": {
            "gridcolor": "white",
            "linecolor": "white",
            "ticks": ""
           },
           "baxis": {
            "gridcolor": "white",
            "linecolor": "white",
            "ticks": ""
           },
           "bgcolor": "#E5ECF6",
           "caxis": {
            "gridcolor": "white",
            "linecolor": "white",
            "ticks": ""
           }
          },
          "title": {
           "x": 0.05
          },
          "xaxis": {
           "automargin": true,
           "gridcolor": "white",
           "linecolor": "white",
           "ticks": "",
           "title": {
            "standoff": 15
           },
           "zerolinecolor": "white",
           "zerolinewidth": 2
          },
          "yaxis": {
           "automargin": true,
           "gridcolor": "white",
           "linecolor": "white",
           "ticks": "",
           "title": {
            "standoff": 15
           },
           "zerolinecolor": "white",
           "zerolinewidth": 2
          }
         }
        },
        "title": {
         "text": "Total Installs by Category"
        },
        "xaxis": {
         "anchor": "y",
         "domain": [
          0,
          1
         ],
         "title": {
          "text": "Installs"
         }
        },
        "yaxis": {
         "anchor": "x",
         "domain": [
          0,
          1
         ],
         "title": {
          "text": "Category"
         }
        }
       }
      }
     },
     "metadata": {},
     "output_type": "display_data"
    },
    {
     "data": {
      "application/vnd.plotly.v1+json": {
       "config": {
        "plotlyServerURL": "https://plot.ly"
       },
       "data": [
        {
         "customdata": [
          [
           "GAME"
          ],
          [
           "COMMUNICATION"
          ],
          [
           "FAMILY"
          ],
          [
           "TOOLS"
          ],
          [
           "PRODUCTIVITY"
          ],
          [
           "SOCIAL"
          ],
          [
           "PHOTOGRAPHY"
          ],
          [
           "VIDEO_PLAYERS"
          ],
          [
           "TRAVEL_AND_LOCAL"
          ],
          [
           "NEWS_AND_MAGAZINES"
          ],
          [
           "ENTERTAINMENT"
          ],
          [
           "BOOKS_AND_REFERENCE"
          ],
          [
           "PERSONALIZATION"
          ],
          [
           "SHOPPING"
          ],
          [
           "SPORTS"
          ],
          [
           "HEALTH_AND_FITNESS"
          ],
          [
           "BUSINESS"
          ],
          [
           "LIFESTYLE"
          ],
          [
           "MAPS_AND_NAVIGATION"
          ],
          [
           "FINANCE"
          ],
          [
           "WEATHER"
          ],
          [
           "EDUCATION"
          ],
          [
           "FOOD_AND_DRINK"
          ],
          [
           "DATING"
          ],
          [
           "ART_AND_DESIGN"
          ],
          [
           "HOUSE_AND_HOME"
          ],
          [
           "AUTO_AND_VEHICLES"
          ],
          [
           "LIBRARIES_AND_DEMO"
          ],
          [
           "COMICS"
          ],
          [
           "MEDICAL"
          ],
          [
           "PARENTING"
          ],
          [
           "BEAUTY"
          ],
          [
           "EVENTS"
          ]
         ],
         "hovertemplate": "App=%{marker.size}<br>Installs=%{marker.color}<br>Category=%{customdata[0]}<extra></extra>",
         "legendgroup": "",
         "marker": {
          "color": [
           13923762717,
           11039241530,
           8885080590,
           8100724500,
           5788070180,
           5487841475,
           4649143130,
           3926897200,
           2894859300,
           2369110650,
           2113660000,
           1665791655,
           1532352930,
           1400331540,
           1296431465,
           1144006220,
           697018120,
           503742120,
           503267560,
           455312400,
           361096500,
           352852000,
           211677750,
           140912410,
           114233100,
           97082000,
           53129800,
           52083000,
           44931100,
           39162676,
           31116110,
           26916200,
           15949410
          ],
          "coloraxis": "coloraxis",
          "size": {
           "bdata": "kQMBAZQG0AItAcsABwGVALsAzABmAKkAKgG0AAYB9AAHAS4BdgAuAUgAdgBeAIYAPQA+AEkAQAA2ACQBMgAqAC0A",
           "dtype": "i2"
          },
          "sizemode": "area",
          "sizeref": 4.21,
          "symbol": "circle"
         },
         "mode": "markers",
         "name": "",
         "orientation": "v",
         "showlegend": false,
         "type": "scatter",
         "x": {
          "bdata": "kQMBAZQG0AItAcsABwGVALsAzABmAKkAKgG0AAYB9AAHAS4BdgAuAUgAdgBeAIYAPQA+AEkAQAA2ACQBMgAqAC0A",
          "dtype": "i2"
         },
         "xaxis": "x",
         "y": [
          13923762717,
          11039241530,
          8885080590,
          8100724500,
          5788070180,
          5487841475,
          4649143130,
          3926897200,
          2894859300,
          2369110650,
          2113660000,
          1665791655,
          1532352930,
          1400331540,
          1296431465,
          1144006220,
          697018120,
          503742120,
          503267560,
          455312400,
          361096500,
          352852000,
          211677750,
          140912410,
          114233100,
          97082000,
          53129800,
          52083000,
          44931100,
          39162676,
          31116110,
          26916200,
          15949410
         ],
         "yaxis": "y"
        }
       ],
       "layout": {
        "coloraxis": {
         "colorbar": {
          "title": {
           "text": "Installs"
          }
         },
         "colorscale": [
          [
           0,
           "#0d0887"
          ],
          [
           0.1111111111111111,
           "#46039f"
          ],
          [
           0.2222222222222222,
           "#7201a8"
          ],
          [
           0.3333333333333333,
           "#9c179e"
          ],
          [
           0.4444444444444444,
           "#bd3786"
          ],
          [
           0.5555555555555556,
           "#d8576b"
          ],
          [
           0.6666666666666666,
           "#ed7953"
          ],
          [
           0.7777777777777778,
           "#fb9f3a"
          ],
          [
           0.8888888888888888,
           "#fdca26"
          ],
          [
           1,
           "#f0f921"
          ]
         ]
        },
        "legend": {
         "itemsizing": "constant",
         "tracegroupgap": 0
        },
        "template": {
         "data": {
          "bar": [
           {
            "error_x": {
             "color": "#2a3f5f"
            },
            "error_y": {
             "color": "#2a3f5f"
            },
            "marker": {
             "line": {
              "color": "#E5ECF6",
              "width": 0.5
             },
             "pattern": {
              "fillmode": "overlay",
              "size": 10,
              "solidity": 0.2
             }
            },
            "type": "bar"
           }
          ],
          "barpolar": [
           {
            "marker": {
             "line": {
              "color": "#E5ECF6",
              "width": 0.5
             },
             "pattern": {
              "fillmode": "overlay",
              "size": 10,
              "solidity": 0.2
             }
            },
            "type": "barpolar"
           }
          ],
          "carpet": [
           {
            "aaxis": {
             "endlinecolor": "#2a3f5f",
             "gridcolor": "white",
             "linecolor": "white",
             "minorgridcolor": "white",
             "startlinecolor": "#2a3f5f"
            },
            "baxis": {
             "endlinecolor": "#2a3f5f",
             "gridcolor": "white",
             "linecolor": "white",
             "minorgridcolor": "white",
             "startlinecolor": "#2a3f5f"
            },
            "type": "carpet"
           }
          ],
          "choropleth": [
           {
            "colorbar": {
             "outlinewidth": 0,
             "ticks": ""
            },
            "type": "choropleth"
           }
          ],
          "contour": [
           {
            "colorbar": {
             "outlinewidth": 0,
             "ticks": ""
            },
            "colorscale": [
             [
              0,
              "#0d0887"
             ],
             [
              0.1111111111111111,
              "#46039f"
             ],
             [
              0.2222222222222222,
              "#7201a8"
             ],
             [
              0.3333333333333333,
              "#9c179e"
             ],
             [
              0.4444444444444444,
              "#bd3786"
             ],
             [
              0.5555555555555556,
              "#d8576b"
             ],
             [
              0.6666666666666666,
              "#ed7953"
             ],
             [
              0.7777777777777778,
              "#fb9f3a"
             ],
             [
              0.8888888888888888,
              "#fdca26"
             ],
             [
              1,
              "#f0f921"
             ]
            ],
            "type": "contour"
           }
          ],
          "contourcarpet": [
           {
            "colorbar": {
             "outlinewidth": 0,
             "ticks": ""
            },
            "type": "contourcarpet"
           }
          ],
          "heatmap": [
           {
            "colorbar": {
             "outlinewidth": 0,
             "ticks": ""
            },
            "colorscale": [
             [
              0,
              "#0d0887"
             ],
             [
              0.1111111111111111,
              "#46039f"
             ],
             [
              0.2222222222222222,
              "#7201a8"
             ],
             [
              0.3333333333333333,
              "#9c179e"
             ],
             [
              0.4444444444444444,
              "#bd3786"
             ],
             [
              0.5555555555555556,
              "#d8576b"
             ],
             [
              0.6666666666666666,
              "#ed7953"
             ],
             [
              0.7777777777777778,
              "#fb9f3a"
             ],
             [
              0.8888888888888888,
              "#fdca26"
             ],
             [
              1,
              "#f0f921"
             ]
            ],
            "type": "heatmap"
           }
          ],
          "histogram": [
           {
            "marker": {
             "pattern": {
              "fillmode": "overlay",
              "size": 10,
              "solidity": 0.2
             }
            },
            "type": "histogram"
           }
          ],
          "histogram2d": [
           {
            "colorbar": {
             "outlinewidth": 0,
             "ticks": ""
            },
            "colorscale": [
             [
              0,
              "#0d0887"
             ],
             [
              0.1111111111111111,
              "#46039f"
             ],
             [
              0.2222222222222222,
              "#7201a8"
             ],
             [
              0.3333333333333333,
              "#9c179e"
             ],
             [
              0.4444444444444444,
              "#bd3786"
             ],
             [
              0.5555555555555556,
              "#d8576b"
             ],
             [
              0.6666666666666666,
              "#ed7953"
             ],
             [
              0.7777777777777778,
              "#fb9f3a"
             ],
             [
              0.8888888888888888,
              "#fdca26"
             ],
             [
              1,
              "#f0f921"
             ]
            ],
            "type": "histogram2d"
           }
          ],
          "histogram2dcontour": [
           {
            "colorbar": {
             "outlinewidth": 0,
             "ticks": ""
            },
            "colorscale": [
             [
              0,
              "#0d0887"
             ],
             [
              0.1111111111111111,
              "#46039f"
             ],
             [
              0.2222222222222222,
              "#7201a8"
             ],
             [
              0.3333333333333333,
              "#9c179e"
             ],
             [
              0.4444444444444444,
              "#bd3786"
             ],
             [
              0.5555555555555556,
              "#d8576b"
             ],
             [
              0.6666666666666666,
              "#ed7953"
             ],
             [
              0.7777777777777778,
              "#fb9f3a"
             ],
             [
              0.8888888888888888,
              "#fdca26"
             ],
             [
              1,
              "#f0f921"
             ]
            ],
            "type": "histogram2dcontour"
           }
          ],
          "mesh3d": [
           {
            "colorbar": {
             "outlinewidth": 0,
             "ticks": ""
            },
            "type": "mesh3d"
           }
          ],
          "parcoords": [
           {
            "line": {
             "colorbar": {
              "outlinewidth": 0,
              "ticks": ""
             }
            },
            "type": "parcoords"
           }
          ],
          "pie": [
           {
            "automargin": true,
            "type": "pie"
           }
          ],
          "scatter": [
           {
            "fillpattern": {
             "fillmode": "overlay",
             "size": 10,
             "solidity": 0.2
            },
            "type": "scatter"
           }
          ],
          "scatter3d": [
           {
            "line": {
             "colorbar": {
              "outlinewidth": 0,
              "ticks": ""
             }
            },
            "marker": {
             "colorbar": {
              "outlinewidth": 0,
              "ticks": ""
             }
            },
            "type": "scatter3d"
           }
          ],
          "scattercarpet": [
           {
            "marker": {
             "colorbar": {
              "outlinewidth": 0,
              "ticks": ""
             }
            },
            "type": "scattercarpet"
           }
          ],
          "scattergeo": [
           {
            "marker": {
             "colorbar": {
              "outlinewidth": 0,
              "ticks": ""
             }
            },
            "type": "scattergeo"
           }
          ],
          "scattergl": [
           {
            "marker": {
             "colorbar": {
              "outlinewidth": 0,
              "ticks": ""
             }
            },
            "type": "scattergl"
           }
          ],
          "scattermap": [
           {
            "marker": {
             "colorbar": {
              "outlinewidth": 0,
              "ticks": ""
             }
            },
            "type": "scattermap"
           }
          ],
          "scattermapbox": [
           {
            "marker": {
             "colorbar": {
              "outlinewidth": 0,
              "ticks": ""
             }
            },
            "type": "scattermapbox"
           }
          ],
          "scatterpolar": [
           {
            "marker": {
             "colorbar": {
              "outlinewidth": 0,
              "ticks": ""
             }
            },
            "type": "scatterpolar"
           }
          ],
          "scatterpolargl": [
           {
            "marker": {
             "colorbar": {
              "outlinewidth": 0,
              "ticks": ""
             }
            },
            "type": "scatterpolargl"
           }
          ],
          "scatterternary": [
           {
            "marker": {
             "colorbar": {
              "outlinewidth": 0,
              "ticks": ""
             }
            },
            "type": "scatterternary"
           }
          ],
          "surface": [
           {
            "colorbar": {
             "outlinewidth": 0,
             "ticks": ""
            },
            "colorscale": [
             [
              0,
              "#0d0887"
             ],
             [
              0.1111111111111111,
              "#46039f"
             ],
             [
              0.2222222222222222,
              "#7201a8"
             ],
             [
              0.3333333333333333,
              "#9c179e"
             ],
             [
              0.4444444444444444,
              "#bd3786"
             ],
             [
              0.5555555555555556,
              "#d8576b"
             ],
             [
              0.6666666666666666,
              "#ed7953"
             ],
             [
              0.7777777777777778,
              "#fb9f3a"
             ],
             [
              0.8888888888888888,
              "#fdca26"
             ],
             [
              1,
              "#f0f921"
             ]
            ],
            "type": "surface"
           }
          ],
          "table": [
           {
            "cells": {
             "fill": {
              "color": "#EBF0F8"
             },
             "line": {
              "color": "white"
             }
            },
            "header": {
             "fill": {
              "color": "#C8D4E3"
             },
             "line": {
              "color": "white"
             }
            },
            "type": "table"
           }
          ]
         },
         "layout": {
          "annotationdefaults": {
           "arrowcolor": "#2a3f5f",
           "arrowhead": 0,
           "arrowwidth": 1
          },
          "autotypenumbers": "strict",
          "coloraxis": {
           "colorbar": {
            "outlinewidth": 0,
            "ticks": ""
           }
          },
          "colorscale": {
           "diverging": [
            [
             0,
             "#8e0152"
            ],
            [
             0.1,
             "#c51b7d"
            ],
            [
             0.2,
             "#de77ae"
            ],
            [
             0.3,
             "#f1b6da"
            ],
            [
             0.4,
             "#fde0ef"
            ],
            [
             0.5,
             "#f7f7f7"
            ],
            [
             0.6,
             "#e6f5d0"
            ],
            [
             0.7,
             "#b8e186"
            ],
            [
             0.8,
             "#7fbc41"
            ],
            [
             0.9,
             "#4d9221"
            ],
            [
             1,
             "#276419"
            ]
           ],
           "sequential": [
            [
             0,
             "#0d0887"
            ],
            [
             0.1111111111111111,
             "#46039f"
            ],
            [
             0.2222222222222222,
             "#7201a8"
            ],
            [
             0.3333333333333333,
             "#9c179e"
            ],
            [
             0.4444444444444444,
             "#bd3786"
            ],
            [
             0.5555555555555556,
             "#d8576b"
            ],
            [
             0.6666666666666666,
             "#ed7953"
            ],
            [
             0.7777777777777778,
             "#fb9f3a"
            ],
            [
             0.8888888888888888,
             "#fdca26"
            ],
            [
             1,
             "#f0f921"
            ]
           ],
           "sequentialminus": [
            [
             0,
             "#0d0887"
            ],
            [
             0.1111111111111111,
             "#46039f"
            ],
            [
             0.2222222222222222,
             "#7201a8"
            ],
            [
             0.3333333333333333,
             "#9c179e"
            ],
            [
             0.4444444444444444,
             "#bd3786"
            ],
            [
             0.5555555555555556,
             "#d8576b"
            ],
            [
             0.6666666666666666,
             "#ed7953"
            ],
            [
             0.7777777777777778,
             "#fb9f3a"
            ],
            [
             0.8888888888888888,
             "#fdca26"
            ],
            [
             1,
             "#f0f921"
            ]
           ]
          },
          "colorway": [
           "#636efa",
           "#EF553B",
           "#00cc96",
           "#ab63fa",
           "#FFA15A",
           "#19d3f3",
           "#FF6692",
           "#B6E880",
           "#FF97FF",
           "#FECB52"
          ],
          "font": {
           "color": "#2a3f5f"
          },
          "geo": {
           "bgcolor": "white",
           "lakecolor": "white",
           "landcolor": "#E5ECF6",
           "showlakes": true,
           "showland": true,
           "subunitcolor": "white"
          },
          "hoverlabel": {
           "align": "left"
          },
          "hovermode": "closest",
          "mapbox": {
           "style": "light"
          },
          "paper_bgcolor": "white",
          "plot_bgcolor": "#E5ECF6",
          "polar": {
           "angularaxis": {
            "gridcolor": "white",
            "linecolor": "white",
            "ticks": ""
           },
           "bgcolor": "#E5ECF6",
           "radialaxis": {
            "gridcolor": "white",
            "linecolor": "white",
            "ticks": ""
           }
          },
          "scene": {
           "xaxis": {
            "backgroundcolor": "#E5ECF6",
            "gridcolor": "white",
            "gridwidth": 2,
            "linecolor": "white",
            "showbackground": true,
            "ticks": "",
            "zerolinecolor": "white"
           },
           "yaxis": {
            "backgroundcolor": "#E5ECF6",
            "gridcolor": "white",
            "gridwidth": 2,
            "linecolor": "white",
            "showbackground": true,
            "ticks": "",
            "zerolinecolor": "white"
           },
           "zaxis": {
            "backgroundcolor": "#E5ECF6",
            "gridcolor": "white",
            "gridwidth": 2,
            "linecolor": "white",
            "showbackground": true,
            "ticks": "",
            "zerolinecolor": "white"
           }
          },
          "shapedefaults": {
           "line": {
            "color": "#2a3f5f"
           }
          },
          "ternary": {
           "aaxis": {
            "gridcolor": "white",
            "linecolor": "white",
            "ticks": ""
           },
           "baxis": {
            "gridcolor": "white",
            "linecolor": "white",
            "ticks": ""
           },
           "bgcolor": "#E5ECF6",
           "caxis": {
            "gridcolor": "white",
            "linecolor": "white",
            "ticks": ""
           }
          },
          "title": {
           "x": 0.05
          },
          "xaxis": {
           "automargin": true,
           "gridcolor": "white",
           "linecolor": "white",
           "ticks": "",
           "title": {
            "standoff": 15
           },
           "zerolinecolor": "white",
           "zerolinewidth": 2
          },
          "yaxis": {
           "automargin": true,
           "gridcolor": "white",
           "linecolor": "white",
           "ticks": "",
           "title": {
            "standoff": 15
           },
           "zerolinecolor": "white",
           "zerolinewidth": 2
          }
         }
        },
        "title": {
         "text": "Apps vs Installs by Category"
        },
        "xaxis": {
         "anchor": "y",
         "domain": [
          0,
          1
         ],
         "title": {
          "text": "Number of Apps (Lower=More Concentrated)"
         }
        },
        "yaxis": {
         "anchor": "x",
         "domain": [
          0,
          1
         ],
         "title": {
          "text": "Installs"
         },
         "type": "log"
        }
       }
      }
     },
     "metadata": {},
     "output_type": "display_data"
    }
   ],
   "source": [
    "if __name__ == \"__main__\":\n",
    "    setup_logging()\n",
    "\n",
    "    app_df = return_cleaned_df()\n",
    "    app_df.Installs = app_df.Installs.replace('[\\+,]', '', regex=True).astype(int)\n",
    "\n",
    "    # print(f'Unique categories: {app_df.Category.nunique()}')\n",
    "    top10_categories = app_df.Category.value_counts().head(10)\n",
    "    bar_fig = px.bar(\n",
    "        data_frame=top10_categories, \n",
    "        x=top10_categories.index, \n",
    "        y=top10_categories.values, \n",
    "        title='Top 10 Categories by App Count',\n",
    "        labels={'x': 'Category', 'y': 'App Count'}\n",
    "    )\n",
    "    bar_fig.show()\n",
    "\n",
    "    category_installs = app_df.groupby('Category').agg({'Installs': pd.Series.sum}).sort_values(by='Installs', ascending=True)\n",
    "    h_bar_fig = px.bar(\n",
    "        data_frame=category_installs, \n",
    "        x=category_installs['Installs'], \n",
    "        y=category_installs.index, \n",
    "        orientation='h', \n",
    "        title='Total Installs by Category',\n",
    "        labels={'x': 'Total Installs', 'y': 'Category'}\n",
    "    )\n",
    "    h_bar_fig.show()\n",
    "\n",
    "    cat_count_install = pd.merge(\n",
    "        left=app_df.groupby('Category').agg({'App': pd.Series.count}),\n",
    "        right=category_installs,\n",
    "        on='Category',\n",
    "        how='inner'\n",
    "    ).sort_values(by='Installs', ascending=False).reset_index()\n",
    "    \n",
    "    scatter_fig = px.scatter(\n",
    "        data_frame=cat_count_install, \n",
    "        x='App', \n",
    "        y='Installs', \n",
    "        title='Apps vs Installs by Category',\n",
    "        size='App',\n",
    "        color='Installs',\n",
    "        hover_data=['Category']\n",
    "    )\n",
    "    scatter_fig.update_layout(\n",
    "        xaxis_title=\"Number of Apps (Lower=More Concentrated)\",\n",
    "        yaxis_title=\"Installs\",\n",
    "        yaxis=dict(type='log')\n",
    "    )\n",
    "\n",
    "    scatter_fig.show()"
   ]
  },
  {
   "cell_type": "markdown",
   "id": "0e55bb67",
   "metadata": {},
   "source": [
    "# Extracting Nested Column Data using .stack()"
   ]
  },
  {
   "cell_type": "code",
   "execution_count": 36,
   "id": "7ee6317c",
   "metadata": {},
   "outputs": [
    {
     "data": {
      "application/vnd.plotly.v1+json": {
       "config": {
        "plotlyServerURL": "https://plot.ly"
       },
       "data": [
        {
         "hovertemplate": "<b>%{hovertext}</b><br><br>Genre=%{x}<br>App Count=%{marker.color}<extra></extra>",
         "hovertext": [
          "Tools",
          "Education",
          "Entertainment",
          "Action",
          "Lifestyle",
          "Finance",
          "Productivity",
          "Personalization",
          "Medical",
          "Sports",
          "Business",
          "Photography",
          "Communication",
          "Health & Fitness",
          "Casual"
         ],
         "legendgroup": "",
         "marker": {
          "color": {
           "bdata": "0AJfAg0CMgEvAS4BLQEqASQBEAEHAQcBAgH2AOIA",
           "dtype": "i2"
          },
          "coloraxis": "coloraxis",
          "pattern": {
           "shape": ""
          }
         },
         "name": "",
         "orientation": "v",
         "showlegend": false,
         "textposition": "auto",
         "type": "bar",
         "x": [
          "Tools",
          "Education",
          "Entertainment",
          "Action",
          "Lifestyle",
          "Finance",
          "Productivity",
          "Personalization",
          "Medical",
          "Sports",
          "Business",
          "Photography",
          "Communication",
          "Health & Fitness",
          "Casual"
         ],
         "xaxis": "x",
         "y": {
          "bdata": "0AJfAg0CMgEvAS4BLQEqASQBEAEHAQcBAgH2AOIA",
          "dtype": "i2"
         },
         "yaxis": "y"
        }
       ],
       "layout": {
        "barmode": "relative",
        "coloraxis": {
         "colorbar": {
          "title": {
           "text": "App Count"
          }
         },
         "colorscale": [
          [
           0,
           "rgb(75, 41, 145)"
          ],
          [
           0.16666666666666666,
           "rgb(135, 44, 162)"
          ],
          [
           0.3333333333333333,
           "rgb(192, 54, 157)"
          ],
          [
           0.5,
           "rgb(234, 79, 136)"
          ],
          [
           0.6666666666666666,
           "rgb(250, 120, 118)"
          ],
          [
           0.8333333333333334,
           "rgb(246, 169, 122)"
          ],
          [
           1,
           "rgb(237, 217, 163)"
          ]
         ],
         "showscale": false
        },
        "legend": {
         "tracegroupgap": 0
        },
        "template": {
         "data": {
          "bar": [
           {
            "error_x": {
             "color": "#2a3f5f"
            },
            "error_y": {
             "color": "#2a3f5f"
            },
            "marker": {
             "line": {
              "color": "#E5ECF6",
              "width": 0.5
             },
             "pattern": {
              "fillmode": "overlay",
              "size": 10,
              "solidity": 0.2
             }
            },
            "type": "bar"
           }
          ],
          "barpolar": [
           {
            "marker": {
             "line": {
              "color": "#E5ECF6",
              "width": 0.5
             },
             "pattern": {
              "fillmode": "overlay",
              "size": 10,
              "solidity": 0.2
             }
            },
            "type": "barpolar"
           }
          ],
          "carpet": [
           {
            "aaxis": {
             "endlinecolor": "#2a3f5f",
             "gridcolor": "white",
             "linecolor": "white",
             "minorgridcolor": "white",
             "startlinecolor": "#2a3f5f"
            },
            "baxis": {
             "endlinecolor": "#2a3f5f",
             "gridcolor": "white",
             "linecolor": "white",
             "minorgridcolor": "white",
             "startlinecolor": "#2a3f5f"
            },
            "type": "carpet"
           }
          ],
          "choropleth": [
           {
            "colorbar": {
             "outlinewidth": 0,
             "ticks": ""
            },
            "type": "choropleth"
           }
          ],
          "contour": [
           {
            "colorbar": {
             "outlinewidth": 0,
             "ticks": ""
            },
            "colorscale": [
             [
              0,
              "#0d0887"
             ],
             [
              0.1111111111111111,
              "#46039f"
             ],
             [
              0.2222222222222222,
              "#7201a8"
             ],
             [
              0.3333333333333333,
              "#9c179e"
             ],
             [
              0.4444444444444444,
              "#bd3786"
             ],
             [
              0.5555555555555556,
              "#d8576b"
             ],
             [
              0.6666666666666666,
              "#ed7953"
             ],
             [
              0.7777777777777778,
              "#fb9f3a"
             ],
             [
              0.8888888888888888,
              "#fdca26"
             ],
             [
              1,
              "#f0f921"
             ]
            ],
            "type": "contour"
           }
          ],
          "contourcarpet": [
           {
            "colorbar": {
             "outlinewidth": 0,
             "ticks": ""
            },
            "type": "contourcarpet"
           }
          ],
          "heatmap": [
           {
            "colorbar": {
             "outlinewidth": 0,
             "ticks": ""
            },
            "colorscale": [
             [
              0,
              "#0d0887"
             ],
             [
              0.1111111111111111,
              "#46039f"
             ],
             [
              0.2222222222222222,
              "#7201a8"
             ],
             [
              0.3333333333333333,
              "#9c179e"
             ],
             [
              0.4444444444444444,
              "#bd3786"
             ],
             [
              0.5555555555555556,
              "#d8576b"
             ],
             [
              0.6666666666666666,
              "#ed7953"
             ],
             [
              0.7777777777777778,
              "#fb9f3a"
             ],
             [
              0.8888888888888888,
              "#fdca26"
             ],
             [
              1,
              "#f0f921"
             ]
            ],
            "type": "heatmap"
           }
          ],
          "histogram": [
           {
            "marker": {
             "pattern": {
              "fillmode": "overlay",
              "size": 10,
              "solidity": 0.2
             }
            },
            "type": "histogram"
           }
          ],
          "histogram2d": [
           {
            "colorbar": {
             "outlinewidth": 0,
             "ticks": ""
            },
            "colorscale": [
             [
              0,
              "#0d0887"
             ],
             [
              0.1111111111111111,
              "#46039f"
             ],
             [
              0.2222222222222222,
              "#7201a8"
             ],
             [
              0.3333333333333333,
              "#9c179e"
             ],
             [
              0.4444444444444444,
              "#bd3786"
             ],
             [
              0.5555555555555556,
              "#d8576b"
             ],
             [
              0.6666666666666666,
              "#ed7953"
             ],
             [
              0.7777777777777778,
              "#fb9f3a"
             ],
             [
              0.8888888888888888,
              "#fdca26"
             ],
             [
              1,
              "#f0f921"
             ]
            ],
            "type": "histogram2d"
           }
          ],
          "histogram2dcontour": [
           {
            "colorbar": {
             "outlinewidth": 0,
             "ticks": ""
            },
            "colorscale": [
             [
              0,
              "#0d0887"
             ],
             [
              0.1111111111111111,
              "#46039f"
             ],
             [
              0.2222222222222222,
              "#7201a8"
             ],
             [
              0.3333333333333333,
              "#9c179e"
             ],
             [
              0.4444444444444444,
              "#bd3786"
             ],
             [
              0.5555555555555556,
              "#d8576b"
             ],
             [
              0.6666666666666666,
              "#ed7953"
             ],
             [
              0.7777777777777778,
              "#fb9f3a"
             ],
             [
              0.8888888888888888,
              "#fdca26"
             ],
             [
              1,
              "#f0f921"
             ]
            ],
            "type": "histogram2dcontour"
           }
          ],
          "mesh3d": [
           {
            "colorbar": {
             "outlinewidth": 0,
             "ticks": ""
            },
            "type": "mesh3d"
           }
          ],
          "parcoords": [
           {
            "line": {
             "colorbar": {
              "outlinewidth": 0,
              "ticks": ""
             }
            },
            "type": "parcoords"
           }
          ],
          "pie": [
           {
            "automargin": true,
            "type": "pie"
           }
          ],
          "scatter": [
           {
            "fillpattern": {
             "fillmode": "overlay",
             "size": 10,
             "solidity": 0.2
            },
            "type": "scatter"
           }
          ],
          "scatter3d": [
           {
            "line": {
             "colorbar": {
              "outlinewidth": 0,
              "ticks": ""
             }
            },
            "marker": {
             "colorbar": {
              "outlinewidth": 0,
              "ticks": ""
             }
            },
            "type": "scatter3d"
           }
          ],
          "scattercarpet": [
           {
            "marker": {
             "colorbar": {
              "outlinewidth": 0,
              "ticks": ""
             }
            },
            "type": "scattercarpet"
           }
          ],
          "scattergeo": [
           {
            "marker": {
             "colorbar": {
              "outlinewidth": 0,
              "ticks": ""
             }
            },
            "type": "scattergeo"
           }
          ],
          "scattergl": [
           {
            "marker": {
             "colorbar": {
              "outlinewidth": 0,
              "ticks": ""
             }
            },
            "type": "scattergl"
           }
          ],
          "scattermap": [
           {
            "marker": {
             "colorbar": {
              "outlinewidth": 0,
              "ticks": ""
             }
            },
            "type": "scattermap"
           }
          ],
          "scattermapbox": [
           {
            "marker": {
             "colorbar": {
              "outlinewidth": 0,
              "ticks": ""
             }
            },
            "type": "scattermapbox"
           }
          ],
          "scatterpolar": [
           {
            "marker": {
             "colorbar": {
              "outlinewidth": 0,
              "ticks": ""
             }
            },
            "type": "scatterpolar"
           }
          ],
          "scatterpolargl": [
           {
            "marker": {
             "colorbar": {
              "outlinewidth": 0,
              "ticks": ""
             }
            },
            "type": "scatterpolargl"
           }
          ],
          "scatterternary": [
           {
            "marker": {
             "colorbar": {
              "outlinewidth": 0,
              "ticks": ""
             }
            },
            "type": "scatterternary"
           }
          ],
          "surface": [
           {
            "colorbar": {
             "outlinewidth": 0,
             "ticks": ""
            },
            "colorscale": [
             [
              0,
              "#0d0887"
             ],
             [
              0.1111111111111111,
              "#46039f"
             ],
             [
              0.2222222222222222,
              "#7201a8"
             ],
             [
              0.3333333333333333,
              "#9c179e"
             ],
             [
              0.4444444444444444,
              "#bd3786"
             ],
             [
              0.5555555555555556,
              "#d8576b"
             ],
             [
              0.6666666666666666,
              "#ed7953"
             ],
             [
              0.7777777777777778,
              "#fb9f3a"
             ],
             [
              0.8888888888888888,
              "#fdca26"
             ],
             [
              1,
              "#f0f921"
             ]
            ],
            "type": "surface"
           }
          ],
          "table": [
           {
            "cells": {
             "fill": {
              "color": "#EBF0F8"
             },
             "line": {
              "color": "white"
             }
            },
            "header": {
             "fill": {
              "color": "#C8D4E3"
             },
             "line": {
              "color": "white"
             }
            },
            "type": "table"
           }
          ]
         },
         "layout": {
          "annotationdefaults": {
           "arrowcolor": "#2a3f5f",
           "arrowhead": 0,
           "arrowwidth": 1
          },
          "autotypenumbers": "strict",
          "coloraxis": {
           "colorbar": {
            "outlinewidth": 0,
            "ticks": ""
           }
          },
          "colorscale": {
           "diverging": [
            [
             0,
             "#8e0152"
            ],
            [
             0.1,
             "#c51b7d"
            ],
            [
             0.2,
             "#de77ae"
            ],
            [
             0.3,
             "#f1b6da"
            ],
            [
             0.4,
             "#fde0ef"
            ],
            [
             0.5,
             "#f7f7f7"
            ],
            [
             0.6,
             "#e6f5d0"
            ],
            [
             0.7,
             "#b8e186"
            ],
            [
             0.8,
             "#7fbc41"
            ],
            [
             0.9,
             "#4d9221"
            ],
            [
             1,
             "#276419"
            ]
           ],
           "sequential": [
            [
             0,
             "#0d0887"
            ],
            [
             0.1111111111111111,
             "#46039f"
            ],
            [
             0.2222222222222222,
             "#7201a8"
            ],
            [
             0.3333333333333333,
             "#9c179e"
            ],
            [
             0.4444444444444444,
             "#bd3786"
            ],
            [
             0.5555555555555556,
             "#d8576b"
            ],
            [
             0.6666666666666666,
             "#ed7953"
            ],
            [
             0.7777777777777778,
             "#fb9f3a"
            ],
            [
             0.8888888888888888,
             "#fdca26"
            ],
            [
             1,
             "#f0f921"
            ]
           ],
           "sequentialminus": [
            [
             0,
             "#0d0887"
            ],
            [
             0.1111111111111111,
             "#46039f"
            ],
            [
             0.2222222222222222,
             "#7201a8"
            ],
            [
             0.3333333333333333,
             "#9c179e"
            ],
            [
             0.4444444444444444,
             "#bd3786"
            ],
            [
             0.5555555555555556,
             "#d8576b"
            ],
            [
             0.6666666666666666,
             "#ed7953"
            ],
            [
             0.7777777777777778,
             "#fb9f3a"
            ],
            [
             0.8888888888888888,
             "#fdca26"
            ],
            [
             1,
             "#f0f921"
            ]
           ]
          },
          "colorway": [
           "#636efa",
           "#EF553B",
           "#00cc96",
           "#ab63fa",
           "#FFA15A",
           "#19d3f3",
           "#FF6692",
           "#B6E880",
           "#FF97FF",
           "#FECB52"
          ],
          "font": {
           "color": "#2a3f5f"
          },
          "geo": {
           "bgcolor": "white",
           "lakecolor": "white",
           "landcolor": "#E5ECF6",
           "showlakes": true,
           "showland": true,
           "subunitcolor": "white"
          },
          "hoverlabel": {
           "align": "left"
          },
          "hovermode": "closest",
          "mapbox": {
           "style": "light"
          },
          "paper_bgcolor": "white",
          "plot_bgcolor": "#E5ECF6",
          "polar": {
           "angularaxis": {
            "gridcolor": "white",
            "linecolor": "white",
            "ticks": ""
           },
           "bgcolor": "#E5ECF6",
           "radialaxis": {
            "gridcolor": "white",
            "linecolor": "white",
            "ticks": ""
           }
          },
          "scene": {
           "xaxis": {
            "backgroundcolor": "#E5ECF6",
            "gridcolor": "white",
            "gridwidth": 2,
            "linecolor": "white",
            "showbackground": true,
            "ticks": "",
            "zerolinecolor": "white"
           },
           "yaxis": {
            "backgroundcolor": "#E5ECF6",
            "gridcolor": "white",
            "gridwidth": 2,
            "linecolor": "white",
            "showbackground": true,
            "ticks": "",
            "zerolinecolor": "white"
           },
           "zaxis": {
            "backgroundcolor": "#E5ECF6",
            "gridcolor": "white",
            "gridwidth": 2,
            "linecolor": "white",
            "showbackground": true,
            "ticks": "",
            "zerolinecolor": "white"
           }
          },
          "shapedefaults": {
           "line": {
            "color": "#2a3f5f"
           }
          },
          "ternary": {
           "aaxis": {
            "gridcolor": "white",
            "linecolor": "white",
            "ticks": ""
           },
           "baxis": {
            "gridcolor": "white",
            "linecolor": "white",
            "ticks": ""
           },
           "bgcolor": "#E5ECF6",
           "caxis": {
            "gridcolor": "white",
            "linecolor": "white",
            "ticks": ""
           }
          },
          "title": {
           "x": 0.05
          },
          "xaxis": {
           "automargin": true,
           "gridcolor": "white",
           "linecolor": "white",
           "ticks": "",
           "title": {
            "standoff": 15
           },
           "zerolinecolor": "white",
           "zerolinewidth": 2
          },
          "yaxis": {
           "automargin": true,
           "gridcolor": "white",
           "linecolor": "white",
           "ticks": "",
           "title": {
            "standoff": 15
           },
           "zerolinecolor": "white",
           "zerolinewidth": 2
          }
         }
        },
        "title": {
         "text": "Top 15 Genres by App Count"
        },
        "xaxis": {
         "anchor": "y",
         "domain": [
          0,
          1
         ],
         "title": {
          "text": "Genre"
         }
        },
        "yaxis": {
         "anchor": "x",
         "domain": [
          0,
          1
         ],
         "title": {
          "text": "App Count"
         }
        }
       }
      }
     },
     "metadata": {},
     "output_type": "display_data"
    }
   ],
   "source": [
    "if __name__ == \"__main__\":\n",
    "    setup_logging()\n",
    "\n",
    "    app_df = return_cleaned_df()\n",
    "    # print(f'Number of unique genres: {app_df.Genres.nunique()}')\n",
    "    # print(f'Unique Genres: {app_df.Genres.unique()}')\n",
    "    stack = app_df.Genres.str.split(';', expand=True).stack()\n",
    "    num_genres = stack.value_counts().head(15).reset_index()\n",
    "    # print(f'Stack:\\n{len(num_genres)}')\n",
    "\n",
    "    bar_fig = px.bar(\n",
    "        data_frame=num_genres, \n",
    "        x='index', \n",
    "        y='count', \n",
    "        title='Top 15 Genres by App Count',\n",
    "        hover_name='index',\n",
    "        color='count',\n",
    "        color_continuous_scale='Agsunset',\n",
    "        labels={'index': 'Genre', 'count': 'App Count'}\n",
    "    )\n",
    "    bar_fig.update_layout(coloraxis_showscale=False)\n",
    "    bar_fig.show()"
   ]
  },
  {
   "cell_type": "markdown",
   "id": "ef41ec57",
   "metadata": {},
   "source": [
    "# Grouped Bar Charts and Box Plots with Plotly"
   ]
  },
  {
   "cell_type": "code",
   "execution_count": 57,
   "id": "836f7e39",
   "metadata": {},
   "outputs": [
    {
     "name": "stdout",
     "output_type": "stream",
     "text": [
      "Type count: Type\n",
      "Free    7676\n",
      "Paid     606\n",
      "Name: count, dtype: int64\n"
     ]
    },
    {
     "data": {
      "application/vnd.plotly.v1+json": {
       "config": {
        "plotlyServerURL": "https://plot.ly"
       },
       "data": [
        {
         "alignmentgroup": "True",
         "hovertemplate": "Type=Free<br>Category=%{x}<br>App Count=%{y}<extra></extra>",
         "legendgroup": "Free",
         "marker": {
          "color": "#636efa",
          "pattern": {
           "shape": ""
          }
         },
         "name": "Free",
         "offsetgroup": "Free",
         "orientation": "v",
         "showlegend": true,
         "textposition": "auto",
         "type": "bar",
         "x": [
          "FAMILY",
          "GAME",
          "TOOLS",
          "FINANCE",
          "LIFESTYLE",
          "PRODUCTIVITY",
          "BUSINESS",
          "PHOTOGRAPHY",
          "SPORTS",
          "COMMUNICATION",
          "HEALTH_AND_FITNESS",
          "PERSONALIZATION",
          "MEDICAL",
          "NEWS_AND_MAGAZINES",
          "SOCIAL",
          "TRAVEL_AND_LOCAL",
          "SHOPPING",
          "BOOKS_AND_REFERENCE",
          "VIDEO_PLAYERS",
          "DATING",
          "EDUCATION",
          "MAPS_AND_NAVIGATION",
          "ENTERTAINMENT",
          "FOOD_AND_DRINK",
          "AUTO_AND_VEHICLES",
          "WEATHER",
          "LIBRARIES_AND_DEMO",
          "HOUSE_AND_HOME",
          "ART_AND_DESIGN",
          "COMICS",
          "PARENTING",
          "EVENTS",
          "BEAUTY"
         ],
         "xaxis": "x",
         "y": {
          "bdata": "+AVFA5ECIQEcARsB/gD4APAA6wDpAOkA5QDKAMkAswCyAKEAkQCDAHIAcQBkAFwASABBAEAAPgA6ADYAMAAtACoA",
          "dtype": "i2"
         },
         "yaxis": "y"
        },
        {
         "alignmentgroup": "True",
         "hovertemplate": "Type=Paid<br>Category=%{x}<br>App Count=%{y}<extra></extra>",
         "legendgroup": "Paid",
         "marker": {
          "color": "#EF553B",
          "pattern": {
           "shape": ""
          }
         },
         "name": "Paid",
         "offsetgroup": "Paid",
         "orientation": "v",
         "showlegend": true,
         "textposition": "auto",
         "type": "bar",
         "x": [
          "FAMILY",
          "GAME",
          "PERSONALIZATION",
          "TOOLS",
          "MEDICAL",
          "SPORTS",
          "COMMUNICATION",
          "LIFESTYLE",
          "PRODUCTIVITY",
          "PHOTOGRAPHY",
          "FINANCE",
          "HEALTH_AND_FITNESS",
          "BUSINESS",
          "TRAVEL_AND_LOCAL",
          "BOOKS_AND_REFERENCE",
          "WEATHER",
          "MAPS_AND_NAVIGATION",
          "EDUCATION",
          "VIDEO_PLAYERS",
          "ART_AND_DESIGN",
          "DATING",
          "NEWS_AND_MAGAZINES",
          "ENTERTAINMENT",
          "FOOD_AND_DRINK",
          "SOCIAL",
          "PARENTING",
          "SHOPPING",
          "AUTO_AND_VEHICLES"
         ],
         "xaxis": "x",
         "y": {
          "bdata": "nABMAEEAPwA/ABYAFgASABIADwANAAsACQAIAAgABwAFAAQABAADAAMAAgACAAIAAgACAAIAAQA=",
          "dtype": "i2"
         },
         "yaxis": "y"
        }
       ],
       "layout": {
        "barmode": "group",
        "legend": {
         "title": {
          "text": "Type"
         },
         "tracegroupgap": 0
        },
        "template": {
         "data": {
          "bar": [
           {
            "error_x": {
             "color": "#2a3f5f"
            },
            "error_y": {
             "color": "#2a3f5f"
            },
            "marker": {
             "line": {
              "color": "#E5ECF6",
              "width": 0.5
             },
             "pattern": {
              "fillmode": "overlay",
              "size": 10,
              "solidity": 0.2
             }
            },
            "type": "bar"
           }
          ],
          "barpolar": [
           {
            "marker": {
             "line": {
              "color": "#E5ECF6",
              "width": 0.5
             },
             "pattern": {
              "fillmode": "overlay",
              "size": 10,
              "solidity": 0.2
             }
            },
            "type": "barpolar"
           }
          ],
          "carpet": [
           {
            "aaxis": {
             "endlinecolor": "#2a3f5f",
             "gridcolor": "white",
             "linecolor": "white",
             "minorgridcolor": "white",
             "startlinecolor": "#2a3f5f"
            },
            "baxis": {
             "endlinecolor": "#2a3f5f",
             "gridcolor": "white",
             "linecolor": "white",
             "minorgridcolor": "white",
             "startlinecolor": "#2a3f5f"
            },
            "type": "carpet"
           }
          ],
          "choropleth": [
           {
            "colorbar": {
             "outlinewidth": 0,
             "ticks": ""
            },
            "type": "choropleth"
           }
          ],
          "contour": [
           {
            "colorbar": {
             "outlinewidth": 0,
             "ticks": ""
            },
            "colorscale": [
             [
              0,
              "#0d0887"
             ],
             [
              0.1111111111111111,
              "#46039f"
             ],
             [
              0.2222222222222222,
              "#7201a8"
             ],
             [
              0.3333333333333333,
              "#9c179e"
             ],
             [
              0.4444444444444444,
              "#bd3786"
             ],
             [
              0.5555555555555556,
              "#d8576b"
             ],
             [
              0.6666666666666666,
              "#ed7953"
             ],
             [
              0.7777777777777778,
              "#fb9f3a"
             ],
             [
              0.8888888888888888,
              "#fdca26"
             ],
             [
              1,
              "#f0f921"
             ]
            ],
            "type": "contour"
           }
          ],
          "contourcarpet": [
           {
            "colorbar": {
             "outlinewidth": 0,
             "ticks": ""
            },
            "type": "contourcarpet"
           }
          ],
          "heatmap": [
           {
            "colorbar": {
             "outlinewidth": 0,
             "ticks": ""
            },
            "colorscale": [
             [
              0,
              "#0d0887"
             ],
             [
              0.1111111111111111,
              "#46039f"
             ],
             [
              0.2222222222222222,
              "#7201a8"
             ],
             [
              0.3333333333333333,
              "#9c179e"
             ],
             [
              0.4444444444444444,
              "#bd3786"
             ],
             [
              0.5555555555555556,
              "#d8576b"
             ],
             [
              0.6666666666666666,
              "#ed7953"
             ],
             [
              0.7777777777777778,
              "#fb9f3a"
             ],
             [
              0.8888888888888888,
              "#fdca26"
             ],
             [
              1,
              "#f0f921"
             ]
            ],
            "type": "heatmap"
           }
          ],
          "histogram": [
           {
            "marker": {
             "pattern": {
              "fillmode": "overlay",
              "size": 10,
              "solidity": 0.2
             }
            },
            "type": "histogram"
           }
          ],
          "histogram2d": [
           {
            "colorbar": {
             "outlinewidth": 0,
             "ticks": ""
            },
            "colorscale": [
             [
              0,
              "#0d0887"
             ],
             [
              0.1111111111111111,
              "#46039f"
             ],
             [
              0.2222222222222222,
              "#7201a8"
             ],
             [
              0.3333333333333333,
              "#9c179e"
             ],
             [
              0.4444444444444444,
              "#bd3786"
             ],
             [
              0.5555555555555556,
              "#d8576b"
             ],
             [
              0.6666666666666666,
              "#ed7953"
             ],
             [
              0.7777777777777778,
              "#fb9f3a"
             ],
             [
              0.8888888888888888,
              "#fdca26"
             ],
             [
              1,
              "#f0f921"
             ]
            ],
            "type": "histogram2d"
           }
          ],
          "histogram2dcontour": [
           {
            "colorbar": {
             "outlinewidth": 0,
             "ticks": ""
            },
            "colorscale": [
             [
              0,
              "#0d0887"
             ],
             [
              0.1111111111111111,
              "#46039f"
             ],
             [
              0.2222222222222222,
              "#7201a8"
             ],
             [
              0.3333333333333333,
              "#9c179e"
             ],
             [
              0.4444444444444444,
              "#bd3786"
             ],
             [
              0.5555555555555556,
              "#d8576b"
             ],
             [
              0.6666666666666666,
              "#ed7953"
             ],
             [
              0.7777777777777778,
              "#fb9f3a"
             ],
             [
              0.8888888888888888,
              "#fdca26"
             ],
             [
              1,
              "#f0f921"
             ]
            ],
            "type": "histogram2dcontour"
           }
          ],
          "mesh3d": [
           {
            "colorbar": {
             "outlinewidth": 0,
             "ticks": ""
            },
            "type": "mesh3d"
           }
          ],
          "parcoords": [
           {
            "line": {
             "colorbar": {
              "outlinewidth": 0,
              "ticks": ""
             }
            },
            "type": "parcoords"
           }
          ],
          "pie": [
           {
            "automargin": true,
            "type": "pie"
           }
          ],
          "scatter": [
           {
            "fillpattern": {
             "fillmode": "overlay",
             "size": 10,
             "solidity": 0.2
            },
            "type": "scatter"
           }
          ],
          "scatter3d": [
           {
            "line": {
             "colorbar": {
              "outlinewidth": 0,
              "ticks": ""
             }
            },
            "marker": {
             "colorbar": {
              "outlinewidth": 0,
              "ticks": ""
             }
            },
            "type": "scatter3d"
           }
          ],
          "scattercarpet": [
           {
            "marker": {
             "colorbar": {
              "outlinewidth": 0,
              "ticks": ""
             }
            },
            "type": "scattercarpet"
           }
          ],
          "scattergeo": [
           {
            "marker": {
             "colorbar": {
              "outlinewidth": 0,
              "ticks": ""
             }
            },
            "type": "scattergeo"
           }
          ],
          "scattergl": [
           {
            "marker": {
             "colorbar": {
              "outlinewidth": 0,
              "ticks": ""
             }
            },
            "type": "scattergl"
           }
          ],
          "scattermap": [
           {
            "marker": {
             "colorbar": {
              "outlinewidth": 0,
              "ticks": ""
             }
            },
            "type": "scattermap"
           }
          ],
          "scattermapbox": [
           {
            "marker": {
             "colorbar": {
              "outlinewidth": 0,
              "ticks": ""
             }
            },
            "type": "scattermapbox"
           }
          ],
          "scatterpolar": [
           {
            "marker": {
             "colorbar": {
              "outlinewidth": 0,
              "ticks": ""
             }
            },
            "type": "scatterpolar"
           }
          ],
          "scatterpolargl": [
           {
            "marker": {
             "colorbar": {
              "outlinewidth": 0,
              "ticks": ""
             }
            },
            "type": "scatterpolargl"
           }
          ],
          "scatterternary": [
           {
            "marker": {
             "colorbar": {
              "outlinewidth": 0,
              "ticks": ""
             }
            },
            "type": "scatterternary"
           }
          ],
          "surface": [
           {
            "colorbar": {
             "outlinewidth": 0,
             "ticks": ""
            },
            "colorscale": [
             [
              0,
              "#0d0887"
             ],
             [
              0.1111111111111111,
              "#46039f"
             ],
             [
              0.2222222222222222,
              "#7201a8"
             ],
             [
              0.3333333333333333,
              "#9c179e"
             ],
             [
              0.4444444444444444,
              "#bd3786"
             ],
             [
              0.5555555555555556,
              "#d8576b"
             ],
             [
              0.6666666666666666,
              "#ed7953"
             ],
             [
              0.7777777777777778,
              "#fb9f3a"
             ],
             [
              0.8888888888888888,
              "#fdca26"
             ],
             [
              1,
              "#f0f921"
             ]
            ],
            "type": "surface"
           }
          ],
          "table": [
           {
            "cells": {
             "fill": {
              "color": "#EBF0F8"
             },
             "line": {
              "color": "white"
             }
            },
            "header": {
             "fill": {
              "color": "#C8D4E3"
             },
             "line": {
              "color": "white"
             }
            },
            "type": "table"
           }
          ]
         },
         "layout": {
          "annotationdefaults": {
           "arrowcolor": "#2a3f5f",
           "arrowhead": 0,
           "arrowwidth": 1
          },
          "autotypenumbers": "strict",
          "coloraxis": {
           "colorbar": {
            "outlinewidth": 0,
            "ticks": ""
           }
          },
          "colorscale": {
           "diverging": [
            [
             0,
             "#8e0152"
            ],
            [
             0.1,
             "#c51b7d"
            ],
            [
             0.2,
             "#de77ae"
            ],
            [
             0.3,
             "#f1b6da"
            ],
            [
             0.4,
             "#fde0ef"
            ],
            [
             0.5,
             "#f7f7f7"
            ],
            [
             0.6,
             "#e6f5d0"
            ],
            [
             0.7,
             "#b8e186"
            ],
            [
             0.8,
             "#7fbc41"
            ],
            [
             0.9,
             "#4d9221"
            ],
            [
             1,
             "#276419"
            ]
           ],
           "sequential": [
            [
             0,
             "#0d0887"
            ],
            [
             0.1111111111111111,
             "#46039f"
            ],
            [
             0.2222222222222222,
             "#7201a8"
            ],
            [
             0.3333333333333333,
             "#9c179e"
            ],
            [
             0.4444444444444444,
             "#bd3786"
            ],
            [
             0.5555555555555556,
             "#d8576b"
            ],
            [
             0.6666666666666666,
             "#ed7953"
            ],
            [
             0.7777777777777778,
             "#fb9f3a"
            ],
            [
             0.8888888888888888,
             "#fdca26"
            ],
            [
             1,
             "#f0f921"
            ]
           ],
           "sequentialminus": [
            [
             0,
             "#0d0887"
            ],
            [
             0.1111111111111111,
             "#46039f"
            ],
            [
             0.2222222222222222,
             "#7201a8"
            ],
            [
             0.3333333333333333,
             "#9c179e"
            ],
            [
             0.4444444444444444,
             "#bd3786"
            ],
            [
             0.5555555555555556,
             "#d8576b"
            ],
            [
             0.6666666666666666,
             "#ed7953"
            ],
            [
             0.7777777777777778,
             "#fb9f3a"
            ],
            [
             0.8888888888888888,
             "#fdca26"
            ],
            [
             1,
             "#f0f921"
            ]
           ]
          },
          "colorway": [
           "#636efa",
           "#EF553B",
           "#00cc96",
           "#ab63fa",
           "#FFA15A",
           "#19d3f3",
           "#FF6692",
           "#B6E880",
           "#FF97FF",
           "#FECB52"
          ],
          "font": {
           "color": "#2a3f5f"
          },
          "geo": {
           "bgcolor": "white",
           "lakecolor": "white",
           "landcolor": "#E5ECF6",
           "showlakes": true,
           "showland": true,
           "subunitcolor": "white"
          },
          "hoverlabel": {
           "align": "left"
          },
          "hovermode": "closest",
          "mapbox": {
           "style": "light"
          },
          "paper_bgcolor": "white",
          "plot_bgcolor": "#E5ECF6",
          "polar": {
           "angularaxis": {
            "gridcolor": "white",
            "linecolor": "white",
            "ticks": ""
           },
           "bgcolor": "#E5ECF6",
           "radialaxis": {
            "gridcolor": "white",
            "linecolor": "white",
            "ticks": ""
           }
          },
          "scene": {
           "xaxis": {
            "backgroundcolor": "#E5ECF6",
            "gridcolor": "white",
            "gridwidth": 2,
            "linecolor": "white",
            "showbackground": true,
            "ticks": "",
            "zerolinecolor": "white"
           },
           "yaxis": {
            "backgroundcolor": "#E5ECF6",
            "gridcolor": "white",
            "gridwidth": 2,
            "linecolor": "white",
            "showbackground": true,
            "ticks": "",
            "zerolinecolor": "white"
           },
           "zaxis": {
            "backgroundcolor": "#E5ECF6",
            "gridcolor": "white",
            "gridwidth": 2,
            "linecolor": "white",
            "showbackground": true,
            "ticks": "",
            "zerolinecolor": "white"
           }
          },
          "shapedefaults": {
           "line": {
            "color": "#2a3f5f"
           }
          },
          "ternary": {
           "aaxis": {
            "gridcolor": "white",
            "linecolor": "white",
            "ticks": ""
           },
           "baxis": {
            "gridcolor": "white",
            "linecolor": "white",
            "ticks": ""
           },
           "bgcolor": "#E5ECF6",
           "caxis": {
            "gridcolor": "white",
            "linecolor": "white",
            "ticks": ""
           }
          },
          "title": {
           "x": 0.05
          },
          "xaxis": {
           "automargin": true,
           "gridcolor": "white",
           "linecolor": "white",
           "ticks": "",
           "title": {
            "standoff": 15
           },
           "zerolinecolor": "white",
           "zerolinewidth": 2
          },
          "yaxis": {
           "automargin": true,
           "gridcolor": "white",
           "linecolor": "white",
           "ticks": "",
           "title": {
            "standoff": 15
           },
           "zerolinecolor": "white",
           "zerolinewidth": 2
          }
         }
        },
        "title": {
         "text": "Free vs Paid Apps by Category"
        },
        "xaxis": {
         "anchor": "y",
         "categoryorder": "total descending",
         "domain": [
          0,
          1
         ],
         "tickangle": 45,
         "title": {
          "text": "Category"
         }
        },
        "yaxis": {
         "anchor": "x",
         "domain": [
          0,
          1
         ],
         "title": {
          "text": "App Count"
         },
         "type": "log"
        }
       }
      }
     },
     "metadata": {},
     "output_type": "display_data"
    },
    {
     "data": {
      "application/vnd.plotly.v1+json": {
       "config": {
        "plotlyServerURL": "https://plot.ly"
       },
       "data": [
        {
         "alignmentgroup": "True",
         "boxpoints": "all",
         "hovertemplate": "Type=%{x}<br>Installs=%{y}<extra></extra>",
         "legendgroup": "Free",
         "marker": {
          "color": "#636efa"
         },
         "name": "Free",
         "notched": true,
         "offsetgroup": "Free",
         "orientation": "v",
         "showlegend": true,
         "type": "box",
         "x": [
          "Free",
          "Free",
          "Free",
          "Free",
          "Free",
          "Free",
          "Free",
          "Free",
          "Free",
          "Free",
          "Free",
          "Free",
          "Free",
          "Free",
          "Free",
          "Free",
          "Free",
          "Free",
          "Free",
          "Free",
          "Free",
          "Free",
          "Free",
          "Free",
          "Free",
          "Free",
          "Free",
          "Free",
          "Free",
          "Free",
          "Free",
          "Free",
          "Free",
          "Free",
          "Free",
          "Free",
          "Free",
          "Free",
          "Free",
          "Free",
          "Free",
          "Free",
          "Free",
          "Free",
          "Free",
          "Free",
          "Free",
          "Free",
          "Free",
          "Free",
          "Free",
          "Free",
          "Free",
          "Free",
          "Free",
          "Free",
          "Free",
          "Free",
          "Free",
          "Free",
          "Free",
          "Free",
          "Free",
          "Free",
          "Free",
          "Free",
          "Free",
          "Free",
          "Free",
          "Free",
          "Free",
          "Free",
          "Free",
          "Free",
          "Free",
          "Free",
          "Free",
          "Free",
          "Free",
          "Free",
          "Free",
          "Free",
          "Free",
          "Free",
          "Free",
          "Free",
          "Free",
          "Free",
          "Free",
          "Free",
          "Free",
          "Free",
          "Free",
          "Free",
          "Free",
          "Free",
          "Free",
          "Free",
          "Free",
          "Free",
          "Free",
          "Free",
          "Free",
          "Free",
          "Free",
          "Free",
          "Free",
          "Free",
          "Free",
          "Free",
          "Free",
          "Free",
          "Free",
          "Free",
          "Free",
          "Free",
          "Free",
          "Free",
          "Free",
          "Free",
          "Free",
          "Free",
          "Free",
          "Free",
          "Free",
          "Free",
          "Free",
          "Free",
          "Free",
          "Free",
          "Free",
          "Free",
          "Free",
          "Free",
          "Free",
          "Free",
          "Free",
          "Free",
          "Free",
          "Free",
          "Free",
          "Free",
          "Free",
          "Free",
          "Free",
          "Free",
          "Free",
          "Free",
          "Free",
          "Free",
          "Free",
          "Free",
          "Free",
          "Free",
          "Free",
          "Free",
          "Free",
          "Free",
          "Free",
          "Free",
          "Free",
          "Free",
          "Free",
          "Free",
          "Free",
          "Free",
          "Free",
          "Free",
          "Free",
          "Free",
          "Free",
          "Free",
          "Free",
          "Free",
          "Free",
          "Free",
          "Free",
          "Free",
          "Free",
          "Free",
          "Free",
          "Free",
          "Free",
          "Free",
          "Free",
          "Free",
          "Free",
          "Free",
          "Free",
          "Free",
          "Free",
          "Free",
          "Free",
          "Free",
          "Free",
          "Free",
          "Free",
          "Free",
          "Free",
          "Free",
          "Free",
          "Free",
          "Free",
          "Free",
          "Free",
          "Free",
          "Free",
          "Free",
          "Free",
          "Free",
          "Free",
          "Free",
          "Free",
          "Free",
          "Free",
          "Free",
          "Free",
          "Free",
          "Free",
          "Free",
          "Free",
          "Free",
          "Free",
          "Free",
          "Free",
          "Free",
          "Free",
          "Free",
          "Free",
          "Free",
          "Free",
          "Free",
          "Free",
          "Free",
          "Free",
          "Free",
          "Free",
          "Free",
          "Free",
          "Free",
          "Free",
          "Free",
          "Free",
          "Free",
          "Free",
          "Free",
          "Free",
          "Free",
          "Free",
          "Free",
          "Free",
          "Free",
          "Free",
          "Free",
          "Free",
          "Free",
          "Free",
          "Free",
          "Free",
          "Free",
          "Free",
          "Free",
          "Free",
          "Free",
          "Free",
          "Free",
          "Free",
          "Free",
          "Free",
          "Free",
          "Free",
          "Free",
          "Free",
          "Free",
          "Free",
          "Free",
          "Free",
          "Free",
          "Free",
          "Free",
          "Free",
          "Free",
          "Free",
          "Free",
          "Free",
          "Free",
          "Free",
          "Free",
          "Free",
          "Free",
          "Free",
          "Free",
          "Free",
          "Free",
          "Free",
          "Free",
          "Free",
          "Free",
          "Free",
          "Free",
          "Free",
          "Free",
          "Free",
          "Free",
          "Free",
          "Free",
          "Free",
          "Free",
          "Free",
          "Free",
          "Free",
          "Free",
          "Free",
          "Free",
          "Free",
          "Free",
          "Free",
          "Free",
          "Free",
          "Free",
          "Free",
          "Free",
          "Free",
          "Free",
          "Free",
          "Free",
          "Free",
          "Free",
          "Free",
          "Free",
          "Free",
          "Free",
          "Free",
          "Free",
          "Free",
          "Free",
          "Free",
          "Free",
          "Free",
          "Free",
          "Free",
          "Free",
          "Free",
          "Free",
          "Free",
          "Free",
          "Free",
          "Free",
          "Free",
          "Free",
          "Free",
          "Free",
          "Free",
          "Free",
          "Free",
          "Free",
          "Free",
          "Free",
          "Free",
          "Free",
          "Free",
          "Free",
          "Free",
          "Free",
          "Free",
          "Free",
          "Free",
          "Free",
          "Free",
          "Free",
          "Free",
          "Free",
          "Free",
          "Free",
          "Free",
          "Free",
          "Free",
          "Free",
          "Free",
          "Free",
          "Free",
          "Free",
          "Free",
          "Free",
          "Free",
          "Free",
          "Free",
          "Free",
          "Free",
          "Free",
          "Free",
          "Free",
          "Free",
          "Free",
          "Free",
          "Free",
          "Free",
          "Free",
          "Free",
          "Free",
          "Free",
          "Free",
          "Free",
          "Free",
          "Free",
          "Free",
          "Free",
          "Free",
          "Free",
          "Free",
          "Free",
          "Free",
          "Free",
          "Free",
          "Free",
          "Free",
          "Free",
          "Free",
          "Free",
          "Free",
          "Free",
          "Free",
          "Free",
          "Free",
          "Free",
          "Free",
          "Free",
          "Free",
          "Free",
          "Free",
          "Free",
          "Free",
          "Free",
          "Free",
          "Free",
          "Free",
          "Free",
          "Free",
          "Free",
          "Free",
          "Free",
          "Free",
          "Free",
          "Free",
          "Free",
          "Free",
          "Free",
          "Free",
          "Free",
          "Free",
          "Free",
          "Free",
          "Free",
          "Free",
          "Free",
          "Free",
          "Free",
          "Free",
          "Free",
          "Free",
          "Free",
          "Free",
          "Free",
          "Free",
          "Free",
          "Free",
          "Free",
          "Free",
          "Free",
          "Free",
          "Free",
          "Free",
          "Free",
          "Free",
          "Free",
          "Free",
          "Free",
          "Free",
          "Free",
          "Free",
          "Free",
          "Free",
          "Free",
          "Free",
          "Free",
          "Free",
          "Free",
          "Free",
          "Free",
          "Free",
          "Free",
          "Free",
          "Free",
          "Free",
          "Free",
          "Free",
          "Free",
          "Free",
          "Free",
          "Free",
          "Free",
          "Free",
          "Free",
          "Free",
          "Free",
          "Free",
          "Free",
          "Free",
          "Free",
          "Free",
          "Free",
          "Free",
          "Free",
          "Free",
          "Free",
          "Free",
          "Free",
          "Free",
          "Free",
          "Free",
          "Free",
          "Free",
          "Free",
          "Free",
          "Free",
          "Free",
          "Free",
          "Free",
          "Free",
          "Free",
          "Free",
          "Free",
          "Free",
          "Free",
          "Free",
          "Free",
          "Free",
          "Free",
          "Free",
          "Free",
          "Free",
          "Free",
          "Free",
          "Free",
          "Free",
          "Free",
          "Free",
          "Free",
          "Free",
          "Free",
          "Free",
          "Free",
          "Free",
          "Free",
          "Free",
          "Free",
          "Free",
          "Free",
          "Free",
          "Free",
          "Free",
          "Free",
          "Free",
          "Free",
          "Free",
          "Free",
          "Free",
          "Free",
          "Free",
          "Free",
          "Free",
          "Free",
          "Free",
          "Free",
          "Free",
          "Free",
          "Free",
          "Free",
          "Free",
          "Free",
          "Free",
          "Free",
          "Free",
          "Free",
          "Free",
          "Free",
          "Free",
          "Free",
          "Free",
          "Free",
          "Free",
          "Free",
          "Free",
          "Free",
          "Free",
          "Free",
          "Free",
          "Free",
          "Free",
          "Free",
          "Free",
          "Free",
          "Free",
          "Free",
          "Free",
          "Free",
          "Free",
          "Free",
          "Free",
          "Free",
          "Free",
          "Free",
          "Free",
          "Free",
          "Free",
          "Free",
          "Free",
          "Free",
          "Free",
          "Free",
          "Free",
          "Free",
          "Free",
          "Free",
          "Free",
          "Free",
          "Free",
          "Free",
          "Free",
          "Free",
          "Free",
          "Free",
          "Free",
          "Free",
          "Free",
          "Free",
          "Free",
          "Free",
          "Free",
          "Free",
          "Free",
          "Free",
          "Free",
          "Free",
          "Free",
          "Free",
          "Free",
          "Free",
          "Free",
          "Free",
          "Free",
          "Free",
          "Free",
          "Free",
          "Free",
          "Free",
          "Free",
          "Free",
          "Free",
          "Free",
          "Free",
          "Free",
          "Free",
          "Free",
          "Free",
          "Free",
          "Free",
          "Free",
          "Free",
          "Free",
          "Free",
          "Free",
          "Free",
          "Free",
          "Free",
          "Free",
          "Free",
          "Free",
          "Free",
          "Free",
          "Free",
          "Free",
          "Free",
          "Free",
          "Free",
          "Free",
          "Free",
          "Free",
          "Free",
          "Free",
          "Free",
          "Free",
          "Free",
          "Free",
          "Free",
          "Free",
          "Free",
          "Free",
          "Free",
          "Free",
          "Free",
          "Free",
          "Free",
          "Free",
          "Free",
          "Free",
          "Free",
          "Free",
          "Free",
          "Free",
          "Free",
          "Free",
          "Free",
          "Free",
          "Free",
          "Free",
          "Free",
          "Free",
          "Free",
          "Free",
          "Free",
          "Free",
          "Free",
          "Free",
          "Free",
          "Free",
          "Free",
          "Free",
          "Free",
          "Free",
          "Free",
          "Free",
          "Free",
          "Free",
          "Free",
          "Free",
          "Free",
          "Free",
          "Free",
          "Free",
          "Free",
          "Free",
          "Free",
          "Free",
          "Free",
          "Free",
          "Free",
          "Free",
          "Free",
          "Free",
          "Free",
          "Free",
          "Free",
          "Free",
          "Free",
          "Free",
          "Free",
          "Free",
          "Free",
          "Free",
          "Free",
          "Free",
          "Free",
          "Free",
          "Free",
          "Free",
          "Free",
          "Free",
          "Free",
          "Free",
          "Free",
          "Free",
          "Free",
          "Free",
          "Free",
          "Free",
          "Free",
          "Free",
          "Free",
          "Free",
          "Free",
          "Free",
          "Free",
          "Free",
          "Free",
          "Free",
          "Free",
          "Free",
          "Free",
          "Free",
          "Free",
          "Free",
          "Free",
          "Free",
          "Free",
          "Free",
          "Free",
          "Free",
          "Free",
          "Free",
          "Free",
          "Free",
          "Free",
          "Free",
          "Free",
          "Free",
          "Free",
          "Free",
          "Free",
          "Free",
          "Free",
          "Free",
          "Free",
          "Free",
          "Free",
          "Free",
          "Free",
          "Free",
          "Free",
          "Free",
          "Free",
          "Free",
          "Free",
          "Free",
          "Free",
          "Free",
          "Free",
          "Free",
          "Free",
          "Free",
          "Free",
          "Free",
          "Free",
          "Free",
          "Free",
          "Free",
          "Free",
          "Free",
          "Free",
          "Free",
          "Free",
          "Free",
          "Free",
          "Free",
          "Free",
          "Free",
          "Free",
          "Free",
          "Free",
          "Free",
          "Free",
          "Free",
          "Free",
          "Free",
          "Free",
          "Free",
          "Free",
          "Free",
          "Free",
          "Free",
          "Free",
          "Free",
          "Free",
          "Free",
          "Free",
          "Free",
          "Free",
          "Free",
          "Free",
          "Free",
          "Free",
          "Free",
          "Free",
          "Free",
          "Free",
          "Free",
          "Free",
          "Free",
          "Free",
          "Free",
          "Free",
          "Free",
          "Free",
          "Free",
          "Free",
          "Free",
          "Free",
          "Free",
          "Free",
          "Free",
          "Free",
          "Free",
          "Free",
          "Free",
          "Free",
          "Free",
          "Free",
          "Free",
          "Free",
          "Free",
          "Free",
          "Free",
          "Free",
          "Free",
          "Free",
          "Free",
          "Free",
          "Free",
          "Free",
          "Free",
          "Free",
          "Free",
          "Free",
          "Free",
          "Free",
          "Free",
          "Free",
          "Free",
          "Free",
          "Free",
          "Free",
          "Free",
          "Free",
          "Free",
          "Free",
          "Free",
          "Free",
          "Free",
          "Free",
          "Free",
          "Free",
          "Free",
          "Free",
          "Free",
          "Free",
          "Free",
          "Free",
          "Free",
          "Free",
          "Free",
          "Free",
          "Free",
          "Free",
          "Free",
          "Free",
          "Free",
          "Free",
          "Free",
          "Free",
          "Free",
          "Free",
          "Free",
          "Free",
          "Free",
          "Free",
          "Free",
          "Free",
          "Free",
          "Free",
          "Free",
          "Free",
          "Free",
          "Free",
          "Free",
          "Free",
          "Free",
          "Free",
          "Free",
          "Free",
          "Free",
          "Free",
          "Free",
          "Free",
          "Free",
          "Free",
          "Free",
          "Free",
          "Free",
          "Free",
          "Free",
          "Free",
          "Free",
          "Free",
          "Free",
          "Free",
          "Free",
          "Free",
          "Free",
          "Free",
          "Free",
          "Free",
          "Free",
          "Free",
          "Free",
          "Free",
          "Free",
          "Free",
          "Free",
          "Free",
          "Free",
          "Free",
          "Free",
          "Free",
          "Free",
          "Free",
          "Free",
          "Free",
          "Free",
          "Free",
          "Free",
          "Free",
          "Free",
          "Free",
          "Free",
          "Free",
          "Free",
          "Free",
          "Free",
          "Free",
          "Free",
          "Free",
          "Free",
          "Free",
          "Free",
          "Free",
          "Free",
          "Free",
          "Free",
          "Free",
          "Free",
          "Free",
          "Free",
          "Free",
          "Free",
          "Free",
          "Free",
          "Free",
          "Free",
          "Free",
          "Free",
          "Free",
          "Free",
          "Free",
          "Free",
          "Free",
          "Free",
          "Free",
          "Free",
          "Free",
          "Free",
          "Free",
          "Free",
          "Free",
          "Free",
          "Free",
          "Free",
          "Free",
          "Free",
          "Free",
          "Free",
          "Free",
          "Free",
          "Free",
          "Free",
          "Free",
          "Free",
          "Free",
          "Free",
          "Free",
          "Free",
          "Free",
          "Free",
          "Free",
          "Free",
          "Free",
          "Free",
          "Free",
          "Free",
          "Free",
          "Free",
          "Free",
          "Free",
          "Free",
          "Free",
          "Free",
          "Free",
          "Free",
          "Free",
          "Free",
          "Free",
          "Free",
          "Free",
          "Free",
          "Free",
          "Free",
          "Free",
          "Free",
          "Free",
          "Free",
          "Free",
          "Free",
          "Free",
          "Free",
          "Free",
          "Free",
          "Free",
          "Free",
          "Free",
          "Free",
          "Free",
          "Free",
          "Free",
          "Free",
          "Free",
          "Free",
          "Free",
          "Free",
          "Free",
          "Free",
          "Free",
          "Free",
          "Free",
          "Free",
          "Free",
          "Free",
          "Free",
          "Free",
          "Free",
          "Free",
          "Free",
          "Free",
          "Free",
          "Free",
          "Free",
          "Free",
          "Free",
          "Free",
          "Free",
          "Free",
          "Free",
          "Free",
          "Free",
          "Free",
          "Free",
          "Free",
          "Free",
          "Free",
          "Free",
          "Free",
          "Free",
          "Free",
          "Free",
          "Free",
          "Free",
          "Free",
          "Free",
          "Free",
          "Free",
          "Free",
          "Free",
          "Free",
          "Free",
          "Free",
          "Free",
          "Free",
          "Free",
          "Free",
          "Free",
          "Free",
          "Free",
          "Free",
          "Free",
          "Free",
          "Free",
          "Free",
          "Free",
          "Free",
          "Free",
          "Free",
          "Free",
          "Free",
          "Free",
          "Free",
          "Free",
          "Free",
          "Free",
          "Free",
          "Free",
          "Free",
          "Free",
          "Free",
          "Free",
          "Free",
          "Free",
          "Free",
          "Free",
          "Free",
          "Free",
          "Free",
          "Free",
          "Free",
          "Free",
          "Free",
          "Free",
          "Free",
          "Free",
          "Free",
          "Free",
          "Free",
          "Free",
          "Free",
          "Free",
          "Free",
          "Free",
          "Free",
          "Free",
          "Free",
          "Free",
          "Free",
          "Free",
          "Free",
          "Free",
          "Free",
          "Free",
          "Free",
          "Free",
          "Free",
          "Free",
          "Free",
          "Free",
          "Free",
          "Free",
          "Free",
          "Free",
          "Free",
          "Free",
          "Free",
          "Free",
          "Free",
          "Free",
          "Free",
          "Free",
          "Free",
          "Free",
          "Free",
          "Free",
          "Free",
          "Free",
          "Free",
          "Free",
          "Free",
          "Free",
          "Free",
          "Free",
          "Free",
          "Free",
          "Free",
          "Free",
          "Free",
          "Free",
          "Free",
          "Free",
          "Free",
          "Free",
          "Free",
          "Free",
          "Free",
          "Free",
          "Free",
          "Free",
          "Free",
          "Free",
          "Free",
          "Free",
          "Free",
          "Free",
          "Free",
          "Free",
          "Free",
          "Free",
          "Free",
          "Free",
          "Free",
          "Free",
          "Free",
          "Free",
          "Free",
          "Free",
          "Free",
          "Free",
          "Free",
          "Free",
          "Free",
          "Free",
          "Free",
          "Free",
          "Free",
          "Free",
          "Free",
          "Free",
          "Free",
          "Free",
          "Free",
          "Free",
          "Free",
          "Free",
          "Free",
          "Free",
          "Free",
          "Free",
          "Free",
          "Free",
          "Free",
          "Free",
          "Free",
          "Free",
          "Free",
          "Free",
          "Free",
          "Free",
          "Free",
          "Free",
          "Free",
          "Free",
          "Free",
          "Free",
          "Free",
          "Free",
          "Free",
          "Free",
          "Free",
          "Free",
          "Free",
          "Free",
          "Free",
          "Free",
          "Free",
          "Free",
          "Free",
          "Free",
          "Free",
          "Free",
          "Free",
          "Free",
          "Free",
          "Free",
          "Free",
          "Free",
          "Free",
          "Free",
          "Free",
          "Free",
          "Free",
          "Free",
          "Free",
          "Free",
          "Free",
          "Free",
          "Free",
          "Free",
          "Free",
          "Free",
          "Free",
          "Free",
          "Free",
          "Free",
          "Free",
          "Free",
          "Free",
          "Free",
          "Free",
          "Free",
          "Free",
          "Free",
          "Free",
          "Free",
          "Free",
          "Free",
          "Free",
          "Free",
          "Free",
          "Free",
          "Free",
          "Free",
          "Free",
          "Free",
          "Free",
          "Free",
          "Free",
          "Free",
          "Free",
          "Free",
          "Free",
          "Free",
          "Free",
          "Free",
          "Free",
          "Free",
          "Free",
          "Free",
          "Free",
          "Free",
          "Free",
          "Free",
          "Free",
          "Free",
          "Free",
          "Free",
          "Free",
          "Free",
          "Free",
          "Free",
          "Free",
          "Free",
          "Free",
          "Free",
          "Free",
          "Free",
          "Free",
          "Free",
          "Free",
          "Free",
          "Free",
          "Free",
          "Free",
          "Free",
          "Free",
          "Free",
          "Free",
          "Free",
          "Free",
          "Free",
          "Free",
          "Free",
          "Free",
          "Free",
          "Free",
          "Free",
          "Free",
          "Free",
          "Free",
          "Free",
          "Free",
          "Free",
          "Free",
          "Free",
          "Free",
          "Free",
          "Free",
          "Free",
          "Free",
          "Free",
          "Free",
          "Free",
          "Free",
          "Free",
          "Free",
          "Free",
          "Free",
          "Free",
          "Free",
          "Free",
          "Free",
          "Free",
          "Free",
          "Free",
          "Free",
          "Free",
          "Free",
          "Free",
          "Free",
          "Free",
          "Free",
          "Free",
          "Free",
          "Free",
          "Free",
          "Free",
          "Free",
          "Free",
          "Free",
          "Free",
          "Free",
          "Free",
          "Free",
          "Free",
          "Free",
          "Free",
          "Free",
          "Free",
          "Free",
          "Free",
          "Free",
          "Free",
          "Free",
          "Free",
          "Free",
          "Free",
          "Free",
          "Free",
          "Free",
          "Free",
          "Free",
          "Free",
          "Free",
          "Free",
          "Free",
          "Free",
          "Free",
          "Free",
          "Free",
          "Free",
          "Free",
          "Free",
          "Free",
          "Free",
          "Free",
          "Free",
          "Free",
          "Free",
          "Free",
          "Free",
          "Free",
          "Free",
          "Free",
          "Free",
          "Free",
          "Free",
          "Free",
          "Free",
          "Free",
          "Free",
          "Free",
          "Free",
          "Free",
          "Free",
          "Free",
          "Free",
          "Free",
          "Free",
          "Free",
          "Free",
          "Free",
          "Free",
          "Free",
          "Free",
          "Free",
          "Free",
          "Free",
          "Free",
          "Free",
          "Free",
          "Free",
          "Free",
          "Free",
          "Free",
          "Free",
          "Free",
          "Free",
          "Free",
          "Free",
          "Free",
          "Free",
          "Free",
          "Free",
          "Free",
          "Free",
          "Free",
          "Free",
          "Free",
          "Free",
          "Free",
          "Free",
          "Free",
          "Free",
          "Free",
          "Free",
          "Free",
          "Free",
          "Free",
          "Free",
          "Free",
          "Free",
          "Free",
          "Free",
          "Free",
          "Free",
          "Free",
          "Free",
          "Free",
          "Free",
          "Free",
          "Free",
          "Free",
          "Free",
          "Free",
          "Free",
          "Free",
          "Free",
          "Free",
          "Free",
          "Free",
          "Free",
          "Free",
          "Free",
          "Free",
          "Free",
          "Free",
          "Free",
          "Free",
          "Free",
          "Free",
          "Free",
          "Free",
          "Free",
          "Free",
          "Free",
          "Free",
          "Free",
          "Free",
          "Free",
          "Free",
          "Free",
          "Free",
          "Free",
          "Free",
          "Free",
          "Free",
          "Free",
          "Free",
          "Free",
          "Free",
          "Free",
          "Free",
          "Free",
          "Free",
          "Free",
          "Free",
          "Free",
          "Free",
          "Free",
          "Free",
          "Free",
          "Free",
          "Free",
          "Free",
          "Free",
          "Free",
          "Free",
          "Free",
          "Free",
          "Free",
          "Free",
          "Free",
          "Free",
          "Free",
          "Free",
          "Free",
          "Free",
          "Free",
          "Free",
          "Free",
          "Free",
          "Free",
          "Free",
          "Free",
          "Free",
          "Free",
          "Free",
          "Free",
          "Free",
          "Free",
          "Free",
          "Free",
          "Free",
          "Free",
          "Free",
          "Free",
          "Free",
          "Free",
          "Free",
          "Free",
          "Free",
          "Free",
          "Free",
          "Free",
          "Free",
          "Free",
          "Free",
          "Free",
          "Free",
          "Free",
          "Free",
          "Free",
          "Free",
          "Free",
          "Free",
          "Free",
          "Free",
          "Free",
          "Free",
          "Free",
          "Free",
          "Free",
          "Free",
          "Free",
          "Free",
          "Free",
          "Free",
          "Free",
          "Free",
          "Free",
          "Free",
          "Free",
          "Free",
          "Free",
          "Free",
          "Free",
          "Free",
          "Free",
          "Free",
          "Free",
          "Free",
          "Free",
          "Free",
          "Free",
          "Free",
          "Free",
          "Free",
          "Free",
          "Free",
          "Free",
          "Free",
          "Free",
          "Free",
          "Free",
          "Free",
          "Free",
          "Free",
          "Free",
          "Free",
          "Free",
          "Free",
          "Free",
          "Free",
          "Free",
          "Free",
          "Free",
          "Free",
          "Free",
          "Free",
          "Free",
          "Free",
          "Free",
          "Free",
          "Free",
          "Free",
          "Free",
          "Free",
          "Free",
          "Free",
          "Free",
          "Free",
          "Free",
          "Free",
          "Free",
          "Free",
          "Free",
          "Free",
          "Free",
          "Free",
          "Free",
          "Free",
          "Free",
          "Free",
          "Free",
          "Free",
          "Free",
          "Free",
          "Free",
          "Free",
          "Free",
          "Free",
          "Free",
          "Free",
          "Free",
          "Free",
          "Free",
          "Free",
          "Free",
          "Free",
          "Free",
          "Free",
          "Free",
          "Free",
          "Free",
          "Free",
          "Free",
          "Free",
          "Free",
          "Free",
          "Free",
          "Free",
          "Free",
          "Free",
          "Free",
          "Free",
          "Free",
          "Free",
          "Free",
          "Free",
          "Free",
          "Free",
          "Free",
          "Free",
          "Free",
          "Free",
          "Free",
          "Free",
          "Free",
          "Free",
          "Free",
          "Free",
          "Free",
          "Free",
          "Free",
          "Free",
          "Free",
          "Free",
          "Free",
          "Free",
          "Free",
          "Free",
          "Free",
          "Free",
          "Free",
          "Free",
          "Free",
          "Free",
          "Free",
          "Free",
          "Free",
          "Free",
          "Free",
          "Free",
          "Free",
          "Free",
          "Free",
          "Free",
          "Free",
          "Free",
          "Free",
          "Free",
          "Free",
          "Free",
          "Free",
          "Free",
          "Free",
          "Free",
          "Free",
          "Free",
          "Free",
          "Free",
          "Free",
          "Free",
          "Free",
          "Free",
          "Free",
          "Free",
          "Free",
          "Free",
          "Free",
          "Free",
          "Free",
          "Free",
          "Free",
          "Free",
          "Free",
          "Free",
          "Free",
          "Free",
          "Free",
          "Free",
          "Free",
          "Free",
          "Free",
          "Free",
          "Free",
          "Free",
          "Free",
          "Free",
          "Free",
          "Free",
          "Free",
          "Free",
          "Free",
          "Free",
          "Free",
          "Free",
          "Free",
          "Free",
          "Free",
          "Free",
          "Free",
          "Free",
          "Free",
          "Free",
          "Free",
          "Free",
          "Free",
          "Free",
          "Free",
          "Free",
          "Free",
          "Free",
          "Free",
          "Free",
          "Free",
          "Free",
          "Free",
          "Free",
          "Free",
          "Free",
          "Free",
          "Free",
          "Free",
          "Free",
          "Free",
          "Free",
          "Free",
          "Free",
          "Free",
          "Free",
          "Free",
          "Free",
          "Free",
          "Free",
          "Free",
          "Free",
          "Free",
          "Free",
          "Free",
          "Free",
          "Free",
          "Free",
          "Free",
          "Free",
          "Free",
          "Free",
          "Free",
          "Free",
          "Free",
          "Free",
          "Free",
          "Free",
          "Free",
          "Free",
          "Free",
          "Free",
          "Free",
          "Free",
          "Free",
          "Free",
          "Free",
          "Free",
          "Free",
          "Free",
          "Free",
          "Free",
          "Free",
          "Free",
          "Free",
          "Free",
          "Free",
          "Free",
          "Free",
          "Free",
          "Free",
          "Free",
          "Free",
          "Free",
          "Free",
          "Free",
          "Free",
          "Free",
          "Free",
          "Free",
          "Free",
          "Free",
          "Free",
          "Free",
          "Free",
          "Free",
          "Free",
          "Free",
          "Free",
          "Free",
          "Free",
          "Free",
          "Free",
          "Free",
          "Free",
          "Free",
          "Free",
          "Free",
          "Free",
          "Free",
          "Free",
          "Free",
          "Free",
          "Free",
          "Free",
          "Free",
          "Free",
          "Free",
          "Free",
          "Free",
          "Free",
          "Free",
          "Free",
          "Free",
          "Free",
          "Free",
          "Free",
          "Free",
          "Free",
          "Free",
          "Free",
          "Free",
          "Free",
          "Free",
          "Free",
          "Free",
          "Free",
          "Free",
          "Free",
          "Free",
          "Free",
          "Free",
          "Free",
          "Free",
          "Free",
          "Free",
          "Free",
          "Free",
          "Free",
          "Free",
          "Free",
          "Free",
          "Free",
          "Free",
          "Free",
          "Free",
          "Free",
          "Free",
          "Free",
          "Free",
          "Free",
          "Free",
          "Free",
          "Free",
          "Free",
          "Free",
          "Free",
          "Free",
          "Free",
          "Free",
          "Free",
          "Free",
          "Free",
          "Free",
          "Free",
          "Free",
          "Free",
          "Free",
          "Free",
          "Free",
          "Free",
          "Free",
          "Free",
          "Free",
          "Free",
          "Free",
          "Free",
          "Free",
          "Free",
          "Free",
          "Free",
          "Free",
          "Free",
          "Free",
          "Free",
          "Free",
          "Free",
          "Free",
          "Free",
          "Free",
          "Free",
          "Free",
          "Free",
          "Free",
          "Free",
          "Free",
          "Free",
          "Free",
          "Free",
          "Free",
          "Free",
          "Free",
          "Free",
          "Free",
          "Free",
          "Free",
          "Free",
          "Free",
          "Free",
          "Free",
          "Free",
          "Free",
          "Free",
          "Free",
          "Free",
          "Free",
          "Free",
          "Free",
          "Free",
          "Free",
          "Free",
          "Free",
          "Free",
          "Free",
          "Free",
          "Free",
          "Free",
          "Free",
          "Free",
          "Free",
          "Free",
          "Free",
          "Free",
          "Free",
          "Free",
          "Free",
          "Free",
          "Free",
          "Free",
          "Free",
          "Free",
          "Free",
          "Free",
          "Free",
          "Free",
          "Free",
          "Free",
          "Free",
          "Free",
          "Free",
          "Free",
          "Free",
          "Free",
          "Free",
          "Free",
          "Free",
          "Free",
          "Free",
          "Free",
          "Free",
          "Free",
          "Free",
          "Free",
          "Free",
          "Free",
          "Free",
          "Free",
          "Free",
          "Free",
          "Free",
          "Free",
          "Free",
          "Free",
          "Free",
          "Free",
          "Free",
          "Free",
          "Free",
          "Free",
          "Free",
          "Free",
          "Free",
          "Free",
          "Free",
          "Free",
          "Free",
          "Free",
          "Free",
          "Free",
          "Free",
          "Free",
          "Free",
          "Free",
          "Free",
          "Free",
          "Free",
          "Free",
          "Free",
          "Free",
          "Free",
          "Free",
          "Free",
          "Free",
          "Free",
          "Free",
          "Free",
          "Free",
          "Free",
          "Free",
          "Free",
          "Free",
          "Free",
          "Free",
          "Free",
          "Free",
          "Free",
          "Free",
          "Free",
          "Free",
          "Free",
          "Free",
          "Free",
          "Free",
          "Free",
          "Free",
          "Free",
          "Free",
          "Free",
          "Free",
          "Free",
          "Free",
          "Free",
          "Free",
          "Free",
          "Free",
          "Free",
          "Free",
          "Free",
          "Free",
          "Free",
          "Free",
          "Free",
          "Free",
          "Free",
          "Free",
          "Free",
          "Free",
          "Free",
          "Free",
          "Free",
          "Free",
          "Free",
          "Free",
          "Free",
          "Free",
          "Free",
          "Free",
          "Free",
          "Free",
          "Free",
          "Free",
          "Free",
          "Free",
          "Free",
          "Free",
          "Free",
          "Free",
          "Free",
          "Free",
          "Free",
          "Free",
          "Free",
          "Free",
          "Free",
          "Free",
          "Free",
          "Free",
          "Free",
          "Free",
          "Free",
          "Free",
          "Free",
          "Free",
          "Free",
          "Free",
          "Free",
          "Free",
          "Free",
          "Free",
          "Free",
          "Free",
          "Free",
          "Free",
          "Free",
          "Free",
          "Free",
          "Free",
          "Free",
          "Free",
          "Free",
          "Free",
          "Free",
          "Free",
          "Free",
          "Free",
          "Free",
          "Free",
          "Free",
          "Free",
          "Free",
          "Free",
          "Free",
          "Free",
          "Free",
          "Free",
          "Free",
          "Free",
          "Free",
          "Free",
          "Free",
          "Free",
          "Free",
          "Free",
          "Free",
          "Free",
          "Free",
          "Free",
          "Free",
          "Free",
          "Free",
          "Free",
          "Free",
          "Free",
          "Free",
          "Free",
          "Free",
          "Free",
          "Free",
          "Free",
          "Free",
          "Free",
          "Free",
          "Free",
          "Free",
          "Free",
          "Free",
          "Free",
          "Free",
          "Free",
          "Free",
          "Free",
          "Free",
          "Free",
          "Free",
          "Free",
          "Free",
          "Free",
          "Free",
          "Free",
          "Free",
          "Free",
          "Free",
          "Free",
          "Free",
          "Free",
          "Free",
          "Free",
          "Free",
          "Free",
          "Free",
          "Free",
          "Free",
          "Free",
          "Free",
          "Free",
          "Free",
          "Free",
          "Free",
          "Free",
          "Free",
          "Free",
          "Free",
          "Free",
          "Free",
          "Free",
          "Free",
          "Free",
          "Free",
          "Free",
          "Free",
          "Free",
          "Free",
          "Free",
          "Free",
          "Free",
          "Free",
          "Free",
          "Free",
          "Free",
          "Free",
          "Free",
          "Free",
          "Free",
          "Free",
          "Free",
          "Free",
          "Free",
          "Free",
          "Free",
          "Free",
          "Free",
          "Free",
          "Free",
          "Free",
          "Free",
          "Free",
          "Free",
          "Free",
          "Free",
          "Free",
          "Free",
          "Free",
          "Free",
          "Free",
          "Free",
          "Free",
          "Free",
          "Free",
          "Free",
          "Free",
          "Free",
          "Free",
          "Free",
          "Free",
          "Free",
          "Free",
          "Free",
          "Free",
          "Free",
          "Free",
          "Free",
          "Free",
          "Free",
          "Free",
          "Free",
          "Free",
          "Free",
          "Free",
          "Free",
          "Free",
          "Free",
          "Free",
          "Free",
          "Free",
          "Free",
          "Free",
          "Free",
          "Free",
          "Free",
          "Free",
          "Free",
          "Free",
          "Free",
          "Free",
          "Free",
          "Free",
          "Free",
          "Free",
          "Free",
          "Free",
          "Free",
          "Free",
          "Free",
          "Free",
          "Free",
          "Free",
          "Free",
          "Free",
          "Free",
          "Free",
          "Free",
          "Free",
          "Free",
          "Free",
          "Free",
          "Free",
          "Free",
          "Free",
          "Free",
          "Free",
          "Free",
          "Free",
          "Free",
          "Free",
          "Free",
          "Free",
          "Free",
          "Free",
          "Free",
          "Free",
          "Free",
          "Free",
          "Free",
          "Free",
          "Free",
          "Free",
          "Free",
          "Free",
          "Free",
          "Free",
          "Free",
          "Free",
          "Free",
          "Free",
          "Free",
          "Free",
          "Free",
          "Free",
          "Free",
          "Free",
          "Free",
          "Free",
          "Free",
          "Free",
          "Free",
          "Free",
          "Free",
          "Free",
          "Free",
          "Free",
          "Free",
          "Free",
          "Free",
          "Free",
          "Free",
          "Free",
          "Free",
          "Free",
          "Free",
          "Free",
          "Free",
          "Free",
          "Free",
          "Free",
          "Free",
          "Free",
          "Free",
          "Free",
          "Free",
          "Free",
          "Free",
          "Free",
          "Free",
          "Free",
          "Free",
          "Free",
          "Free",
          "Free",
          "Free",
          "Free",
          "Free",
          "Free",
          "Free",
          "Free",
          "Free",
          "Free",
          "Free",
          "Free",
          "Free",
          "Free",
          "Free",
          "Free",
          "Free",
          "Free",
          "Free",
          "Free",
          "Free",
          "Free",
          "Free",
          "Free",
          "Free",
          "Free",
          "Free",
          "Free",
          "Free",
          "Free",
          "Free",
          "Free",
          "Free",
          "Free",
          "Free",
          "Free",
          "Free",
          "Free",
          "Free",
          "Free",
          "Free",
          "Free",
          "Free",
          "Free",
          "Free",
          "Free",
          "Free",
          "Free",
          "Free",
          "Free",
          "Free",
          "Free",
          "Free",
          "Free",
          "Free",
          "Free",
          "Free",
          "Free",
          "Free",
          "Free",
          "Free",
          "Free",
          "Free",
          "Free",
          "Free",
          "Free",
          "Free",
          "Free",
          "Free",
          "Free",
          "Free",
          "Free",
          "Free",
          "Free",
          "Free",
          "Free",
          "Free",
          "Free",
          "Free",
          "Free",
          "Free",
          "Free",
          "Free",
          "Free",
          "Free",
          "Free",
          "Free",
          "Free",
          "Free",
          "Free",
          "Free",
          "Free",
          "Free",
          "Free",
          "Free",
          "Free",
          "Free",
          "Free",
          "Free",
          "Free",
          "Free",
          "Free",
          "Free",
          "Free",
          "Free",
          "Free",
          "Free",
          "Free",
          "Free",
          "Free",
          "Free",
          "Free",
          "Free",
          "Free",
          "Free",
          "Free",
          "Free",
          "Free",
          "Free",
          "Free",
          "Free",
          "Free",
          "Free",
          "Free",
          "Free",
          "Free",
          "Free",
          "Free",
          "Free",
          "Free",
          "Free",
          "Free",
          "Free",
          "Free",
          "Free",
          "Free",
          "Free",
          "Free",
          "Free",
          "Free",
          "Free",
          "Free",
          "Free",
          "Free",
          "Free",
          "Free",
          "Free",
          "Free",
          "Free",
          "Free",
          "Free",
          "Free",
          "Free",
          "Free",
          "Free",
          "Free",
          "Free",
          "Free",
          "Free",
          "Free",
          "Free",
          "Free",
          "Free",
          "Free",
          "Free",
          "Free",
          "Free",
          "Free",
          "Free",
          "Free",
          "Free",
          "Free",
          "Free",
          "Free",
          "Free",
          "Free",
          "Free",
          "Free",
          "Free",
          "Free",
          "Free",
          "Free",
          "Free",
          "Free",
          "Free",
          "Free",
          "Free",
          "Free",
          "Free",
          "Free",
          "Free",
          "Free",
          "Free",
          "Free",
          "Free",
          "Free",
          "Free",
          "Free",
          "Free",
          "Free",
          "Free",
          "Free",
          "Free",
          "Free",
          "Free",
          "Free",
          "Free",
          "Free",
          "Free",
          "Free",
          "Free",
          "Free",
          "Free",
          "Free",
          "Free",
          "Free",
          "Free",
          "Free",
          "Free",
          "Free",
          "Free",
          "Free",
          "Free",
          "Free",
          "Free",
          "Free",
          "Free",
          "Free",
          "Free",
          "Free",
          "Free",
          "Free",
          "Free",
          "Free",
          "Free",
          "Free",
          "Free",
          "Free",
          "Free",
          "Free",
          "Free",
          "Free",
          "Free",
          "Free",
          "Free",
          "Free",
          "Free",
          "Free",
          "Free",
          "Free",
          "Free",
          "Free",
          "Free",
          "Free",
          "Free",
          "Free",
          "Free",
          "Free",
          "Free",
          "Free",
          "Free",
          "Free",
          "Free",
          "Free",
          "Free",
          "Free",
          "Free",
          "Free",
          "Free",
          "Free",
          "Free",
          "Free",
          "Free",
          "Free",
          "Free",
          "Free",
          "Free",
          "Free",
          "Free",
          "Free",
          "Free",
          "Free",
          "Free",
          "Free",
          "Free",
          "Free",
          "Free",
          "Free",
          "Free",
          "Free",
          "Free",
          "Free",
          "Free",
          "Free",
          "Free",
          "Free",
          "Free",
          "Free",
          "Free",
          "Free",
          "Free",
          "Free",
          "Free",
          "Free",
          "Free",
          "Free",
          "Free",
          "Free",
          "Free",
          "Free",
          "Free",
          "Free",
          "Free",
          "Free",
          "Free",
          "Free",
          "Free",
          "Free",
          "Free",
          "Free",
          "Free",
          "Free",
          "Free",
          "Free",
          "Free",
          "Free",
          "Free",
          "Free",
          "Free",
          "Free",
          "Free",
          "Free",
          "Free",
          "Free",
          "Free",
          "Free",
          "Free",
          "Free",
          "Free",
          "Free",
          "Free",
          "Free",
          "Free",
          "Free",
          "Free",
          "Free",
          "Free",
          "Free",
          "Free",
          "Free",
          "Free",
          "Free",
          "Free",
          "Free",
          "Free",
          "Free",
          "Free",
          "Free",
          "Free",
          "Free",
          "Free",
          "Free",
          "Free",
          "Free",
          "Free",
          "Free",
          "Free",
          "Free",
          "Free",
          "Free",
          "Free",
          "Free",
          "Free",
          "Free",
          "Free",
          "Free",
          "Free",
          "Free",
          "Free",
          "Free",
          "Free",
          "Free",
          "Free",
          "Free",
          "Free",
          "Free",
          "Free",
          "Free",
          "Free",
          "Free",
          "Free",
          "Free",
          "Free",
          "Free",
          "Free",
          "Free",
          "Free",
          "Free",
          "Free",
          "Free",
          "Free",
          "Free",
          "Free",
          "Free",
          "Free",
          "Free",
          "Free",
          "Free",
          "Free",
          "Free",
          "Free",
          "Free",
          "Free",
          "Free",
          "Free",
          "Free",
          "Free",
          "Free",
          "Free",
          "Free",
          "Free",
          "Free",
          "Free",
          "Free",
          "Free",
          "Free",
          "Free",
          "Free",
          "Free",
          "Free",
          "Free",
          "Free",
          "Free",
          "Free",
          "Free",
          "Free",
          "Free",
          "Free",
          "Free",
          "Free",
          "Free",
          "Free",
          "Free",
          "Free",
          "Free",
          "Free",
          "Free",
          "Free",
          "Free",
          "Free",
          "Free",
          "Free",
          "Free",
          "Free",
          "Free",
          "Free",
          "Free",
          "Free",
          "Free",
          "Free",
          "Free",
          "Free",
          "Free",
          "Free",
          "Free",
          "Free",
          "Free",
          "Free",
          "Free",
          "Free",
          "Free",
          "Free",
          "Free",
          "Free",
          "Free",
          "Free",
          "Free",
          "Free",
          "Free",
          "Free",
          "Free",
          "Free",
          "Free",
          "Free",
          "Free",
          "Free",
          "Free",
          "Free",
          "Free",
          "Free",
          "Free",
          "Free",
          "Free",
          "Free",
          "Free",
          "Free",
          "Free",
          "Free",
          "Free",
          "Free",
          "Free",
          "Free",
          "Free",
          "Free",
          "Free",
          "Free",
          "Free",
          "Free",
          "Free",
          "Free",
          "Free",
          "Free",
          "Free",
          "Free",
          "Free",
          "Free",
          "Free",
          "Free",
          "Free",
          "Free",
          "Free",
          "Free",
          "Free",
          "Free",
          "Free",
          "Free",
          "Free",
          "Free",
          "Free",
          "Free",
          "Free",
          "Free",
          "Free",
          "Free",
          "Free",
          "Free",
          "Free",
          "Free",
          "Free",
          "Free",
          "Free",
          "Free",
          "Free",
          "Free",
          "Free",
          "Free",
          "Free",
          "Free",
          "Free",
          "Free",
          "Free",
          "Free",
          "Free",
          "Free",
          "Free",
          "Free",
          "Free",
          "Free",
          "Free",
          "Free",
          "Free",
          "Free",
          "Free",
          "Free",
          "Free",
          "Free",
          "Free",
          "Free",
          "Free",
          "Free",
          "Free",
          "Free",
          "Free",
          "Free",
          "Free",
          "Free",
          "Free",
          "Free",
          "Free",
          "Free",
          "Free",
          "Free",
          "Free",
          "Free",
          "Free",
          "Free",
          "Free",
          "Free",
          "Free",
          "Free",
          "Free",
          "Free",
          "Free",
          "Free",
          "Free",
          "Free",
          "Free",
          "Free",
          "Free",
          "Free",
          "Free",
          "Free",
          "Free",
          "Free",
          "Free",
          "Free",
          "Free",
          "Free",
          "Free",
          "Free",
          "Free",
          "Free",
          "Free",
          "Free",
          "Free",
          "Free",
          "Free",
          "Free",
          "Free",
          "Free",
          "Free",
          "Free",
          "Free",
          "Free",
          "Free",
          "Free",
          "Free",
          "Free",
          "Free",
          "Free",
          "Free",
          "Free",
          "Free",
          "Free",
          "Free",
          "Free",
          "Free",
          "Free",
          "Free",
          "Free",
          "Free",
          "Free",
          "Free",
          "Free",
          "Free",
          "Free",
          "Free",
          "Free",
          "Free",
          "Free",
          "Free",
          "Free",
          "Free",
          "Free",
          "Free",
          "Free",
          "Free",
          "Free",
          "Free",
          "Free",
          "Free",
          "Free",
          "Free",
          "Free",
          "Free",
          "Free",
          "Free",
          "Free",
          "Free",
          "Free",
          "Free",
          "Free",
          "Free",
          "Free",
          "Free",
          "Free",
          "Free",
          "Free",
          "Free",
          "Free",
          "Free",
          "Free",
          "Free",
          "Free",
          "Free",
          "Free",
          "Free",
          "Free",
          "Free",
          "Free",
          "Free",
          "Free",
          "Free",
          "Free",
          "Free",
          "Free",
          "Free",
          "Free",
          "Free",
          "Free",
          "Free",
          "Free",
          "Free",
          "Free",
          "Free",
          "Free",
          "Free",
          "Free",
          "Free",
          "Free",
          "Free",
          "Free",
          "Free",
          "Free",
          "Free",
          "Free",
          "Free",
          "Free",
          "Free",
          "Free",
          "Free",
          "Free",
          "Free",
          "Free",
          "Free",
          "Free",
          "Free",
          "Free",
          "Free",
          "Free",
          "Free",
          "Free",
          "Free",
          "Free",
          "Free",
          "Free",
          "Free",
          "Free",
          "Free",
          "Free",
          "Free",
          "Free",
          "Free",
          "Free",
          "Free",
          "Free",
          "Free",
          "Free",
          "Free",
          "Free",
          "Free",
          "Free",
          "Free",
          "Free",
          "Free",
          "Free",
          "Free",
          "Free",
          "Free",
          "Free",
          "Free",
          "Free",
          "Free",
          "Free",
          "Free",
          "Free",
          "Free",
          "Free",
          "Free",
          "Free",
          "Free",
          "Free",
          "Free",
          "Free",
          "Free",
          "Free",
          "Free",
          "Free",
          "Free",
          "Free",
          "Free",
          "Free",
          "Free",
          "Free",
          "Free",
          "Free",
          "Free",
          "Free",
          "Free",
          "Free",
          "Free",
          "Free",
          "Free",
          "Free",
          "Free",
          "Free",
          "Free",
          "Free",
          "Free",
          "Free",
          "Free",
          "Free",
          "Free",
          "Free",
          "Free",
          "Free",
          "Free",
          "Free",
          "Free",
          "Free",
          "Free",
          "Free",
          "Free",
          "Free",
          "Free",
          "Free",
          "Free",
          "Free",
          "Free",
          "Free",
          "Free",
          "Free",
          "Free",
          "Free",
          "Free",
          "Free",
          "Free",
          "Free",
          "Free",
          "Free",
          "Free",
          "Free",
          "Free",
          "Free",
          "Free",
          "Free",
          "Free",
          "Free",
          "Free",
          "Free",
          "Free",
          "Free",
          "Free",
          "Free",
          "Free",
          "Free",
          "Free",
          "Free",
          "Free",
          "Free",
          "Free",
          "Free",
          "Free",
          "Free",
          "Free",
          "Free",
          "Free",
          "Free",
          "Free",
          "Free",
          "Free",
          "Free",
          "Free",
          "Free",
          "Free",
          "Free",
          "Free",
          "Free",
          "Free",
          "Free",
          "Free",
          "Free",
          "Free",
          "Free",
          "Free",
          "Free",
          "Free",
          "Free",
          "Free",
          "Free",
          "Free",
          "Free",
          "Free",
          "Free",
          "Free",
          "Free",
          "Free",
          "Free",
          "Free",
          "Free",
          "Free",
          "Free",
          "Free",
          "Free",
          "Free",
          "Free",
          "Free",
          "Free",
          "Free",
          "Free",
          "Free",
          "Free",
          "Free",
          "Free",
          "Free",
          "Free",
          "Free",
          "Free",
          "Free",
          "Free",
          "Free",
          "Free",
          "Free",
          "Free",
          "Free",
          "Free",
          "Free",
          "Free",
          "Free",
          "Free",
          "Free",
          "Free",
          "Free",
          "Free",
          "Free",
          "Free",
          "Free",
          "Free",
          "Free",
          "Free",
          "Free",
          "Free",
          "Free",
          "Free",
          "Free",
          "Free",
          "Free",
          "Free",
          "Free",
          "Free",
          "Free",
          "Free",
          "Free",
          "Free",
          "Free",
          "Free",
          "Free",
          "Free",
          "Free",
          "Free",
          "Free",
          "Free",
          "Free",
          "Free",
          "Free",
          "Free",
          "Free",
          "Free",
          "Free",
          "Free",
          "Free",
          "Free",
          "Free",
          "Free",
          "Free",
          "Free",
          "Free",
          "Free",
          "Free",
          "Free",
          "Free",
          "Free",
          "Free",
          "Free",
          "Free",
          "Free",
          "Free",
          "Free",
          "Free",
          "Free",
          "Free",
          "Free",
          "Free",
          "Free",
          "Free",
          "Free",
          "Free",
          "Free",
          "Free",
          "Free",
          "Free",
          "Free",
          "Free",
          "Free",
          "Free",
          "Free",
          "Free",
          "Free",
          "Free",
          "Free",
          "Free",
          "Free",
          "Free",
          "Free",
          "Free",
          "Free",
          "Free",
          "Free",
          "Free",
          "Free",
          "Free",
          "Free",
          "Free",
          "Free",
          "Free",
          "Free",
          "Free",
          "Free",
          "Free",
          "Free",
          "Free",
          "Free",
          "Free",
          "Free",
          "Free",
          "Free",
          "Free",
          "Free",
          "Free",
          "Free",
          "Free",
          "Free",
          "Free",
          "Free",
          "Free",
          "Free",
          "Free",
          "Free",
          "Free",
          "Free",
          "Free",
          "Free",
          "Free",
          "Free",
          "Free",
          "Free",
          "Free",
          "Free",
          "Free",
          "Free",
          "Free",
          "Free",
          "Free",
          "Free",
          "Free",
          "Free",
          "Free",
          "Free",
          "Free",
          "Free",
          "Free",
          "Free",
          "Free",
          "Free",
          "Free",
          "Free",
          "Free",
          "Free",
          "Free",
          "Free",
          "Free",
          "Free",
          "Free",
          "Free",
          "Free",
          "Free",
          "Free",
          "Free",
          "Free",
          "Free",
          "Free",
          "Free",
          "Free",
          "Free",
          "Free",
          "Free",
          "Free",
          "Free",
          "Free",
          "Free",
          "Free",
          "Free",
          "Free",
          "Free",
          "Free",
          "Free",
          "Free",
          "Free",
          "Free",
          "Free",
          "Free",
          "Free",
          "Free",
          "Free",
          "Free",
          "Free",
          "Free",
          "Free",
          "Free",
          "Free",
          "Free",
          "Free",
          "Free",
          "Free",
          "Free",
          "Free",
          "Free",
          "Free",
          "Free",
          "Free",
          "Free",
          "Free",
          "Free",
          "Free",
          "Free",
          "Free",
          "Free",
          "Free",
          "Free",
          "Free",
          "Free",
          "Free",
          "Free",
          "Free",
          "Free",
          "Free",
          "Free",
          "Free",
          "Free",
          "Free",
          "Free",
          "Free",
          "Free",
          "Free",
          "Free",
          "Free",
          "Free",
          "Free",
          "Free",
          "Free",
          "Free",
          "Free",
          "Free",
          "Free",
          "Free",
          "Free",
          "Free",
          "Free",
          "Free",
          "Free",
          "Free",
          "Free",
          "Free",
          "Free",
          "Free",
          "Free",
          "Free",
          "Free",
          "Free",
          "Free",
          "Free",
          "Free",
          "Free",
          "Free",
          "Free",
          "Free",
          "Free",
          "Free",
          "Free",
          "Free",
          "Free",
          "Free",
          "Free",
          "Free",
          "Free",
          "Free",
          "Free",
          "Free",
          "Free",
          "Free",
          "Free",
          "Free",
          "Free",
          "Free",
          "Free",
          "Free",
          "Free",
          "Free",
          "Free",
          "Free",
          "Free",
          "Free",
          "Free",
          "Free",
          "Free",
          "Free",
          "Free",
          "Free",
          "Free",
          "Free",
          "Free",
          "Free",
          "Free",
          "Free",
          "Free",
          "Free",
          "Free",
          "Free",
          "Free",
          "Free",
          "Free",
          "Free",
          "Free",
          "Free",
          "Free",
          "Free",
          "Free",
          "Free",
          "Free",
          "Free",
          "Free",
          "Free",
          "Free",
          "Free",
          "Free",
          "Free",
          "Free",
          "Free",
          "Free",
          "Free",
          "Free",
          "Free",
          "Free",
          "Free",
          "Free",
          "Free",
          "Free",
          "Free",
          "Free",
          "Free",
          "Free",
          "Free",
          "Free",
          "Free",
          "Free",
          "Free",
          "Free",
          "Free",
          "Free",
          "Free",
          "Free",
          "Free",
          "Free",
          "Free",
          "Free",
          "Free",
          "Free",
          "Free",
          "Free",
          "Free",
          "Free",
          "Free",
          "Free",
          "Free",
          "Free",
          "Free",
          "Free",
          "Free",
          "Free",
          "Free",
          "Free",
          "Free",
          "Free",
          "Free",
          "Free",
          "Free",
          "Free",
          "Free",
          "Free",
          "Free",
          "Free",
          "Free",
          "Free",
          "Free",
          "Free",
          "Free",
          "Free",
          "Free",
          "Free",
          "Free",
          "Free",
          "Free",
          "Free",
          "Free",
          "Free",
          "Free",
          "Free",
          "Free",
          "Free",
          "Free",
          "Free",
          "Free",
          "Free",
          "Free",
          "Free",
          "Free",
          "Free",
          "Free",
          "Free",
          "Free",
          "Free",
          "Free",
          "Free",
          "Free",
          "Free",
          "Free",
          "Free",
          "Free",
          "Free",
          "Free",
          "Free",
          "Free",
          "Free",
          "Free",
          "Free",
          "Free",
          "Free",
          "Free",
          "Free",
          "Free",
          "Free",
          "Free",
          "Free",
          "Free",
          "Free",
          "Free",
          "Free",
          "Free",
          "Free",
          "Free",
          "Free",
          "Free",
          "Free",
          "Free",
          "Free",
          "Free",
          "Free",
          "Free",
          "Free",
          "Free",
          "Free",
          "Free",
          "Free",
          "Free",
          "Free",
          "Free",
          "Free",
          "Free",
          "Free",
          "Free",
          "Free",
          "Free",
          "Free",
          "Free",
          "Free",
          "Free",
          "Free",
          "Free",
          "Free",
          "Free",
          "Free",
          "Free",
          "Free",
          "Free",
          "Free",
          "Free",
          "Free",
          "Free",
          "Free",
          "Free",
          "Free",
          "Free",
          "Free",
          "Free",
          "Free",
          "Free",
          "Free",
          "Free",
          "Free",
          "Free",
          "Free",
          "Free",
          "Free",
          "Free",
          "Free",
          "Free",
          "Free",
          "Free",
          "Free",
          "Free",
          "Free",
          "Free",
          "Free",
          "Free",
          "Free",
          "Free",
          "Free",
          "Free",
          "Free",
          "Free",
          "Free",
          "Free",
          "Free",
          "Free",
          "Free",
          "Free",
          "Free",
          "Free",
          "Free",
          "Free",
          "Free",
          "Free",
          "Free",
          "Free",
          "Free",
          "Free",
          "Free",
          "Free",
          "Free",
          "Free",
          "Free",
          "Free",
          "Free",
          "Free",
          "Free",
          "Free",
          "Free",
          "Free",
          "Free",
          "Free",
          "Free",
          "Free",
          "Free",
          "Free",
          "Free",
          "Free",
          "Free",
          "Free",
          "Free",
          "Free",
          "Free",
          "Free",
          "Free",
          "Free",
          "Free",
          "Free",
          "Free",
          "Free",
          "Free",
          "Free",
          "Free",
          "Free",
          "Free",
          "Free",
          "Free",
          "Free",
          "Free",
          "Free",
          "Free",
          "Free",
          "Free",
          "Free",
          "Free",
          "Free",
          "Free",
          "Free",
          "Free",
          "Free",
          "Free",
          "Free",
          "Free",
          "Free",
          "Free",
          "Free",
          "Free",
          "Free",
          "Free",
          "Free",
          "Free",
          "Free",
          "Free",
          "Free",
          "Free",
          "Free",
          "Free",
          "Free",
          "Free",
          "Free",
          "Free",
          "Free",
          "Free",
          "Free",
          "Free",
          "Free",
          "Free",
          "Free",
          "Free",
          "Free",
          "Free",
          "Free",
          "Free",
          "Free",
          "Free",
          "Free",
          "Free",
          "Free",
          "Free",
          "Free",
          "Free",
          "Free",
          "Free",
          "Free",
          "Free",
          "Free",
          "Free",
          "Free",
          "Free",
          "Free",
          "Free",
          "Free",
          "Free",
          "Free",
          "Free",
          "Free",
          "Free",
          "Free",
          "Free",
          "Free",
          "Free",
          "Free",
          "Free",
          "Free",
          "Free",
          "Free",
          "Free",
          "Free",
          "Free",
          "Free",
          "Free",
          "Free",
          "Free",
          "Free",
          "Free",
          "Free",
          "Free",
          "Free",
          "Free",
          "Free",
          "Free",
          "Free",
          "Free",
          "Free",
          "Free",
          "Free",
          "Free",
          "Free",
          "Free",
          "Free",
          "Free",
          "Free",
          "Free",
          "Free",
          "Free",
          "Free",
          "Free",
          "Free",
          "Free",
          "Free",
          "Free",
          "Free",
          "Free",
          "Free",
          "Free",
          "Free",
          "Free",
          "Free",
          "Free",
          "Free",
          "Free",
          "Free",
          "Free",
          "Free",
          "Free",
          "Free",
          "Free",
          "Free",
          "Free",
          "Free",
          "Free",
          "Free",
          "Free",
          "Free",
          "Free",
          "Free",
          "Free",
          "Free",
          "Free",
          "Free",
          "Free",
          "Free",
          "Free",
          "Free",
          "Free",
          "Free",
          "Free",
          "Free",
          "Free",
          "Free",
          "Free",
          "Free",
          "Free",
          "Free",
          "Free",
          "Free",
          "Free",
          "Free",
          "Free",
          "Free",
          "Free",
          "Free",
          "Free",
          "Free",
          "Free",
          "Free",
          "Free",
          "Free",
          "Free",
          "Free",
          "Free",
          "Free",
          "Free",
          "Free",
          "Free",
          "Free",
          "Free",
          "Free",
          "Free",
          "Free",
          "Free",
          "Free",
          "Free",
          "Free",
          "Free",
          "Free",
          "Free",
          "Free",
          "Free",
          "Free",
          "Free",
          "Free",
          "Free",
          "Free",
          "Free",
          "Free",
          "Free",
          "Free",
          "Free",
          "Free",
          "Free",
          "Free",
          "Free",
          "Free",
          "Free",
          "Free",
          "Free",
          "Free",
          "Free",
          "Free",
          "Free",
          "Free",
          "Free",
          "Free",
          "Free",
          "Free",
          "Free",
          "Free",
          "Free",
          "Free",
          "Free",
          "Free",
          "Free",
          "Free",
          "Free",
          "Free",
          "Free",
          "Free",
          "Free",
          "Free",
          "Free",
          "Free",
          "Free",
          "Free",
          "Free",
          "Free",
          "Free",
          "Free",
          "Free",
          "Free",
          "Free",
          "Free",
          "Free",
          "Free",
          "Free",
          "Free",
          "Free",
          "Free",
          "Free",
          "Free",
          "Free",
          "Free",
          "Free",
          "Free",
          "Free",
          "Free",
          "Free",
          "Free",
          "Free",
          "Free",
          "Free",
          "Free",
          "Free",
          "Free",
          "Free",
          "Free",
          "Free",
          "Free",
          "Free",
          "Free",
          "Free",
          "Free",
          "Free",
          "Free",
          "Free",
          "Free",
          "Free",
          "Free",
          "Free",
          "Free",
          "Free",
          "Free",
          "Free",
          "Free",
          "Free",
          "Free",
          "Free",
          "Free",
          "Free",
          "Free",
          "Free",
          "Free",
          "Free",
          "Free",
          "Free",
          "Free",
          "Free",
          "Free",
          "Free",
          "Free",
          "Free",
          "Free",
          "Free",
          "Free",
          "Free",
          "Free",
          "Free",
          "Free",
          "Free",
          "Free",
          "Free",
          "Free",
          "Free",
          "Free",
          "Free",
          "Free",
          "Free",
          "Free",
          "Free",
          "Free",
          "Free",
          "Free",
          "Free",
          "Free",
          "Free",
          "Free",
          "Free",
          "Free",
          "Free",
          "Free",
          "Free",
          "Free",
          "Free",
          "Free",
          "Free",
          "Free",
          "Free",
          "Free",
          "Free",
          "Free",
          "Free",
          "Free",
          "Free",
          "Free",
          "Free",
          "Free",
          "Free",
          "Free",
          "Free",
          "Free",
          "Free",
          "Free",
          "Free",
          "Free",
          "Free",
          "Free",
          "Free",
          "Free",
          "Free",
          "Free",
          "Free",
          "Free",
          "Free",
          "Free",
          "Free",
          "Free",
          "Free",
          "Free",
          "Free",
          "Free",
          "Free",
          "Free",
          "Free",
          "Free",
          "Free",
          "Free",
          "Free",
          "Free",
          "Free",
          "Free",
          "Free",
          "Free",
          "Free",
          "Free",
          "Free",
          "Free",
          "Free",
          "Free",
          "Free",
          "Free",
          "Free",
          "Free",
          "Free",
          "Free",
          "Free",
          "Free",
          "Free",
          "Free",
          "Free",
          "Free",
          "Free",
          "Free",
          "Free",
          "Free",
          "Free",
          "Free",
          "Free",
          "Free",
          "Free",
          "Free",
          "Free",
          "Free",
          "Free",
          "Free",
          "Free",
          "Free",
          "Free",
          "Free",
          "Free",
          "Free",
          "Free",
          "Free",
          "Free",
          "Free",
          "Free",
          "Free",
          "Free",
          "Free",
          "Free",
          "Free",
          "Free",
          "Free",
          "Free",
          "Free",
          "Free",
          "Free",
          "Free",
          "Free",
          "Free",
          "Free",
          "Free",
          "Free",
          "Free",
          "Free",
          "Free",
          "Free",
          "Free",
          "Free",
          "Free",
          "Free",
          "Free",
          "Free",
          "Free",
          "Free",
          "Free",
          "Free",
          "Free",
          "Free",
          "Free",
          "Free",
          "Free",
          "Free",
          "Free",
          "Free",
          "Free",
          "Free",
          "Free",
          "Free",
          "Free",
          "Free",
          "Free",
          "Free",
          "Free",
          "Free",
          "Free",
          "Free",
          "Free",
          "Free",
          "Free",
          "Free",
          "Free",
          "Free",
          "Free",
          "Free",
          "Free",
          "Free",
          "Free",
          "Free",
          "Free",
          "Free",
          "Free",
          "Free",
          "Free",
          "Free",
          "Free",
          "Free",
          "Free",
          "Free",
          "Free",
          "Free",
          "Free",
          "Free",
          "Free",
          "Free",
          "Free",
          "Free",
          "Free",
          "Free",
          "Free",
          "Free",
          "Free",
          "Free",
          "Free",
          "Free",
          "Free",
          "Free",
          "Free",
          "Free",
          "Free",
          "Free",
          "Free",
          "Free",
          "Free",
          "Free",
          "Free",
          "Free",
          "Free",
          "Free",
          "Free",
          "Free",
          "Free",
          "Free",
          "Free",
          "Free",
          "Free",
          "Free",
          "Free",
          "Free",
          "Free",
          "Free",
          "Free",
          "Free",
          "Free",
          "Free",
          "Free",
          "Free",
          "Free",
          "Free",
          "Free",
          "Free",
          "Free",
          "Free",
          "Free",
          "Free",
          "Free",
          "Free",
          "Free",
          "Free",
          "Free",
          "Free",
          "Free",
          "Free",
          "Free",
          "Free",
          "Free",
          "Free",
          "Free",
          "Free",
          "Free",
          "Free",
          "Free",
          "Free",
          "Free",
          "Free",
          "Free",
          "Free",
          "Free",
          "Free",
          "Free",
          "Free",
          "Free",
          "Free",
          "Free",
          "Free",
          "Free",
          "Free",
          "Free",
          "Free",
          "Free",
          "Free",
          "Free",
          "Free",
          "Free",
          "Free",
          "Free",
          "Free",
          "Free",
          "Free",
          "Free",
          "Free",
          "Free",
          "Free",
          "Free",
          "Free",
          "Free",
          "Free",
          "Free",
          "Free",
          "Free",
          "Free",
          "Free",
          "Free",
          "Free",
          "Free",
          "Free",
          "Free",
          "Free",
          "Free",
          "Free",
          "Free",
          "Free",
          "Free",
          "Free",
          "Free",
          "Free",
          "Free",
          "Free",
          "Free",
          "Free",
          "Free",
          "Free",
          "Free",
          "Free",
          "Free",
          "Free",
          "Free",
          "Free",
          "Free",
          "Free",
          "Free",
          "Free",
          "Free",
          "Free",
          "Free",
          "Free",
          "Free",
          "Free",
          "Free",
          "Free",
          "Free",
          "Free",
          "Free",
          "Free",
          "Free",
          "Free",
          "Free",
          "Free",
          "Free",
          "Free",
          "Free",
          "Free",
          "Free",
          "Free",
          "Free",
          "Free",
          "Free",
          "Free",
          "Free",
          "Free",
          "Free",
          "Free",
          "Free",
          "Free",
          "Free",
          "Free",
          "Free",
          "Free",
          "Free",
          "Free",
          "Free",
          "Free",
          "Free",
          "Free",
          "Free",
          "Free",
          "Free",
          "Free",
          "Free",
          "Free",
          "Free",
          "Free",
          "Free",
          "Free",
          "Free",
          "Free",
          "Free",
          "Free",
          "Free",
          "Free",
          "Free",
          "Free",
          "Free",
          "Free",
          "Free",
          "Free",
          "Free",
          "Free",
          "Free",
          "Free",
          "Free",
          "Free",
          "Free",
          "Free",
          "Free",
          "Free",
          "Free",
          "Free",
          "Free",
          "Free",
          "Free",
          "Free",
          "Free",
          "Free",
          "Free",
          "Free",
          "Free",
          "Free",
          "Free",
          "Free",
          "Free",
          "Free",
          "Free",
          "Free",
          "Free",
          "Free",
          "Free",
          "Free",
          "Free",
          "Free",
          "Free",
          "Free",
          "Free",
          "Free",
          "Free",
          "Free",
          "Free",
          "Free",
          "Free",
          "Free",
          "Free",
          "Free",
          "Free",
          "Free",
          "Free",
          "Free",
          "Free",
          "Free",
          "Free",
          "Free",
          "Free",
          "Free",
          "Free",
          "Free",
          "Free",
          "Free",
          "Free",
          "Free",
          "Free",
          "Free",
          "Free",
          "Free",
          "Free",
          "Free",
          "Free",
          "Free",
          "Free",
          "Free",
          "Free",
          "Free",
          "Free",
          "Free",
          "Free",
          "Free",
          "Free",
          "Free",
          "Free",
          "Free",
          "Free",
          "Free",
          "Free",
          "Free",
          "Free",
          "Free",
          "Free",
          "Free",
          "Free",
          "Free",
          "Free",
          "Free",
          "Free",
          "Free",
          "Free",
          "Free",
          "Free",
          "Free",
          "Free",
          "Free",
          "Free",
          "Free",
          "Free",
          "Free",
          "Free",
          "Free",
          "Free",
          "Free",
          "Free",
          "Free",
          "Free",
          "Free",
          "Free",
          "Free",
          "Free",
          "Free",
          "Free",
          "Free",
          "Free",
          "Free",
          "Free",
          "Free",
          "Free",
          "Free",
          "Free",
          "Free",
          "Free",
          "Free",
          "Free",
          "Free",
          "Free",
          "Free",
          "Free",
          "Free",
          "Free",
          "Free",
          "Free",
          "Free",
          "Free",
          "Free",
          "Free",
          "Free",
          "Free",
          "Free",
          "Free",
          "Free",
          "Free",
          "Free",
          "Free",
          "Free",
          "Free",
          "Free",
          "Free",
          "Free",
          "Free",
          "Free",
          "Free",
          "Free",
          "Free",
          "Free",
          "Free",
          "Free",
          "Free",
          "Free",
          "Free",
          "Free",
          "Free",
          "Free",
          "Free",
          "Free",
          "Free",
          "Free",
          "Free",
          "Free",
          "Free",
          "Free",
          "Free",
          "Free",
          "Free",
          "Free",
          "Free",
          "Free",
          "Free",
          "Free",
          "Free",
          "Free",
          "Free",
          "Free",
          "Free",
          "Free",
          "Free",
          "Free",
          "Free",
          "Free",
          "Free",
          "Free",
          "Free",
          "Free",
          "Free",
          "Free",
          "Free",
          "Free",
          "Free",
          "Free",
          "Free",
          "Free",
          "Free",
          "Free",
          "Free",
          "Free",
          "Free",
          "Free",
          "Free",
          "Free",
          "Free",
          "Free",
          "Free",
          "Free",
          "Free",
          "Free",
          "Free",
          "Free",
          "Free",
          "Free",
          "Free",
          "Free",
          "Free",
          "Free",
          "Free",
          "Free",
          "Free",
          "Free",
          "Free",
          "Free",
          "Free",
          "Free",
          "Free",
          "Free",
          "Free",
          "Free",
          "Free",
          "Free",
          "Free",
          "Free",
          "Free",
          "Free",
          "Free",
          "Free",
          "Free",
          "Free",
          "Free",
          "Free",
          "Free",
          "Free",
          "Free",
          "Free",
          "Free",
          "Free",
          "Free",
          "Free",
          "Free",
          "Free",
          "Free",
          "Free",
          "Free",
          "Free",
          "Free",
          "Free",
          "Free",
          "Free",
          "Free",
          "Free",
          "Free",
          "Free",
          "Free",
          "Free",
          "Free",
          "Free",
          "Free",
          "Free",
          "Free",
          "Free",
          "Free",
          "Free",
          "Free",
          "Free",
          "Free",
          "Free",
          "Free",
          "Free",
          "Free",
          "Free",
          "Free",
          "Free",
          "Free",
          "Free",
          "Free",
          "Free",
          "Free",
          "Free",
          "Free",
          "Free",
          "Free",
          "Free",
          "Free",
          "Free",
          "Free",
          "Free",
          "Free",
          "Free",
          "Free",
          "Free",
          "Free",
          "Free",
          "Free",
          "Free",
          "Free",
          "Free",
          "Free",
          "Free",
          "Free",
          "Free",
          "Free",
          "Free",
          "Free",
          "Free",
          "Free",
          "Free",
          "Free",
          "Free",
          "Free",
          "Free",
          "Free",
          "Free",
          "Free",
          "Free",
          "Free",
          "Free",
          "Free",
          "Free",
          "Free",
          "Free",
          "Free",
          "Free",
          "Free",
          "Free",
          "Free",
          "Free",
          "Free",
          "Free",
          "Free",
          "Free",
          "Free",
          "Free",
          "Free",
          "Free",
          "Free",
          "Free",
          "Free",
          "Free",
          "Free",
          "Free",
          "Free",
          "Free",
          "Free",
          "Free",
          "Free",
          "Free",
          "Free",
          "Free",
          "Free",
          "Free",
          "Free",
          "Free",
          "Free",
          "Free",
          "Free",
          "Free",
          "Free",
          "Free",
          "Free",
          "Free",
          "Free",
          "Free",
          "Free",
          "Free",
          "Free",
          "Free",
          "Free",
          "Free",
          "Free",
          "Free",
          "Free",
          "Free",
          "Free",
          "Free",
          "Free",
          "Free",
          "Free",
          "Free",
          "Free",
          "Free",
          "Free",
          "Free",
          "Free",
          "Free",
          "Free",
          "Free",
          "Free",
          "Free",
          "Free",
          "Free",
          "Free",
          "Free",
          "Free",
          "Free",
          "Free",
          "Free",
          "Free",
          "Free",
          "Free",
          "Free",
          "Free",
          "Free",
          "Free",
          "Free",
          "Free",
          "Free",
          "Free",
          "Free",
          "Free",
          "Free",
          "Free",
          "Free",
          "Free",
          "Free",
          "Free",
          "Free",
          "Free",
          "Free",
          "Free",
          "Free",
          "Free",
          "Free",
          "Free",
          "Free",
          "Free",
          "Free",
          "Free",
          "Free",
          "Free",
          "Free",
          "Free",
          "Free",
          "Free",
          "Free",
          "Free",
          "Free",
          "Free",
          "Free",
          "Free",
          "Free",
          "Free",
          "Free",
          "Free",
          "Free",
          "Free",
          "Free",
          "Free",
          "Free",
          "Free",
          "Free",
          "Free",
          "Free",
          "Free",
          "Free",
          "Free",
          "Free",
          "Free",
          "Free",
          "Free",
          "Free",
          "Free",
          "Free",
          "Free",
          "Free",
          "Free",
          "Free",
          "Free",
          "Free",
          "Free",
          "Free",
          "Free",
          "Free",
          "Free",
          "Free",
          "Free",
          "Free",
          "Free",
          "Free",
          "Free",
          "Free",
          "Free",
          "Free",
          "Free",
          "Free",
          "Free",
          "Free",
          "Free",
          "Free",
          "Free",
          "Free",
          "Free",
          "Free",
          "Free",
          "Free",
          "Free",
          "Free",
          "Free",
          "Free",
          "Free",
          "Free",
          "Free",
          "Free",
          "Free",
          "Free",
          "Free",
          "Free",
          "Free",
          "Free",
          "Free",
          "Free",
          "Free",
          "Free",
          "Free",
          "Free",
          "Free",
          "Free",
          "Free",
          "Free",
          "Free",
          "Free",
          "Free",
          "Free",
          "Free",
          "Free",
          "Free",
          "Free",
          "Free",
          "Free",
          "Free",
          "Free",
          "Free",
          "Free",
          "Free",
          "Free",
          "Free",
          "Free",
          "Free",
          "Free",
          "Free",
          "Free",
          "Free",
          "Free",
          "Free",
          "Free",
          "Free",
          "Free",
          "Free",
          "Free",
          "Free",
          "Free",
          "Free",
          "Free",
          "Free",
          "Free",
          "Free",
          "Free",
          "Free",
          "Free",
          "Free",
          "Free",
          "Free",
          "Free",
          "Free",
          "Free",
          "Free",
          "Free",
          "Free",
          "Free",
          "Free",
          "Free",
          "Free",
          "Free",
          "Free",
          "Free",
          "Free",
          "Free",
          "Free",
          "Free",
          "Free",
          "Free",
          "Free",
          "Free",
          "Free",
          "Free",
          "Free",
          "Free",
          "Free",
          "Free",
          "Free",
          "Free",
          "Free",
          "Free",
          "Free",
          "Free",
          "Free",
          "Free",
          "Free",
          "Free",
          "Free",
          "Free",
          "Free",
          "Free",
          "Free",
          "Free",
          "Free",
          "Free",
          "Free",
          "Free",
          "Free",
          "Free",
          "Free",
          "Free",
          "Free",
          "Free",
          "Free",
          "Free",
          "Free",
          "Free",
          "Free",
          "Free",
          "Free",
          "Free",
          "Free",
          "Free",
          "Free",
          "Free",
          "Free",
          "Free",
          "Free",
          "Free",
          "Free",
          "Free",
          "Free",
          "Free",
          "Free",
          "Free",
          "Free",
          "Free",
          "Free",
          "Free",
          "Free",
          "Free",
          "Free",
          "Free",
          "Free",
          "Free",
          "Free",
          "Free",
          "Free",
          "Free",
          "Free",
          "Free",
          "Free",
          "Free",
          "Free",
          "Free",
          "Free",
          "Free",
          "Free",
          "Free",
          "Free",
          "Free",
          "Free",
          "Free",
          "Free",
          "Free",
          "Free",
          "Free",
          "Free",
          "Free",
          "Free",
          "Free",
          "Free",
          "Free",
          "Free",
          "Free",
          "Free",
          "Free",
          "Free",
          "Free",
          "Free",
          "Free",
          "Free",
          "Free",
          "Free",
          "Free",
          "Free",
          "Free",
          "Free",
          "Free",
          "Free",
          "Free",
          "Free",
          "Free",
          "Free",
          "Free",
          "Free",
          "Free",
          "Free",
          "Free",
          "Free",
          "Free",
          "Free",
          "Free",
          "Free",
          "Free",
          "Free",
          "Free",
          "Free",
          "Free",
          "Free",
          "Free",
          "Free",
          "Free",
          "Free",
          "Free",
          "Free",
          "Free",
          "Free",
          "Free",
          "Free",
          "Free",
          "Free",
          "Free",
          "Free",
          "Free",
          "Free",
          "Free",
          "Free",
          "Free",
          "Free",
          "Free",
          "Free",
          "Free",
          "Free",
          "Free",
          "Free",
          "Free",
          "Free",
          "Free",
          "Free",
          "Free",
          "Free",
          "Free",
          "Free",
          "Free",
          "Free",
          "Free",
          "Free",
          "Free",
          "Free",
          "Free",
          "Free",
          "Free",
          "Free",
          "Free",
          "Free",
          "Free",
          "Free",
          "Free",
          "Free",
          "Free",
          "Free",
          "Free",
          "Free",
          "Free",
          "Free",
          "Free",
          "Free",
          "Free",
          "Free",
          "Free",
          "Free",
          "Free",
          "Free",
          "Free",
          "Free",
          "Free",
          "Free",
          "Free",
          "Free",
          "Free",
          "Free",
          "Free",
          "Free",
          "Free",
          "Free",
          "Free",
          "Free",
          "Free",
          "Free",
          "Free",
          "Free",
          "Free",
          "Free",
          "Free",
          "Free",
          "Free",
          "Free",
          "Free",
          "Free",
          "Free",
          "Free",
          "Free",
          "Free",
          "Free",
          "Free",
          "Free",
          "Free",
          "Free",
          "Free",
          "Free",
          "Free",
          "Free",
          "Free",
          "Free",
          "Free",
          "Free",
          "Free",
          "Free",
          "Free",
          "Free",
          "Free",
          "Free",
          "Free",
          "Free",
          "Free",
          "Free",
          "Free",
          "Free",
          "Free",
          "Free",
          "Free",
          "Free",
          "Free",
          "Free",
          "Free",
          "Free",
          "Free",
          "Free",
          "Free",
          "Free",
          "Free",
          "Free",
          "Free",
          "Free",
          "Free",
          "Free",
          "Free",
          "Free",
          "Free",
          "Free",
          "Free",
          "Free",
          "Free",
          "Free",
          "Free",
          "Free",
          "Free",
          "Free",
          "Free",
          "Free",
          "Free",
          "Free",
          "Free",
          "Free",
          "Free",
          "Free",
          "Free",
          "Free",
          "Free",
          "Free",
          "Free",
          "Free",
          "Free",
          "Free",
          "Free",
          "Free",
          "Free",
          "Free",
          "Free",
          "Free",
          "Free",
          "Free",
          "Free",
          "Free",
          "Free",
          "Free",
          "Free",
          "Free",
          "Free",
          "Free",
          "Free",
          "Free",
          "Free",
          "Free",
          "Free",
          "Free",
          "Free",
          "Free",
          "Free",
          "Free",
          "Free",
          "Free",
          "Free",
          "Free",
          "Free",
          "Free",
          "Free",
          "Free",
          "Free",
          "Free",
          "Free",
          "Free",
          "Free",
          "Free",
          "Free",
          "Free",
          "Free",
          "Free",
          "Free",
          "Free",
          "Free",
          "Free",
          "Free",
          "Free",
          "Free",
          "Free",
          "Free",
          "Free",
          "Free",
          "Free",
          "Free",
          "Free",
          "Free",
          "Free",
          "Free",
          "Free",
          "Free",
          "Free",
          "Free",
          "Free",
          "Free",
          "Free",
          "Free",
          "Free",
          "Free",
          "Free",
          "Free",
          "Free",
          "Free",
          "Free",
          "Free",
          "Free",
          "Free",
          "Free",
          "Free",
          "Free",
          "Free",
          "Free",
          "Free",
          "Free",
          "Free",
          "Free",
          "Free",
          "Free",
          "Free",
          "Free",
          "Free",
          "Free",
          "Free",
          "Free",
          "Free",
          "Free",
          "Free",
          "Free",
          "Free",
          "Free",
          "Free",
          "Free",
          "Free",
          "Free",
          "Free",
          "Free",
          "Free",
          "Free",
          "Free",
          "Free",
          "Free",
          "Free",
          "Free",
          "Free",
          "Free",
          "Free",
          "Free",
          "Free",
          "Free",
          "Free",
          "Free",
          "Free",
          "Free",
          "Free",
          "Free",
          "Free",
          "Free",
          "Free",
          "Free",
          "Free",
          "Free",
          "Free",
          "Free",
          "Free",
          "Free",
          "Free",
          "Free",
          "Free",
          "Free",
          "Free",
          "Free",
          "Free",
          "Free",
          "Free",
          "Free",
          "Free",
          "Free",
          "Free",
          "Free",
          "Free",
          "Free",
          "Free",
          "Free",
          "Free",
          "Free",
          "Free",
          "Free",
          "Free",
          "Free",
          "Free",
          "Free",
          "Free",
          "Free",
          "Free",
          "Free",
          "Free",
          "Free",
          "Free",
          "Free",
          "Free",
          "Free",
          "Free",
          "Free",
          "Free",
          "Free",
          "Free",
          "Free",
          "Free",
          "Free",
          "Free",
          "Free",
          "Free",
          "Free",
          "Free",
          "Free",
          "Free",
          "Free",
          "Free",
          "Free",
          "Free",
          "Free",
          "Free",
          "Free",
          "Free",
          "Free",
          "Free",
          "Free",
          "Free",
          "Free",
          "Free",
          "Free",
          "Free",
          "Free",
          "Free",
          "Free",
          "Free",
          "Free",
          "Free",
          "Free",
          "Free",
          "Free",
          "Free",
          "Free",
          "Free",
          "Free",
          "Free",
          "Free",
          "Free",
          "Free",
          "Free",
          "Free",
          "Free",
          "Free",
          "Free",
          "Free",
          "Free",
          "Free",
          "Free",
          "Free",
          "Free",
          "Free",
          "Free",
          "Free",
          "Free",
          "Free",
          "Free",
          "Free",
          "Free",
          "Free",
          "Free",
          "Free",
          "Free",
          "Free",
          "Free",
          "Free",
          "Free",
          "Free",
          "Free",
          "Free",
          "Free",
          "Free",
          "Free",
          "Free",
          "Free",
          "Free",
          "Free",
          "Free",
          "Free",
          "Free",
          "Free",
          "Free",
          "Free",
          "Free",
          "Free",
          "Free",
          "Free",
          "Free",
          "Free",
          "Free",
          "Free",
          "Free",
          "Free",
          "Free",
          "Free",
          "Free",
          "Free",
          "Free",
          "Free",
          "Free",
          "Free",
          "Free",
          "Free",
          "Free",
          "Free",
          "Free",
          "Free",
          "Free",
          "Free",
          "Free",
          "Free",
          "Free",
          "Free",
          "Free",
          "Free",
          "Free",
          "Free",
          "Free",
          "Free",
          "Free",
          "Free",
          "Free",
          "Free",
          "Free",
          "Free",
          "Free",
          "Free",
          "Free",
          "Free",
          "Free",
          "Free",
          "Free",
          "Free",
          "Free",
          "Free",
          "Free",
          "Free",
          "Free",
          "Free",
          "Free",
          "Free",
          "Free",
          "Free",
          "Free",
          "Free",
          "Free",
          "Free",
          "Free",
          "Free",
          "Free",
          "Free",
          "Free",
          "Free",
          "Free",
          "Free",
          "Free",
          "Free",
          "Free",
          "Free",
          "Free",
          "Free",
          "Free",
          "Free",
          "Free",
          "Free",
          "Free",
          "Free",
          "Free",
          "Free",
          "Free",
          "Free",
          "Free",
          "Free",
          "Free",
          "Free",
          "Free",
          "Free",
          "Free",
          "Free",
          "Free",
          "Free",
          "Free",
          "Free",
          "Free",
          "Free",
          "Free",
          "Free",
          "Free",
          "Free",
          "Free",
          "Free",
          "Free",
          "Free",
          "Free",
          "Free",
          "Free",
          "Free",
          "Free",
          "Free",
          "Free",
          "Free",
          "Free",
          "Free",
          "Free",
          "Free",
          "Free",
          "Free",
          "Free",
          "Free",
          "Free",
          "Free",
          "Free",
          "Free",
          "Free",
          "Free",
          "Free",
          "Free",
          "Free",
          "Free",
          "Free",
          "Free",
          "Free",
          "Free",
          "Free",
          "Free",
          "Free",
          "Free",
          "Free",
          "Free",
          "Free",
          "Free",
          "Free",
          "Free",
          "Free",
          "Free",
          "Free",
          "Free",
          "Free",
          "Free",
          "Free",
          "Free",
          "Free",
          "Free",
          "Free",
          "Free",
          "Free",
          "Free",
          "Free",
          "Free",
          "Free",
          "Free",
          "Free",
          "Free",
          "Free",
          "Free",
          "Free",
          "Free",
          "Free",
          "Free",
          "Free",
          "Free",
          "Free",
          "Free",
          "Free",
          "Free",
          "Free",
          "Free",
          "Free",
          "Free",
          "Free",
          "Free",
          "Free",
          "Free",
          "Free",
          "Free",
          "Free",
          "Free",
          "Free",
          "Free",
          "Free",
          "Free",
          "Free",
          "Free",
          "Free",
          "Free",
          "Free",
          "Free",
          "Free",
          "Free",
          "Free",
          "Free",
          "Free",
          "Free",
          "Free",
          "Free",
          "Free",
          "Free",
          "Free",
          "Free",
          "Free",
          "Free",
          "Free",
          "Free",
          "Free",
          "Free",
          "Free",
          "Free",
          "Free",
          "Free",
          "Free",
          "Free",
          "Free",
          "Free",
          "Free",
          "Free",
          "Free",
          "Free",
          "Free",
          "Free",
          "Free",
          "Free",
          "Free",
          "Free",
          "Free",
          "Free",
          "Free",
          "Free",
          "Free",
          "Free",
          "Free",
          "Free",
          "Free",
          "Free",
          "Free",
          "Free",
          "Free",
          "Free",
          "Free",
          "Free",
          "Free",
          "Free",
          "Free",
          "Free",
          "Free",
          "Free",
          "Free",
          "Free",
          "Free",
          "Free",
          "Free",
          "Free",
          "Free",
          "Free",
          "Free",
          "Free",
          "Free",
          "Free",
          "Free",
          "Free",
          "Free",
          "Free",
          "Free",
          "Free",
          "Free",
          "Free",
          "Free",
          "Free",
          "Free",
          "Free",
          "Free",
          "Free",
          "Free",
          "Free",
          "Free",
          "Free",
          "Free",
          "Free",
          "Free",
          "Free",
          "Free",
          "Free",
          "Free",
          "Free",
          "Free",
          "Free",
          "Free",
          "Free",
          "Free",
          "Free",
          "Free",
          "Free",
          "Free",
          "Free",
          "Free",
          "Free",
          "Free",
          "Free",
          "Free",
          "Free",
          "Free",
          "Free",
          "Free",
          "Free",
          "Free",
          "Free",
          "Free",
          "Free",
          "Free",
          "Free",
          "Free",
          "Free",
          "Free",
          "Free",
          "Free",
          "Free",
          "Free",
          "Free",
          "Free",
          "Free",
          "Free",
          "Free",
          "Free",
          "Free",
          "Free",
          "Free",
          "Free",
          "Free",
          "Free",
          "Free",
          "Free",
          "Free",
          "Free",
          "Free",
          "Free",
          "Free",
          "Free",
          "Free",
          "Free",
          "Free",
          "Free",
          "Free",
          "Free",
          "Free",
          "Free",
          "Free",
          "Free",
          "Free",
          "Free",
          "Free",
          "Free",
          "Free",
          "Free",
          "Free",
          "Free",
          "Free",
          "Free",
          "Free",
          "Free",
          "Free",
          "Free",
          "Free",
          "Free",
          "Free",
          "Free",
          "Free",
          "Free",
          "Free",
          "Free",
          "Free",
          "Free",
          "Free",
          "Free",
          "Free",
          "Free",
          "Free",
          "Free",
          "Free",
          "Free",
          "Free",
          "Free",
          "Free",
          "Free",
          "Free",
          "Free",
          "Free",
          "Free",
          "Free",
          "Free",
          "Free",
          "Free",
          "Free",
          "Free",
          "Free",
          "Free",
          "Free",
          "Free",
          "Free",
          "Free",
          "Free",
          "Free",
          "Free",
          "Free",
          "Free",
          "Free",
          "Free",
          "Free",
          "Free",
          "Free",
          "Free",
          "Free",
          "Free",
          "Free",
          "Free",
          "Free",
          "Free",
          "Free",
          "Free",
          "Free",
          "Free",
          "Free",
          "Free",
          "Free",
          "Free",
          "Free",
          "Free",
          "Free",
          "Free",
          "Free",
          "Free",
          "Free",
          "Free",
          "Free",
          "Free",
          "Free",
          "Free",
          "Free",
          "Free",
          "Free",
          "Free",
          "Free",
          "Free",
          "Free",
          "Free",
          "Free",
          "Free",
          "Free",
          "Free",
          "Free",
          "Free",
          "Free",
          "Free",
          "Free",
          "Free",
          "Free",
          "Free",
          "Free",
          "Free",
          "Free",
          "Free",
          "Free",
          "Free",
          "Free",
          "Free",
          "Free",
          "Free",
          "Free",
          "Free",
          "Free",
          "Free",
          "Free",
          "Free",
          "Free",
          "Free",
          "Free",
          "Free",
          "Free",
          "Free",
          "Free",
          "Free",
          "Free",
          "Free",
          "Free",
          "Free",
          "Free",
          "Free",
          "Free",
          "Free",
          "Free",
          "Free",
          "Free",
          "Free",
          "Free",
          "Free",
          "Free",
          "Free",
          "Free",
          "Free",
          "Free",
          "Free",
          "Free",
          "Free",
          "Free",
          "Free",
          "Free",
          "Free",
          "Free",
          "Free",
          "Free",
          "Free",
          "Free",
          "Free",
          "Free",
          "Free",
          "Free",
          "Free",
          "Free",
          "Free",
          "Free",
          "Free",
          "Free",
          "Free",
          "Free",
          "Free",
          "Free",
          "Free",
          "Free",
          "Free",
          "Free",
          "Free",
          "Free",
          "Free",
          "Free",
          "Free",
          "Free",
          "Free",
          "Free",
          "Free",
          "Free",
          "Free",
          "Free",
          "Free",
          "Free",
          "Free",
          "Free",
          "Free",
          "Free",
          "Free",
          "Free",
          "Free",
          "Free",
          "Free",
          "Free",
          "Free",
          "Free",
          "Free",
          "Free",
          "Free",
          "Free",
          "Free",
          "Free",
          "Free",
          "Free",
          "Free",
          "Free",
          "Free",
          "Free",
          "Free",
          "Free",
          "Free",
          "Free",
          "Free",
          "Free",
          "Free",
          "Free",
          "Free",
          "Free",
          "Free",
          "Free",
          "Free",
          "Free",
          "Free",
          "Free",
          "Free",
          "Free",
          "Free",
          "Free",
          "Free",
          "Free",
          "Free",
          "Free",
          "Free",
          "Free",
          "Free",
          "Free",
          "Free",
          "Free",
          "Free",
          "Free",
          "Free",
          "Free",
          "Free",
          "Free",
          "Free",
          "Free",
          "Free",
          "Free",
          "Free",
          "Free",
          "Free",
          "Free",
          "Free",
          "Free",
          "Free",
          "Free",
          "Free",
          "Free",
          "Free",
          "Free",
          "Free",
          "Free",
          "Free",
          "Free",
          "Free",
          "Free",
          "Free",
          "Free",
          "Free",
          "Free",
          "Free",
          "Free",
          "Free",
          "Free",
          "Free",
          "Free",
          "Free",
          "Free",
          "Free",
          "Free",
          "Free",
          "Free",
          "Free",
          "Free",
          "Free",
          "Free",
          "Free",
          "Free",
          "Free",
          "Free",
          "Free",
          "Free",
          "Free",
          "Free",
          "Free",
          "Free",
          "Free",
          "Free",
          "Free",
          "Free",
          "Free",
          "Free",
          "Free",
          "Free",
          "Free",
          "Free",
          "Free",
          "Free",
          "Free",
          "Free",
          "Free",
          "Free",
          "Free",
          "Free",
          "Free",
          "Free",
          "Free",
          "Free",
          "Free",
          "Free",
          "Free",
          "Free",
          "Free",
          "Free",
          "Free",
          "Free",
          "Free",
          "Free",
          "Free",
          "Free",
          "Free",
          "Free",
          "Free",
          "Free",
          "Free",
          "Free",
          "Free",
          "Free",
          "Free",
          "Free",
          "Free",
          "Free",
          "Free",
          "Free",
          "Free",
          "Free",
          "Free",
          "Free",
          "Free",
          "Free",
          "Free",
          "Free",
          "Free",
          "Free",
          "Free",
          "Free",
          "Free",
          "Free",
          "Free",
          "Free",
          "Free",
          "Free",
          "Free",
          "Free",
          "Free",
          "Free",
          "Free",
          "Free",
          "Free",
          "Free",
          "Free",
          "Free",
          "Free",
          "Free",
          "Free",
          "Free",
          "Free",
          "Free",
          "Free",
          "Free",
          "Free",
          "Free",
          "Free",
          "Free",
          "Free",
          "Free",
          "Free",
          "Free",
          "Free",
          "Free",
          "Free",
          "Free",
          "Free",
          "Free",
          "Free",
          "Free",
          "Free",
          "Free",
          "Free",
          "Free",
          "Free",
          "Free",
          "Free",
          "Free",
          "Free",
          "Free",
          "Free",
          "Free",
          "Free",
          "Free",
          "Free",
          "Free",
          "Free",
          "Free",
          "Free",
          "Free",
          "Free",
          "Free",
          "Free",
          "Free",
          "Free",
          "Free",
          "Free",
          "Free",
          "Free",
          "Free",
          "Free",
          "Free",
          "Free",
          "Free",
          "Free",
          "Free",
          "Free",
          "Free",
          "Free",
          "Free",
          "Free",
          "Free",
          "Free",
          "Free",
          "Free",
          "Free",
          "Free",
          "Free",
          "Free",
          "Free",
          "Free",
          "Free",
          "Free",
          "Free",
          "Free",
          "Free",
          "Free",
          "Free",
          "Free",
          "Free",
          "Free",
          "Free",
          "Free",
          "Free",
          "Free",
          "Free",
          "Free",
          "Free",
          "Free",
          "Free",
          "Free",
          "Free",
          "Free",
          "Free",
          "Free",
          "Free",
          "Free",
          "Free",
          "Free",
          "Free",
          "Free",
          "Free",
          "Free",
          "Free",
          "Free",
          "Free",
          "Free",
          "Free",
          "Free",
          "Free",
          "Free",
          "Free",
          "Free",
          "Free",
          "Free",
          "Free",
          "Free",
          "Free",
          "Free",
          "Free",
          "Free",
          "Free",
          "Free",
          "Free",
          "Free",
          "Free",
          "Free",
          "Free",
          "Free",
          "Free",
          "Free",
          "Free",
          "Free",
          "Free",
          "Free",
          "Free",
          "Free",
          "Free",
          "Free",
          "Free",
          "Free",
          "Free",
          "Free",
          "Free",
          "Free",
          "Free",
          "Free",
          "Free",
          "Free",
          "Free",
          "Free",
          "Free",
          "Free",
          "Free",
          "Free",
          "Free",
          "Free",
          "Free",
          "Free",
          "Free",
          "Free",
          "Free",
          "Free",
          "Free",
          "Free",
          "Free",
          "Free",
          "Free",
          "Free",
          "Free",
          "Free",
          "Free",
          "Free",
          "Free",
          "Free",
          "Free",
          "Free",
          "Free",
          "Free",
          "Free",
          "Free",
          "Free",
          "Free",
          "Free",
          "Free",
          "Free",
          "Free",
          "Free",
          "Free",
          "Free",
          "Free",
          "Free",
          "Free",
          "Free",
          "Free",
          "Free",
          "Free",
          "Free",
          "Free",
          "Free",
          "Free",
          "Free",
          "Free",
          "Free",
          "Free",
          "Free",
          "Free",
          "Free",
          "Free",
          "Free",
          "Free",
          "Free",
          "Free",
          "Free",
          "Free",
          "Free",
          "Free",
          "Free",
          "Free",
          "Free",
          "Free",
          "Free",
          "Free",
          "Free",
          "Free",
          "Free",
          "Free",
          "Free",
          "Free",
          "Free",
          "Free",
          "Free",
          "Free",
          "Free",
          "Free",
          "Free",
          "Free",
          "Free",
          "Free",
          "Free",
          "Free",
          "Free",
          "Free",
          "Free",
          "Free",
          "Free",
          "Free",
          "Free",
          "Free",
          "Free",
          "Free",
          "Free",
          "Free",
          "Free",
          "Free",
          "Free",
          "Free",
          "Free",
          "Free",
          "Free",
          "Free",
          "Free",
          "Free",
          "Free",
          "Free",
          "Free",
          "Free",
          "Free",
          "Free",
          "Free",
          "Free",
          "Free",
          "Free",
          "Free",
          "Free",
          "Free",
          "Free",
          "Free",
          "Free",
          "Free",
          "Free",
          "Free",
          "Free",
          "Free",
          "Free",
          "Free",
          "Free",
          "Free",
          "Free",
          "Free",
          "Free",
          "Free",
          "Free",
          "Free",
          "Free",
          "Free",
          "Free",
          "Free",
          "Free",
          "Free",
          "Free",
          "Free",
          "Free",
          "Free",
          "Free",
          "Free",
          "Free",
          "Free",
          "Free",
          "Free",
          "Free",
          "Free",
          "Free",
          "Free",
          "Free",
          "Free",
          "Free",
          "Free",
          "Free",
          "Free",
          "Free",
          "Free",
          "Free",
          "Free",
          "Free",
          "Free",
          "Free",
          "Free",
          "Free",
          "Free",
          "Free",
          "Free",
          "Free",
          "Free",
          "Free",
          "Free",
          "Free",
          "Free",
          "Free",
          "Free",
          "Free",
          "Free",
          "Free",
          "Free",
          "Free",
          "Free",
          "Free",
          "Free",
          "Free",
          "Free",
          "Free",
          "Free",
          "Free",
          "Free",
          "Free",
          "Free",
          "Free",
          "Free",
          "Free",
          "Free",
          "Free",
          "Free",
          "Free",
          "Free",
          "Free",
          "Free",
          "Free",
          "Free",
          "Free",
          "Free",
          "Free",
          "Free",
          "Free",
          "Free",
          "Free",
          "Free",
          "Free",
          "Free",
          "Free",
          "Free",
          "Free",
          "Free",
          "Free",
          "Free",
          "Free",
          "Free",
          "Free",
          "Free",
          "Free",
          "Free",
          "Free",
          "Free",
          "Free",
          "Free",
          "Free",
          "Free",
          "Free",
          "Free",
          "Free",
          "Free",
          "Free",
          "Free",
          "Free",
          "Free",
          "Free",
          "Free",
          "Free",
          "Free",
          "Free",
          "Free",
          "Free",
          "Free",
          "Free",
          "Free",
          "Free",
          "Free",
          "Free",
          "Free",
          "Free",
          "Free",
          "Free",
          "Free",
          "Free",
          "Free",
          "Free",
          "Free",
          "Free",
          "Free",
          "Free",
          "Free",
          "Free",
          "Free",
          "Free",
          "Free",
          "Free",
          "Free",
          "Free",
          "Free",
          "Free",
          "Free",
          "Free",
          "Free",
          "Free",
          "Free",
          "Free",
          "Free",
          "Free",
          "Free",
          "Free",
          "Free",
          "Free",
          "Free",
          "Free",
          "Free",
          "Free",
          "Free",
          "Free",
          "Free",
          "Free",
          "Free",
          "Free",
          "Free",
          "Free",
          "Free",
          "Free",
          "Free",
          "Free",
          "Free",
          "Free",
          "Free",
          "Free",
          "Free",
          "Free",
          "Free",
          "Free",
          "Free",
          "Free",
          "Free",
          "Free",
          "Free",
          "Free",
          "Free",
          "Free",
          "Free",
          "Free",
          "Free",
          "Free",
          "Free",
          "Free",
          "Free",
          "Free",
          "Free",
          "Free",
          "Free",
          "Free",
          "Free",
          "Free",
          "Free",
          "Free",
          "Free",
          "Free",
          "Free",
          "Free",
          "Free",
          "Free",
          "Free",
          "Free",
          "Free",
          "Free",
          "Free",
          "Free",
          "Free",
          "Free",
          "Free",
          "Free",
          "Free",
          "Free",
          "Free",
          "Free",
          "Free",
          "Free",
          "Free",
          "Free",
          "Free",
          "Free",
          "Free",
          "Free",
          "Free",
          "Free",
          "Free",
          "Free",
          "Free",
          "Free",
          "Free",
          "Free",
          "Free",
          "Free",
          "Free",
          "Free",
          "Free",
          "Free",
          "Free",
          "Free",
          "Free",
          "Free",
          "Free",
          "Free",
          "Free",
          "Free",
          "Free",
          "Free",
          "Free",
          "Free",
          "Free",
          "Free",
          "Free",
          "Free",
          "Free",
          "Free",
          "Free",
          "Free",
          "Free",
          "Free",
          "Free",
          "Free",
          "Free",
          "Free",
          "Free",
          "Free",
          "Free",
          "Free",
          "Free",
          "Free",
          "Free",
          "Free",
          "Free",
          "Free",
          "Free",
          "Free",
          "Free",
          "Free",
          "Free",
          "Free",
          "Free",
          "Free",
          "Free",
          "Free",
          "Free",
          "Free",
          "Free",
          "Free",
          "Free",
          "Free",
          "Free",
          "Free",
          "Free",
          "Free",
          "Free",
          "Free",
          "Free",
          "Free",
          "Free",
          "Free",
          "Free",
          "Free",
          "Free",
          "Free",
          "Free",
          "Free",
          "Free",
          "Free",
          "Free",
          "Free",
          "Free",
          "Free",
          "Free",
          "Free",
          "Free",
          "Free",
          "Free",
          "Free",
          "Free",
          "Free",
          "Free",
          "Free",
          "Free",
          "Free",
          "Free",
          "Free",
          "Free",
          "Free",
          "Free",
          "Free",
          "Free",
          "Free",
          "Free",
          "Free",
          "Free",
          "Free",
          "Free",
          "Free",
          "Free",
          "Free",
          "Free",
          "Free",
          "Free",
          "Free",
          "Free",
          "Free",
          "Free",
          "Free",
          "Free",
          "Free",
          "Free",
          "Free",
          "Free",
          "Free",
          "Free",
          "Free",
          "Free",
          "Free",
          "Free",
          "Free",
          "Free",
          "Free",
          "Free",
          "Free",
          "Free",
          "Free",
          "Free",
          "Free",
          "Free",
          "Free",
          "Free",
          "Free",
          "Free",
          "Free",
          "Free",
          "Free",
          "Free",
          "Free",
          "Free",
          "Free",
          "Free",
          "Free",
          "Free",
          "Free",
          "Free",
          "Free",
          "Free",
          "Free",
          "Free",
          "Free",
          "Free",
          "Free",
          "Free",
          "Free",
          "Free",
          "Free",
          "Free",
          "Free",
          "Free",
          "Free",
          "Free",
          "Free",
          "Free",
          "Free",
          "Free",
          "Free",
          "Free",
          "Free",
          "Free",
          "Free",
          "Free",
          "Free",
          "Free",
          "Free",
          "Free",
          "Free",
          "Free",
          "Free",
          "Free",
          "Free",
          "Free",
          "Free",
          "Free",
          "Free",
          "Free",
          "Free",
          "Free",
          "Free",
          "Free",
          "Free",
          "Free",
          "Free",
          "Free",
          "Free",
          "Free",
          "Free",
          "Free",
          "Free",
          "Free",
          "Free",
          "Free",
          "Free",
          "Free",
          "Free",
          "Free",
          "Free",
          "Free",
          "Free",
          "Free",
          "Free",
          "Free",
          "Free",
          "Free",
          "Free",
          "Free",
          "Free",
          "Free",
          "Free",
          "Free",
          "Free",
          "Free",
          "Free",
          "Free",
          "Free",
          "Free",
          "Free",
          "Free",
          "Free",
          "Free",
          "Free",
          "Free",
          "Free",
          "Free",
          "Free",
          "Free",
          "Free",
          "Free",
          "Free",
          "Free",
          "Free",
          "Free",
          "Free",
          "Free",
          "Free",
          "Free",
          "Free",
          "Free",
          "Free",
          "Free",
          "Free",
          "Free",
          "Free",
          "Free",
          "Free",
          "Free",
          "Free",
          "Free",
          "Free",
          "Free",
          "Free",
          "Free",
          "Free",
          "Free",
          "Free",
          "Free",
          "Free",
          "Free",
          "Free",
          "Free",
          "Free",
          "Free",
          "Free",
          "Free",
          "Free",
          "Free",
          "Free",
          "Free",
          "Free",
          "Free",
          "Free",
          "Free",
          "Free",
          "Free",
          "Free",
          "Free",
          "Free",
          "Free",
          "Free",
          "Free",
          "Free",
          "Free",
          "Free",
          "Free",
          "Free",
          "Free",
          "Free",
          "Free",
          "Free",
          "Free",
          "Free",
          "Free",
          "Free",
          "Free",
          "Free",
          "Free",
          "Free",
          "Free",
          "Free",
          "Free",
          "Free",
          "Free",
          "Free",
          "Free",
          "Free",
          "Free",
          "Free",
          "Free",
          "Free",
          "Free",
          "Free",
          "Free",
          "Free",
          "Free",
          "Free",
          "Free",
          "Free",
          "Free",
          "Free",
          "Free",
          "Free",
          "Free",
          "Free",
          "Free",
          "Free",
          "Free",
          "Free",
          "Free",
          "Free",
          "Free",
          "Free",
          "Free",
          "Free",
          "Free",
          "Free",
          "Free",
          "Free",
          "Free",
          "Free",
          "Free",
          "Free",
          "Free",
          "Free",
          "Free",
          "Free",
          "Free",
          "Free",
          "Free",
          "Free",
          "Free",
          "Free",
          "Free",
          "Free",
          "Free",
          "Free",
          "Free",
          "Free",
          "Free",
          "Free",
          "Free",
          "Free",
          "Free",
          "Free",
          "Free",
          "Free",
          "Free",
          "Free",
          "Free",
          "Free",
          "Free",
          "Free",
          "Free",
          "Free",
          "Free",
          "Free",
          "Free",
          "Free",
          "Free",
          "Free",
          "Free",
          "Free",
          "Free",
          "Free",
          "Free",
          "Free",
          "Free",
          "Free",
          "Free",
          "Free",
          "Free",
          "Free",
          "Free",
          "Free",
          "Free",
          "Free",
          "Free",
          "Free",
          "Free",
          "Free",
          "Free",
          "Free",
          "Free",
          "Free",
          "Free",
          "Free",
          "Free",
          "Free",
          "Free",
          "Free",
          "Free",
          "Free",
          "Free",
          "Free",
          "Free",
          "Free",
          "Free",
          "Free",
          "Free",
          "Free",
          "Free",
          "Free",
          "Free",
          "Free",
          "Free",
          "Free",
          "Free",
          "Free",
          "Free",
          "Free",
          "Free",
          "Free",
          "Free",
          "Free",
          "Free",
          "Free",
          "Free",
          "Free",
          "Free",
          "Free",
          "Free",
          "Free",
          "Free",
          "Free",
          "Free",
          "Free",
          "Free",
          "Free",
          "Free",
          "Free",
          "Free",
          "Free",
          "Free",
          "Free",
          "Free",
          "Free",
          "Free",
          "Free",
          "Free",
          "Free",
          "Free",
          "Free",
          "Free",
          "Free"
         ],
         "x0": " ",
         "xaxis": "x",
         "y": {
          "bdata": "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",
          "dtype": "i4"
         },
         "y0": " ",
         "yaxis": "y"
        },
        {
         "alignmentgroup": "True",
         "boxpoints": "all",
         "hovertemplate": "Type=%{x}<br>Installs=%{y}<extra></extra>",
         "legendgroup": "Paid",
         "marker": {
          "color": "#EF553B"
         },
         "name": "Paid",
         "notched": true,
         "offsetgroup": "Paid",
         "orientation": "v",
         "showlegend": true,
         "type": "box",
         "x": [
          "Paid",
          "Paid",
          "Paid",
          "Paid",
          "Paid",
          "Paid",
          "Paid",
          "Paid",
          "Paid",
          "Paid",
          "Paid",
          "Paid",
          "Paid",
          "Paid",
          "Paid",
          "Paid",
          "Paid",
          "Paid",
          "Paid",
          "Paid",
          "Paid",
          "Paid",
          "Paid",
          "Paid",
          "Paid",
          "Paid",
          "Paid",
          "Paid",
          "Paid",
          "Paid",
          "Paid",
          "Paid",
          "Paid",
          "Paid",
          "Paid",
          "Paid",
          "Paid",
          "Paid",
          "Paid",
          "Paid",
          "Paid",
          "Paid",
          "Paid",
          "Paid",
          "Paid",
          "Paid",
          "Paid",
          "Paid",
          "Paid",
          "Paid",
          "Paid",
          "Paid",
          "Paid",
          "Paid",
          "Paid",
          "Paid",
          "Paid",
          "Paid",
          "Paid",
          "Paid",
          "Paid",
          "Paid",
          "Paid",
          "Paid",
          "Paid",
          "Paid",
          "Paid",
          "Paid",
          "Paid",
          "Paid",
          "Paid",
          "Paid",
          "Paid",
          "Paid",
          "Paid",
          "Paid",
          "Paid",
          "Paid",
          "Paid",
          "Paid",
          "Paid",
          "Paid",
          "Paid",
          "Paid",
          "Paid",
          "Paid",
          "Paid",
          "Paid",
          "Paid",
          "Paid",
          "Paid",
          "Paid",
          "Paid",
          "Paid",
          "Paid",
          "Paid",
          "Paid",
          "Paid",
          "Paid",
          "Paid",
          "Paid",
          "Paid",
          "Paid",
          "Paid",
          "Paid",
          "Paid",
          "Paid",
          "Paid",
          "Paid",
          "Paid",
          "Paid",
          "Paid",
          "Paid",
          "Paid",
          "Paid",
          "Paid",
          "Paid",
          "Paid",
          "Paid",
          "Paid",
          "Paid",
          "Paid",
          "Paid",
          "Paid",
          "Paid",
          "Paid",
          "Paid",
          "Paid",
          "Paid",
          "Paid",
          "Paid",
          "Paid",
          "Paid",
          "Paid",
          "Paid",
          "Paid",
          "Paid",
          "Paid",
          "Paid",
          "Paid",
          "Paid",
          "Paid",
          "Paid",
          "Paid",
          "Paid",
          "Paid",
          "Paid",
          "Paid",
          "Paid",
          "Paid",
          "Paid",
          "Paid",
          "Paid",
          "Paid",
          "Paid",
          "Paid",
          "Paid",
          "Paid",
          "Paid",
          "Paid",
          "Paid",
          "Paid",
          "Paid",
          "Paid",
          "Paid",
          "Paid",
          "Paid",
          "Paid",
          "Paid",
          "Paid",
          "Paid",
          "Paid",
          "Paid",
          "Paid",
          "Paid",
          "Paid",
          "Paid",
          "Paid",
          "Paid",
          "Paid",
          "Paid",
          "Paid",
          "Paid",
          "Paid",
          "Paid",
          "Paid",
          "Paid",
          "Paid",
          "Paid",
          "Paid",
          "Paid",
          "Paid",
          "Paid",
          "Paid",
          "Paid",
          "Paid",
          "Paid",
          "Paid",
          "Paid",
          "Paid",
          "Paid",
          "Paid",
          "Paid",
          "Paid",
          "Paid",
          "Paid",
          "Paid",
          "Paid",
          "Paid",
          "Paid",
          "Paid",
          "Paid",
          "Paid",
          "Paid",
          "Paid",
          "Paid",
          "Paid",
          "Paid",
          "Paid",
          "Paid",
          "Paid",
          "Paid",
          "Paid",
          "Paid",
          "Paid",
          "Paid",
          "Paid",
          "Paid",
          "Paid",
          "Paid",
          "Paid",
          "Paid",
          "Paid",
          "Paid",
          "Paid",
          "Paid",
          "Paid",
          "Paid",
          "Paid",
          "Paid",
          "Paid",
          "Paid",
          "Paid",
          "Paid",
          "Paid",
          "Paid",
          "Paid",
          "Paid",
          "Paid",
          "Paid",
          "Paid",
          "Paid",
          "Paid",
          "Paid",
          "Paid",
          "Paid",
          "Paid",
          "Paid",
          "Paid",
          "Paid",
          "Paid",
          "Paid",
          "Paid",
          "Paid",
          "Paid",
          "Paid",
          "Paid",
          "Paid",
          "Paid",
          "Paid",
          "Paid",
          "Paid",
          "Paid",
          "Paid",
          "Paid",
          "Paid",
          "Paid",
          "Paid",
          "Paid",
          "Paid",
          "Paid",
          "Paid",
          "Paid",
          "Paid",
          "Paid",
          "Paid",
          "Paid",
          "Paid",
          "Paid",
          "Paid",
          "Paid",
          "Paid",
          "Paid",
          "Paid",
          "Paid",
          "Paid",
          "Paid",
          "Paid",
          "Paid",
          "Paid",
          "Paid",
          "Paid",
          "Paid",
          "Paid",
          "Paid",
          "Paid",
          "Paid",
          "Paid",
          "Paid",
          "Paid",
          "Paid",
          "Paid",
          "Paid",
          "Paid",
          "Paid",
          "Paid",
          "Paid",
          "Paid",
          "Paid",
          "Paid",
          "Paid",
          "Paid",
          "Paid",
          "Paid",
          "Paid",
          "Paid",
          "Paid",
          "Paid",
          "Paid",
          "Paid",
          "Paid",
          "Paid",
          "Paid",
          "Paid",
          "Paid",
          "Paid",
          "Paid",
          "Paid",
          "Paid",
          "Paid",
          "Paid",
          "Paid",
          "Paid",
          "Paid",
          "Paid",
          "Paid",
          "Paid",
          "Paid",
          "Paid",
          "Paid",
          "Paid",
          "Paid",
          "Paid",
          "Paid",
          "Paid",
          "Paid",
          "Paid",
          "Paid",
          "Paid",
          "Paid",
          "Paid",
          "Paid",
          "Paid",
          "Paid",
          "Paid",
          "Paid",
          "Paid",
          "Paid",
          "Paid",
          "Paid",
          "Paid",
          "Paid",
          "Paid",
          "Paid",
          "Paid",
          "Paid",
          "Paid",
          "Paid",
          "Paid",
          "Paid",
          "Paid",
          "Paid",
          "Paid",
          "Paid",
          "Paid",
          "Paid",
          "Paid",
          "Paid",
          "Paid",
          "Paid",
          "Paid",
          "Paid",
          "Paid",
          "Paid",
          "Paid",
          "Paid",
          "Paid",
          "Paid",
          "Paid",
          "Paid",
          "Paid",
          "Paid",
          "Paid",
          "Paid",
          "Paid",
          "Paid",
          "Paid",
          "Paid",
          "Paid",
          "Paid",
          "Paid",
          "Paid",
          "Paid",
          "Paid",
          "Paid",
          "Paid",
          "Paid",
          "Paid",
          "Paid",
          "Paid",
          "Paid",
          "Paid",
          "Paid",
          "Paid",
          "Paid",
          "Paid",
          "Paid",
          "Paid",
          "Paid",
          "Paid",
          "Paid",
          "Paid",
          "Paid",
          "Paid",
          "Paid",
          "Paid",
          "Paid",
          "Paid",
          "Paid",
          "Paid",
          "Paid",
          "Paid",
          "Paid",
          "Paid",
          "Paid",
          "Paid",
          "Paid",
          "Paid",
          "Paid",
          "Paid",
          "Paid",
          "Paid",
          "Paid",
          "Paid",
          "Paid",
          "Paid",
          "Paid",
          "Paid",
          "Paid",
          "Paid",
          "Paid",
          "Paid",
          "Paid",
          "Paid",
          "Paid",
          "Paid",
          "Paid",
          "Paid",
          "Paid",
          "Paid",
          "Paid",
          "Paid",
          "Paid",
          "Paid",
          "Paid",
          "Paid",
          "Paid",
          "Paid",
          "Paid",
          "Paid",
          "Paid",
          "Paid",
          "Paid",
          "Paid",
          "Paid",
          "Paid",
          "Paid",
          "Paid",
          "Paid",
          "Paid",
          "Paid",
          "Paid",
          "Paid",
          "Paid",
          "Paid",
          "Paid",
          "Paid",
          "Paid",
          "Paid",
          "Paid",
          "Paid",
          "Paid",
          "Paid",
          "Paid",
          "Paid",
          "Paid",
          "Paid",
          "Paid",
          "Paid",
          "Paid",
          "Paid",
          "Paid",
          "Paid",
          "Paid",
          "Paid",
          "Paid",
          "Paid",
          "Paid",
          "Paid",
          "Paid",
          "Paid",
          "Paid",
          "Paid",
          "Paid",
          "Paid",
          "Paid",
          "Paid",
          "Paid",
          "Paid",
          "Paid",
          "Paid",
          "Paid",
          "Paid",
          "Paid",
          "Paid",
          "Paid",
          "Paid",
          "Paid",
          "Paid",
          "Paid",
          "Paid",
          "Paid",
          "Paid",
          "Paid",
          "Paid",
          "Paid",
          "Paid",
          "Paid",
          "Paid",
          "Paid",
          "Paid",
          "Paid",
          "Paid",
          "Paid",
          "Paid",
          "Paid",
          "Paid",
          "Paid",
          "Paid",
          "Paid",
          "Paid",
          "Paid",
          "Paid",
          "Paid",
          "Paid",
          "Paid",
          "Paid",
          "Paid",
          "Paid",
          "Paid",
          "Paid",
          "Paid",
          "Paid",
          "Paid",
          "Paid",
          "Paid",
          "Paid",
          "Paid",
          "Paid",
          "Paid",
          "Paid",
          "Paid",
          "Paid",
          "Paid",
          "Paid",
          "Paid",
          "Paid",
          "Paid",
          "Paid",
          "Paid",
          "Paid",
          "Paid",
          "Paid",
          "Paid",
          "Paid",
          "Paid",
          "Paid",
          "Paid",
          "Paid",
          "Paid",
          "Paid",
          "Paid",
          "Paid",
          "Paid",
          "Paid",
          "Paid"
         ],
         "x0": " ",
         "xaxis": "x",
         "y": {
          "bdata": "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",
          "dtype": "i4"
         },
         "y0": " ",
         "yaxis": "y"
        }
       ],
       "layout": {
        "boxmode": "overlay",
        "legend": {
         "title": {
          "text": "Type"
         },
         "tracegroupgap": 0
        },
        "template": {
         "data": {
          "bar": [
           {
            "error_x": {
             "color": "#2a3f5f"
            },
            "error_y": {
             "color": "#2a3f5f"
            },
            "marker": {
             "line": {
              "color": "#E5ECF6",
              "width": 0.5
             },
             "pattern": {
              "fillmode": "overlay",
              "size": 10,
              "solidity": 0.2
             }
            },
            "type": "bar"
           }
          ],
          "barpolar": [
           {
            "marker": {
             "line": {
              "color": "#E5ECF6",
              "width": 0.5
             },
             "pattern": {
              "fillmode": "overlay",
              "size": 10,
              "solidity": 0.2
             }
            },
            "type": "barpolar"
           }
          ],
          "carpet": [
           {
            "aaxis": {
             "endlinecolor": "#2a3f5f",
             "gridcolor": "white",
             "linecolor": "white",
             "minorgridcolor": "white",
             "startlinecolor": "#2a3f5f"
            },
            "baxis": {
             "endlinecolor": "#2a3f5f",
             "gridcolor": "white",
             "linecolor": "white",
             "minorgridcolor": "white",
             "startlinecolor": "#2a3f5f"
            },
            "type": "carpet"
           }
          ],
          "choropleth": [
           {
            "colorbar": {
             "outlinewidth": 0,
             "ticks": ""
            },
            "type": "choropleth"
           }
          ],
          "contour": [
           {
            "colorbar": {
             "outlinewidth": 0,
             "ticks": ""
            },
            "colorscale": [
             [
              0,
              "#0d0887"
             ],
             [
              0.1111111111111111,
              "#46039f"
             ],
             [
              0.2222222222222222,
              "#7201a8"
             ],
             [
              0.3333333333333333,
              "#9c179e"
             ],
             [
              0.4444444444444444,
              "#bd3786"
             ],
             [
              0.5555555555555556,
              "#d8576b"
             ],
             [
              0.6666666666666666,
              "#ed7953"
             ],
             [
              0.7777777777777778,
              "#fb9f3a"
             ],
             [
              0.8888888888888888,
              "#fdca26"
             ],
             [
              1,
              "#f0f921"
             ]
            ],
            "type": "contour"
           }
          ],
          "contourcarpet": [
           {
            "colorbar": {
             "outlinewidth": 0,
             "ticks": ""
            },
            "type": "contourcarpet"
           }
          ],
          "heatmap": [
           {
            "colorbar": {
             "outlinewidth": 0,
             "ticks": ""
            },
            "colorscale": [
             [
              0,
              "#0d0887"
             ],
             [
              0.1111111111111111,
              "#46039f"
             ],
             [
              0.2222222222222222,
              "#7201a8"
             ],
             [
              0.3333333333333333,
              "#9c179e"
             ],
             [
              0.4444444444444444,
              "#bd3786"
             ],
             [
              0.5555555555555556,
              "#d8576b"
             ],
             [
              0.6666666666666666,
              "#ed7953"
             ],
             [
              0.7777777777777778,
              "#fb9f3a"
             ],
             [
              0.8888888888888888,
              "#fdca26"
             ],
             [
              1,
              "#f0f921"
             ]
            ],
            "type": "heatmap"
           }
          ],
          "histogram": [
           {
            "marker": {
             "pattern": {
              "fillmode": "overlay",
              "size": 10,
              "solidity": 0.2
             }
            },
            "type": "histogram"
           }
          ],
          "histogram2d": [
           {
            "colorbar": {
             "outlinewidth": 0,
             "ticks": ""
            },
            "colorscale": [
             [
              0,
              "#0d0887"
             ],
             [
              0.1111111111111111,
              "#46039f"
             ],
             [
              0.2222222222222222,
              "#7201a8"
             ],
             [
              0.3333333333333333,
              "#9c179e"
             ],
             [
              0.4444444444444444,
              "#bd3786"
             ],
             [
              0.5555555555555556,
              "#d8576b"
             ],
             [
              0.6666666666666666,
              "#ed7953"
             ],
             [
              0.7777777777777778,
              "#fb9f3a"
             ],
             [
              0.8888888888888888,
              "#fdca26"
             ],
             [
              1,
              "#f0f921"
             ]
            ],
            "type": "histogram2d"
           }
          ],
          "histogram2dcontour": [
           {
            "colorbar": {
             "outlinewidth": 0,
             "ticks": ""
            },
            "colorscale": [
             [
              0,
              "#0d0887"
             ],
             [
              0.1111111111111111,
              "#46039f"
             ],
             [
              0.2222222222222222,
              "#7201a8"
             ],
             [
              0.3333333333333333,
              "#9c179e"
             ],
             [
              0.4444444444444444,
              "#bd3786"
             ],
             [
              0.5555555555555556,
              "#d8576b"
             ],
             [
              0.6666666666666666,
              "#ed7953"
             ],
             [
              0.7777777777777778,
              "#fb9f3a"
             ],
             [
              0.8888888888888888,
              "#fdca26"
             ],
             [
              1,
              "#f0f921"
             ]
            ],
            "type": "histogram2dcontour"
           }
          ],
          "mesh3d": [
           {
            "colorbar": {
             "outlinewidth": 0,
             "ticks": ""
            },
            "type": "mesh3d"
           }
          ],
          "parcoords": [
           {
            "line": {
             "colorbar": {
              "outlinewidth": 0,
              "ticks": ""
             }
            },
            "type": "parcoords"
           }
          ],
          "pie": [
           {
            "automargin": true,
            "type": "pie"
           }
          ],
          "scatter": [
           {
            "fillpattern": {
             "fillmode": "overlay",
             "size": 10,
             "solidity": 0.2
            },
            "type": "scatter"
           }
          ],
          "scatter3d": [
           {
            "line": {
             "colorbar": {
              "outlinewidth": 0,
              "ticks": ""
             }
            },
            "marker": {
             "colorbar": {
              "outlinewidth": 0,
              "ticks": ""
             }
            },
            "type": "scatter3d"
           }
          ],
          "scattercarpet": [
           {
            "marker": {
             "colorbar": {
              "outlinewidth": 0,
              "ticks": ""
             }
            },
            "type": "scattercarpet"
           }
          ],
          "scattergeo": [
           {
            "marker": {
             "colorbar": {
              "outlinewidth": 0,
              "ticks": ""
             }
            },
            "type": "scattergeo"
           }
          ],
          "scattergl": [
           {
            "marker": {
             "colorbar": {
              "outlinewidth": 0,
              "ticks": ""
             }
            },
            "type": "scattergl"
           }
          ],
          "scattermap": [
           {
            "marker": {
             "colorbar": {
              "outlinewidth": 0,
              "ticks": ""
             }
            },
            "type": "scattermap"
           }
          ],
          "scattermapbox": [
           {
            "marker": {
             "colorbar": {
              "outlinewidth": 0,
              "ticks": ""
             }
            },
            "type": "scattermapbox"
           }
          ],
          "scatterpolar": [
           {
            "marker": {
             "colorbar": {
              "outlinewidth": 0,
              "ticks": ""
             }
            },
            "type": "scatterpolar"
           }
          ],
          "scatterpolargl": [
           {
            "marker": {
             "colorbar": {
              "outlinewidth": 0,
              "ticks": ""
             }
            },
            "type": "scatterpolargl"
           }
          ],
          "scatterternary": [
           {
            "marker": {
             "colorbar": {
              "outlinewidth": 0,
              "ticks": ""
             }
            },
            "type": "scatterternary"
           }
          ],
          "surface": [
           {
            "colorbar": {
             "outlinewidth": 0,
             "ticks": ""
            },
            "colorscale": [
             [
              0,
              "#0d0887"
             ],
             [
              0.1111111111111111,
              "#46039f"
             ],
             [
              0.2222222222222222,
              "#7201a8"
             ],
             [
              0.3333333333333333,
              "#9c179e"
             ],
             [
              0.4444444444444444,
              "#bd3786"
             ],
             [
              0.5555555555555556,
              "#d8576b"
             ],
             [
              0.6666666666666666,
              "#ed7953"
             ],
             [
              0.7777777777777778,
              "#fb9f3a"
             ],
             [
              0.8888888888888888,
              "#fdca26"
             ],
             [
              1,
              "#f0f921"
             ]
            ],
            "type": "surface"
           }
          ],
          "table": [
           {
            "cells": {
             "fill": {
              "color": "#EBF0F8"
             },
             "line": {
              "color": "white"
             }
            },
            "header": {
             "fill": {
              "color": "#C8D4E3"
             },
             "line": {
              "color": "white"
             }
            },
            "type": "table"
           }
          ]
         },
         "layout": {
          "annotationdefaults": {
           "arrowcolor": "#2a3f5f",
           "arrowhead": 0,
           "arrowwidth": 1
          },
          "autotypenumbers": "strict",
          "coloraxis": {
           "colorbar": {
            "outlinewidth": 0,
            "ticks": ""
           }
          },
          "colorscale": {
           "diverging": [
            [
             0,
             "#8e0152"
            ],
            [
             0.1,
             "#c51b7d"
            ],
            [
             0.2,
             "#de77ae"
            ],
            [
             0.3,
             "#f1b6da"
            ],
            [
             0.4,
             "#fde0ef"
            ],
            [
             0.5,
             "#f7f7f7"
            ],
            [
             0.6,
             "#e6f5d0"
            ],
            [
             0.7,
             "#b8e186"
            ],
            [
             0.8,
             "#7fbc41"
            ],
            [
             0.9,
             "#4d9221"
            ],
            [
             1,
             "#276419"
            ]
           ],
           "sequential": [
            [
             0,
             "#0d0887"
            ],
            [
             0.1111111111111111,
             "#46039f"
            ],
            [
             0.2222222222222222,
             "#7201a8"
            ],
            [
             0.3333333333333333,
             "#9c179e"
            ],
            [
             0.4444444444444444,
             "#bd3786"
            ],
            [
             0.5555555555555556,
             "#d8576b"
            ],
            [
             0.6666666666666666,
             "#ed7953"
            ],
            [
             0.7777777777777778,
             "#fb9f3a"
            ],
            [
             0.8888888888888888,
             "#fdca26"
            ],
            [
             1,
             "#f0f921"
            ]
           ],
           "sequentialminus": [
            [
             0,
             "#0d0887"
            ],
            [
             0.1111111111111111,
             "#46039f"
            ],
            [
             0.2222222222222222,
             "#7201a8"
            ],
            [
             0.3333333333333333,
             "#9c179e"
            ],
            [
             0.4444444444444444,
             "#bd3786"
            ],
            [
             0.5555555555555556,
             "#d8576b"
            ],
            [
             0.6666666666666666,
             "#ed7953"
            ],
            [
             0.7777777777777778,
             "#fb9f3a"
            ],
            [
             0.8888888888888888,
             "#fdca26"
            ],
            [
             1,
             "#f0f921"
            ]
           ]
          },
          "colorway": [
           "#636efa",
           "#EF553B",
           "#00cc96",
           "#ab63fa",
           "#FFA15A",
           "#19d3f3",
           "#FF6692",
           "#B6E880",
           "#FF97FF",
           "#FECB52"
          ],
          "font": {
           "color": "#2a3f5f"
          },
          "geo": {
           "bgcolor": "white",
           "lakecolor": "white",
           "landcolor": "#E5ECF6",
           "showlakes": true,
           "showland": true,
           "subunitcolor": "white"
          },
          "hoverlabel": {
           "align": "left"
          },
          "hovermode": "closest",
          "mapbox": {
           "style": "light"
          },
          "paper_bgcolor": "white",
          "plot_bgcolor": "#E5ECF6",
          "polar": {
           "angularaxis": {
            "gridcolor": "white",
            "linecolor": "white",
            "ticks": ""
           },
           "bgcolor": "#E5ECF6",
           "radialaxis": {
            "gridcolor": "white",
            "linecolor": "white",
            "ticks": ""
           }
          },
          "scene": {
           "xaxis": {
            "backgroundcolor": "#E5ECF6",
            "gridcolor": "white",
            "gridwidth": 2,
            "linecolor": "white",
            "showbackground": true,
            "ticks": "",
            "zerolinecolor": "white"
           },
           "yaxis": {
            "backgroundcolor": "#E5ECF6",
            "gridcolor": "white",
            "gridwidth": 2,
            "linecolor": "white",
            "showbackground": true,
            "ticks": "",
            "zerolinecolor": "white"
           },
           "zaxis": {
            "backgroundcolor": "#E5ECF6",
            "gridcolor": "white",
            "gridwidth": 2,
            "linecolor": "white",
            "showbackground": true,
            "ticks": "",
            "zerolinecolor": "white"
           }
          },
          "shapedefaults": {
           "line": {
            "color": "#2a3f5f"
           }
          },
          "ternary": {
           "aaxis": {
            "gridcolor": "white",
            "linecolor": "white",
            "ticks": ""
           },
           "baxis": {
            "gridcolor": "white",
            "linecolor": "white",
            "ticks": ""
           },
           "bgcolor": "#E5ECF6",
           "caxis": {
            "gridcolor": "white",
            "linecolor": "white",
            "ticks": ""
           }
          },
          "title": {
           "x": 0.05
          },
          "xaxis": {
           "automargin": true,
           "gridcolor": "white",
           "linecolor": "white",
           "ticks": "",
           "title": {
            "standoff": 15
           },
           "zerolinecolor": "white",
           "zerolinewidth": 2
          },
          "yaxis": {
           "automargin": true,
           "gridcolor": "white",
           "linecolor": "white",
           "ticks": "",
           "title": {
            "standoff": 15
           },
           "zerolinecolor": "white",
           "zerolinewidth": 2
          }
         }
        },
        "title": {
         "text": "Installs Distribution by Type"
        },
        "xaxis": {
         "anchor": "y",
         "categoryarray": [
          "Free",
          "Paid"
         ],
         "categoryorder": "array",
         "domain": [
          0,
          1
         ],
         "tickangle": 45,
         "title": {
          "text": "Type"
         }
        },
        "yaxis": {
         "anchor": "x",
         "domain": [
          0,
          1
         ],
         "title": {
          "text": "Installs"
         },
         "type": "log"
        }
       }
      }
     },
     "metadata": {},
     "output_type": "display_data"
    },
    {
     "data": {
      "application/vnd.plotly.v1+json": {
       "config": {
        "plotlyServerURL": "https://plot.ly"
       },
       "data": [
        {
         "alignmentgroup": "True",
         "hovertemplate": "Category=%{x}<br>Revenue_Estimate=%{y}<extra></extra>",
         "legendgroup": "",
         "marker": {
          "color": "#636efa"
         },
         "name": "",
         "notched": false,
         "offsetgroup": "",
         "orientation": "v",
         "showlegend": false,
         "type": "box",
         "x": [
          "GAME",
          "GAME",
          "FAMILY",
          "BUSINESS",
          "LIFESTYLE",
          "FAMILY",
          "PERSONALIZATION",
          "PHOTOGRAPHY",
          "FAMILY",
          "GAME",
          "PRODUCTIVITY",
          "PHOTOGRAPHY",
          "FAMILY",
          "TOOLS",
          "TOOLS",
          "PERSONALIZATION",
          "FAMILY",
          "FAMILY",
          "FAMILY",
          "FAMILY",
          "GAME",
          "TOOLS",
          "PERSONALIZATION",
          "PERSONALIZATION",
          "PERSONALIZATION",
          "TOOLS",
          "FAMILY",
          "FAMILY",
          "BUSINESS",
          "BOOKS_AND_REFERENCE",
          "FAMILY",
          "FAMILY",
          "FAMILY",
          "PERSONALIZATION",
          "PERSONALIZATION",
          "PERSONALIZATION",
          "GAME",
          "PERSONALIZATION",
          "FAMILY",
          "FINANCE",
          "SHOPPING",
          "DATING",
          "PERSONALIZATION",
          "GAME",
          "FAMILY",
          "PRODUCTIVITY",
          "FAMILY",
          "MEDICAL",
          "SPORTS",
          "MEDICAL",
          "PRODUCTIVITY",
          "BUSINESS",
          "PARENTING",
          "LIFESTYLE",
          "FAMILY",
          "TOOLS",
          "MAPS_AND_NAVIGATION",
          "COMMUNICATION",
          "PERSONALIZATION",
          "COMMUNICATION",
          "FAMILY",
          "PERSONALIZATION",
          "FAMILY",
          "FAMILY",
          "FAMILY",
          "TOOLS",
          "FAMILY",
          "SPORTS",
          "FAMILY",
          "MEDICAL",
          "FAMILY",
          "FAMILY",
          "GAME",
          "TOOLS",
          "FAMILY",
          "FAMILY",
          "PERSONALIZATION",
          "BOOKS_AND_REFERENCE",
          "GAME",
          "PERSONALIZATION",
          "GAME",
          "GAME",
          "TOOLS",
          "MEDICAL",
          "TOOLS",
          "TOOLS",
          "PERSONALIZATION",
          "GAME",
          "COMMUNICATION",
          "MEDICAL",
          "SPORTS",
          "PERSONALIZATION",
          "COMMUNICATION",
          "COMMUNICATION",
          "PERSONALIZATION",
          "TOOLS",
          "PERSONALIZATION",
          "PERSONALIZATION",
          "PRODUCTIVITY",
          "MEDICAL",
          "FAMILY",
          "TOOLS",
          "TOOLS",
          "BUSINESS",
          "COMMUNICATION",
          "FAMILY",
          "PERSONALIZATION",
          "PHOTOGRAPHY",
          "MEDICAL",
          "PERSONALIZATION",
          "MEDICAL",
          "COMMUNICATION",
          "PRODUCTIVITY",
          "BOOKS_AND_REFERENCE",
          "TOOLS",
          "WEATHER",
          "FAMILY",
          "FAMILY",
          "MEDICAL",
          "FAMILY",
          "TOOLS",
          "TOOLS",
          "SPORTS",
          "GAME",
          "MEDICAL",
          "PERSONALIZATION",
          "PERSONALIZATION",
          "NEWS_AND_MAGAZINES",
          "COMMUNICATION",
          "TOOLS",
          "MEDICAL",
          "FINANCE",
          "FAMILY",
          "PERSONALIZATION",
          "PERSONALIZATION",
          "MEDICAL",
          "FAMILY",
          "MEDICAL",
          "MEDICAL",
          "FAMILY",
          "FAMILY",
          "FAMILY",
          "GAME",
          "PERSONALIZATION",
          "TOOLS",
          "PERSONALIZATION",
          "GAME",
          "GAME",
          "GAME",
          "FAMILY",
          "FAMILY",
          "PRODUCTIVITY",
          "COMMUNICATION",
          "SPORTS",
          "SPORTS",
          "FAMILY",
          "PERSONALIZATION",
          "MEDICAL",
          "SPORTS",
          "COMMUNICATION",
          "LIFESTYLE",
          "FAMILY",
          "MEDICAL",
          "MEDICAL",
          "TOOLS",
          "PRODUCTIVITY",
          "FINANCE",
          "HEALTH_AND_FITNESS",
          "MEDICAL",
          "PHOTOGRAPHY",
          "FAMILY",
          "FAMILY",
          "PHOTOGRAPHY",
          "SPORTS",
          "ART_AND_DESIGN",
          "FAMILY",
          "PERSONALIZATION",
          "PRODUCTIVITY",
          "HEALTH_AND_FITNESS",
          "MEDICAL",
          "TOOLS",
          "PRODUCTIVITY",
          "GAME",
          "TOOLS",
          "MEDICAL",
          "LIFESTYLE",
          "GAME",
          "MEDICAL",
          "TRAVEL_AND_LOCAL",
          "BUSINESS",
          "MEDICAL",
          "COMMUNICATION",
          "PERSONALIZATION",
          "GAME",
          "TRAVEL_AND_LOCAL",
          "GAME",
          "SPORTS",
          "MEDICAL",
          "FAMILY",
          "MEDICAL",
          "TOOLS",
          "BOOKS_AND_REFERENCE",
          "FAMILY",
          "MEDICAL",
          "MEDICAL",
          "GAME",
          "BUSINESS",
          "TOOLS",
          "FAMILY",
          "MEDICAL",
          "PERSONALIZATION",
          "PHOTOGRAPHY",
          "SPORTS",
          "MAPS_AND_NAVIGATION",
          "PERSONALIZATION",
          "GAME",
          "BOOKS_AND_REFERENCE",
          "EDUCATION",
          "FAMILY",
          "FAMILY",
          "FAMILY",
          "SOCIAL",
          "MEDICAL",
          "TOOLS",
          "SPORTS",
          "FAMILY",
          "FAMILY",
          "TOOLS",
          "WEATHER",
          "VIDEO_PLAYERS",
          "MEDICAL",
          "TOOLS",
          "GAME",
          "PERSONALIZATION",
          "MEDICAL",
          "LIFESTYLE",
          "MEDICAL",
          "DATING",
          "HEALTH_AND_FITNESS",
          "MEDICAL",
          "FAMILY",
          "PRODUCTIVITY",
          "EDUCATION",
          "SPORTS",
          "FAMILY",
          "PERSONALIZATION",
          "PERSONALIZATION",
          "FAMILY",
          "GAME",
          "FINANCE",
          "GAME",
          "MEDICAL",
          "FAMILY",
          "MEDICAL",
          "MEDICAL",
          "TOOLS",
          "TOOLS",
          "TOOLS",
          "TOOLS",
          "PERSONALIZATION",
          "PERSONALIZATION",
          "PERSONALIZATION",
          "PERSONALIZATION",
          "FAMILY",
          "GAME",
          "FAMILY",
          "FAMILY",
          "MEDICAL",
          "SPORTS",
          "LIFESTYLE",
          "FAMILY",
          "FAMILY",
          "TRAVEL_AND_LOCAL",
          "PERSONALIZATION",
          "BOOKS_AND_REFERENCE",
          "FAMILY",
          "MEDICAL",
          "MEDICAL",
          "MEDICAL",
          "MEDICAL",
          "PRODUCTIVITY",
          "SOCIAL",
          "SPORTS",
          "TRAVEL_AND_LOCAL",
          "TOOLS",
          "FAMILY",
          "NEWS_AND_MAGAZINES",
          "ART_AND_DESIGN",
          "GAME",
          "PERSONALIZATION",
          "LIFESTYLE",
          "PERSONALIZATION",
          "LIFESTYLE",
          "MEDICAL",
          "FAMILY",
          "FAMILY",
          "BOOKS_AND_REFERENCE",
          "LIFESTYLE",
          "MEDICAL",
          "MEDICAL",
          "TOOLS",
          "SPORTS",
          "MEDICAL",
          "PHOTOGRAPHY",
          "GAME",
          "SPORTS",
          "FAMILY",
          "SPORTS",
          "TOOLS",
          "LIFESTYLE",
          "FAMILY",
          "COMMUNICATION",
          "COMMUNICATION",
          "COMMUNICATION",
          "FAMILY",
          "FAMILY",
          "TOOLS",
          "MEDICAL",
          "TOOLS",
          "TOOLS",
          "TOOLS",
          "TOOLS",
          "TOOLS",
          "TOOLS",
          "PERSONALIZATION",
          "FAMILY",
          "MEDICAL",
          "MEDICAL",
          "MEDICAL",
          "HEALTH_AND_FITNESS",
          "GAME",
          "FAMILY",
          "FAMILY",
          "PHOTOGRAPHY",
          "PERSONALIZATION",
          "LIFESTYLE",
          "GAME",
          "FAMILY",
          "MEDICAL",
          "FAMILY",
          "BUSINESS",
          "GAME",
          "FAMILY",
          "MEDICAL",
          "FAMILY",
          "MAPS_AND_NAVIGATION",
          "BOOKS_AND_REFERENCE",
          "GAME",
          "PERSONALIZATION",
          "PERSONALIZATION",
          "COMMUNICATION",
          "DATING",
          "FOOD_AND_DRINK",
          "LIFESTYLE",
          "FAMILY",
          "FAMILY",
          "MEDICAL",
          "TRAVEL_AND_LOCAL",
          "TOOLS",
          "TOOLS",
          "TOOLS",
          "PERSONALIZATION",
          "VIDEO_PLAYERS",
          "VIDEO_PLAYERS",
          "GAME",
          "FAMILY",
          "FAMILY",
          "FAMILY",
          "FAMILY",
          "PERSONALIZATION",
          "WEATHER",
          "TOOLS",
          "PERSONALIZATION",
          "TOOLS",
          "ART_AND_DESIGN",
          "PERSONALIZATION",
          "PERSONALIZATION",
          "MEDICAL",
          "TOOLS",
          "FAMILY",
          "FINANCE",
          "TOOLS",
          "GAME",
          "FAMILY",
          "FAMILY",
          "TOOLS",
          "TOOLS",
          "GAME",
          "TOOLS",
          "HEALTH_AND_FITNESS",
          "GAME",
          "MEDICAL",
          "COMMUNICATION",
          "FAMILY",
          "GAME",
          "FAMILY",
          "MEDICAL",
          "PERSONALIZATION",
          "FAMILY",
          "SPORTS",
          "FAMILY",
          "TRAVEL_AND_LOCAL",
          "TOOLS",
          "SHOPPING",
          "TOOLS",
          "FAMILY",
          "FAMILY",
          "FAMILY",
          "FAMILY",
          "FAMILY",
          "FAMILY",
          "GAME",
          "MAPS_AND_NAVIGATION",
          "PERSONALIZATION",
          "GAME",
          "FAMILY",
          "FAMILY",
          "FINANCE",
          "TOOLS",
          "TOOLS",
          "FAMILY",
          "FAMILY",
          "MEDICAL",
          "GAME",
          "FAMILY",
          "COMMUNICATION",
          "COMMUNICATION",
          "FAMILY",
          "FAMILY",
          "MEDICAL",
          "MEDICAL",
          "MEDICAL",
          "PHOTOGRAPHY",
          "TOOLS",
          "TOOLS",
          "PERSONALIZATION",
          "PERSONALIZATION",
          "FAMILY",
          "GAME",
          "SPORTS",
          "MEDICAL",
          "GAME",
          "FAMILY",
          "AUTO_AND_VEHICLES",
          "HEALTH_AND_FITNESS",
          "FAMILY",
          "FAMILY",
          "MEDICAL",
          "PHOTOGRAPHY",
          "SPORTS",
          "TOOLS",
          "VIDEO_PLAYERS",
          "FAMILY",
          "FAMILY",
          "PRODUCTIVITY",
          "PERSONALIZATION",
          "PRODUCTIVITY",
          "PERSONALIZATION",
          "FAMILY",
          "FAMILY",
          "GAME",
          "MEDICAL",
          "FAMILY",
          "FAMILY",
          "FOOD_AND_DRINK",
          "FAMILY",
          "FAMILY",
          "FAMILY",
          "TOOLS",
          "HEALTH_AND_FITNESS",
          "PARENTING",
          "FAMILY",
          "GAME",
          "HEALTH_AND_FITNESS",
          "TRAVEL_AND_LOCAL",
          "GAME",
          "WEATHER",
          "FAMILY",
          "MEDICAL",
          "GAME",
          "GAME",
          "MEDICAL",
          "PERSONALIZATION",
          "FAMILY",
          "FAMILY",
          "FAMILY",
          "FAMILY",
          "GAME",
          "PHOTOGRAPHY",
          "FAMILY",
          "BUSINESS",
          "FAMILY",
          "GAME",
          "FAMILY",
          "FAMILY",
          "WEATHER",
          "EDUCATION",
          "COMMUNICATION",
          "ENTERTAINMENT",
          "HEALTH_AND_FITNESS",
          "HEALTH_AND_FITNESS",
          "GAME",
          "GAME",
          "FAMILY",
          "FAMILY",
          "FAMILY",
          "PHOTOGRAPHY",
          "SPORTS",
          "TRAVEL_AND_LOCAL",
          "TOOLS",
          "TOOLS",
          "PERSONALIZATION",
          "PERSONALIZATION",
          "PRODUCTIVITY",
          "PRODUCTIVITY",
          "MAPS_AND_NAVIGATION",
          "GAME",
          "GAME",
          "PRODUCTIVITY",
          "TOOLS",
          "WEATHER",
          "FAMILY",
          "GAME",
          "FAMILY",
          "GAME",
          "TOOLS",
          "GAME",
          "FAMILY",
          "FAMILY",
          "HEALTH_AND_FITNESS",
          "FAMILY",
          "GAME",
          "FAMILY",
          "PERSONALIZATION",
          "BUSINESS",
          "FINANCE",
          "FAMILY",
          "PHOTOGRAPHY",
          "GAME",
          "FAMILY",
          "FAMILY",
          "FAMILY",
          "FAMILY",
          "GAME",
          "FAMILY",
          "GAME",
          "COMMUNICATION",
          "FAMILY",
          "ENTERTAINMENT",
          "COMMUNICATION",
          "GAME",
          "GAME",
          "GAME",
          "GAME",
          "GAME",
          "GAME",
          "PERSONALIZATION",
          "FAMILY",
          "PERSONALIZATION",
          "FAMILY",
          "EDUCATION",
          "FAMILY",
          "WEATHER",
          "PHOTOGRAPHY",
          "PRODUCTIVITY",
          "GAME",
          "FAMILY",
          "FAMILY",
          "PRODUCTIVITY",
          "PERSONALIZATION",
          "GAME",
          "GAME",
          "FAMILY",
          "COMMUNICATION",
          "TOOLS",
          "GAME",
          "PERSONALIZATION",
          "PHOTOGRAPHY",
          "SPORTS",
          "GAME",
          "FAMILY",
          "GAME",
          "GAME",
          "FAMILY",
          "GAME",
          "FAMILY",
          "GAME",
          "LIFESTYLE",
          "FAMILY",
          "GAME",
          "FAMILY"
         ],
         "x0": " ",
         "xaxis": "x",
         "y": {
          "bdata": "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",
          "dtype": "f8"
         },
         "y0": " ",
         "yaxis": "y"
        }
       ],
       "layout": {
        "boxmode": "group",
        "legend": {
         "tracegroupgap": 0
        },
        "template": {
         "data": {
          "bar": [
           {
            "error_x": {
             "color": "#2a3f5f"
            },
            "error_y": {
             "color": "#2a3f5f"
            },
            "marker": {
             "line": {
              "color": "#E5ECF6",
              "width": 0.5
             },
             "pattern": {
              "fillmode": "overlay",
              "size": 10,
              "solidity": 0.2
             }
            },
            "type": "bar"
           }
          ],
          "barpolar": [
           {
            "marker": {
             "line": {
              "color": "#E5ECF6",
              "width": 0.5
             },
             "pattern": {
              "fillmode": "overlay",
              "size": 10,
              "solidity": 0.2
             }
            },
            "type": "barpolar"
           }
          ],
          "carpet": [
           {
            "aaxis": {
             "endlinecolor": "#2a3f5f",
             "gridcolor": "white",
             "linecolor": "white",
             "minorgridcolor": "white",
             "startlinecolor": "#2a3f5f"
            },
            "baxis": {
             "endlinecolor": "#2a3f5f",
             "gridcolor": "white",
             "linecolor": "white",
             "minorgridcolor": "white",
             "startlinecolor": "#2a3f5f"
            },
            "type": "carpet"
           }
          ],
          "choropleth": [
           {
            "colorbar": {
             "outlinewidth": 0,
             "ticks": ""
            },
            "type": "choropleth"
           }
          ],
          "contour": [
           {
            "colorbar": {
             "outlinewidth": 0,
             "ticks": ""
            },
            "colorscale": [
             [
              0,
              "#0d0887"
             ],
             [
              0.1111111111111111,
              "#46039f"
             ],
             [
              0.2222222222222222,
              "#7201a8"
             ],
             [
              0.3333333333333333,
              "#9c179e"
             ],
             [
              0.4444444444444444,
              "#bd3786"
             ],
             [
              0.5555555555555556,
              "#d8576b"
             ],
             [
              0.6666666666666666,
              "#ed7953"
             ],
             [
              0.7777777777777778,
              "#fb9f3a"
             ],
             [
              0.8888888888888888,
              "#fdca26"
             ],
             [
              1,
              "#f0f921"
             ]
            ],
            "type": "contour"
           }
          ],
          "contourcarpet": [
           {
            "colorbar": {
             "outlinewidth": 0,
             "ticks": ""
            },
            "type": "contourcarpet"
           }
          ],
          "heatmap": [
           {
            "colorbar": {
             "outlinewidth": 0,
             "ticks": ""
            },
            "colorscale": [
             [
              0,
              "#0d0887"
             ],
             [
              0.1111111111111111,
              "#46039f"
             ],
             [
              0.2222222222222222,
              "#7201a8"
             ],
             [
              0.3333333333333333,
              "#9c179e"
             ],
             [
              0.4444444444444444,
              "#bd3786"
             ],
             [
              0.5555555555555556,
              "#d8576b"
             ],
             [
              0.6666666666666666,
              "#ed7953"
             ],
             [
              0.7777777777777778,
              "#fb9f3a"
             ],
             [
              0.8888888888888888,
              "#fdca26"
             ],
             [
              1,
              "#f0f921"
             ]
            ],
            "type": "heatmap"
           }
          ],
          "histogram": [
           {
            "marker": {
             "pattern": {
              "fillmode": "overlay",
              "size": 10,
              "solidity": 0.2
             }
            },
            "type": "histogram"
           }
          ],
          "histogram2d": [
           {
            "colorbar": {
             "outlinewidth": 0,
             "ticks": ""
            },
            "colorscale": [
             [
              0,
              "#0d0887"
             ],
             [
              0.1111111111111111,
              "#46039f"
             ],
             [
              0.2222222222222222,
              "#7201a8"
             ],
             [
              0.3333333333333333,
              "#9c179e"
             ],
             [
              0.4444444444444444,
              "#bd3786"
             ],
             [
              0.5555555555555556,
              "#d8576b"
             ],
             [
              0.6666666666666666,
              "#ed7953"
             ],
             [
              0.7777777777777778,
              "#fb9f3a"
             ],
             [
              0.8888888888888888,
              "#fdca26"
             ],
             [
              1,
              "#f0f921"
             ]
            ],
            "type": "histogram2d"
           }
          ],
          "histogram2dcontour": [
           {
            "colorbar": {
             "outlinewidth": 0,
             "ticks": ""
            },
            "colorscale": [
             [
              0,
              "#0d0887"
             ],
             [
              0.1111111111111111,
              "#46039f"
             ],
             [
              0.2222222222222222,
              "#7201a8"
             ],
             [
              0.3333333333333333,
              "#9c179e"
             ],
             [
              0.4444444444444444,
              "#bd3786"
             ],
             [
              0.5555555555555556,
              "#d8576b"
             ],
             [
              0.6666666666666666,
              "#ed7953"
             ],
             [
              0.7777777777777778,
              "#fb9f3a"
             ],
             [
              0.8888888888888888,
              "#fdca26"
             ],
             [
              1,
              "#f0f921"
             ]
            ],
            "type": "histogram2dcontour"
           }
          ],
          "mesh3d": [
           {
            "colorbar": {
             "outlinewidth": 0,
             "ticks": ""
            },
            "type": "mesh3d"
           }
          ],
          "parcoords": [
           {
            "line": {
             "colorbar": {
              "outlinewidth": 0,
              "ticks": ""
             }
            },
            "type": "parcoords"
           }
          ],
          "pie": [
           {
            "automargin": true,
            "type": "pie"
           }
          ],
          "scatter": [
           {
            "fillpattern": {
             "fillmode": "overlay",
             "size": 10,
             "solidity": 0.2
            },
            "type": "scatter"
           }
          ],
          "scatter3d": [
           {
            "line": {
             "colorbar": {
              "outlinewidth": 0,
              "ticks": ""
             }
            },
            "marker": {
             "colorbar": {
              "outlinewidth": 0,
              "ticks": ""
             }
            },
            "type": "scatter3d"
           }
          ],
          "scattercarpet": [
           {
            "marker": {
             "colorbar": {
              "outlinewidth": 0,
              "ticks": ""
             }
            },
            "type": "scattercarpet"
           }
          ],
          "scattergeo": [
           {
            "marker": {
             "colorbar": {
              "outlinewidth": 0,
              "ticks": ""
             }
            },
            "type": "scattergeo"
           }
          ],
          "scattergl": [
           {
            "marker": {
             "colorbar": {
              "outlinewidth": 0,
              "ticks": ""
             }
            },
            "type": "scattergl"
           }
          ],
          "scattermap": [
           {
            "marker": {
             "colorbar": {
              "outlinewidth": 0,
              "ticks": ""
             }
            },
            "type": "scattermap"
           }
          ],
          "scattermapbox": [
           {
            "marker": {
             "colorbar": {
              "outlinewidth": 0,
              "ticks": ""
             }
            },
            "type": "scattermapbox"
           }
          ],
          "scatterpolar": [
           {
            "marker": {
             "colorbar": {
              "outlinewidth": 0,
              "ticks": ""
             }
            },
            "type": "scatterpolar"
           }
          ],
          "scatterpolargl": [
           {
            "marker": {
             "colorbar": {
              "outlinewidth": 0,
              "ticks": ""
             }
            },
            "type": "scatterpolargl"
           }
          ],
          "scatterternary": [
           {
            "marker": {
             "colorbar": {
              "outlinewidth": 0,
              "ticks": ""
             }
            },
            "type": "scatterternary"
           }
          ],
          "surface": [
           {
            "colorbar": {
             "outlinewidth": 0,
             "ticks": ""
            },
            "colorscale": [
             [
              0,
              "#0d0887"
             ],
             [
              0.1111111111111111,
              "#46039f"
             ],
             [
              0.2222222222222222,
              "#7201a8"
             ],
             [
              0.3333333333333333,
              "#9c179e"
             ],
             [
              0.4444444444444444,
              "#bd3786"
             ],
             [
              0.5555555555555556,
              "#d8576b"
             ],
             [
              0.6666666666666666,
              "#ed7953"
             ],
             [
              0.7777777777777778,
              "#fb9f3a"
             ],
             [
              0.8888888888888888,
              "#fdca26"
             ],
             [
              1,
              "#f0f921"
             ]
            ],
            "type": "surface"
           }
          ],
          "table": [
           {
            "cells": {
             "fill": {
              "color": "#EBF0F8"
             },
             "line": {
              "color": "white"
             }
            },
            "header": {
             "fill": {
              "color": "#C8D4E3"
             },
             "line": {
              "color": "white"
             }
            },
            "type": "table"
           }
          ]
         },
         "layout": {
          "annotationdefaults": {
           "arrowcolor": "#2a3f5f",
           "arrowhead": 0,
           "arrowwidth": 1
          },
          "autotypenumbers": "strict",
          "coloraxis": {
           "colorbar": {
            "outlinewidth": 0,
            "ticks": ""
           }
          },
          "colorscale": {
           "diverging": [
            [
             0,
             "#8e0152"
            ],
            [
             0.1,
             "#c51b7d"
            ],
            [
             0.2,
             "#de77ae"
            ],
            [
             0.3,
             "#f1b6da"
            ],
            [
             0.4,
             "#fde0ef"
            ],
            [
             0.5,
             "#f7f7f7"
            ],
            [
             0.6,
             "#e6f5d0"
            ],
            [
             0.7,
             "#b8e186"
            ],
            [
             0.8,
             "#7fbc41"
            ],
            [
             0.9,
             "#4d9221"
            ],
            [
             1,
             "#276419"
            ]
           ],
           "sequential": [
            [
             0,
             "#0d0887"
            ],
            [
             0.1111111111111111,
             "#46039f"
            ],
            [
             0.2222222222222222,
             "#7201a8"
            ],
            [
             0.3333333333333333,
             "#9c179e"
            ],
            [
             0.4444444444444444,
             "#bd3786"
            ],
            [
             0.5555555555555556,
             "#d8576b"
            ],
            [
             0.6666666666666666,
             "#ed7953"
            ],
            [
             0.7777777777777778,
             "#fb9f3a"
            ],
            [
             0.8888888888888888,
             "#fdca26"
            ],
            [
             1,
             "#f0f921"
            ]
           ],
           "sequentialminus": [
            [
             0,
             "#0d0887"
            ],
            [
             0.1111111111111111,
             "#46039f"
            ],
            [
             0.2222222222222222,
             "#7201a8"
            ],
            [
             0.3333333333333333,
             "#9c179e"
            ],
            [
             0.4444444444444444,
             "#bd3786"
            ],
            [
             0.5555555555555556,
             "#d8576b"
            ],
            [
             0.6666666666666666,
             "#ed7953"
            ],
            [
             0.7777777777777778,
             "#fb9f3a"
            ],
            [
             0.8888888888888888,
             "#fdca26"
            ],
            [
             1,
             "#f0f921"
            ]
           ]
          },
          "colorway": [
           "#636efa",
           "#EF553B",
           "#00cc96",
           "#ab63fa",
           "#FFA15A",
           "#19d3f3",
           "#FF6692",
           "#B6E880",
           "#FF97FF",
           "#FECB52"
          ],
          "font": {
           "color": "#2a3f5f"
          },
          "geo": {
           "bgcolor": "white",
           "lakecolor": "white",
           "landcolor": "#E5ECF6",
           "showlakes": true,
           "showland": true,
           "subunitcolor": "white"
          },
          "hoverlabel": {
           "align": "left"
          },
          "hovermode": "closest",
          "mapbox": {
           "style": "light"
          },
          "paper_bgcolor": "white",
          "plot_bgcolor": "#E5ECF6",
          "polar": {
           "angularaxis": {
            "gridcolor": "white",
            "linecolor": "white",
            "ticks": ""
           },
           "bgcolor": "#E5ECF6",
           "radialaxis": {
            "gridcolor": "white",
            "linecolor": "white",
            "ticks": ""
           }
          },
          "scene": {
           "xaxis": {
            "backgroundcolor": "#E5ECF6",
            "gridcolor": "white",
            "gridwidth": 2,
            "linecolor": "white",
            "showbackground": true,
            "ticks": "",
            "zerolinecolor": "white"
           },
           "yaxis": {
            "backgroundcolor": "#E5ECF6",
            "gridcolor": "white",
            "gridwidth": 2,
            "linecolor": "white",
            "showbackground": true,
            "ticks": "",
            "zerolinecolor": "white"
           },
           "zaxis": {
            "backgroundcolor": "#E5ECF6",
            "gridcolor": "white",
            "gridwidth": 2,
            "linecolor": "white",
            "showbackground": true,
            "ticks": "",
            "zerolinecolor": "white"
           }
          },
          "shapedefaults": {
           "line": {
            "color": "#2a3f5f"
           }
          },
          "ternary": {
           "aaxis": {
            "gridcolor": "white",
            "linecolor": "white",
            "ticks": ""
           },
           "baxis": {
            "gridcolor": "white",
            "linecolor": "white",
            "ticks": ""
           },
           "bgcolor": "#E5ECF6",
           "caxis": {
            "gridcolor": "white",
            "linecolor": "white",
            "ticks": ""
           }
          },
          "title": {
           "x": 0.05
          },
          "xaxis": {
           "automargin": true,
           "gridcolor": "white",
           "linecolor": "white",
           "ticks": "",
           "title": {
            "standoff": 15
           },
           "zerolinecolor": "white",
           "zerolinewidth": 2
          },
          "yaxis": {
           "automargin": true,
           "gridcolor": "white",
           "linecolor": "white",
           "ticks": "",
           "title": {
            "standoff": 15
           },
           "zerolinecolor": "white",
           "zerolinewidth": 2
          }
         }
        },
        "title": {
         "text": "How Much Can Paid Apps Earn?"
        },
        "xaxis": {
         "anchor": "y",
         "categoryorder": "min ascending",
         "domain": [
          0,
          1
         ],
         "tickangle": 45,
         "title": {
          "text": "Category"
         }
        },
        "yaxis": {
         "anchor": "x",
         "domain": [
          0,
          1
         ],
         "title": {
          "text": "Revenue_Estimate"
         },
         "type": "log"
        }
       }
      }
     },
     "metadata": {},
     "output_type": "display_data"
    },
    {
     "data": {
      "application/vnd.plotly.v1+json": {
       "config": {
        "plotlyServerURL": "https://plot.ly"
       },
       "data": [
        {
         "alignmentgroup": "True",
         "hovertemplate": "Category=%{x}<br>Price=%{y}<extra></extra>",
         "legendgroup": "",
         "marker": {
          "color": "#636efa"
         },
         "name": "",
         "notched": false,
         "offsetgroup": "",
         "orientation": "v",
         "showlegend": false,
         "type": "box",
         "x": [
          "GAME",
          "GAME",
          "FAMILY",
          "BUSINESS",
          "LIFESTYLE",
          "FAMILY",
          "PERSONALIZATION",
          "PHOTOGRAPHY",
          "FAMILY",
          "GAME",
          "PRODUCTIVITY",
          "PHOTOGRAPHY",
          "FAMILY",
          "TOOLS",
          "TOOLS",
          "PERSONALIZATION",
          "FAMILY",
          "FAMILY",
          "FAMILY",
          "FAMILY",
          "GAME",
          "TOOLS",
          "PERSONALIZATION",
          "PERSONALIZATION",
          "PERSONALIZATION",
          "TOOLS",
          "FAMILY",
          "FAMILY",
          "BUSINESS",
          "BOOKS_AND_REFERENCE",
          "FAMILY",
          "FAMILY",
          "FAMILY",
          "PERSONALIZATION",
          "PERSONALIZATION",
          "PERSONALIZATION",
          "GAME",
          "PERSONALIZATION",
          "FAMILY",
          "FINANCE",
          "SHOPPING",
          "DATING",
          "PERSONALIZATION",
          "GAME",
          "FAMILY",
          "PRODUCTIVITY",
          "FAMILY",
          "MEDICAL",
          "SPORTS",
          "MEDICAL",
          "PRODUCTIVITY",
          "BUSINESS",
          "PARENTING",
          "LIFESTYLE",
          "FAMILY",
          "TOOLS",
          "MAPS_AND_NAVIGATION",
          "COMMUNICATION",
          "PERSONALIZATION",
          "COMMUNICATION",
          "FAMILY",
          "PERSONALIZATION",
          "FAMILY",
          "FAMILY",
          "FAMILY",
          "TOOLS",
          "FAMILY",
          "SPORTS",
          "FAMILY",
          "MEDICAL",
          "FAMILY",
          "FAMILY",
          "GAME",
          "TOOLS",
          "FAMILY",
          "FAMILY",
          "PERSONALIZATION",
          "BOOKS_AND_REFERENCE",
          "GAME",
          "PERSONALIZATION",
          "GAME",
          "GAME",
          "TOOLS",
          "MEDICAL",
          "TOOLS",
          "TOOLS",
          "PERSONALIZATION",
          "GAME",
          "COMMUNICATION",
          "MEDICAL",
          "SPORTS",
          "PERSONALIZATION",
          "COMMUNICATION",
          "COMMUNICATION",
          "PERSONALIZATION",
          "TOOLS",
          "PERSONALIZATION",
          "PERSONALIZATION",
          "PRODUCTIVITY",
          "MEDICAL",
          "FAMILY",
          "TOOLS",
          "TOOLS",
          "BUSINESS",
          "COMMUNICATION",
          "FAMILY",
          "PERSONALIZATION",
          "PHOTOGRAPHY",
          "MEDICAL",
          "PERSONALIZATION",
          "MEDICAL",
          "COMMUNICATION",
          "PRODUCTIVITY",
          "BOOKS_AND_REFERENCE",
          "TOOLS",
          "WEATHER",
          "FAMILY",
          "FAMILY",
          "MEDICAL",
          "FAMILY",
          "TOOLS",
          "TOOLS",
          "SPORTS",
          "GAME",
          "MEDICAL",
          "PERSONALIZATION",
          "PERSONALIZATION",
          "NEWS_AND_MAGAZINES",
          "COMMUNICATION",
          "TOOLS",
          "MEDICAL",
          "FINANCE",
          "FAMILY",
          "PERSONALIZATION",
          "PERSONALIZATION",
          "MEDICAL",
          "FAMILY",
          "MEDICAL",
          "MEDICAL",
          "FAMILY",
          "FAMILY",
          "FAMILY",
          "GAME",
          "PERSONALIZATION",
          "TOOLS",
          "PERSONALIZATION",
          "GAME",
          "GAME",
          "GAME",
          "FAMILY",
          "FAMILY",
          "PRODUCTIVITY",
          "COMMUNICATION",
          "SPORTS",
          "SPORTS",
          "FAMILY",
          "PERSONALIZATION",
          "MEDICAL",
          "SPORTS",
          "COMMUNICATION",
          "LIFESTYLE",
          "FAMILY",
          "MEDICAL",
          "MEDICAL",
          "TOOLS",
          "PRODUCTIVITY",
          "FINANCE",
          "HEALTH_AND_FITNESS",
          "MEDICAL",
          "PHOTOGRAPHY",
          "FAMILY",
          "FAMILY",
          "PHOTOGRAPHY",
          "SPORTS",
          "ART_AND_DESIGN",
          "FAMILY",
          "PERSONALIZATION",
          "PRODUCTIVITY",
          "HEALTH_AND_FITNESS",
          "MEDICAL",
          "TOOLS",
          "PRODUCTIVITY",
          "GAME",
          "TOOLS",
          "MEDICAL",
          "LIFESTYLE",
          "GAME",
          "MEDICAL",
          "TRAVEL_AND_LOCAL",
          "BUSINESS",
          "MEDICAL",
          "COMMUNICATION",
          "PERSONALIZATION",
          "GAME",
          "TRAVEL_AND_LOCAL",
          "GAME",
          "SPORTS",
          "MEDICAL",
          "FAMILY",
          "MEDICAL",
          "TOOLS",
          "BOOKS_AND_REFERENCE",
          "FAMILY",
          "MEDICAL",
          "MEDICAL",
          "GAME",
          "BUSINESS",
          "TOOLS",
          "FAMILY",
          "MEDICAL",
          "PERSONALIZATION",
          "PHOTOGRAPHY",
          "SPORTS",
          "MAPS_AND_NAVIGATION",
          "PERSONALIZATION",
          "GAME",
          "BOOKS_AND_REFERENCE",
          "EDUCATION",
          "FAMILY",
          "FAMILY",
          "FAMILY",
          "SOCIAL",
          "MEDICAL",
          "TOOLS",
          "SPORTS",
          "FAMILY",
          "FAMILY",
          "TOOLS",
          "WEATHER",
          "VIDEO_PLAYERS",
          "MEDICAL",
          "TOOLS",
          "GAME",
          "PERSONALIZATION",
          "MEDICAL",
          "LIFESTYLE",
          "MEDICAL",
          "DATING",
          "HEALTH_AND_FITNESS",
          "MEDICAL",
          "FAMILY",
          "PRODUCTIVITY",
          "EDUCATION",
          "SPORTS",
          "FAMILY",
          "PERSONALIZATION",
          "PERSONALIZATION",
          "FAMILY",
          "GAME",
          "FINANCE",
          "GAME",
          "MEDICAL",
          "FAMILY",
          "MEDICAL",
          "MEDICAL",
          "TOOLS",
          "TOOLS",
          "TOOLS",
          "TOOLS",
          "PERSONALIZATION",
          "PERSONALIZATION",
          "PERSONALIZATION",
          "PERSONALIZATION",
          "FAMILY",
          "GAME",
          "FAMILY",
          "FAMILY",
          "MEDICAL",
          "SPORTS",
          "LIFESTYLE",
          "FAMILY",
          "FAMILY",
          "TRAVEL_AND_LOCAL",
          "PERSONALIZATION",
          "BOOKS_AND_REFERENCE",
          "FAMILY",
          "MEDICAL",
          "MEDICAL",
          "MEDICAL",
          "MEDICAL",
          "PRODUCTIVITY",
          "SOCIAL",
          "SPORTS",
          "TRAVEL_AND_LOCAL",
          "TOOLS",
          "FAMILY",
          "NEWS_AND_MAGAZINES",
          "ART_AND_DESIGN",
          "GAME",
          "PERSONALIZATION",
          "LIFESTYLE",
          "PERSONALIZATION",
          "LIFESTYLE",
          "MEDICAL",
          "FAMILY",
          "FAMILY",
          "BOOKS_AND_REFERENCE",
          "LIFESTYLE",
          "MEDICAL",
          "MEDICAL",
          "TOOLS",
          "SPORTS",
          "MEDICAL",
          "PHOTOGRAPHY",
          "GAME",
          "SPORTS",
          "FAMILY",
          "SPORTS",
          "TOOLS",
          "LIFESTYLE",
          "FAMILY",
          "COMMUNICATION",
          "COMMUNICATION",
          "COMMUNICATION",
          "FAMILY",
          "FAMILY",
          "TOOLS",
          "MEDICAL",
          "TOOLS",
          "TOOLS",
          "TOOLS",
          "TOOLS",
          "TOOLS",
          "TOOLS",
          "PERSONALIZATION",
          "FAMILY",
          "MEDICAL",
          "MEDICAL",
          "MEDICAL",
          "HEALTH_AND_FITNESS",
          "GAME",
          "FAMILY",
          "FAMILY",
          "PHOTOGRAPHY",
          "PERSONALIZATION",
          "LIFESTYLE",
          "GAME",
          "FAMILY",
          "MEDICAL",
          "FAMILY",
          "BUSINESS",
          "GAME",
          "FAMILY",
          "MEDICAL",
          "FAMILY",
          "MAPS_AND_NAVIGATION",
          "BOOKS_AND_REFERENCE",
          "GAME",
          "PERSONALIZATION",
          "PERSONALIZATION",
          "COMMUNICATION",
          "DATING",
          "FOOD_AND_DRINK",
          "LIFESTYLE",
          "FAMILY",
          "FAMILY",
          "MEDICAL",
          "TRAVEL_AND_LOCAL",
          "TOOLS",
          "TOOLS",
          "TOOLS",
          "PERSONALIZATION",
          "VIDEO_PLAYERS",
          "VIDEO_PLAYERS",
          "GAME",
          "FAMILY",
          "FAMILY",
          "FAMILY",
          "FAMILY",
          "PERSONALIZATION",
          "WEATHER",
          "TOOLS",
          "PERSONALIZATION",
          "TOOLS",
          "ART_AND_DESIGN",
          "PERSONALIZATION",
          "PERSONALIZATION",
          "MEDICAL",
          "TOOLS",
          "FAMILY",
          "FINANCE",
          "TOOLS",
          "GAME",
          "FAMILY",
          "FAMILY",
          "TOOLS",
          "TOOLS",
          "GAME",
          "TOOLS",
          "HEALTH_AND_FITNESS",
          "GAME",
          "MEDICAL",
          "COMMUNICATION",
          "FAMILY",
          "GAME",
          "FAMILY",
          "MEDICAL",
          "PERSONALIZATION",
          "FAMILY",
          "SPORTS",
          "FAMILY",
          "TRAVEL_AND_LOCAL",
          "TOOLS",
          "SHOPPING",
          "TOOLS",
          "FAMILY",
          "FAMILY",
          "FAMILY",
          "FAMILY",
          "FAMILY",
          "FAMILY",
          "GAME",
          "MAPS_AND_NAVIGATION",
          "PERSONALIZATION",
          "GAME",
          "FAMILY",
          "FAMILY",
          "FINANCE",
          "TOOLS",
          "TOOLS",
          "FAMILY",
          "FAMILY",
          "MEDICAL",
          "GAME",
          "FAMILY",
          "COMMUNICATION",
          "COMMUNICATION",
          "FAMILY",
          "FAMILY",
          "MEDICAL",
          "MEDICAL",
          "MEDICAL",
          "PHOTOGRAPHY",
          "TOOLS",
          "TOOLS",
          "PERSONALIZATION",
          "PERSONALIZATION",
          "FAMILY",
          "GAME",
          "SPORTS",
          "MEDICAL",
          "GAME",
          "FAMILY",
          "AUTO_AND_VEHICLES",
          "HEALTH_AND_FITNESS",
          "FAMILY",
          "FAMILY",
          "MEDICAL",
          "PHOTOGRAPHY",
          "SPORTS",
          "TOOLS",
          "VIDEO_PLAYERS",
          "FAMILY",
          "FAMILY",
          "PRODUCTIVITY",
          "PERSONALIZATION",
          "PRODUCTIVITY",
          "PERSONALIZATION",
          "FAMILY",
          "FAMILY",
          "GAME",
          "MEDICAL",
          "FAMILY",
          "FAMILY",
          "FOOD_AND_DRINK",
          "FAMILY",
          "FAMILY",
          "FAMILY",
          "TOOLS",
          "HEALTH_AND_FITNESS",
          "PARENTING",
          "FAMILY",
          "GAME",
          "HEALTH_AND_FITNESS",
          "TRAVEL_AND_LOCAL",
          "GAME",
          "WEATHER",
          "FAMILY",
          "MEDICAL",
          "GAME",
          "GAME",
          "MEDICAL",
          "PERSONALIZATION",
          "FAMILY",
          "FAMILY",
          "FAMILY",
          "FAMILY",
          "GAME",
          "PHOTOGRAPHY",
          "FAMILY",
          "BUSINESS",
          "FAMILY",
          "GAME",
          "FAMILY",
          "FAMILY",
          "WEATHER",
          "EDUCATION",
          "COMMUNICATION",
          "ENTERTAINMENT",
          "HEALTH_AND_FITNESS",
          "HEALTH_AND_FITNESS",
          "GAME",
          "GAME",
          "FAMILY",
          "FAMILY",
          "FAMILY",
          "PHOTOGRAPHY",
          "SPORTS",
          "TRAVEL_AND_LOCAL",
          "TOOLS",
          "TOOLS",
          "PERSONALIZATION",
          "PERSONALIZATION",
          "PRODUCTIVITY",
          "PRODUCTIVITY",
          "MAPS_AND_NAVIGATION",
          "GAME",
          "GAME",
          "PRODUCTIVITY",
          "TOOLS",
          "WEATHER",
          "FAMILY",
          "GAME",
          "FAMILY",
          "GAME",
          "TOOLS",
          "GAME",
          "FAMILY",
          "FAMILY",
          "HEALTH_AND_FITNESS",
          "FAMILY",
          "GAME",
          "FAMILY",
          "PERSONALIZATION",
          "BUSINESS",
          "FINANCE",
          "FAMILY",
          "PHOTOGRAPHY",
          "GAME",
          "FAMILY",
          "FAMILY",
          "FAMILY",
          "FAMILY",
          "GAME",
          "FAMILY",
          "GAME",
          "COMMUNICATION",
          "FAMILY",
          "ENTERTAINMENT",
          "COMMUNICATION",
          "GAME",
          "GAME",
          "GAME",
          "GAME",
          "GAME",
          "GAME",
          "PERSONALIZATION",
          "FAMILY",
          "PERSONALIZATION",
          "FAMILY",
          "EDUCATION",
          "FAMILY",
          "WEATHER",
          "PHOTOGRAPHY",
          "PRODUCTIVITY",
          "GAME",
          "FAMILY",
          "FAMILY",
          "PRODUCTIVITY",
          "PERSONALIZATION",
          "GAME",
          "GAME",
          "FAMILY",
          "COMMUNICATION",
          "TOOLS",
          "GAME",
          "PERSONALIZATION",
          "PHOTOGRAPHY",
          "SPORTS",
          "GAME",
          "FAMILY",
          "GAME",
          "GAME",
          "FAMILY",
          "GAME",
          "FAMILY",
          "GAME",
          "LIFESTYLE",
          "FAMILY",
          "GAME",
          "FAMILY"
         ],
         "x0": " ",
         "xaxis": "x",
         "y": {
          "bdata": "16NwPQrX9z+uR+F6FK7vP3sUrkfh+i1A7FG4HoXrA0BSuB6F61EIQNejcD0K1/c/rkfhehSu7z/sUbgehesLQOxRuB6F6wdArkfhehSu7z+uR+F6FK7vP/YoXI/C9RNArkfhehSu7z/sUbgehesHQK5H4XoUru8/rkfhehSu7z89CtejcP09QD0K16Nw/TNA9ihcj8L1E0D2KFyPwvUTQNejcD0K1/8/7FG4HoXrB0CuR+F6FK7vP65H4XoUru8/rkfhehSu7z8pXI/C9Sj8P+xRuB6F6wdA7FG4HoXrB0B7FK5H4fohQAAAAAAAAPw/16NwPQrX9z/Xo3A9Ctf3P65H4XoUru8/rkfhehSu7z+uR+F6FK7vP65H4XoUru8/rkfhehSu7z+uR+F6FK7vP3sUrkfh+ilA9ihcj8L1E0DsUbgehesDQPYoXI/C9R9A16NwPQrX/z/2KFyPwvUTQK5H4XoUru8/9ihcj8L1E0DsUbgehesPQOxRuB6F6wdACtejcD0KD0DsUbgehesHQOxRuB6F6wdAexSuR+H6KUBcj8L1KFwSQK5H4XoUru8/exSuR+H6I0DsUbgehesPQHsUrkfh+iNA16NwPQrX9z/Xo3A9Ctf3P9ejcD0K1/c/16NwPQrX9z+uR+F6FK7vP+xRuB6F6wdA16NwPQrX/z/2KFyPwvUTQNejcD0K1/c/rkfhehSu7z/sUbgehesLQNejcD0K1/8/exSuR+H6KUCuR+F6FK7vP65H4XoUru8/rkfhehSu7z/Xo3A9Ctf/P/YoXI/C9RNA7FG4HoXrD0CuR+F6FK7vP+xRuB6F6w9AAAAAAAAALEDXo3A9Ctf3P/YoXI/C9RFA16NwPQrX/z+uR+F6FK7vP/YoXI/C9RtA9ihcj8L1F0DsUbgehesPQOxRuB6F6wNArkfhehSu7z/Xo3A9Ctf3Px+F61G4/kNAKVyPwvUoCEDXo3A9Ctf3P9ejcD0K1/c/rkfhehSu7z+uR+F6FK7vP/YoXI/C9RNA16NwPQrX9z+uR+F6FK7vP/YoXI/C9RlA9ihcj8L1F0DsUbgehesHQOxRuB6F6w9ArkfhehSu7z89CtejcP0xQK5H4XoUru8/16NwPQrX/z/Xo3A9Ctf3P9ejcD0K1/c/7FG4HoXrD0DXo3A9Ctf3P+xRuB6F6wdA9ihcj8L1E0B7FK5H4fohQK5H4XoUru8/rkfhehSu7z/Xo3A9Ctf/P+xRuB6F6wNA9ihcj8L1E0CuR+F6FK7vP9ejcD0K1/8/16NwPQrX/z+uR+F6FK7vP+xRuB6F6wdA9ihcj8L1EUDsUbgehesLQAAAAAAAAABA16NwPQrX9z/sUbgehesHQOxRuB6F6w9A7FG4HoXrD0B7FK5H4fovQOxRuB6F6w9A7FG4HoXrB0DXo3A9Ctf3P65H4XoUru8/exSuR+H6I0DsUbgehesHQPYoXI/C9RNAexSuR+H6I0DsUbgehesDQHsUrkfh+iVA7FG4HoXrB0CuR+F6FK7vP9ejcD0K1/8/16NwPQrX/z+uR+F6FK7vP+xRuB6F6w9Aw/UoXI/C+T+uR+F6FK7vP9ejcD0K1/8/7FG4HoXrA0ApXI/C9SgRQK5H4XoUru8/7FG4HoXrD0CuR+F6FK7vP+xRuB6F6wdA16NwPQrX9z/sUbgehesuQNejcD0K1/8/7FG4HoXrB0D2KFyPwvUTQPYoXI/C9R1A7FG4HoXrD0D2KFyPwvUVQOxRuB6F6wNA7FG4HoXrB0DXo3A9Ctf/P/YoXI/C9RNA9ihcj8L1E0A9CtejcP0zQOxRuB6F6wdA16NwPQrX/z97FK5H4fojQK5H4XoUru8/16NwPQrX/z/sUbgehesHQDMzMzMzM/s/rkfhehSu7z/2KFyPwvUfQD0K16Nw/T1A7FG4HoXrB0D2KFyPwvUfQK5H4XoUru8/16NwPQrX9z/sUbgehesHQPYoXI/C9RNA7FG4HoXrA0CPwvUoXP9TQHsUrkfhegRA7FG4HoXrD0A9CtejcP0zQOxRuB6F6wNArkfhehSu7z+uR+F6FK7vP3sUrkfh+iBA9ihcj8L1G0DsUbgehesHQK5H4XoUru8/7FG4HoXrB0AAAAAAAAD4P/YoXI/C9RNA16NwPQrX/z9cj8L1KFwTQHsUrkfh+i1APQrXo3D9PUD2KFyPwvUTQPYoXI/C9RNA7FG4HoXrD0BmZmZmZmYzQB+F61G4/kBA16NwPQrX9z/sUbgehesHQOxRuB6F6wdArkfhehSu7z+uR+F6FK7vP9ejcD0K1/8/pHA9CtejCED2KFyPwvUXQOxRuB6F6w9A9ihcj8L1F0DsUbgehesHQK5H4XoUru8/16NwPQrX/z/2KFyPwvUXQOxRuB6F6wNArkfhehSu7z+uR+F6FK7vP65H4XoUru8/9ihcj8L1G0CuR+F6FK7vPz0K16Nw/TBArkfhehSu7z/sUbgehesLQDMzMzMzM/s/7FG4HoXrD0AfhetRuP5CQHsUrkfh+iNA9ihcj8L1G0DXo3A9Ctf/P+xRuB6F6w9AAAAAAAAAJECkcD0K16P0P+xRuB6F6w9A9ihcj8L1EUDsUbgehesHQOxRuB6F6wNArkfhehSu7z/2KFyPwvUTQK5H4XoUru8/7FG4HoXrD0DXo3A9Ctf/P/YoXI/C9R1ArkfhehSu7z97FK5H4folQPYoXI/C9RdArkfhehSu7z/Xo3A9Ctf3P3sUrkfh+i1A9ihcj8L1E0D2KFyPwvUTQK5H4XoUru8/9ihcj8L1E0DsUbgehesPQPYoXI/C9RNArkfhehSu7z/2KFyPwvURQPYoXI/C9RdA7FG4HoXrD0DXo3A9Ctf/P+xRuB6F6w9A9ihcj8L1E0DXo3A9Ctf/P+xRuB6F6w9ArkfhehSu7z/sUbgehesHQNejcD0K1/c/7FG4HoXrA0DsUbgehesPQOxRuB6F6w9A7FG4HoXrD0DsUbgehesPQK5H4XoUru8/16NwPQrX/z/sUbgehesHQK5H4XoUru8/7FG4HoXrB0CuR+F6FK7vP9ejcD0K1/8/9ihcj8L1G0DXo3A9Ctf/P65H4XoUru8/16NwPQrX9z/sUbgehesHQPYoXI/C9RdA7FG4HoXrB0DsUbgehesHQGZmZmZmZhJA16NwPQrX/z97FK5H4fotQK5H4XoUru8/rkfhehSu7z+uR+F6FK7vP+xRuB6F6wdA7FG4HoXrB0DXo3A9Ctf/P+xRuB6F6wdA9ihcj8L1E0AAAAAAAADwP3sUrkfh+i1A7FG4HoXrA0CuR+F6FK7vP/YoXI/C9RNArkfhehSu7z/Xo3A9Ctf3P+xRuB6F6w9A7FG4HoXrB0D2KFyPwvUTQOxRuB6F6w9A9ihcj8L1E0D2KFyPwvUTQPYoXI/C9RNA9ihcj8L1E0D2KFyPwvUTQAAAAAAAAPA/9ihcj8L1G0DsUbgehesHQHsUrkfh+iNAPQrXo3D9OEDsUbgehesHQOxRuB6F6w9ArkfhehSu7z/sUbgehesPQOxRuB6F6w9A16NwPQrX/z+uR+F6FK7vP/YoXI/C9R9A9ihcj8L1E0DsUbgehesHQAAAAAAAACRA7FG4HoXrB0DsUbgehesHQOxRuB6F6wdAexSuR+H6LUD2KFyPwvUfQHsUrkfh+ilArkfhehSu7z/2KFyPwvURQD0K16Nw/TBArkfhehSu7z+uR+F6FK7vP/YoXI/C9RNA7FG4HoXrD0DsUbgehesLQOxRuB6F6wNA7FG4HoXrB0DXo3A9Ctf3P/YoXI/C9RtA16NwPQrX/z8AAAAAAAAEQDMzMzMzMw9AmpmZmZmZB0CuR+F6FK7vP9ejcD0K1/c/16NwPQrX/z/2KFyPwvUfQOxRuB6F6wdA7FG4HoXrB0D2KFyPwvUTQNejcD0K1/8/rkfhehSu7z/sUbgehesHQOxRuB6F6wdA16NwPQrX/z+F61G4HoX/P9ejcD0K1/8/exSuR+H6I0DsUbgehesHQPYoXI/C9RVAPQrXo3A9CkCuR+F6FK7vP+xRuB6F6wdA9ihcj8L1E0DsUbgehesHQHsUrkfh+i1A7FG4HoXrB0DsUbgehesHQOxRuB6F6wdAPQrXo3D9MUCuR+F6FK7vP/YoXI/C9RtA9ihcj8L1E0DsUbgehesPQOxRuB6F6wdA7FG4HoXrB0D2KFyPwvUTQDMzMzMzM/M/7FG4HoXrB0DXo3A9Ctf/P/YoXI/C9RNA9ihcj8L1E0CuR+F6FK7vP/YoXI/C9RdAuB6F61G4BEDsUbgehesHQNejcD0K1/8/7FG4HoXrD0D2KFyPwvUTQOxRuB6F6w9A7FG4HoXrB0D2KFyPwvUTQOxRuB6F6wdA9ihcj8L1E0DsUbgehesHQK5H4XoUru8/7FG4HoXrD0DsUbgehesDQK5H4XoUru8/PQrXo3D9MkDXo3A9Ctf/P9ejcD0K1/8/cT0K16Nw+T/sUbgehesPQHsUrkfh+idA16NwPQrX/z/Xo3A9Ctf/P+xRuB6F6wdArkfhehSu7z97FK5H4fojQOxRuB6F6w9ArkfhehSu7z/sUbgehesHQNejcD0K1/8/9ihcj8L1E0DXo3A9Ctf/P+xRuB6F6wdArkfhehSu7z/Xo3A9Ctf/P65H4XoUru8/rkfhehSu7z89CtejcP09QOxRuB6F6wdA16NwPQrX/z/sUbgehesHQNejcD0K1/8/16NwPQrX/z/sUbgehesHQPYoXI/C9RNA7FG4HoXrD0DXo3A9Ctf/P+xRuB6F6w9A7FG4HoXrB0D2KFyPwvUXQD0K16Nw/TNAexSuR+H6I0DsUbgehesHQOxRuB6F6wNA16NwPQrX9z+uR+F6FK7vP+xRuB6F6wdA7FG4HoXrB0DXo3A9Ctf/P3sUrkfh+idA9ihcj8L1E0DsUbgehesPQPYoXI/C9RNA7FG4HoXrB0DsUbgehesHQBSuR+F6FBNA7FG4HoXrB0DsUbgehesHQPYoXI/C9RNA9ihcj8L1E0D2KFyPwvUTQNejcD0K1/8/7FG4HoXrA0D2KFyPwvUTQOxRuB6F6w9A7FG4HoXrD0A9CtejcP04QPYoXI/C9RNArkfhehSu7z8AAAAAAAAiQK5H4XoUru8/7FG4HoXrB0DsUbgehesHQOxRuB6F6wdAexSuR+H6I0DsUbgehesHQNejcD0K1/c/exSuR+H6LUD2KFyPwvUTQPYoXI/C9R9A16NwPQrX/z+uR+F6FK7vP65H4XoUru8/9ihcj8L1EUDsUbgehesPQOxRuB6F6w9A9ihcj8L1E0DsUbgehesHQOxRuB6F6wdA7FG4HoXrB0DsUbgehesHQOxRuB6F6w9A9ihcj8L1E0D2KFyPwvUTQJqZmZmZmQ9AexSuR+H6IUB7FK5H4fohQOxRuB6F6wNA7FG4HoXrD0D2KFyPwvURQNejcD0K1/8/9ihcj8L1F0D2KFyPwvUTQHsUrkfh+idA9ihcj8L1E0B7FK5H4fojQPYoXI/C9RFA7FG4HoXrC0DsUbgehesHQPYoXI/C9RNA9ihcj8L1E0D2KFyPwvUTQNejcD0K1/8/9ihcj8L1EUDsUbgehesPQOxRuB6F6wdAexSuR+H6K0DsUbgehesLQHsUrkfh+iNA9ihcj8L1E0DsUbgehesHQOxRuB6F6wdA9ihcj8L1E0DsUbgehesHQOxRuB6F6wdA7FG4HoXrB0DsUbgehesHQOxRuB6F6wdAexSuR+H6I0CuR+F6FK7vP9ejcD0K1/8/7FG4HoXrB0DXo3A9Ctf3P/YoXI/C9RtAMzMzMzMzB0DsUbgehesHQOxRuB6F6wdA7FG4HoXrD0DsUbgehesHQPYoXI/C9RNA7FG4HoXrB0DsUbgehesHQNejcD0K1/8/9ihcj8L1F0D2KFyPwvUTQOxRuB6F6wdA7FG4HoXrA0CuR+F6FK7vP+xRuB6F6w9A7FG4HoXrD0D2KFyPwvUXQOxRuB6F6wdA7FG4HoXrB0DXo3A9Ctf/P+xRuB6F6wdA9ihcj8L1E0DXo3A9Ctf/P+xRuB6F6wNArkfhehSu7z/2KFyPwvUTQOxRuB6F6wdA7FG4HoXrB0DsUbgehesHQPYoXI/C9RtArkfhehSu7z/2KFyPwvUXQNejcD0K1/8/7FG4HoXrB0CuR+F6FK7vP65H4XoUru8/rkfhehSu7z+uR+F6FK7vP65H4XoUru8/7FG4HoXrB0CuR+F6FK7vP/YoXI/C9RdA16NwPQrX/z+uR+F6FK7vP/YoXI/C9RtA",
          "dtype": "f8"
         },
         "y0": " ",
         "yaxis": "y"
        }
       ],
       "layout": {
        "boxmode": "group",
        "legend": {
         "tracegroupgap": 0
        },
        "template": {
         "data": {
          "bar": [
           {
            "error_x": {
             "color": "#2a3f5f"
            },
            "error_y": {
             "color": "#2a3f5f"
            },
            "marker": {
             "line": {
              "color": "#E5ECF6",
              "width": 0.5
             },
             "pattern": {
              "fillmode": "overlay",
              "size": 10,
              "solidity": 0.2
             }
            },
            "type": "bar"
           }
          ],
          "barpolar": [
           {
            "marker": {
             "line": {
              "color": "#E5ECF6",
              "width": 0.5
             },
             "pattern": {
              "fillmode": "overlay",
              "size": 10,
              "solidity": 0.2
             }
            },
            "type": "barpolar"
           }
          ],
          "carpet": [
           {
            "aaxis": {
             "endlinecolor": "#2a3f5f",
             "gridcolor": "white",
             "linecolor": "white",
             "minorgridcolor": "white",
             "startlinecolor": "#2a3f5f"
            },
            "baxis": {
             "endlinecolor": "#2a3f5f",
             "gridcolor": "white",
             "linecolor": "white",
             "minorgridcolor": "white",
             "startlinecolor": "#2a3f5f"
            },
            "type": "carpet"
           }
          ],
          "choropleth": [
           {
            "colorbar": {
             "outlinewidth": 0,
             "ticks": ""
            },
            "type": "choropleth"
           }
          ],
          "contour": [
           {
            "colorbar": {
             "outlinewidth": 0,
             "ticks": ""
            },
            "colorscale": [
             [
              0,
              "#0d0887"
             ],
             [
              0.1111111111111111,
              "#46039f"
             ],
             [
              0.2222222222222222,
              "#7201a8"
             ],
             [
              0.3333333333333333,
              "#9c179e"
             ],
             [
              0.4444444444444444,
              "#bd3786"
             ],
             [
              0.5555555555555556,
              "#d8576b"
             ],
             [
              0.6666666666666666,
              "#ed7953"
             ],
             [
              0.7777777777777778,
              "#fb9f3a"
             ],
             [
              0.8888888888888888,
              "#fdca26"
             ],
             [
              1,
              "#f0f921"
             ]
            ],
            "type": "contour"
           }
          ],
          "contourcarpet": [
           {
            "colorbar": {
             "outlinewidth": 0,
             "ticks": ""
            },
            "type": "contourcarpet"
           }
          ],
          "heatmap": [
           {
            "colorbar": {
             "outlinewidth": 0,
             "ticks": ""
            },
            "colorscale": [
             [
              0,
              "#0d0887"
             ],
             [
              0.1111111111111111,
              "#46039f"
             ],
             [
              0.2222222222222222,
              "#7201a8"
             ],
             [
              0.3333333333333333,
              "#9c179e"
             ],
             [
              0.4444444444444444,
              "#bd3786"
             ],
             [
              0.5555555555555556,
              "#d8576b"
             ],
             [
              0.6666666666666666,
              "#ed7953"
             ],
             [
              0.7777777777777778,
              "#fb9f3a"
             ],
             [
              0.8888888888888888,
              "#fdca26"
             ],
             [
              1,
              "#f0f921"
             ]
            ],
            "type": "heatmap"
           }
          ],
          "histogram": [
           {
            "marker": {
             "pattern": {
              "fillmode": "overlay",
              "size": 10,
              "solidity": 0.2
             }
            },
            "type": "histogram"
           }
          ],
          "histogram2d": [
           {
            "colorbar": {
             "outlinewidth": 0,
             "ticks": ""
            },
            "colorscale": [
             [
              0,
              "#0d0887"
             ],
             [
              0.1111111111111111,
              "#46039f"
             ],
             [
              0.2222222222222222,
              "#7201a8"
             ],
             [
              0.3333333333333333,
              "#9c179e"
             ],
             [
              0.4444444444444444,
              "#bd3786"
             ],
             [
              0.5555555555555556,
              "#d8576b"
             ],
             [
              0.6666666666666666,
              "#ed7953"
             ],
             [
              0.7777777777777778,
              "#fb9f3a"
             ],
             [
              0.8888888888888888,
              "#fdca26"
             ],
             [
              1,
              "#f0f921"
             ]
            ],
            "type": "histogram2d"
           }
          ],
          "histogram2dcontour": [
           {
            "colorbar": {
             "outlinewidth": 0,
             "ticks": ""
            },
            "colorscale": [
             [
              0,
              "#0d0887"
             ],
             [
              0.1111111111111111,
              "#46039f"
             ],
             [
              0.2222222222222222,
              "#7201a8"
             ],
             [
              0.3333333333333333,
              "#9c179e"
             ],
             [
              0.4444444444444444,
              "#bd3786"
             ],
             [
              0.5555555555555556,
              "#d8576b"
             ],
             [
              0.6666666666666666,
              "#ed7953"
             ],
             [
              0.7777777777777778,
              "#fb9f3a"
             ],
             [
              0.8888888888888888,
              "#fdca26"
             ],
             [
              1,
              "#f0f921"
             ]
            ],
            "type": "histogram2dcontour"
           }
          ],
          "mesh3d": [
           {
            "colorbar": {
             "outlinewidth": 0,
             "ticks": ""
            },
            "type": "mesh3d"
           }
          ],
          "parcoords": [
           {
            "line": {
             "colorbar": {
              "outlinewidth": 0,
              "ticks": ""
             }
            },
            "type": "parcoords"
           }
          ],
          "pie": [
           {
            "automargin": true,
            "type": "pie"
           }
          ],
          "scatter": [
           {
            "fillpattern": {
             "fillmode": "overlay",
             "size": 10,
             "solidity": 0.2
            },
            "type": "scatter"
           }
          ],
          "scatter3d": [
           {
            "line": {
             "colorbar": {
              "outlinewidth": 0,
              "ticks": ""
             }
            },
            "marker": {
             "colorbar": {
              "outlinewidth": 0,
              "ticks": ""
             }
            },
            "type": "scatter3d"
           }
          ],
          "scattercarpet": [
           {
            "marker": {
             "colorbar": {
              "outlinewidth": 0,
              "ticks": ""
             }
            },
            "type": "scattercarpet"
           }
          ],
          "scattergeo": [
           {
            "marker": {
             "colorbar": {
              "outlinewidth": 0,
              "ticks": ""
             }
            },
            "type": "scattergeo"
           }
          ],
          "scattergl": [
           {
            "marker": {
             "colorbar": {
              "outlinewidth": 0,
              "ticks": ""
             }
            },
            "type": "scattergl"
           }
          ],
          "scattermap": [
           {
            "marker": {
             "colorbar": {
              "outlinewidth": 0,
              "ticks": ""
             }
            },
            "type": "scattermap"
           }
          ],
          "scattermapbox": [
           {
            "marker": {
             "colorbar": {
              "outlinewidth": 0,
              "ticks": ""
             }
            },
            "type": "scattermapbox"
           }
          ],
          "scatterpolar": [
           {
            "marker": {
             "colorbar": {
              "outlinewidth": 0,
              "ticks": ""
             }
            },
            "type": "scatterpolar"
           }
          ],
          "scatterpolargl": [
           {
            "marker": {
             "colorbar": {
              "outlinewidth": 0,
              "ticks": ""
             }
            },
            "type": "scatterpolargl"
           }
          ],
          "scatterternary": [
           {
            "marker": {
             "colorbar": {
              "outlinewidth": 0,
              "ticks": ""
             }
            },
            "type": "scatterternary"
           }
          ],
          "surface": [
           {
            "colorbar": {
             "outlinewidth": 0,
             "ticks": ""
            },
            "colorscale": [
             [
              0,
              "#0d0887"
             ],
             [
              0.1111111111111111,
              "#46039f"
             ],
             [
              0.2222222222222222,
              "#7201a8"
             ],
             [
              0.3333333333333333,
              "#9c179e"
             ],
             [
              0.4444444444444444,
              "#bd3786"
             ],
             [
              0.5555555555555556,
              "#d8576b"
             ],
             [
              0.6666666666666666,
              "#ed7953"
             ],
             [
              0.7777777777777778,
              "#fb9f3a"
             ],
             [
              0.8888888888888888,
              "#fdca26"
             ],
             [
              1,
              "#f0f921"
             ]
            ],
            "type": "surface"
           }
          ],
          "table": [
           {
            "cells": {
             "fill": {
              "color": "#EBF0F8"
             },
             "line": {
              "color": "white"
             }
            },
            "header": {
             "fill": {
              "color": "#C8D4E3"
             },
             "line": {
              "color": "white"
             }
            },
            "type": "table"
           }
          ]
         },
         "layout": {
          "annotationdefaults": {
           "arrowcolor": "#2a3f5f",
           "arrowhead": 0,
           "arrowwidth": 1
          },
          "autotypenumbers": "strict",
          "coloraxis": {
           "colorbar": {
            "outlinewidth": 0,
            "ticks": ""
           }
          },
          "colorscale": {
           "diverging": [
            [
             0,
             "#8e0152"
            ],
            [
             0.1,
             "#c51b7d"
            ],
            [
             0.2,
             "#de77ae"
            ],
            [
             0.3,
             "#f1b6da"
            ],
            [
             0.4,
             "#fde0ef"
            ],
            [
             0.5,
             "#f7f7f7"
            ],
            [
             0.6,
             "#e6f5d0"
            ],
            [
             0.7,
             "#b8e186"
            ],
            [
             0.8,
             "#7fbc41"
            ],
            [
             0.9,
             "#4d9221"
            ],
            [
             1,
             "#276419"
            ]
           ],
           "sequential": [
            [
             0,
             "#0d0887"
            ],
            [
             0.1111111111111111,
             "#46039f"
            ],
            [
             0.2222222222222222,
             "#7201a8"
            ],
            [
             0.3333333333333333,
             "#9c179e"
            ],
            [
             0.4444444444444444,
             "#bd3786"
            ],
            [
             0.5555555555555556,
             "#d8576b"
            ],
            [
             0.6666666666666666,
             "#ed7953"
            ],
            [
             0.7777777777777778,
             "#fb9f3a"
            ],
            [
             0.8888888888888888,
             "#fdca26"
            ],
            [
             1,
             "#f0f921"
            ]
           ],
           "sequentialminus": [
            [
             0,
             "#0d0887"
            ],
            [
             0.1111111111111111,
             "#46039f"
            ],
            [
             0.2222222222222222,
             "#7201a8"
            ],
            [
             0.3333333333333333,
             "#9c179e"
            ],
            [
             0.4444444444444444,
             "#bd3786"
            ],
            [
             0.5555555555555556,
             "#d8576b"
            ],
            [
             0.6666666666666666,
             "#ed7953"
            ],
            [
             0.7777777777777778,
             "#fb9f3a"
            ],
            [
             0.8888888888888888,
             "#fdca26"
            ],
            [
             1,
             "#f0f921"
            ]
           ]
          },
          "colorway": [
           "#636efa",
           "#EF553B",
           "#00cc96",
           "#ab63fa",
           "#FFA15A",
           "#19d3f3",
           "#FF6692",
           "#B6E880",
           "#FF97FF",
           "#FECB52"
          ],
          "font": {
           "color": "#2a3f5f"
          },
          "geo": {
           "bgcolor": "white",
           "lakecolor": "white",
           "landcolor": "#E5ECF6",
           "showlakes": true,
           "showland": true,
           "subunitcolor": "white"
          },
          "hoverlabel": {
           "align": "left"
          },
          "hovermode": "closest",
          "mapbox": {
           "style": "light"
          },
          "paper_bgcolor": "white",
          "plot_bgcolor": "#E5ECF6",
          "polar": {
           "angularaxis": {
            "gridcolor": "white",
            "linecolor": "white",
            "ticks": ""
           },
           "bgcolor": "#E5ECF6",
           "radialaxis": {
            "gridcolor": "white",
            "linecolor": "white",
            "ticks": ""
           }
          },
          "scene": {
           "xaxis": {
            "backgroundcolor": "#E5ECF6",
            "gridcolor": "white",
            "gridwidth": 2,
            "linecolor": "white",
            "showbackground": true,
            "ticks": "",
            "zerolinecolor": "white"
           },
           "yaxis": {
            "backgroundcolor": "#E5ECF6",
            "gridcolor": "white",
            "gridwidth": 2,
            "linecolor": "white",
            "showbackground": true,
            "ticks": "",
            "zerolinecolor": "white"
           },
           "zaxis": {
            "backgroundcolor": "#E5ECF6",
            "gridcolor": "white",
            "gridwidth": 2,
            "linecolor": "white",
            "showbackground": true,
            "ticks": "",
            "zerolinecolor": "white"
           }
          },
          "shapedefaults": {
           "line": {
            "color": "#2a3f5f"
           }
          },
          "ternary": {
           "aaxis": {
            "gridcolor": "white",
            "linecolor": "white",
            "ticks": ""
           },
           "baxis": {
            "gridcolor": "white",
            "linecolor": "white",
            "ticks": ""
           },
           "bgcolor": "#E5ECF6",
           "caxis": {
            "gridcolor": "white",
            "linecolor": "white",
            "ticks": ""
           }
          },
          "title": {
           "x": 0.05
          },
          "xaxis": {
           "automargin": true,
           "gridcolor": "white",
           "linecolor": "white",
           "ticks": "",
           "title": {
            "standoff": 15
           },
           "zerolinecolor": "white",
           "zerolinewidth": 2
          },
          "yaxis": {
           "automargin": true,
           "gridcolor": "white",
           "linecolor": "white",
           "ticks": "",
           "title": {
            "standoff": 15
           },
           "zerolinecolor": "white",
           "zerolinewidth": 2
          }
         }
        },
        "title": {
         "text": "Price per Category"
        },
        "xaxis": {
         "anchor": "y",
         "categoryorder": "max descending",
         "domain": [
          0,
          1
         ],
         "tickangle": 45,
         "title": {
          "text": "Category"
         }
        },
        "yaxis": {
         "anchor": "x",
         "domain": [
          0,
          1
         ],
         "title": {
          "text": "Price"
         },
         "type": "log"
        }
       }
      }
     },
     "metadata": {},
     "output_type": "display_data"
    }
   ],
   "source": [
    "if __name__ == \"__main__\":\n",
    "    setup_logging()\n",
    "\n",
    "    app_df = return_cleaned_df()\n",
    "    app_df.Installs = app_df.Installs.replace('[\\+,]', '', regex=True).astype(int)\n",
    "    app_df.Price = app_df.Price.replace('[\\$,]', '', regex=True).astype(float)\n",
    "    print(f'Type count: {app_df.Type.value_counts()}')\n",
    "\n",
    "    df_free_vs_paid = app_df.groupby(\n",
    "        ['Category', 'Type'], \n",
    "        as_index=False\n",
    "        ).agg({'App': pd.Series.count}).sort_values(\n",
    "            by='App',\n",
    "            ascending=False\n",
    "        )\n",
    "    \n",
    "    bar_fig = px.bar(\n",
    "        data_frame=df_free_vs_paid, \n",
    "        x='Category', \n",
    "        y='App', \n",
    "        color='Type', \n",
    "        title='Free vs Paid Apps by Category',\n",
    "        labels={'Category': 'Category', 'App': 'App Count'},\n",
    "        barmode='group'\n",
    "    )\n",
    "    bar_fig.update_layout(\n",
    "        xaxis={'categoryorder': 'total descending'},\n",
    "        yaxis=dict(type='log'),\n",
    "        xaxis_tickangle=45,\n",
    "        legend_title_text='Type'\n",
    "    )\n",
    "    bar_fig.show()\n",
    "\n",
    "    box_fig = px.box(\n",
    "        data_frame=app_df, \n",
    "        x='Type',\n",
    "        y='Installs',\n",
    "        color='Type',\n",
    "        notched=True,\n",
    "        points='all',\n",
    "        title='Installs Distribution by Type'\n",
    "    )\n",
    "    box_fig.update_layout(\n",
    "        yaxis=dict(type='log'),\n",
    "        xaxis_tickangle=45\n",
    "    )\n",
    "    box_fig.show()\n",
    "\n",
    "    paid_apps = app_df[app_df.Type == 'Paid']\n",
    "    paid_apps = paid_apps[paid_apps.Price < 250]\n",
    "    paid_apps['Revenue_Estimate'] = paid_apps.Installs * paid_apps.Price\n",
    "    \n",
    "    box_fig_paid = px.box(\n",
    "        data_frame=paid_apps, \n",
    "        x='Category', \n",
    "        y='Revenue_Estimate',\n",
    "        title='How Much Can Paid Apps Earn?'\n",
    "    )\n",
    "    box_fig_paid.update_layout(\n",
    "        yaxis=dict(type='log'),\n",
    "        xaxis={'categoryorder': 'min ascending'},\n",
    "        xaxis_tickangle=45\n",
    "    )\n",
    "    box_fig_paid.show()\n",
    "\n",
    "    box_fig_paid2 = px.box(\n",
    "        data_frame=paid_apps, \n",
    "        x='Category', \n",
    "        y='Price',\n",
    "        title='Price per Category'\n",
    "    )\n",
    "    box_fig_paid2.update_layout(\n",
    "        yaxis=dict(type='log'),\n",
    "        xaxis={'categoryorder': 'max descending'},\n",
    "        xaxis_tickangle=45\n",
    "    )\n",
    "    box_fig_paid2.show()"
   ]
  }
 ],
 "metadata": {
  "kernelspec": {
   "display_name": ".venv",
   "language": "python",
   "name": "python3"
  },
  "language_info": {
   "codemirror_mode": {
    "name": "ipython",
    "version": 3
   },
   "file_extension": ".py",
   "mimetype": "text/x-python",
   "name": "python",
   "nbconvert_exporter": "python",
   "pygments_lexer": "ipython3",
   "version": "3.12.3"
  }
 },
 "nbformat": 4,
 "nbformat_minor": 5
}
