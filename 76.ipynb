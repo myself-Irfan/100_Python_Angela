{
 "cells": [
  {
   "cell_type": "code",
   "execution_count": 12,
   "id": "b5d3115c",
   "metadata": {},
   "outputs": [],
   "source": [
    "import logging\n",
    "import pandas as pd\n",
    "import plotly.express as px\n",
    "\n",
    "\n",
    "def setup_logging():\n",
    "    logging.basicConfig(\n",
    "        level=logging.INFO, \n",
    "        format='%(asctime)s - %(levelname)s %(funcName)s | %(message)s',\n",
    "        handlers=[\n",
    "            logging.FileHandler('76-ipynb.log')\n",
    "        ]\n",
    "    )\n",
    "\n",
    "    logging.info(\"Logging setup complete.\")\n",
    "\n",
    "\n",
    "def fetch_df(file_path: str) -> pd.DataFrame:\n",
    "    try:\n",
    "        df = pd.read_csv(file_path)\n",
    "    except FileNotFoundError as notfound_error:\n",
    "        logging.error(f\"File not found: {file_path}. Error: {notfound_error}\")\n",
    "        raise notfound_error\n",
    "    except pd.errors.EmptyDataError as empty_error:\n",
    "        logging.error(f\"File is empty: {file_path}. Error: {empty_error}\")\n",
    "        raise empty_error\n",
    "    except pd.errors.ParserError as parse_error:\n",
    "        logging.error(f\"Error parsing file: {file_path}. Error: {parse_error}\")\n",
    "        raise parse_error\n",
    "    except Exception as e:\n",
    "        logging.error(f\"An unexpected error occurred while reading {file_path}. Error: {e}\")\n",
    "        raise e\n",
    "    else:\n",
    "        logging.info(f\"DataFrame loaded successfully from {file_path}.\")\n",
    "        return df\n",
    "    \n",
    "\n",
    "def log_df_info(df: pd.DataFrame) -> None:\n",
    "    print(f\"Shape: {df.shape}\")\n",
    "    print(f\"Columns: {df.columns.tolist()}\")\n",
    "    # print(f\"Sample:\\n{df.sample(5)}\")\n",
    "    print(f'NaN: {df.isna().values.any()}')\n",
    "    print(f'Duplicate: {df.duplicated().any()}')\n",
    "    "
   ]
  },
  {
   "cell_type": "markdown",
   "id": "c0a083fd",
   "metadata": {},
   "source": [
    "# Data Cleaning: Removing NaN Values and Duplicates"
   ]
  },
  {
   "cell_type": "code",
   "execution_count": 13,
   "id": "50e5d497",
   "metadata": {},
   "outputs": [],
   "source": [
    "def return_cleaned_df() -> pd.DataFrame:\n",
    "    app_df = fetch_df('input-76.csv')\n",
    "    # dropping columns that are not needed for analysis\n",
    "    app_df = app_df.drop(columns=['Last_Updated', 'Android_Ver'], axis=1)\n",
    "    app_df = app_df.dropna().drop_duplicates(subset=['App', 'Category', 'Type', 'Price'])\n",
    "    return app_df"
   ]
  },
  {
   "cell_type": "markdown",
   "id": "0c0a5262",
   "metadata": {},
   "source": [
    "# Preliminary Exploration: The Highest Ratings, Most Reviews, and Largest Size"
   ]
  },
  {
   "cell_type": "code",
   "execution_count": 14,
   "id": "11a1f98e",
   "metadata": {},
   "outputs": [
    {
     "name": "stdout",
     "output_type": "stream",
     "text": [
      "Top 5 highest rated apps:\n",
      "                                                 App       Category  Rating  \\\n",
      "21                               KBA-EZ Health Guide        MEDICAL     5.0   \n",
      "99   Anatomy & Physiology Vocabulary Exam Review App        MEDICAL     5.0   \n",
      "126                                  Tablet Reminder        MEDICAL     5.0   \n",
      "181                                     EJ messenger  COMMUNICATION     5.0   \n",
      "179                                 Bh Public School         FAMILY     5.0   \n",
      "\n",
      "     Reviews  Size_MBs Installs  Type Price Content_Rating         Genres  \n",
      "21         4      25.0        1  Free     0       Everyone        Medical  \n",
      "99         1       4.6        5  Free     0       Everyone        Medical  \n",
      "126        4       2.5        5  Free     0       Everyone        Medical  \n",
      "181        1      25.0       10  Free     0           Teen  Communication  \n",
      "179        2       8.7       10  Free     0       Everyone      Education  \n",
      "Top 5 largest apps by size:\n",
      "                                    App            Category  Rating  Reviews  \\\n",
      "1795               Navi Radiography Pro             MEDICAL     4.7       11   \n",
      "3144                         Vi Trainer  HEALTH_AND_FITNESS     3.6      124   \n",
      "9944       Gangster Town: Vice District              FAMILY     4.3    65146   \n",
      "8719         Draft Simulator for FUT 18              SPORTS     4.6   162933   \n",
      "8718  Mini Golf King - Multiplayer Game                GAME     4.5   531458   \n",
      "\n",
      "      Size_MBs    Installs  Type   Price Content_Rating            Genres  \n",
      "1795     100.0         500  Paid  $15.99       Everyone           Medical  \n",
      "3144     100.0       5,000  Free       0       Everyone  Health & Fitness  \n",
      "9944     100.0  10,000,000  Free       0     Mature 17+        Simulation  \n",
      "8719     100.0   5,000,000  Free       0       Everyone            Sports  \n",
      "8718     100.0   5,000,000  Free       0       Everyone            Sports  \n",
      "Top 5 highest reviews app:\n",
      "                                                     App            Category  \\\n",
      "10805                                           Facebook              SOCIAL   \n",
      "10785                                 WhatsApp Messenger       COMMUNICATION   \n",
      "10806                                          Instagram              SOCIAL   \n",
      "10784           Messenger – Text and Video Chat for Free       COMMUNICATION   \n",
      "10650                                     Clash of Clans                GAME   \n",
      "10653                                     Clash of Clans              FAMILY   \n",
      "10744            Clean Master- Space Cleaner & Antivirus               TOOLS   \n",
      "10835                                     Subway Surfers                GAME   \n",
      "10828                                            YouTube       VIDEO_PLAYERS   \n",
      "10746  Security Master - Antivirus, VPN, AppLock, Boo...               TOOLS   \n",
      "10584                                       Clash Royale                GAME   \n",
      "10592                                       Clash Royale              FAMILY   \n",
      "10763                                   Candy Crush Saga                GAME   \n",
      "10769                                   Candy Crush Saga              FAMILY   \n",
      "10770        UC Browser - Fast Download Private & Secure       COMMUNICATION   \n",
      "10735                                           Snapchat              SOCIAL   \n",
      "10489    360 Security - Free Antivirus, Booster, Cleaner               TOOLS   \n",
      "10731                                     My Talking Tom                GAME   \n",
      "10733                                     My Talking Tom              FAMILY   \n",
      "10594                                        8 Ball Pool                GAME   \n",
      "10602                                        8 Ball Pool              SPORTS   \n",
      "10302  DU Battery Saver - Battery Charger & Battery Life               TOOLS   \n",
      "10354                        BBM - Free Calls & Messages       COMMUNICATION   \n",
      "10549  Cache Cleaner-DU Speed Booster (booster & clea...               TOOLS   \n",
      "10757                                            Twitter  NEWS_AND_MAGAZINES   \n",
      "10721                                    Viber Messenger       COMMUNICATION   \n",
      "10578                                     Shadow Fight 2                GAME   \n",
      "10813                                      Google Photos         PHOTOGRAPHY   \n",
      "10724                        LINE: Free Calls & Messages       COMMUNICATION   \n",
      "10717                                                Pou                GAME   \n",
      "10792                      Skype - free IM & video calls       COMMUNICATION   \n",
      "10720                                                Pou              FAMILY   \n",
      "10628                                         Pokémon GO                GAME   \n",
      "10409           Minion Rush: Despicable Me Official Game              FAMILY   \n",
      "10388           Minion Rush: Despicable Me Official Game                GAME   \n",
      "10694                                            Yes day                GAME   \n",
      "10695                                            Hay Day              FAMILY   \n",
      "10644                           Dream League Soccer 2018                GAME   \n",
      "10696                                  My Talking Angela                GAME   \n",
      "10660             VivaVideo - Video Editor & Photo Movie       VIDEO_PLAYERS   \n",
      "10700                                  My Talking Angela              FAMILY   \n",
      "10646                           Dream League Soccer 2018              SPORTS   \n",
      "10786                       Google Chrome: Fast & Secure       COMMUNICATION   \n",
      "10817                          Maps - Navigate & Explore    TRAVEL_AND_LOCAL   \n",
      "10672                                  Hill Climb Racing                GAME   \n",
      "10734                                      Facebook Lite              SOCIAL   \n",
      "10649                                Asphalt 8: Airborne                GAME   \n",
      "10699                          Mobile Legends: Bang Bang                GAME   \n",
      "10322  Battery Doctor-Battery Life Saver & Battery Co...               TOOLS   \n",
      "10396                                     Piano Tiles 2™                GAME   \n",
      "\n",
      "       Rating   Reviews  Size_MBs       Installs  Type Price Content_Rating  \\\n",
      "10805     4.1  78158306      5.30  1,000,000,000  Free     0           Teen   \n",
      "10785     4.4  69119316      3.50  1,000,000,000  Free     0       Everyone   \n",
      "10806     4.5  66577313      5.30  1,000,000,000  Free     0           Teen   \n",
      "10784     4.0  56642847      3.50  1,000,000,000  Free     0       Everyone   \n",
      "10650     4.6  44891723     98.00    100,000,000  Free     0   Everyone 10+   \n",
      "10653     4.6  44881447     98.00    100,000,000  Free     0   Everyone 10+   \n",
      "10744     4.7  42916526      3.40    500,000,000  Free     0       Everyone   \n",
      "10835     4.5  27722264     76.00  1,000,000,000  Free     0   Everyone 10+   \n",
      "10828     4.3  25655305      4.65  1,000,000,000  Free     0           Teen   \n",
      "10746     4.7  24900999      3.40    500,000,000  Free     0       Everyone   \n",
      "10584     4.6  23133508     97.00    100,000,000  Free     0   Everyone 10+   \n",
      "10592     4.6  23125280     97.00    100,000,000  Free     0   Everyone 10+   \n",
      "10763     4.4  22426677     74.00    500,000,000  Free     0       Everyone   \n",
      "10769     4.4  22419455     74.00    500,000,000  Free     0       Everyone   \n",
      "10770     4.5  17712922     40.00    500,000,000  Free     0           Teen   \n",
      "10735     4.0  17014787      5.30    500,000,000  Free     0           Teen   \n",
      "10489     4.6  16771865      3.40    100,000,000  Free     0       Everyone   \n",
      "10731     4.5  14891223     36.00    500,000,000  Free     0       Everyone   \n",
      "10733     4.5  14885236     19.00    500,000,000  Free     0       Everyone   \n",
      "10594     4.5  14198297     52.00    100,000,000  Free     0       Everyone   \n",
      "10602     4.5  14184910     52.00    100,000,000  Free     0       Everyone   \n",
      "10302     4.5  13479633     14.00    100,000,000  Free     0       Everyone   \n",
      "10354     4.3  12842860      3.50    100,000,000  Free     0       Everyone   \n",
      "10549     4.5  12759663     15.00    100,000,000  Free     0       Everyone   \n",
      "10757     4.3  11667403      6.30    500,000,000  Free     0     Mature 17+   \n",
      "10721     4.3  11334799      3.50    500,000,000  Free     0       Everyone   \n",
      "10578     4.6  10979062     88.00    100,000,000  Free     0   Everyone 10+   \n",
      "10813     4.5  10858556      6.90  1,000,000,000  Free     0       Everyone   \n",
      "10724     4.2  10790289      3.50    500,000,000  Free     0       Everyone   \n",
      "10717     4.3  10485308     24.00    500,000,000  Free     0       Everyone   \n",
      "10792     4.1  10484169      3.50  1,000,000,000  Free     0       Everyone   \n",
      "10720     4.3  10483141     24.00    500,000,000  Free     0       Everyone   \n",
      "10628     4.1  10424925     85.00    100,000,000  Free     0       Everyone   \n",
      "10409     4.5  10216997     19.00    100,000,000  Free     0   Everyone 10+   \n",
      "10388     4.5  10216538     36.00    100,000,000  Free     0   Everyone 10+   \n",
      "10694     4.5  10055521     94.00    100,000,000  Free     0       Everyone   \n",
      "10695     4.5  10053186     94.00    100,000,000  Free     0       Everyone   \n",
      "10644     4.6   9882639     74.00    100,000,000  Free     0       Everyone   \n",
      "10696     4.5   9881829     99.00    100,000,000  Free     0       Everyone   \n",
      "10660     4.6   9879473     40.00    100,000,000  Free     0           Teen   \n",
      "10700     4.5   9876369     99.00    100,000,000  Free     0       Everyone   \n",
      "10646     4.6   9873470     74.00    100,000,000  Free     0       Everyone   \n",
      "10786     4.3   9642995      3.50  1,000,000,000  Free     0       Everyone   \n",
      "10817     4.3   9235155     12.00  1,000,000,000  Free     0       Everyone   \n",
      "10672     4.4   8923587     63.00    100,000,000  Free     0       Everyone   \n",
      "10734     4.3   8606259      5.30    500,000,000  Free     0           Teen   \n",
      "10649     4.5   8389714     92.00    100,000,000  Free     0           Teen   \n",
      "10699     4.4   8219586     99.00    100,000,000  Free     0           Teen   \n",
      "10322     4.5   8190074     17.00    100,000,000  Free     0       Everyone   \n",
      "10396     4.7   8118880     36.00    100,000,000  Free     0       Everyone   \n",
      "\n",
      "                          Genres  \n",
      "10805                     Social  \n",
      "10785              Communication  \n",
      "10806                     Social  \n",
      "10784              Communication  \n",
      "10650                   Strategy  \n",
      "10653                   Strategy  \n",
      "10744                      Tools  \n",
      "10835                     Arcade  \n",
      "10828    Video Players & Editors  \n",
      "10746                      Tools  \n",
      "10584                   Strategy  \n",
      "10592                   Strategy  \n",
      "10763                     Casual  \n",
      "10769                     Casual  \n",
      "10770              Communication  \n",
      "10735                     Social  \n",
      "10489                      Tools  \n",
      "10731                     Casual  \n",
      "10733                     Casual  \n",
      "10594                     Sports  \n",
      "10602                     Sports  \n",
      "10302                      Tools  \n",
      "10354              Communication  \n",
      "10549                      Tools  \n",
      "10757           News & Magazines  \n",
      "10721              Communication  \n",
      "10578                     Action  \n",
      "10813                Photography  \n",
      "10724              Communication  \n",
      "10717                     Casual  \n",
      "10792              Communication  \n",
      "10720                     Casual  \n",
      "10628                  Adventure  \n",
      "10409  Casual;Action & Adventure  \n",
      "10388  Casual;Action & Adventure  \n",
      "10694                     Casual  \n",
      "10695                     Casual  \n",
      "10644                     Sports  \n",
      "10696                     Casual  \n",
      "10660    Video Players & Editors  \n",
      "10700                     Casual  \n",
      "10646                     Sports  \n",
      "10786              Communication  \n",
      "10817             Travel & Local  \n",
      "10672                     Racing  \n",
      "10734                     Social  \n",
      "10649                     Racing  \n",
      "10699                     Action  \n",
      "10322                      Tools  \n",
      "10396                     Arcade  \n"
     ]
    }
   ],
   "source": [
    "if __name__ == \"__main__\":\n",
    "    setup_logging()\n",
    "\n",
    "    app_df = return_cleaned_df()\n",
    "\n",
    "    print(f'Top 5 highest rated apps:\\n{app_df.sort_values(by=\"Rating\", ascending=False).head(5)}')\n",
    "    # print(f'Top 5 highest rated apps:\\n{app_df.sort_values(by=[\"Reviews\", \"Rating\"], ascending=False).head(5)}')\n",
    "    print(f'Top 5 largest apps by size:\\n{app_df.sort_values(by=\"Size_MBs\", ascending=False).head(5)}')\n",
    "    print(f'Top 5 highest reviews app:\\n{app_df.sort_values(by=\"Reviews\", ascending=False).head(50)}')"
   ]
  },
  {
   "cell_type": "markdown",
   "id": "84e8661e",
   "metadata": {},
   "source": [
    "# Data Visualisation with Plotly: Create Pie and Donut Charts"
   ]
  },
  {
   "cell_type": "code",
   "execution_count": 15,
   "id": "809ca04c",
   "metadata": {},
   "outputs": [
    {
     "data": {
      "application/vnd.plotly.v1+json": {
       "config": {
        "plotlyServerURL": "https://plot.ly"
       },
       "data": [
        {
         "domain": {
          "x": [
           0,
           1
          ],
          "y": [
           0,
           1
          ]
         },
         "hole": 0.5,
         "hovertemplate": "label=%{label}<br>value=%{value}<extra></extra>",
         "labels": [
          "Everyone",
          "Teen",
          "Mature 17+",
          "Everyone 10+",
          "Adults only 18+",
          "Unrated"
         ],
         "legendgroup": "",
         "name": "",
         "showlegend": true,
         "textinfo": "percent+label",
         "textposition": "outside",
         "type": "pie",
         "values": {
          "bdata": "DRqlA2UBPwEDAAEA",
          "dtype": "i2"
         }
        }
       ],
       "layout": {
        "legend": {
         "tracegroupgap": 0
        },
        "template": {
         "data": {
          "bar": [
           {
            "error_x": {
             "color": "#2a3f5f"
            },
            "error_y": {
             "color": "#2a3f5f"
            },
            "marker": {
             "line": {
              "color": "#E5ECF6",
              "width": 0.5
             },
             "pattern": {
              "fillmode": "overlay",
              "size": 10,
              "solidity": 0.2
             }
            },
            "type": "bar"
           }
          ],
          "barpolar": [
           {
            "marker": {
             "line": {
              "color": "#E5ECF6",
              "width": 0.5
             },
             "pattern": {
              "fillmode": "overlay",
              "size": 10,
              "solidity": 0.2
             }
            },
            "type": "barpolar"
           }
          ],
          "carpet": [
           {
            "aaxis": {
             "endlinecolor": "#2a3f5f",
             "gridcolor": "white",
             "linecolor": "white",
             "minorgridcolor": "white",
             "startlinecolor": "#2a3f5f"
            },
            "baxis": {
             "endlinecolor": "#2a3f5f",
             "gridcolor": "white",
             "linecolor": "white",
             "minorgridcolor": "white",
             "startlinecolor": "#2a3f5f"
            },
            "type": "carpet"
           }
          ],
          "choropleth": [
           {
            "colorbar": {
             "outlinewidth": 0,
             "ticks": ""
            },
            "type": "choropleth"
           }
          ],
          "contour": [
           {
            "colorbar": {
             "outlinewidth": 0,
             "ticks": ""
            },
            "colorscale": [
             [
              0,
              "#0d0887"
             ],
             [
              0.1111111111111111,
              "#46039f"
             ],
             [
              0.2222222222222222,
              "#7201a8"
             ],
             [
              0.3333333333333333,
              "#9c179e"
             ],
             [
              0.4444444444444444,
              "#bd3786"
             ],
             [
              0.5555555555555556,
              "#d8576b"
             ],
             [
              0.6666666666666666,
              "#ed7953"
             ],
             [
              0.7777777777777778,
              "#fb9f3a"
             ],
             [
              0.8888888888888888,
              "#fdca26"
             ],
             [
              1,
              "#f0f921"
             ]
            ],
            "type": "contour"
           }
          ],
          "contourcarpet": [
           {
            "colorbar": {
             "outlinewidth": 0,
             "ticks": ""
            },
            "type": "contourcarpet"
           }
          ],
          "heatmap": [
           {
            "colorbar": {
             "outlinewidth": 0,
             "ticks": ""
            },
            "colorscale": [
             [
              0,
              "#0d0887"
             ],
             [
              0.1111111111111111,
              "#46039f"
             ],
             [
              0.2222222222222222,
              "#7201a8"
             ],
             [
              0.3333333333333333,
              "#9c179e"
             ],
             [
              0.4444444444444444,
              "#bd3786"
             ],
             [
              0.5555555555555556,
              "#d8576b"
             ],
             [
              0.6666666666666666,
              "#ed7953"
             ],
             [
              0.7777777777777778,
              "#fb9f3a"
             ],
             [
              0.8888888888888888,
              "#fdca26"
             ],
             [
              1,
              "#f0f921"
             ]
            ],
            "type": "heatmap"
           }
          ],
          "histogram": [
           {
            "marker": {
             "pattern": {
              "fillmode": "overlay",
              "size": 10,
              "solidity": 0.2
             }
            },
            "type": "histogram"
           }
          ],
          "histogram2d": [
           {
            "colorbar": {
             "outlinewidth": 0,
             "ticks": ""
            },
            "colorscale": [
             [
              0,
              "#0d0887"
             ],
             [
              0.1111111111111111,
              "#46039f"
             ],
             [
              0.2222222222222222,
              "#7201a8"
             ],
             [
              0.3333333333333333,
              "#9c179e"
             ],
             [
              0.4444444444444444,
              "#bd3786"
             ],
             [
              0.5555555555555556,
              "#d8576b"
             ],
             [
              0.6666666666666666,
              "#ed7953"
             ],
             [
              0.7777777777777778,
              "#fb9f3a"
             ],
             [
              0.8888888888888888,
              "#fdca26"
             ],
             [
              1,
              "#f0f921"
             ]
            ],
            "type": "histogram2d"
           }
          ],
          "histogram2dcontour": [
           {
            "colorbar": {
             "outlinewidth": 0,
             "ticks": ""
            },
            "colorscale": [
             [
              0,
              "#0d0887"
             ],
             [
              0.1111111111111111,
              "#46039f"
             ],
             [
              0.2222222222222222,
              "#7201a8"
             ],
             [
              0.3333333333333333,
              "#9c179e"
             ],
             [
              0.4444444444444444,
              "#bd3786"
             ],
             [
              0.5555555555555556,
              "#d8576b"
             ],
             [
              0.6666666666666666,
              "#ed7953"
             ],
             [
              0.7777777777777778,
              "#fb9f3a"
             ],
             [
              0.8888888888888888,
              "#fdca26"
             ],
             [
              1,
              "#f0f921"
             ]
            ],
            "type": "histogram2dcontour"
           }
          ],
          "mesh3d": [
           {
            "colorbar": {
             "outlinewidth": 0,
             "ticks": ""
            },
            "type": "mesh3d"
           }
          ],
          "parcoords": [
           {
            "line": {
             "colorbar": {
              "outlinewidth": 0,
              "ticks": ""
             }
            },
            "type": "parcoords"
           }
          ],
          "pie": [
           {
            "automargin": true,
            "type": "pie"
           }
          ],
          "scatter": [
           {
            "fillpattern": {
             "fillmode": "overlay",
             "size": 10,
             "solidity": 0.2
            },
            "type": "scatter"
           }
          ],
          "scatter3d": [
           {
            "line": {
             "colorbar": {
              "outlinewidth": 0,
              "ticks": ""
             }
            },
            "marker": {
             "colorbar": {
              "outlinewidth": 0,
              "ticks": ""
             }
            },
            "type": "scatter3d"
           }
          ],
          "scattercarpet": [
           {
            "marker": {
             "colorbar": {
              "outlinewidth": 0,
              "ticks": ""
             }
            },
            "type": "scattercarpet"
           }
          ],
          "scattergeo": [
           {
            "marker": {
             "colorbar": {
              "outlinewidth": 0,
              "ticks": ""
             }
            },
            "type": "scattergeo"
           }
          ],
          "scattergl": [
           {
            "marker": {
             "colorbar": {
              "outlinewidth": 0,
              "ticks": ""
             }
            },
            "type": "scattergl"
           }
          ],
          "scattermap": [
           {
            "marker": {
             "colorbar": {
              "outlinewidth": 0,
              "ticks": ""
             }
            },
            "type": "scattermap"
           }
          ],
          "scattermapbox": [
           {
            "marker": {
             "colorbar": {
              "outlinewidth": 0,
              "ticks": ""
             }
            },
            "type": "scattermapbox"
           }
          ],
          "scatterpolar": [
           {
            "marker": {
             "colorbar": {
              "outlinewidth": 0,
              "ticks": ""
             }
            },
            "type": "scatterpolar"
           }
          ],
          "scatterpolargl": [
           {
            "marker": {
             "colorbar": {
              "outlinewidth": 0,
              "ticks": ""
             }
            },
            "type": "scatterpolargl"
           }
          ],
          "scatterternary": [
           {
            "marker": {
             "colorbar": {
              "outlinewidth": 0,
              "ticks": ""
             }
            },
            "type": "scatterternary"
           }
          ],
          "surface": [
           {
            "colorbar": {
             "outlinewidth": 0,
             "ticks": ""
            },
            "colorscale": [
             [
              0,
              "#0d0887"
             ],
             [
              0.1111111111111111,
              "#46039f"
             ],
             [
              0.2222222222222222,
              "#7201a8"
             ],
             [
              0.3333333333333333,
              "#9c179e"
             ],
             [
              0.4444444444444444,
              "#bd3786"
             ],
             [
              0.5555555555555556,
              "#d8576b"
             ],
             [
              0.6666666666666666,
              "#ed7953"
             ],
             [
              0.7777777777777778,
              "#fb9f3a"
             ],
             [
              0.8888888888888888,
              "#fdca26"
             ],
             [
              1,
              "#f0f921"
             ]
            ],
            "type": "surface"
           }
          ],
          "table": [
           {
            "cells": {
             "fill": {
              "color": "#EBF0F8"
             },
             "line": {
              "color": "white"
             }
            },
            "header": {
             "fill": {
              "color": "#C8D4E3"
             },
             "line": {
              "color": "white"
             }
            },
            "type": "table"
           }
          ]
         },
         "layout": {
          "annotationdefaults": {
           "arrowcolor": "#2a3f5f",
           "arrowhead": 0,
           "arrowwidth": 1
          },
          "autotypenumbers": "strict",
          "coloraxis": {
           "colorbar": {
            "outlinewidth": 0,
            "ticks": ""
           }
          },
          "colorscale": {
           "diverging": [
            [
             0,
             "#8e0152"
            ],
            [
             0.1,
             "#c51b7d"
            ],
            [
             0.2,
             "#de77ae"
            ],
            [
             0.3,
             "#f1b6da"
            ],
            [
             0.4,
             "#fde0ef"
            ],
            [
             0.5,
             "#f7f7f7"
            ],
            [
             0.6,
             "#e6f5d0"
            ],
            [
             0.7,
             "#b8e186"
            ],
            [
             0.8,
             "#7fbc41"
            ],
            [
             0.9,
             "#4d9221"
            ],
            [
             1,
             "#276419"
            ]
           ],
           "sequential": [
            [
             0,
             "#0d0887"
            ],
            [
             0.1111111111111111,
             "#46039f"
            ],
            [
             0.2222222222222222,
             "#7201a8"
            ],
            [
             0.3333333333333333,
             "#9c179e"
            ],
            [
             0.4444444444444444,
             "#bd3786"
            ],
            [
             0.5555555555555556,
             "#d8576b"
            ],
            [
             0.6666666666666666,
             "#ed7953"
            ],
            [
             0.7777777777777778,
             "#fb9f3a"
            ],
            [
             0.8888888888888888,
             "#fdca26"
            ],
            [
             1,
             "#f0f921"
            ]
           ],
           "sequentialminus": [
            [
             0,
             "#0d0887"
            ],
            [
             0.1111111111111111,
             "#46039f"
            ],
            [
             0.2222222222222222,
             "#7201a8"
            ],
            [
             0.3333333333333333,
             "#9c179e"
            ],
            [
             0.4444444444444444,
             "#bd3786"
            ],
            [
             0.5555555555555556,
             "#d8576b"
            ],
            [
             0.6666666666666666,
             "#ed7953"
            ],
            [
             0.7777777777777778,
             "#fb9f3a"
            ],
            [
             0.8888888888888888,
             "#fdca26"
            ],
            [
             1,
             "#f0f921"
            ]
           ]
          },
          "colorway": [
           "#636efa",
           "#EF553B",
           "#00cc96",
           "#ab63fa",
           "#FFA15A",
           "#19d3f3",
           "#FF6692",
           "#B6E880",
           "#FF97FF",
           "#FECB52"
          ],
          "font": {
           "color": "#2a3f5f"
          },
          "geo": {
           "bgcolor": "white",
           "lakecolor": "white",
           "landcolor": "#E5ECF6",
           "showlakes": true,
           "showland": true,
           "subunitcolor": "white"
          },
          "hoverlabel": {
           "align": "left"
          },
          "hovermode": "closest",
          "mapbox": {
           "style": "light"
          },
          "paper_bgcolor": "white",
          "plot_bgcolor": "#E5ECF6",
          "polar": {
           "angularaxis": {
            "gridcolor": "white",
            "linecolor": "white",
            "ticks": ""
           },
           "bgcolor": "#E5ECF6",
           "radialaxis": {
            "gridcolor": "white",
            "linecolor": "white",
            "ticks": ""
           }
          },
          "scene": {
           "xaxis": {
            "backgroundcolor": "#E5ECF6",
            "gridcolor": "white",
            "gridwidth": 2,
            "linecolor": "white",
            "showbackground": true,
            "ticks": "",
            "zerolinecolor": "white"
           },
           "yaxis": {
            "backgroundcolor": "#E5ECF6",
            "gridcolor": "white",
            "gridwidth": 2,
            "linecolor": "white",
            "showbackground": true,
            "ticks": "",
            "zerolinecolor": "white"
           },
           "zaxis": {
            "backgroundcolor": "#E5ECF6",
            "gridcolor": "white",
            "gridwidth": 2,
            "linecolor": "white",
            "showbackground": true,
            "ticks": "",
            "zerolinecolor": "white"
           }
          },
          "shapedefaults": {
           "line": {
            "color": "#2a3f5f"
           }
          },
          "ternary": {
           "aaxis": {
            "gridcolor": "white",
            "linecolor": "white",
            "ticks": ""
           },
           "baxis": {
            "gridcolor": "white",
            "linecolor": "white",
            "ticks": ""
           },
           "bgcolor": "#E5ECF6",
           "caxis": {
            "gridcolor": "white",
            "linecolor": "white",
            "ticks": ""
           }
          },
          "title": {
           "x": 0.05
          },
          "xaxis": {
           "automargin": true,
           "gridcolor": "white",
           "linecolor": "white",
           "ticks": "",
           "title": {
            "standoff": 15
           },
           "zerolinecolor": "white",
           "zerolinewidth": 2
          },
          "yaxis": {
           "automargin": true,
           "gridcolor": "white",
           "linecolor": "white",
           "ticks": "",
           "title": {
            "standoff": 15
           },
           "zerolinecolor": "white",
           "zerolinewidth": 2
          }
         }
        },
        "title": {
         "text": "Content Rating"
        }
       }
      }
     },
     "metadata": {},
     "output_type": "display_data"
    }
   ],
   "source": [
    "if __name__ == \"__main__\":\n",
    "    setup_logging()\n",
    "\n",
    "    app_df = return_cleaned_df()\n",
    "\n",
    "    ratings = app_df.Content_Rating.value_counts()\n",
    "    \n",
    "    fig = px.pie(\n",
    "        labels=ratings.index, \n",
    "        values=ratings.values, \n",
    "        names=ratings.index, \n",
    "        title='Content Rating',\n",
    "        hole=0.5\n",
    "    )\n",
    "    fig.update_traces(\n",
    "        textposition='outside', \n",
    "        textinfo='percent+label'\n",
    "    )\n",
    "\n",
    "    fig.show()"
   ]
  },
  {
   "cell_type": "markdown",
   "id": "e4518bde",
   "metadata": {},
   "source": [
    "# Numeric Type Conversions for the Installations & Price Data"
   ]
  },
  {
   "cell_type": "code",
   "execution_count": 34,
   "id": "af7a8043",
   "metadata": {},
   "outputs": [
    {
     "name": "stdout",
     "output_type": "stream",
     "text": [
      "Column type:\n",
      "count          8282\n",
      "unique           19\n",
      "top       1,000,000\n",
      "freq           1428\n",
      "Name: Installs, dtype: object\n",
      "Column type:\n",
      "count     8282\n",
      "unique      73\n",
      "top          0\n",
      "freq      7676\n",
      "Name: Price, dtype: object\n",
      "(8267, 10)\n",
      "Top 10 apps by revenue:\n",
      "                                App     Category  Rating  Reviews   Size_MBs  \\\n",
      "9220                      Minecraft       FAMILY     4.5  2376564  19.000000   \n",
      "8825                  Hitman Sniper         GAME     4.6   408292  29.000000   \n",
      "7151  Grand Theft Auto: San Andreas         GAME     4.4   348962  26.000000   \n",
      "7477            Facetune - For Free  PHOTOGRAPHY     4.4    49553  48.000000   \n",
      "7977        Sleep as Android Unlock    LIFESTYLE     4.5    23966   0.851562   \n",
      "6594            DraStic DS Emulator         GAME     4.6    87766  12.000000   \n",
      "6082                   Weather Live      WEATHER     4.5    76593   4.750000   \n",
      "6746     Card Wars - Adventure Time       FAMILY     4.3   129603  23.000000   \n",
      "7954                    Bloons TD 5       FAMILY     4.6   190086  94.000000   \n",
      "7633        Five Nights at Freddy's         GAME     4.6   100805  50.000000   \n",
      "\n",
      "      Installs  Type  Price Content_Rating                     Genres  \\\n",
      "9220  10000000  Paid   6.99   Everyone 10+  Arcade;Action & Adventure   \n",
      "8825  10000000  Paid   0.99     Mature 17+                     Action   \n",
      "7151   1000000  Paid   6.99     Mature 17+                     Action   \n",
      "7477   1000000  Paid   5.99       Everyone                Photography   \n",
      "7977   1000000  Paid   5.99       Everyone                  Lifestyle   \n",
      "6594   1000000  Paid   4.99       Everyone                     Action   \n",
      "6082    500000  Paid   5.99       Everyone                    Weather   \n",
      "6746   1000000  Paid   2.99   Everyone 10+    Card;Action & Adventure   \n",
      "7954   1000000  Paid   2.99       Everyone                   Strategy   \n",
      "7633   1000000  Paid   2.99           Teen                     Action   \n",
      "\n",
      "      Revenue_Estimate  \n",
      "9220        69900000.0  \n",
      "8825         9900000.0  \n",
      "7151         6990000.0  \n",
      "7477         5990000.0  \n",
      "7977         5990000.0  \n",
      "6594         4990000.0  \n",
      "6082         2995000.0  \n",
      "6746         2990000.0  \n",
      "7954         2990000.0  \n",
      "7633         2990000.0  \n",
      "Games among top 10 highest revenue apps:\n",
      "                                App Category  Rating  Reviews  Size_MBs  \\\n",
      "8825                  Hitman Sniper     GAME     4.6   408292      29.0   \n",
      "7151  Grand Theft Auto: San Andreas     GAME     4.4   348962      26.0   \n",
      "6594            DraStic DS Emulator     GAME     4.6    87766      12.0   \n",
      "7633        Five Nights at Freddy's     GAME     4.6   100805      50.0   \n",
      "\n",
      "      Installs  Type  Price Content_Rating  Genres  Revenue_Estimate  \n",
      "8825  10000000  Paid   0.99     Mature 17+  Action         9900000.0  \n",
      "7151   1000000  Paid   6.99     Mature 17+  Action         6990000.0  \n",
      "6594   1000000  Paid   4.99       Everyone  Action         4990000.0  \n",
      "7633   1000000  Paid   2.99           Teen  Action         2990000.0  \n"
     ]
    }
   ],
   "source": [
    "if __name__ == \"__main__\":\n",
    "    setup_logging()\n",
    "\n",
    "    app_df = return_cleaned_df()\n",
    "    print(f'Column type:\\n{app_df.Installs.describe()}')\n",
    "    print(f'Column type:\\n{app_df.Price.describe()}')\n",
    "\n",
    "    app_df.Price = app_df.Price.replace('[\\$,]', '', regex=True).astype(float)\n",
    "    app_df.Installs = app_df.Installs.replace('[\\+,]', '', regex=True).astype(int)\n",
    "\n",
    "    # print(f'App count with download rate:\\n{app_df[['App', 'Installs']].groupby('Installs').count().sort_values(by='Installs', ascending=False).reset_index()}')\n",
    "    \n",
    "    app_df = app_df[app_df.Price < 250]\n",
    "    print(app_df.shape)\n",
    "\n",
    "    app_df['Revenue_Estimate'] = app_df.Installs * app_df.Price\n",
    "    app_df = app_df.sort_values(by='Revenue_Estimate', ascending=False).head(10)\n",
    "    print(f'Top 10 apps by revenue:\\n{app_df}')\n",
    "    print(f'Games among top 10 highest revenue apps:\\n{app_df[app_df.Category == \"GAME\"]}')\n"
   ]
  }
 ],
 "metadata": {
  "kernelspec": {
   "display_name": ".venv",
   "language": "python",
   "name": "python3"
  },
  "language_info": {
   "codemirror_mode": {
    "name": "ipython",
    "version": 3
   },
   "file_extension": ".py",
   "mimetype": "text/x-python",
   "name": "python",
   "nbconvert_exporter": "python",
   "pygments_lexer": "ipython3",
   "version": "3.12.3"
  }
 },
 "nbformat": 4,
 "nbformat_minor": 5
}
