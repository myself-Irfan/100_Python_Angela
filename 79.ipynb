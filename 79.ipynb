{
 "cells": [
  {
   "cell_type": "markdown",
   "id": "87bdcf40",
   "metadata": {},
   "source": [
    "# import statements"
   ]
  },
  {
   "cell_type": "code",
   "execution_count": 29,
   "id": "8a1afaaa",
   "metadata": {},
   "outputs": [],
   "source": [
    "import logging\n",
    "import pandas as pd\n",
    "import numpy as np\n",
    "import plotly.express as px\n",
    "import seaborn as sns\n",
    "import matplotlib.pyplot as plt\n",
    "\n",
    "\n",
    "def setup_logging() -> None:\n",
    "    logging.basicConfig(\n",
    "        level=logging.INFO,\n",
    "        format='%(asctime)s - %(levelname)s - %(funcName)s | %(message)s',\n",
    "        handlers=[\n",
    "            logging.FileHandler('77-ipynb.log')\n",
    "        ]\n",
    "    )\n",
    "\n",
    "    logging.info('Logging setup complete.')\n",
    "\n",
    "\n",
    "def fetch_df(file_path: str) -> pd.DataFrame:\n",
    "    logging.info('Initiating reading csv')\n",
    "    \n",
    "    try:\n",
    "        in_df = pd.read_csv(file_path)\n",
    "    except FileNotFoundError as notfound_err:\n",
    "        logging.error(f'File not found at: {file_path}. Error: {notfound_err}')\n",
    "        raise notfound_err\n",
    "    except pd.errors.EmptyDataError as empty_err:\n",
    "        logging.error(f'File empty: {empty_err}')\n",
    "        raise empty_err\n",
    "    except pd.errors.ParserError as parse_err:\n",
    "        logging.error(f'Parse error: {parse_err}')\n",
    "        raise parse_err\n",
    "    except Exception as err:\n",
    "        logging.error(f'Unexpected error: {err}')\n",
    "        raise err\n",
    "    else:\n",
    "        logging.info(f'Dataframe loaded successfully from {file_path}')\n",
    "        pd.options.display.float_format = '{:,.2f}'.format\n",
    "        return in_df"
   ]
  },
  {
   "cell_type": "markdown",
   "id": "06764b52",
   "metadata": {},
   "source": [
    "# Explore and Clean the Dataset"
   ]
  },
  {
   "cell_type": "code",
   "execution_count": 30,
   "id": "b6aa57c1",
   "metadata": {},
   "outputs": [],
   "source": [
    "def explore_df(in_df: pd.DataFrame) -> None:\n",
    "    print(f'Dataframe shape: {in_df.shape}')\n",
    "\n",
    "    print(f'Column names: {in_df.columns.to_list()}')\n",
    "    print(f'Data types: {in_df.dtypes}')  \n",
    "\n",
    "    print(f'NaN: {in_df.isna().values.any()}')\n",
    "    print(f'NaN details:\\n{in_df.isna().sum()}')\n",
    "\n",
    "\n",
    "def explore_df_data(in_df: pd.DataFrame) -> None:\n",
    "    print(f'Noble prize first awarded: {in_df.year.min()}')\n",
    "    print(f'Noble prize latest awarded: {in_df.year.max()}')\n",
    "\n",
    "    col_subset = ['year','category', 'laureate_type',\n",
    "              'birth_date','full_name', 'organization_name']\n",
    "    print(f'NaN Birth Rate:\\n{in_df.loc[in_df.birth_date.isna()][col_subset]}')\n",
    "    col_subset = ['year','category', 'laureate_type','full_name', 'organization_name']\n",
    "    print(f'NaN Org Name:\\n{in_df.loc[in_df.organization_name.isna()][col_subset]}')\n",
    "\n",
    "\n",
    "def conv_df_dtype(in_df: pd.DataFrame) -> pd.DataFrame:\n",
    "    in_df.birth_date = pd.to_datetime(in_df.birth_date, errors='coerce')\n",
    "\n",
    "    share_parts = in_df.prize_share.str.split('/', expand=True)\n",
    "    in_df['share_pct'] = pd.to_numeric(share_parts[0], errors='coerce') / pd.to_numeric(share_parts[1], errors='coerce')\n",
    "\n",
    "    return in_df\n",
    "\n",
    "\n",
    "# if __name__ == '__main__':\n",
    "#     setup_logging()\n",
    "\n",
    "#     in_df = fetch_df('input-79.csv')\n",
    "#     explore_df(in_df)\n",
    "#     explore_df_data(in_df)\n",
    "#     in_df = conv_df_dtype(in_df)\n"
   ]
  },
  {
   "cell_type": "markdown",
   "id": "485561a1",
   "metadata": {},
   "source": [
    "# plotly Bar & Donut Charts: Analyse Prize Categories & Women Winning Prizes"
   ]
  },
  {
   "cell_type": "code",
   "execution_count": null,
   "id": "32593b9e",
   "metadata": {},
   "outputs": [
    {
     "data": {
      "application/vnd.plotly.v1+json": {
       "config": {
        "plotlyServerURL": "https://plot.ly"
       },
       "data": [
        {
         "hovertemplate": "sex=Female<br>Nobel prize category=%{x}<br>Number of Prizes=%{y}<extra></extra>",
         "legendgroup": "Female",
         "marker": {
          "color": "#636efa",
          "pattern": {
           "shape": ""
          }
         },
         "name": "Female",
         "orientation": "v",
         "showlegend": true,
         "textposition": "auto",
         "type": "bar",
         "x": [
          "Economics",
          "Physics",
          "Chemistry",
          "Medicine",
          "Literature",
          "Peace"
         ],
         "xaxis": "x",
         "y": {
          "bdata": "AgQHDBAR",
          "dtype": "i1"
         },
         "yaxis": "y"
        },
        {
         "hovertemplate": "sex=Male<br>Nobel prize category=%{x}<br>Number of Prizes=%{y}<extra></extra>",
         "legendgroup": "Male",
         "marker": {
          "color": "#EF553B",
          "pattern": {
           "shape": ""
          }
         },
         "name": "Male",
         "orientation": "v",
         "showlegend": true,
         "textposition": "auto",
         "type": "bar",
         "x": [
          "Economics",
          "Peace",
          "Literature",
          "Chemistry",
          "Medicine",
          "Physics"
         ],
         "xaxis": "x",
         "y": {
          "bdata": "VABaAGUAswDSANQA",
          "dtype": "i2"
         },
         "yaxis": "y"
        }
       ],
       "layout": {
        "barmode": "relative",
        "legend": {
         "title": {
          "text": "sex"
         },
         "tracegroupgap": 0
        },
        "template": {
         "data": {
          "bar": [
           {
            "error_x": {
             "color": "#2a3f5f"
            },
            "error_y": {
             "color": "#2a3f5f"
            },
            "marker": {
             "line": {
              "color": "#E5ECF6",
              "width": 0.5
             },
             "pattern": {
              "fillmode": "overlay",
              "size": 10,
              "solidity": 0.2
             }
            },
            "type": "bar"
           }
          ],
          "barpolar": [
           {
            "marker": {
             "line": {
              "color": "#E5ECF6",
              "width": 0.5
             },
             "pattern": {
              "fillmode": "overlay",
              "size": 10,
              "solidity": 0.2
             }
            },
            "type": "barpolar"
           }
          ],
          "carpet": [
           {
            "aaxis": {
             "endlinecolor": "#2a3f5f",
             "gridcolor": "white",
             "linecolor": "white",
             "minorgridcolor": "white",
             "startlinecolor": "#2a3f5f"
            },
            "baxis": {
             "endlinecolor": "#2a3f5f",
             "gridcolor": "white",
             "linecolor": "white",
             "minorgridcolor": "white",
             "startlinecolor": "#2a3f5f"
            },
            "type": "carpet"
           }
          ],
          "choropleth": [
           {
            "colorbar": {
             "outlinewidth": 0,
             "ticks": ""
            },
            "type": "choropleth"
           }
          ],
          "contour": [
           {
            "colorbar": {
             "outlinewidth": 0,
             "ticks": ""
            },
            "colorscale": [
             [
              0,
              "#0d0887"
             ],
             [
              0.1111111111111111,
              "#46039f"
             ],
             [
              0.2222222222222222,
              "#7201a8"
             ],
             [
              0.3333333333333333,
              "#9c179e"
             ],
             [
              0.4444444444444444,
              "#bd3786"
             ],
             [
              0.5555555555555556,
              "#d8576b"
             ],
             [
              0.6666666666666666,
              "#ed7953"
             ],
             [
              0.7777777777777778,
              "#fb9f3a"
             ],
             [
              0.8888888888888888,
              "#fdca26"
             ],
             [
              1,
              "#f0f921"
             ]
            ],
            "type": "contour"
           }
          ],
          "contourcarpet": [
           {
            "colorbar": {
             "outlinewidth": 0,
             "ticks": ""
            },
            "type": "contourcarpet"
           }
          ],
          "heatmap": [
           {
            "colorbar": {
             "outlinewidth": 0,
             "ticks": ""
            },
            "colorscale": [
             [
              0,
              "#0d0887"
             ],
             [
              0.1111111111111111,
              "#46039f"
             ],
             [
              0.2222222222222222,
              "#7201a8"
             ],
             [
              0.3333333333333333,
              "#9c179e"
             ],
             [
              0.4444444444444444,
              "#bd3786"
             ],
             [
              0.5555555555555556,
              "#d8576b"
             ],
             [
              0.6666666666666666,
              "#ed7953"
             ],
             [
              0.7777777777777778,
              "#fb9f3a"
             ],
             [
              0.8888888888888888,
              "#fdca26"
             ],
             [
              1,
              "#f0f921"
             ]
            ],
            "type": "heatmap"
           }
          ],
          "histogram": [
           {
            "marker": {
             "pattern": {
              "fillmode": "overlay",
              "size": 10,
              "solidity": 0.2
             }
            },
            "type": "histogram"
           }
          ],
          "histogram2d": [
           {
            "colorbar": {
             "outlinewidth": 0,
             "ticks": ""
            },
            "colorscale": [
             [
              0,
              "#0d0887"
             ],
             [
              0.1111111111111111,
              "#46039f"
             ],
             [
              0.2222222222222222,
              "#7201a8"
             ],
             [
              0.3333333333333333,
              "#9c179e"
             ],
             [
              0.4444444444444444,
              "#bd3786"
             ],
             [
              0.5555555555555556,
              "#d8576b"
             ],
             [
              0.6666666666666666,
              "#ed7953"
             ],
             [
              0.7777777777777778,
              "#fb9f3a"
             ],
             [
              0.8888888888888888,
              "#fdca26"
             ],
             [
              1,
              "#f0f921"
             ]
            ],
            "type": "histogram2d"
           }
          ],
          "histogram2dcontour": [
           {
            "colorbar": {
             "outlinewidth": 0,
             "ticks": ""
            },
            "colorscale": [
             [
              0,
              "#0d0887"
             ],
             [
              0.1111111111111111,
              "#46039f"
             ],
             [
              0.2222222222222222,
              "#7201a8"
             ],
             [
              0.3333333333333333,
              "#9c179e"
             ],
             [
              0.4444444444444444,
              "#bd3786"
             ],
             [
              0.5555555555555556,
              "#d8576b"
             ],
             [
              0.6666666666666666,
              "#ed7953"
             ],
             [
              0.7777777777777778,
              "#fb9f3a"
             ],
             [
              0.8888888888888888,
              "#fdca26"
             ],
             [
              1,
              "#f0f921"
             ]
            ],
            "type": "histogram2dcontour"
           }
          ],
          "mesh3d": [
           {
            "colorbar": {
             "outlinewidth": 0,
             "ticks": ""
            },
            "type": "mesh3d"
           }
          ],
          "parcoords": [
           {
            "line": {
             "colorbar": {
              "outlinewidth": 0,
              "ticks": ""
             }
            },
            "type": "parcoords"
           }
          ],
          "pie": [
           {
            "automargin": true,
            "type": "pie"
           }
          ],
          "scatter": [
           {
            "fillpattern": {
             "fillmode": "overlay",
             "size": 10,
             "solidity": 0.2
            },
            "type": "scatter"
           }
          ],
          "scatter3d": [
           {
            "line": {
             "colorbar": {
              "outlinewidth": 0,
              "ticks": ""
             }
            },
            "marker": {
             "colorbar": {
              "outlinewidth": 0,
              "ticks": ""
             }
            },
            "type": "scatter3d"
           }
          ],
          "scattercarpet": [
           {
            "marker": {
             "colorbar": {
              "outlinewidth": 0,
              "ticks": ""
             }
            },
            "type": "scattercarpet"
           }
          ],
          "scattergeo": [
           {
            "marker": {
             "colorbar": {
              "outlinewidth": 0,
              "ticks": ""
             }
            },
            "type": "scattergeo"
           }
          ],
          "scattergl": [
           {
            "marker": {
             "colorbar": {
              "outlinewidth": 0,
              "ticks": ""
             }
            },
            "type": "scattergl"
           }
          ],
          "scattermap": [
           {
            "marker": {
             "colorbar": {
              "outlinewidth": 0,
              "ticks": ""
             }
            },
            "type": "scattermap"
           }
          ],
          "scattermapbox": [
           {
            "marker": {
             "colorbar": {
              "outlinewidth": 0,
              "ticks": ""
             }
            },
            "type": "scattermapbox"
           }
          ],
          "scatterpolar": [
           {
            "marker": {
             "colorbar": {
              "outlinewidth": 0,
              "ticks": ""
             }
            },
            "type": "scatterpolar"
           }
          ],
          "scatterpolargl": [
           {
            "marker": {
             "colorbar": {
              "outlinewidth": 0,
              "ticks": ""
             }
            },
            "type": "scatterpolargl"
           }
          ],
          "scatterternary": [
           {
            "marker": {
             "colorbar": {
              "outlinewidth": 0,
              "ticks": ""
             }
            },
            "type": "scatterternary"
           }
          ],
          "surface": [
           {
            "colorbar": {
             "outlinewidth": 0,
             "ticks": ""
            },
            "colorscale": [
             [
              0,
              "#0d0887"
             ],
             [
              0.1111111111111111,
              "#46039f"
             ],
             [
              0.2222222222222222,
              "#7201a8"
             ],
             [
              0.3333333333333333,
              "#9c179e"
             ],
             [
              0.4444444444444444,
              "#bd3786"
             ],
             [
              0.5555555555555556,
              "#d8576b"
             ],
             [
              0.6666666666666666,
              "#ed7953"
             ],
             [
              0.7777777777777778,
              "#fb9f3a"
             ],
             [
              0.8888888888888888,
              "#fdca26"
             ],
             [
              1,
              "#f0f921"
             ]
            ],
            "type": "surface"
           }
          ],
          "table": [
           {
            "cells": {
             "fill": {
              "color": "#EBF0F8"
             },
             "line": {
              "color": "white"
             }
            },
            "header": {
             "fill": {
              "color": "#C8D4E3"
             },
             "line": {
              "color": "white"
             }
            },
            "type": "table"
           }
          ]
         },
         "layout": {
          "annotationdefaults": {
           "arrowcolor": "#2a3f5f",
           "arrowhead": 0,
           "arrowwidth": 1
          },
          "autotypenumbers": "strict",
          "coloraxis": {
           "colorbar": {
            "outlinewidth": 0,
            "ticks": ""
           }
          },
          "colorscale": {
           "diverging": [
            [
             0,
             "#8e0152"
            ],
            [
             0.1,
             "#c51b7d"
            ],
            [
             0.2,
             "#de77ae"
            ],
            [
             0.3,
             "#f1b6da"
            ],
            [
             0.4,
             "#fde0ef"
            ],
            [
             0.5,
             "#f7f7f7"
            ],
            [
             0.6,
             "#e6f5d0"
            ],
            [
             0.7,
             "#b8e186"
            ],
            [
             0.8,
             "#7fbc41"
            ],
            [
             0.9,
             "#4d9221"
            ],
            [
             1,
             "#276419"
            ]
           ],
           "sequential": [
            [
             0,
             "#0d0887"
            ],
            [
             0.1111111111111111,
             "#46039f"
            ],
            [
             0.2222222222222222,
             "#7201a8"
            ],
            [
             0.3333333333333333,
             "#9c179e"
            ],
            [
             0.4444444444444444,
             "#bd3786"
            ],
            [
             0.5555555555555556,
             "#d8576b"
            ],
            [
             0.6666666666666666,
             "#ed7953"
            ],
            [
             0.7777777777777778,
             "#fb9f3a"
            ],
            [
             0.8888888888888888,
             "#fdca26"
            ],
            [
             1,
             "#f0f921"
            ]
           ],
           "sequentialminus": [
            [
             0,
             "#0d0887"
            ],
            [
             0.1111111111111111,
             "#46039f"
            ],
            [
             0.2222222222222222,
             "#7201a8"
            ],
            [
             0.3333333333333333,
             "#9c179e"
            ],
            [
             0.4444444444444444,
             "#bd3786"
            ],
            [
             0.5555555555555556,
             "#d8576b"
            ],
            [
             0.6666666666666666,
             "#ed7953"
            ],
            [
             0.7777777777777778,
             "#fb9f3a"
            ],
            [
             0.8888888888888888,
             "#fdca26"
            ],
            [
             1,
             "#f0f921"
            ]
           ]
          },
          "colorway": [
           "#636efa",
           "#EF553B",
           "#00cc96",
           "#ab63fa",
           "#FFA15A",
           "#19d3f3",
           "#FF6692",
           "#B6E880",
           "#FF97FF",
           "#FECB52"
          ],
          "font": {
           "color": "#2a3f5f"
          },
          "geo": {
           "bgcolor": "white",
           "lakecolor": "white",
           "landcolor": "#E5ECF6",
           "showlakes": true,
           "showland": true,
           "subunitcolor": "white"
          },
          "hoverlabel": {
           "align": "left"
          },
          "hovermode": "closest",
          "mapbox": {
           "style": "light"
          },
          "paper_bgcolor": "white",
          "plot_bgcolor": "#E5ECF6",
          "polar": {
           "angularaxis": {
            "gridcolor": "white",
            "linecolor": "white",
            "ticks": ""
           },
           "bgcolor": "#E5ECF6",
           "radialaxis": {
            "gridcolor": "white",
            "linecolor": "white",
            "ticks": ""
           }
          },
          "scene": {
           "xaxis": {
            "backgroundcolor": "#E5ECF6",
            "gridcolor": "white",
            "gridwidth": 2,
            "linecolor": "white",
            "showbackground": true,
            "ticks": "",
            "zerolinecolor": "white"
           },
           "yaxis": {
            "backgroundcolor": "#E5ECF6",
            "gridcolor": "white",
            "gridwidth": 2,
            "linecolor": "white",
            "showbackground": true,
            "ticks": "",
            "zerolinecolor": "white"
           },
           "zaxis": {
            "backgroundcolor": "#E5ECF6",
            "gridcolor": "white",
            "gridwidth": 2,
            "linecolor": "white",
            "showbackground": true,
            "ticks": "",
            "zerolinecolor": "white"
           }
          },
          "shapedefaults": {
           "line": {
            "color": "#2a3f5f"
           }
          },
          "ternary": {
           "aaxis": {
            "gridcolor": "white",
            "linecolor": "white",
            "ticks": ""
           },
           "baxis": {
            "gridcolor": "white",
            "linecolor": "white",
            "ticks": ""
           },
           "bgcolor": "#E5ECF6",
           "caxis": {
            "gridcolor": "white",
            "linecolor": "white",
            "ticks": ""
           }
          },
          "title": {
           "x": 0.05
          },
          "xaxis": {
           "automargin": true,
           "gridcolor": "white",
           "linecolor": "white",
           "ticks": "",
           "title": {
            "standoff": 15
           },
           "zerolinecolor": "white",
           "zerolinewidth": 2
          },
          "yaxis": {
           "automargin": true,
           "gridcolor": "white",
           "linecolor": "white",
           "ticks": "",
           "title": {
            "standoff": 15
           },
           "zerolinecolor": "white",
           "zerolinewidth": 2
          }
         }
        },
        "title": {
         "text": "Category distribution by Gender"
        },
        "xaxis": {
         "anchor": "y",
         "domain": [
          0,
          1
         ],
         "title": {
          "text": "Nobel prize category"
         }
        },
        "yaxis": {
         "anchor": "x",
         "domain": [
          0,
          1
         ],
         "title": {
          "text": "Number of Prizes"
         }
        }
       }
      }
     },
     "metadata": {},
     "output_type": "display_data"
    }
   ],
   "source": [
    "def generate_gender_donut(in_df: pd.DataFrame) -> None:\n",
    "    logging.info('Initiating donut figure generation')\n",
    "    \n",
    "    gender_count = in_df.sex.value_counts()\n",
    "    donut_fig = px.pie(\n",
    "        labels=gender_count.index,\n",
    "        values=gender_count.values,\n",
    "        names=gender_count.index,\n",
    "        title='Nobel Prize by Gender',\n",
    "        hole=0.5\n",
    "    )\n",
    "    donut_fig.update_traces(\n",
    "        textposition='outside',\n",
    "        textinfo='percent+label'\n",
    "    )\n",
    "    donut_fig.show()\n",
    "\n",
    "    logging.info('Donut figure generation complete')\n",
    "\n",
    "\n",
    "def explore_female_df(in_df: pd.DataFrame) -> None:\n",
    "    female_df = in_df[in_df.sex == 'Female'].sort_values(by='year', ascending=True).reset_index(drop=True).copy()\n",
    "    print(f'First three female nobel info:\\n{female_df.head(3)}')\n",
    "\n",
    "    print(f'Prize won for:\\n{female_df.category.value_counts()}')\n",
    "\n",
    "    print(f'First 3 female birth country and organization:\\n{female_df[['birth_country', 'birth_country_current', 'organization_name']].head(3)}')\n",
    "\n",
    "\n",
    "def multiple_nobel(in_df: pd.DataFrame) -> None:\n",
    "    logging.info('Checking for multiple Nobel winners')\n",
    "\n",
    "    # Get index of names that appear more than once\n",
    "    multiple_winners = in_df[\n",
    "        'full_name'\n",
    "    ].value_counts().loc[\n",
    "        lambda x: x > 1\n",
    "    ].index\n",
    "\n",
    "    if multiple_winners.empty:\n",
    "        print('No multiple winners')\n",
    "        return\n",
    "\n",
    "    # Filter and display relevant details\n",
    "    filtered_df = in_df.loc[\n",
    "        in_df['full_name'].isin(multiple_winners), \n",
    "        [\n",
    "            'year', \n",
    "            'category', \n",
    "            'laureate_type', \n",
    "            'full_name'\n",
    "        ]\n",
    "    ].sort_values(\n",
    "        by=[\n",
    "            'full_name', \n",
    "            'year'\n",
    "        ]\n",
    "    )\n",
    "\n",
    "    print(f'Multiple Nobel Prize winners:\\n{filtered_df.to_string(index=False)}')\n",
    "\n",
    "\n",
    "def gen_category_bar(ind_df: pd.DataFrame) -> None:\n",
    "    logging.info('Initiating Bar chart for categories')\n",
    "\n",
    "    category_df = in_df.category.value_counts().reset_index()\n",
    "    category_df.columns = ['Category', 'Count']\n",
    "\n",
    "\n",
    "    # print(f'{category_df}')\n",
    "    bar_fig = px.bar(\n",
    "        data_frame=category_df,\n",
    "        x='Category',\n",
    "        y='Count',\n",
    "        title='Nobel prize distribution by Category',\n",
    "        labels={'Category': 'Category', 'Count': 'Nobel count'},\n",
    "        color='Count',\n",
    "        color_continuous_scale='Aggrnyl'\n",
    "    )\n",
    "    bar_fig.update_layout(coloraxis_showscale=False)\n",
    "    bar_fig.show()\n",
    "\n",
    "\n",
    "def gen_bar_gender_category(in_df: pd.DataFrame) -> None:\n",
    "    cat_gender_df = in_df.groupby(\n",
    "        ['category', 'sex'],\n",
    "        as_index=False\n",
    "    ).agg({'prize': 'count'}).sort_values(\n",
    "        'prize',\n",
    "        ascending=False\n",
    "    )\n",
    "    bar_fig = px.bar(\n",
    "        data_frame=cat_gender_df,\n",
    "        x='category',\n",
    "        y='prize',\n",
    "        color='sex',\n",
    "        title='Category distribution by Gender',\n",
    "        labels={'category': 'Nobel prize category', 'prize': 'Number of Prizes'}\n",
    "    )\n",
    "    bar_fig.show()\n",
    "    \n",
    "\n",
    "if __name__ == '__main__':\n",
    "    setup_logging()\n",
    "\n",
    "    in_df = fetch_df('input-79.csv')\n",
    "    in_df = conv_df_dtype(in_df)\n",
    "\n",
    "    # generate_gender_donut(in_df)\n",
    "    \n",
    "    # explore_female_df(in_df)\n",
    "\n",
    "    # multiple_nobel(in_df)\n",
    "\n",
    "    # gen_category_bar(in_df)\n",
    "\n",
    "    # print(f'First economics award info:\\n{in_df[in_df.category == 'Economics'].sort_values(by=\"year\").iloc[0]}')\n",
    "\n",
    "    gen_bar_gender_category(in_df)"
   ]
  }
 ],
 "metadata": {
  "kernelspec": {
   "display_name": ".venv",
   "language": "python",
   "name": "python3"
  },
  "language_info": {
   "codemirror_mode": {
    "name": "ipython",
    "version": 3
   },
   "file_extension": ".py",
   "mimetype": "text/x-python",
   "name": "python",
   "nbconvert_exporter": "python",
   "pygments_lexer": "ipython3",
   "version": "3.12.3"
  }
 },
 "nbformat": 4,
 "nbformat_minor": 5
}
