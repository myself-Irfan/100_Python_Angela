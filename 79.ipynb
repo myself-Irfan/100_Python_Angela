{
 "cells": [
  {
   "cell_type": "markdown",
   "id": "87bdcf40",
   "metadata": {},
   "source": [
    "# import statements"
   ]
  },
  {
   "cell_type": "code",
   "execution_count": 1,
   "id": "8a1afaaa",
   "metadata": {},
   "outputs": [],
   "source": [
    "import logging\n",
    "import pandas as pd\n",
    "import numpy as np\n",
    "import plotly.express as px\n",
    "import seaborn as sns\n",
    "import matplotlib.pyplot as plt\n",
    "\n",
    "\n",
    "def setup_logging() -> None:\n",
    "    logging.basicConfig(\n",
    "        level=logging.INFO,\n",
    "        format='%(asctime)s - %(levelname)s - %(funcName)s | %(message)s',\n",
    "        handlers=[\n",
    "            logging.FileHandler('77-ipynb.log')\n",
    "        ]\n",
    "    )\n",
    "\n",
    "    logging.info('Logging setup complete.')\n",
    "\n",
    "\n",
    "def fetch_df(file_path: str) -> pd.DataFrame:\n",
    "    logging.info('Initiating reading csv')\n",
    "    \n",
    "    try:\n",
    "        in_df = pd.read_csv(file_path)\n",
    "    except FileNotFoundError as notfound_err:\n",
    "        logging.error(f'File not found at: {file_path}. Error: {notfound_err}')\n",
    "        raise notfound_err\n",
    "    except pd.errors.EmptyDataError as empty_err:\n",
    "        logging.error(f'File empty: {empty_err}')\n",
    "        raise empty_err\n",
    "    except pd.errors.ParserError as parse_err:\n",
    "        logging.error(f'Parse error: {parse_err}')\n",
    "        raise parse_err\n",
    "    except Exception as err:\n",
    "        logging.error(f'Unexpected error: {err}')\n",
    "        raise err\n",
    "    else:\n",
    "        logging.info(f'Dataframe loaded successfully from {file_path}')\n",
    "        pd.options.display.float_format = '{:,.2f}'.format\n",
    "        return in_df"
   ]
  },
  {
   "cell_type": "markdown",
   "id": "06764b52",
   "metadata": {},
   "source": [
    "# Explore and Clean the Dataset"
   ]
  },
  {
   "cell_type": "code",
   "execution_count": 2,
   "id": "b6aa57c1",
   "metadata": {},
   "outputs": [],
   "source": [
    "def explore_df(in_df: pd.DataFrame) -> None:\n",
    "    print(f'Dataframe shape: {in_df.shape}')\n",
    "\n",
    "    print(f'Column names: {in_df.columns.to_list()}')\n",
    "    print(f'Data types: {in_df.dtypes}')  \n",
    "\n",
    "    print(f'NaN: {in_df.isna().values.any()}')\n",
    "    print(f'NaN details:\\n{in_df.isna().sum()}')\n",
    "\n",
    "\n",
    "def explore_df_data(in_df: pd.DataFrame) -> None:\n",
    "    print(f'Noble prize first awarded: {in_df.year.min()}')\n",
    "    print(f'Noble prize latest awarded: {in_df.year.max()}')\n",
    "\n",
    "    col_subset = ['year','category', 'laureate_type',\n",
    "              'birth_date','full_name', 'organization_name']\n",
    "    print(f'NaN Birth Rate:\\n{in_df.loc[in_df.birth_date.isna()][col_subset]}')\n",
    "    col_subset = ['year','category', 'laureate_type','full_name', 'organization_name']\n",
    "    print(f'NaN Org Name:\\n{in_df.loc[in_df.organization_name.isna()][col_subset]}')\n",
    "\n",
    "\n",
    "def conv_df_dtype(in_df: pd.DataFrame) -> pd.DataFrame:\n",
    "    in_df.birth_date = pd.to_datetime(in_df.birth_date, errors='coerce')\n",
    "\n",
    "    share_parts = in_df.prize_share.str.split('/', expand=True)\n",
    "    in_df['share_pct'] = pd.to_numeric(share_parts[0], errors='coerce') / pd.to_numeric(share_parts[1], errors='coerce')\n",
    "\n",
    "    return in_df\n",
    "\n",
    "\n",
    "# if __name__ == '__main__':\n",
    "#     setup_logging()\n",
    "\n",
    "#     in_df = fetch_df('input-79.csv')\n",
    "#     explore_df(in_df)\n",
    "#     explore_df_data(in_df)\n",
    "#     in_df = conv_df_dtype(in_df)\n"
   ]
  },
  {
   "cell_type": "markdown",
   "id": "485561a1",
   "metadata": {},
   "source": [
    "# plotly Bar & Donut Charts: Analyse Prize Categories & Women Winning Prizes"
   ]
  },
  {
   "cell_type": "code",
   "execution_count": 3,
   "id": "32593b9e",
   "metadata": {},
   "outputs": [
    {
     "data": {
      "application/vnd.plotly.v1+json": {
       "config": {
        "plotlyServerURL": "https://plot.ly"
       },
       "data": [
        {
         "hovertemplate": "sex=Male<br>Nobel prize category=%{x}<br>Number of Prizes=%{y}<extra></extra>",
         "legendgroup": "Male",
         "marker": {
          "color": "#636efa",
          "pattern": {
           "shape": ""
          }
         },
         "name": "Male",
         "orientation": "v",
         "showlegend": true,
         "textposition": "auto",
         "type": "bar",
         "x": [
          "Physics",
          "Medicine",
          "Chemistry",
          "Literature",
          "Peace",
          "Economics"
         ],
         "xaxis": "x",
         "y": {
          "bdata": "1ADSALMAZQBaAFQA",
          "dtype": "i2"
         },
         "yaxis": "y"
        },
        {
         "hovertemplate": "sex=Female<br>Nobel prize category=%{x}<br>Number of Prizes=%{y}<extra></extra>",
         "legendgroup": "Female",
         "marker": {
          "color": "#EF553B",
          "pattern": {
           "shape": ""
          }
         },
         "name": "Female",
         "orientation": "v",
         "showlegend": true,
         "textposition": "auto",
         "type": "bar",
         "x": [
          "Peace",
          "Literature",
          "Medicine",
          "Chemistry",
          "Physics",
          "Economics"
         ],
         "xaxis": "x",
         "y": {
          "bdata": "ERAMBwQC",
          "dtype": "i1"
         },
         "yaxis": "y"
        }
       ],
       "layout": {
        "barmode": "relative",
        "legend": {
         "title": {
          "text": "sex"
         },
         "tracegroupgap": 0
        },
        "template": {
         "data": {
          "bar": [
           {
            "error_x": {
             "color": "#2a3f5f"
            },
            "error_y": {
             "color": "#2a3f5f"
            },
            "marker": {
             "line": {
              "color": "#E5ECF6",
              "width": 0.5
             },
             "pattern": {
              "fillmode": "overlay",
              "size": 10,
              "solidity": 0.2
             }
            },
            "type": "bar"
           }
          ],
          "barpolar": [
           {
            "marker": {
             "line": {
              "color": "#E5ECF6",
              "width": 0.5
             },
             "pattern": {
              "fillmode": "overlay",
              "size": 10,
              "solidity": 0.2
             }
            },
            "type": "barpolar"
           }
          ],
          "carpet": [
           {
            "aaxis": {
             "endlinecolor": "#2a3f5f",
             "gridcolor": "white",
             "linecolor": "white",
             "minorgridcolor": "white",
             "startlinecolor": "#2a3f5f"
            },
            "baxis": {
             "endlinecolor": "#2a3f5f",
             "gridcolor": "white",
             "linecolor": "white",
             "minorgridcolor": "white",
             "startlinecolor": "#2a3f5f"
            },
            "type": "carpet"
           }
          ],
          "choropleth": [
           {
            "colorbar": {
             "outlinewidth": 0,
             "ticks": ""
            },
            "type": "choropleth"
           }
          ],
          "contour": [
           {
            "colorbar": {
             "outlinewidth": 0,
             "ticks": ""
            },
            "colorscale": [
             [
              0,
              "#0d0887"
             ],
             [
              0.1111111111111111,
              "#46039f"
             ],
             [
              0.2222222222222222,
              "#7201a8"
             ],
             [
              0.3333333333333333,
              "#9c179e"
             ],
             [
              0.4444444444444444,
              "#bd3786"
             ],
             [
              0.5555555555555556,
              "#d8576b"
             ],
             [
              0.6666666666666666,
              "#ed7953"
             ],
             [
              0.7777777777777778,
              "#fb9f3a"
             ],
             [
              0.8888888888888888,
              "#fdca26"
             ],
             [
              1,
              "#f0f921"
             ]
            ],
            "type": "contour"
           }
          ],
          "contourcarpet": [
           {
            "colorbar": {
             "outlinewidth": 0,
             "ticks": ""
            },
            "type": "contourcarpet"
           }
          ],
          "heatmap": [
           {
            "colorbar": {
             "outlinewidth": 0,
             "ticks": ""
            },
            "colorscale": [
             [
              0,
              "#0d0887"
             ],
             [
              0.1111111111111111,
              "#46039f"
             ],
             [
              0.2222222222222222,
              "#7201a8"
             ],
             [
              0.3333333333333333,
              "#9c179e"
             ],
             [
              0.4444444444444444,
              "#bd3786"
             ],
             [
              0.5555555555555556,
              "#d8576b"
             ],
             [
              0.6666666666666666,
              "#ed7953"
             ],
             [
              0.7777777777777778,
              "#fb9f3a"
             ],
             [
              0.8888888888888888,
              "#fdca26"
             ],
             [
              1,
              "#f0f921"
             ]
            ],
            "type": "heatmap"
           }
          ],
          "histogram": [
           {
            "marker": {
             "pattern": {
              "fillmode": "overlay",
              "size": 10,
              "solidity": 0.2
             }
            },
            "type": "histogram"
           }
          ],
          "histogram2d": [
           {
            "colorbar": {
             "outlinewidth": 0,
             "ticks": ""
            },
            "colorscale": [
             [
              0,
              "#0d0887"
             ],
             [
              0.1111111111111111,
              "#46039f"
             ],
             [
              0.2222222222222222,
              "#7201a8"
             ],
             [
              0.3333333333333333,
              "#9c179e"
             ],
             [
              0.4444444444444444,
              "#bd3786"
             ],
             [
              0.5555555555555556,
              "#d8576b"
             ],
             [
              0.6666666666666666,
              "#ed7953"
             ],
             [
              0.7777777777777778,
              "#fb9f3a"
             ],
             [
              0.8888888888888888,
              "#fdca26"
             ],
             [
              1,
              "#f0f921"
             ]
            ],
            "type": "histogram2d"
           }
          ],
          "histogram2dcontour": [
           {
            "colorbar": {
             "outlinewidth": 0,
             "ticks": ""
            },
            "colorscale": [
             [
              0,
              "#0d0887"
             ],
             [
              0.1111111111111111,
              "#46039f"
             ],
             [
              0.2222222222222222,
              "#7201a8"
             ],
             [
              0.3333333333333333,
              "#9c179e"
             ],
             [
              0.4444444444444444,
              "#bd3786"
             ],
             [
              0.5555555555555556,
              "#d8576b"
             ],
             [
              0.6666666666666666,
              "#ed7953"
             ],
             [
              0.7777777777777778,
              "#fb9f3a"
             ],
             [
              0.8888888888888888,
              "#fdca26"
             ],
             [
              1,
              "#f0f921"
             ]
            ],
            "type": "histogram2dcontour"
           }
          ],
          "mesh3d": [
           {
            "colorbar": {
             "outlinewidth": 0,
             "ticks": ""
            },
            "type": "mesh3d"
           }
          ],
          "parcoords": [
           {
            "line": {
             "colorbar": {
              "outlinewidth": 0,
              "ticks": ""
             }
            },
            "type": "parcoords"
           }
          ],
          "pie": [
           {
            "automargin": true,
            "type": "pie"
           }
          ],
          "scatter": [
           {
            "fillpattern": {
             "fillmode": "overlay",
             "size": 10,
             "solidity": 0.2
            },
            "type": "scatter"
           }
          ],
          "scatter3d": [
           {
            "line": {
             "colorbar": {
              "outlinewidth": 0,
              "ticks": ""
             }
            },
            "marker": {
             "colorbar": {
              "outlinewidth": 0,
              "ticks": ""
             }
            },
            "type": "scatter3d"
           }
          ],
          "scattercarpet": [
           {
            "marker": {
             "colorbar": {
              "outlinewidth": 0,
              "ticks": ""
             }
            },
            "type": "scattercarpet"
           }
          ],
          "scattergeo": [
           {
            "marker": {
             "colorbar": {
              "outlinewidth": 0,
              "ticks": ""
             }
            },
            "type": "scattergeo"
           }
          ],
          "scattergl": [
           {
            "marker": {
             "colorbar": {
              "outlinewidth": 0,
              "ticks": ""
             }
            },
            "type": "scattergl"
           }
          ],
          "scattermap": [
           {
            "marker": {
             "colorbar": {
              "outlinewidth": 0,
              "ticks": ""
             }
            },
            "type": "scattermap"
           }
          ],
          "scattermapbox": [
           {
            "marker": {
             "colorbar": {
              "outlinewidth": 0,
              "ticks": ""
             }
            },
            "type": "scattermapbox"
           }
          ],
          "scatterpolar": [
           {
            "marker": {
             "colorbar": {
              "outlinewidth": 0,
              "ticks": ""
             }
            },
            "type": "scatterpolar"
           }
          ],
          "scatterpolargl": [
           {
            "marker": {
             "colorbar": {
              "outlinewidth": 0,
              "ticks": ""
             }
            },
            "type": "scatterpolargl"
           }
          ],
          "scatterternary": [
           {
            "marker": {
             "colorbar": {
              "outlinewidth": 0,
              "ticks": ""
             }
            },
            "type": "scatterternary"
           }
          ],
          "surface": [
           {
            "colorbar": {
             "outlinewidth": 0,
             "ticks": ""
            },
            "colorscale": [
             [
              0,
              "#0d0887"
             ],
             [
              0.1111111111111111,
              "#46039f"
             ],
             [
              0.2222222222222222,
              "#7201a8"
             ],
             [
              0.3333333333333333,
              "#9c179e"
             ],
             [
              0.4444444444444444,
              "#bd3786"
             ],
             [
              0.5555555555555556,
              "#d8576b"
             ],
             [
              0.6666666666666666,
              "#ed7953"
             ],
             [
              0.7777777777777778,
              "#fb9f3a"
             ],
             [
              0.8888888888888888,
              "#fdca26"
             ],
             [
              1,
              "#f0f921"
             ]
            ],
            "type": "surface"
           }
          ],
          "table": [
           {
            "cells": {
             "fill": {
              "color": "#EBF0F8"
             },
             "line": {
              "color": "white"
             }
            },
            "header": {
             "fill": {
              "color": "#C8D4E3"
             },
             "line": {
              "color": "white"
             }
            },
            "type": "table"
           }
          ]
         },
         "layout": {
          "annotationdefaults": {
           "arrowcolor": "#2a3f5f",
           "arrowhead": 0,
           "arrowwidth": 1
          },
          "autotypenumbers": "strict",
          "coloraxis": {
           "colorbar": {
            "outlinewidth": 0,
            "ticks": ""
           }
          },
          "colorscale": {
           "diverging": [
            [
             0,
             "#8e0152"
            ],
            [
             0.1,
             "#c51b7d"
            ],
            [
             0.2,
             "#de77ae"
            ],
            [
             0.3,
             "#f1b6da"
            ],
            [
             0.4,
             "#fde0ef"
            ],
            [
             0.5,
             "#f7f7f7"
            ],
            [
             0.6,
             "#e6f5d0"
            ],
            [
             0.7,
             "#b8e186"
            ],
            [
             0.8,
             "#7fbc41"
            ],
            [
             0.9,
             "#4d9221"
            ],
            [
             1,
             "#276419"
            ]
           ],
           "sequential": [
            [
             0,
             "#0d0887"
            ],
            [
             0.1111111111111111,
             "#46039f"
            ],
            [
             0.2222222222222222,
             "#7201a8"
            ],
            [
             0.3333333333333333,
             "#9c179e"
            ],
            [
             0.4444444444444444,
             "#bd3786"
            ],
            [
             0.5555555555555556,
             "#d8576b"
            ],
            [
             0.6666666666666666,
             "#ed7953"
            ],
            [
             0.7777777777777778,
             "#fb9f3a"
            ],
            [
             0.8888888888888888,
             "#fdca26"
            ],
            [
             1,
             "#f0f921"
            ]
           ],
           "sequentialminus": [
            [
             0,
             "#0d0887"
            ],
            [
             0.1111111111111111,
             "#46039f"
            ],
            [
             0.2222222222222222,
             "#7201a8"
            ],
            [
             0.3333333333333333,
             "#9c179e"
            ],
            [
             0.4444444444444444,
             "#bd3786"
            ],
            [
             0.5555555555555556,
             "#d8576b"
            ],
            [
             0.6666666666666666,
             "#ed7953"
            ],
            [
             0.7777777777777778,
             "#fb9f3a"
            ],
            [
             0.8888888888888888,
             "#fdca26"
            ],
            [
             1,
             "#f0f921"
            ]
           ]
          },
          "colorway": [
           "#636efa",
           "#EF553B",
           "#00cc96",
           "#ab63fa",
           "#FFA15A",
           "#19d3f3",
           "#FF6692",
           "#B6E880",
           "#FF97FF",
           "#FECB52"
          ],
          "font": {
           "color": "#2a3f5f"
          },
          "geo": {
           "bgcolor": "white",
           "lakecolor": "white",
           "landcolor": "#E5ECF6",
           "showlakes": true,
           "showland": true,
           "subunitcolor": "white"
          },
          "hoverlabel": {
           "align": "left"
          },
          "hovermode": "closest",
          "mapbox": {
           "style": "light"
          },
          "paper_bgcolor": "white",
          "plot_bgcolor": "#E5ECF6",
          "polar": {
           "angularaxis": {
            "gridcolor": "white",
            "linecolor": "white",
            "ticks": ""
           },
           "bgcolor": "#E5ECF6",
           "radialaxis": {
            "gridcolor": "white",
            "linecolor": "white",
            "ticks": ""
           }
          },
          "scene": {
           "xaxis": {
            "backgroundcolor": "#E5ECF6",
            "gridcolor": "white",
            "gridwidth": 2,
            "linecolor": "white",
            "showbackground": true,
            "ticks": "",
            "zerolinecolor": "white"
           },
           "yaxis": {
            "backgroundcolor": "#E5ECF6",
            "gridcolor": "white",
            "gridwidth": 2,
            "linecolor": "white",
            "showbackground": true,
            "ticks": "",
            "zerolinecolor": "white"
           },
           "zaxis": {
            "backgroundcolor": "#E5ECF6",
            "gridcolor": "white",
            "gridwidth": 2,
            "linecolor": "white",
            "showbackground": true,
            "ticks": "",
            "zerolinecolor": "white"
           }
          },
          "shapedefaults": {
           "line": {
            "color": "#2a3f5f"
           }
          },
          "ternary": {
           "aaxis": {
            "gridcolor": "white",
            "linecolor": "white",
            "ticks": ""
           },
           "baxis": {
            "gridcolor": "white",
            "linecolor": "white",
            "ticks": ""
           },
           "bgcolor": "#E5ECF6",
           "caxis": {
            "gridcolor": "white",
            "linecolor": "white",
            "ticks": ""
           }
          },
          "title": {
           "x": 0.05
          },
          "xaxis": {
           "automargin": true,
           "gridcolor": "white",
           "linecolor": "white",
           "ticks": "",
           "title": {
            "standoff": 15
           },
           "zerolinecolor": "white",
           "zerolinewidth": 2
          },
          "yaxis": {
           "automargin": true,
           "gridcolor": "white",
           "linecolor": "white",
           "ticks": "",
           "title": {
            "standoff": 15
           },
           "zerolinecolor": "white",
           "zerolinewidth": 2
          }
         }
        },
        "title": {
         "text": "Category distribution by Gender"
        },
        "xaxis": {
         "anchor": "y",
         "domain": [
          0,
          1
         ],
         "title": {
          "text": "Nobel prize category"
         }
        },
        "yaxis": {
         "anchor": "x",
         "domain": [
          0,
          1
         ],
         "title": {
          "text": "Number of Prizes"
         }
        }
       }
      }
     },
     "metadata": {},
     "output_type": "display_data"
    }
   ],
   "source": [
    "def generate_gender_donut(in_df: pd.DataFrame) -> None:\n",
    "    logging.info('Initiating donut figure generation')\n",
    "    \n",
    "    gender_count = in_df.sex.value_counts()\n",
    "    donut_fig = px.pie(\n",
    "        labels=gender_count.index,\n",
    "        values=gender_count.values,\n",
    "        names=gender_count.index,\n",
    "        title='Nobel Prize by Gender',\n",
    "        hole=0.5\n",
    "    )\n",
    "    donut_fig.update_traces(\n",
    "        textposition='outside',\n",
    "        textinfo='percent+label'\n",
    "    )\n",
    "    donut_fig.show()\n",
    "\n",
    "    logging.info('Donut figure generation complete')\n",
    "\n",
    "\n",
    "def explore_female_df(in_df: pd.DataFrame) -> None:\n",
    "    female_df = in_df[in_df.sex == 'Female'].sort_values(by='year', ascending=True).reset_index(drop=True).copy()\n",
    "    print(f'First three female nobel info:\\n{female_df.head(3)}')\n",
    "\n",
    "    print(f'Prize won for:\\n{female_df.category.value_counts()}')\n",
    "\n",
    "    print(f'First 3 female birth country and organization:\\n{female_df[['birth_country', 'birth_country_current', 'organization_name']].head(3)}')\n",
    "\n",
    "\n",
    "def multiple_nobel(in_df: pd.DataFrame) -> None:\n",
    "    logging.info('Checking for multiple Nobel winners')\n",
    "\n",
    "    # Get index of names that appear more than once\n",
    "    multiple_winners = in_df[\n",
    "        'full_name'\n",
    "    ].value_counts().loc[\n",
    "        lambda x: x > 1\n",
    "    ].index\n",
    "\n",
    "    if multiple_winners.empty:\n",
    "        print('No multiple winners')\n",
    "        return\n",
    "\n",
    "    # Filter and display relevant details\n",
    "    filtered_df = in_df.loc[\n",
    "        in_df['full_name'].isin(multiple_winners), \n",
    "        [\n",
    "            'year', \n",
    "            'category', \n",
    "            'laureate_type', \n",
    "            'full_name'\n",
    "        ]\n",
    "    ].sort_values(\n",
    "        by=[\n",
    "            'full_name', \n",
    "            'year'\n",
    "        ]\n",
    "    )\n",
    "\n",
    "    print(f'Multiple Nobel Prize winners:\\n{filtered_df.to_string(index=False)}')\n",
    "\n",
    "\n",
    "def gen_category_bar(ind_df: pd.DataFrame) -> None:\n",
    "    logging.info('Initiating Bar chart for categories')\n",
    "\n",
    "    category_df = in_df.category.value_counts().reset_index()\n",
    "    category_df.columns = ['Category', 'Count']\n",
    "\n",
    "\n",
    "    # print(f'{category_df}')\n",
    "    bar_fig = px.bar(\n",
    "        data_frame=category_df,\n",
    "        x='Category',\n",
    "        y='Count',\n",
    "        title='Nobel prize distribution by Category',\n",
    "        labels={'Category': 'Category', 'Count': 'Nobel count'},\n",
    "        color='Count',\n",
    "        color_continuous_scale='Aggrnyl'\n",
    "    )\n",
    "    bar_fig.update_layout(coloraxis_showscale=False)\n",
    "    bar_fig.show()\n",
    "\n",
    "\n",
    "def gen_bar_gender_category(in_df: pd.DataFrame) -> None:\n",
    "    cat_gender_df = in_df.groupby(\n",
    "        ['category', 'sex'],\n",
    "        as_index=False\n",
    "    ).agg({'prize': 'count'}).sort_values(\n",
    "        'prize',\n",
    "        ascending=False\n",
    "    )\n",
    "    bar_fig = px.bar(\n",
    "        data_frame=cat_gender_df,\n",
    "        x='category',\n",
    "        y='prize',\n",
    "        color='sex',\n",
    "        title='Category distribution by Gender',\n",
    "        labels={'category': 'Nobel prize category', 'prize': 'Number of Prizes'}\n",
    "    )\n",
    "    bar_fig.show()\n",
    "    \n",
    "\n",
    "if __name__ == '__main__':\n",
    "    setup_logging()\n",
    "\n",
    "    in_df = fetch_df('input-79.csv')\n",
    "    in_df = conv_df_dtype(in_df)\n",
    "\n",
    "    # generate_gender_donut(in_df)\n",
    "    \n",
    "    # explore_female_df(in_df)\n",
    "\n",
    "    # multiple_nobel(in_df)\n",
    "\n",
    "    # gen_category_bar(in_df)\n",
    "\n",
    "    # print(f'First economics award info:\\n{in_df[in_df.category == 'Economics'].sort_values(by=\"year\").iloc[0]}')\n",
    "\n",
    "    gen_bar_gender_category(in_df)"
   ]
  },
  {
   "cell_type": "markdown",
   "id": "0fa83545",
   "metadata": {},
   "source": [
    "# Using Matplotlib to Visualise Trends over Time"
   ]
  },
  {
   "cell_type": "code",
   "execution_count": 4,
   "id": "95e7c759",
   "metadata": {},
   "outputs": [
    {
     "data": {
      "image/png": "[encoded data removed]",
      "text/plain": [
       "<Figure size 1500x750 with 2 Axes>"
      ]
     },
     "metadata": {},
     "output_type": "display_data"
    }
   ],
   "source": [
    "def gen_chart_yearly_noblel(in_df: pd.DataFrame) -> None:\n",
    "    awards_per_year = in_df.groupby('year').count().prize\n",
    "    moving_avg = awards_per_year.rolling(window=10).mean()\n",
    "\n",
    "    yearly_share = in_df.groupby('year').agg({'share_pct': 'mean'})\n",
    "    share_moving_avg = yearly_share.rolling(window=10).mean()\n",
    "\n",
    "    plt.figure(figsize=(10, 5), dpi=150)\n",
    "    plt.title(f'Nobel Prize distribution by Year')\n",
    "    plt.xticks(\n",
    "        ticks=np.arange(\n",
    "            awards_per_year.index.min() - 1, \n",
    "            awards_per_year.index.max() + 1, \n",
    "            step=5\n",
    "        ),\n",
    "        fontsize=10,\n",
    "        rotation=45\n",
    "    )\n",
    "    plt.yticks(fontsize=10)\n",
    "\n",
    "    ax1 = plt.gca()\n",
    "    ax2 = ax1.twinx()\n",
    "    ax1.set_xlim(awards_per_year.index.min() -1, awards_per_year.index.max() + 1)\n",
    "    ax1.set_ylabel('Number of Prizes', color='dodgerblue', fontsize=12)\n",
    "    ax2.set_ylabel('Avg. Share %', color='grey', fontsize=12)\n",
    "    ax2.invert_yaxis()\n",
    "\n",
    "    ax1.scatter(\n",
    "        x=awards_per_year.index,\n",
    "        y=awards_per_year.values,\n",
    "        c='dodgerblue',\n",
    "        alpha=0.7,\n",
    "        s=100,\n",
    "        label='Yearly Prizes'\n",
    "    )\n",
    "    ax1.plot(\n",
    "        awards_per_year.index,\n",
    "        moving_avg.values,\n",
    "        c='crimson',\n",
    "        linewidth=3,\n",
    "        label='10-yr Avg. Prizes'\n",
    "    )\n",
    "\n",
    "    ax2.plot(\n",
    "        awards_per_year.index,\n",
    "        share_moving_avg.values,\n",
    "        c='grey',\n",
    "        linewidth=3,\n",
    "        label='10-yr Avg. Share %'\n",
    "    )\n",
    "\n",
    "    lines, labels = ax1.get_legend_handles_labels()\n",
    "    lines2, labels2 = ax2.get_legend_handles_labels()\n",
    "    ax1.legend(lines + lines2, labels + labels2, loc='upper left')\n",
    "    \n",
    "    plt.tight_layout()\n",
    "    plt.show()\n",
    "\n",
    "\n",
    "if __name__ == '__main__':\n",
    "    setup_logging()\n",
    "\n",
    "    in_df = fetch_df('input-79.csv')\n",
    "    in_df = conv_df_dtype(in_df)\n",
    "\n",
    "    gen_chart_yearly_noblel(in_df)\n",
    "    "
   ]
  },
  {
   "cell_type": "markdown",
   "id": "cc19a985",
   "metadata": {},
   "source": [
    "# A Choropleth Map and the Countries with the Most Prizes"
   ]
  },
  {
   "cell_type": "code",
   "execution_count": 5,
   "id": "02b98109",
   "metadata": {},
   "outputs": [
    {
     "data": {
      "application/vnd.plotly.v1+json": {
       "config": {
        "plotlyServerURL": "https://plot.ly"
       },
       "data": [
        {
         "hovertemplate": "<b>%{hovertext}</b><br><br>Country=Algeria<br>Year=%{x}<br>Cumulative Number of Prizes=%{y}<extra></extra>",
         "hovertext": [
          "Algeria",
          "Algeria"
         ],
         "legendgroup": "Algeria",
         "line": {
          "color": "#636efa",
          "dash": "solid"
         },
         "marker": {
          "symbol": "circle"
         },
         "mode": "lines",
         "name": "Algeria",
         "orientation": "v",
         "showlegend": true,
         "type": "scatter",
         "x": {
          "bdata": "pQfNBw==",
          "dtype": "i2"
         },
         "xaxis": "x",
         "y": {
          "bdata": "AQI=",
          "dtype": "i1"
         },
         "yaxis": "y"
        },
        {
         "hovertemplate": "<b>%{hovertext}</b><br><br>Country=Argentina<br>Year=%{x}<br>Cumulative Number of Prizes=%{y}<extra></extra>",
         "hovertext": [
          "Argentina",
          "Argentina",
          "Argentina",
          "Argentina"
         ],
         "legendgroup": "Argentina",
         "line": {
          "color": "#EF553B",
          "dash": "solid"
         },
         "marker": {
          "symbol": "circle"
         },
         "mode": "lines",
         "name": "Argentina",
         "orientation": "v",
         "showlegend": true,
         "type": "scatter",
         "x": {
          "bdata": "kAebB7wHwAc=",
          "dtype": "i2"
         },
         "xaxis": "x",
         "y": {
          "bdata": "AQIDBA==",
          "dtype": "i1"
         },
         "yaxis": "y"
        },
        {
         "hovertemplate": "<b>%{hovertext}</b><br><br>Country=Australia<br>Year=%{x}<br>Cumulative Number of Prizes=%{y}<extra></extra>",
         "hovertext": [
          "Australia",
          "Australia",
          "Australia",
          "Australia",
          "Australia",
          "Australia",
          "Australia",
          "Australia",
          "Australia"
         ],
         "legendgroup": "Australia",
         "line": {
          "color": "#00cc96",
          "dash": "solid"
         },
         "marker": {
          "symbol": "circle"
         },
         "mode": "lines",
         "name": "Australia",
         "orientation": "v",
         "showlegend": true,
         "type": "scatter",
         "x": {
          "bdata": "eweZB6gHqwesB7cHzAfVB9kH",
          "dtype": "i2"
         },
         "xaxis": "x",
         "y": {
          "bdata": "AQIDBAUGBwkK",
          "dtype": "i1"
         },
         "yaxis": "y"
        },
        {
         "hovertemplate": "<b>%{hovertext}</b><br><br>Country=Austria<br>Year=%{x}<br>Cumulative Number of Prizes=%{y}<extra></extra>",
         "hovertext": [
          "Austria",
          "Austria",
          "Austria",
          "Austria",
          "Austria",
          "Austria",
          "Austria",
          "Austria",
          "Austria",
          "Austria",
          "Austria",
          "Austria",
          "Austria",
          "Austria",
          "Austria",
          "Austria",
          "Austria"
         ],
         "legendgroup": "Austria",
         "line": {
          "color": "#ab63fa",
          "dash": "solid"
         },
         "marker": {
          "symbol": "circle"
         },
         "mode": "lines",
         "name": "Austria",
         "orientation": "v",
         "showlegend": true,
         "type": "scatter",
         "x": {
          "bdata": "dwd6B4UHhweKB40HkAeSB5kHqge1B7YHzgfQB9QH3QfjBw==",
          "dtype": "i2"
         },
         "xaxis": "x",
         "y": {
          "bdata": "AQIDBAUGBwgJCgwNDg8QERI=",
          "dtype": "i1"
         },
         "yaxis": "y"
        },
        {
         "hovertemplate": "<b>%{hovertext}</b><br><br>Country=Azerbaijan<br>Year=%{x}<br>Cumulative Number of Prizes=%{y}<extra></extra>",
         "hovertext": [
          "Azerbaijan"
         ],
         "legendgroup": "Azerbaijan",
         "line": {
          "color": "#FFA15A",
          "dash": "solid"
         },
         "marker": {
          "symbol": "circle"
         },
         "mode": "lines",
         "name": "Azerbaijan",
         "orientation": "v",
         "showlegend": true,
         "type": "scatter",
         "x": {
          "bdata": "qgc=",
          "dtype": "i2"
         },
         "xaxis": "x",
         "y": {
          "bdata": "AQ==",
          "dtype": "i1"
         },
         "yaxis": "y"
        },
        {
         "hovertemplate": "<b>%{hovertext}</b><br><br>Country=Bangladesh<br>Year=%{x}<br>Cumulative Number of Prizes=%{y}<extra></extra>",
         "hovertext": [
          "Bangladesh"
         ],
         "legendgroup": "Bangladesh",
         "line": {
          "color": "#19d3f3",
          "dash": "solid"
         },
         "marker": {
          "symbol": "circle"
         },
         "mode": "lines",
         "name": "Bangladesh",
         "orientation": "v",
         "showlegend": true,
         "type": "scatter",
         "x": {
          "bdata": "1gc=",
          "dtype": "i2"
         },
         "xaxis": "x",
         "y": {
          "bdata": "AQ==",
          "dtype": "i1"
         },
         "yaxis": "y"
        },
        {
         "hovertemplate": "<b>%{hovertext}</b><br><br>Country=Belarus<br>Year=%{x}<br>Cumulative Number of Prizes=%{y}<extra></extra>",
         "hovertext": [
          "Belarus",
          "Belarus",
          "Belarus",
          "Belarus"
         ],
         "legendgroup": "Belarus",
         "line": {
          "color": "#FF6692",
          "dash": "solid"
         },
         "marker": {
          "symbol": "circle"
         },
         "mode": "lines",
         "name": "Belarus",
         "orientation": "v",
         "showlegend": true,
         "type": "scatter",
         "x": {
          "bdata": "swe6B8oH0Ac=",
          "dtype": "i2"
         },
         "xaxis": "x",
         "y": {
          "bdata": "AQIDBA==",
          "dtype": "i1"
         },
         "yaxis": "y"
        },
        {
         "hovertemplate": "<b>%{hovertext}</b><br><br>Country=Belgium<br>Year=%{x}<br>Cumulative Number of Prizes=%{y}<extra></extra>",
         "hovertext": [
          "Belgium",
          "Belgium",
          "Belgium",
          "Belgium",
          "Belgium",
          "Belgium",
          "Belgium",
          "Belgium",
          "Belgium"
         ],
         "legendgroup": "Belgium",
         "line": {
          "color": "#B6E880",
          "dash": "solid"
         },
         "marker": {
          "symbol": "circle"
         },
         "mode": "lines",
         "name": "Belgium",
         "orientation": "v",
         "showlegend": true,
         "type": "scatter",
         "x": {
          "bdata": "dQd3B3kHfweSB6YHtgfVB90H",
          "dtype": "i2"
         },
         "xaxis": "x",
         "y": {
          "bdata": "AQIDBAUGBwgJ",
          "dtype": "i1"
         },
         "yaxis": "y"
        },
        {
         "hovertemplate": "<b>%{hovertext}</b><br><br>Country=Bosnia and Herzegovina<br>Year=%{x}<br>Cumulative Number of Prizes=%{y}<extra></extra>",
         "hovertext": [
          "Bosnia and Herzegovina",
          "Bosnia and Herzegovina"
         ],
         "legendgroup": "Bosnia and Herzegovina",
         "line": {
          "color": "#FF97FF",
          "dash": "solid"
         },
         "marker": {
          "symbol": "circle"
         },
         "mode": "lines",
         "name": "Bosnia and Herzegovina",
         "orientation": "v",
         "showlegend": true,
         "type": "scatter",
         "x": {
          "bdata": "qQe3Bw==",
          "dtype": "i2"
         },
         "xaxis": "x",
         "y": {
          "bdata": "AQI=",
          "dtype": "i1"
         },
         "yaxis": "y"
        },
        {
         "hovertemplate": "<b>%{hovertext}</b><br><br>Country=Brazil<br>Year=%{x}<br>Cumulative Number of Prizes=%{y}<extra></extra>",
         "hovertext": [
          "Brazil"
         ],
         "legendgroup": "Brazil",
         "line": {
          "color": "#FECB52",
          "dash": "solid"
         },
         "marker": {
          "symbol": "circle"
         },
         "mode": "lines",
         "name": "Brazil",
         "orientation": "v",
         "showlegend": true,
         "type": "scatter",
         "x": {
          "bdata": "qAc=",
          "dtype": "i2"
         },
         "xaxis": "x",
         "y": {
          "bdata": "AQ==",
          "dtype": "i1"
         },
         "yaxis": "y"
        },
        {
         "hovertemplate": "<b>%{hovertext}</b><br><br>Country=Bulgaria<br>Year=%{x}<br>Cumulative Number of Prizes=%{y}<extra></extra>",
         "hovertext": [
          "Bulgaria"
         ],
         "legendgroup": "Bulgaria",
         "line": {
          "color": "#636efa",
          "dash": "solid"
         },
         "marker": {
          "symbol": "circle"
         },
         "mode": "lines",
         "name": "Bulgaria",
         "orientation": "v",
         "showlegend": true,
         "type": "scatter",
         "x": {
          "bdata": "vQc=",
          "dtype": "i2"
         },
         "xaxis": "x",
         "y": {
          "bdata": "AQ==",
          "dtype": "i1"
         },
         "yaxis": "y"
        },
        {
         "hovertemplate": "<b>%{hovertext}</b><br><br>Country=Canada<br>Year=%{x}<br>Cumulative Number of Prizes=%{y}<extra></extra>",
         "hovertext": [
          "Canada",
          "Canada",
          "Canada",
          "Canada",
          "Canada",
          "Canada",
          "Canada",
          "Canada",
          "Canada",
          "Canada",
          "Canada",
          "Canada",
          "Canada",
          "Canada",
          "Canada",
          "Canada",
          "Canada",
          "Canada",
          "Canada",
          "Canada"
         ],
         "legendgroup": "Canada",
         "line": {
          "color": "#EF553B",
          "dash": "solid"
         },
         "marker": {
          "symbol": "circle"
         },
         "mode": "lines",
         "name": "Canada",
         "orientation": "v",
         "showlegend": true,
         "type": "scatter",
         "x": {
          "bdata": "gwedB6UHrge4B70HvwfFB8YHyAfKB8wHzQfPB9kH2wfdB98H4gfjBw==",
          "dtype": "i2"
         },
         "xaxis": "x",
         "y": {
          "bdata": "AQIDBAUGBwgJCgsMDQ4PEBESExQ=",
          "dtype": "i1"
         },
         "yaxis": "y"
        },
        {
         "hovertemplate": "<b>%{hovertext}</b><br><br>Country=Chile<br>Year=%{x}<br>Cumulative Number of Prizes=%{y}<extra></extra>",
         "hovertext": [
          "Chile",
          "Chile"
         ],
         "legendgroup": "Chile",
         "line": {
          "color": "#00cc96",
          "dash": "solid"
         },
         "marker": {
          "symbol": "circle"
         },
         "mode": "lines",
         "name": "Chile",
         "orientation": "v",
         "showlegend": true,
         "type": "scatter",
         "x": {
          "bdata": "mQezBw==",
          "dtype": "i2"
         },
         "xaxis": "x",
         "y": {
          "bdata": "AQI=",
          "dtype": "i1"
         },
         "yaxis": "y"
        },
        {
         "hovertemplate": "<b>%{hovertext}</b><br><br>Country=China<br>Year=%{x}<br>Cumulative Number of Prizes=%{y}<extra></extra>",
         "hovertext": [
          "China",
          "China",
          "China",
          "China",
          "China",
          "China",
          "China",
          "China",
          "China",
          "China"
         ],
         "legendgroup": "China",
         "line": {
          "color": "#ab63fa",
          "dash": "solid"
         },
         "marker": {
          "symbol": "circle"
         },
         "mode": "lines",
         "name": "China",
         "orientation": "v",
         "showlegend": true,
         "type": "scatter",
         "x": {
          "bdata": "pAelB8UHyAfOB9AH2QfaB9wH3wc=",
          "dtype": "i2"
         },
         "xaxis": "x",
         "y": {
          "bdata": "AQMEBQYHCAoLDA==",
          "dtype": "i1"
         },
         "yaxis": "y"
        },
        {
         "hovertemplate": "<b>%{hovertext}</b><br><br>Country=Colombia<br>Year=%{x}<br>Cumulative Number of Prizes=%{y}<extra></extra>",
         "hovertext": [
          "Colombia",
          "Colombia"
         ],
         "legendgroup": "Colombia",
         "line": {
          "color": "#FFA15A",
          "dash": "solid"
         },
         "marker": {
          "symbol": "circle"
         },
         "mode": "lines",
         "name": "Colombia",
         "orientation": "v",
         "showlegend": true,
         "type": "scatter",
         "x": {
          "bdata": "vgfgBw==",
          "dtype": "i2"
         },
         "xaxis": "x",
         "y": {
          "bdata": "AQI=",
          "dtype": "i1"
         },
         "yaxis": "y"
        },
        {
         "hovertemplate": "<b>%{hovertext}</b><br><br>Country=Costa Rica<br>Year=%{x}<br>Cumulative Number of Prizes=%{y}<extra></extra>",
         "hovertext": [
          "Costa Rica"
         ],
         "legendgroup": "Costa Rica",
         "line": {
          "color": "#19d3f3",
          "dash": "solid"
         },
         "marker": {
          "symbol": "circle"
         },
         "mode": "lines",
         "name": "Costa Rica",
         "orientation": "v",
         "showlegend": true,
         "type": "scatter",
         "x": {
          "bdata": "wwc=",
          "dtype": "i2"
         },
         "xaxis": "x",
         "y": {
          "bdata": "AQ==",
          "dtype": "i1"
         },
         "yaxis": "y"
        },
        {
         "hovertemplate": "<b>%{hovertext}</b><br><br>Country=Croatia<br>Year=%{x}<br>Cumulative Number of Prizes=%{y}<extra></extra>",
         "hovertext": [
          "Croatia"
         ],
         "legendgroup": "Croatia",
         "line": {
          "color": "#FF6692",
          "dash": "solid"
         },
         "marker": {
          "symbol": "circle"
         },
         "mode": "lines",
         "name": "Croatia",
         "orientation": "v",
         "showlegend": true,
         "type": "scatter",
         "x": {
          "bdata": "kwc=",
          "dtype": "i2"
         },
         "xaxis": "x",
         "y": {
          "bdata": "AQ==",
          "dtype": "i1"
         },
         "yaxis": "y"
        },
        {
         "hovertemplate": "<b>%{hovertext}</b><br><br>Country=Cyprus<br>Year=%{x}<br>Cumulative Number of Prizes=%{y}<extra></extra>",
         "hovertext": [
          "Cyprus"
         ],
         "legendgroup": "Cyprus",
         "line": {
          "color": "#B6E880",
          "dash": "solid"
         },
         "marker": {
          "symbol": "circle"
         },
         "mode": "lines",
         "name": "Cyprus",
         "orientation": "v",
         "showlegend": true,
         "type": "scatter",
         "x": {
          "bdata": "2gc=",
          "dtype": "i2"
         },
         "xaxis": "x",
         "y": {
          "bdata": "AQ==",
          "dtype": "i1"
         },
         "yaxis": "y"
        },
        {
         "hovertemplate": "<b>%{hovertext}</b><br><br>Country=Czech Republic<br>Year=%{x}<br>Cumulative Number of Prizes=%{y}<extra></extra>",
         "hovertext": [
          "Czech Republic",
          "Czech Republic",
          "Czech Republic",
          "Czech Republic",
          "Czech Republic"
         ],
         "legendgroup": "Czech Republic",
         "line": {
          "color": "#FF97FF",
          "dash": "solid"
         },
         "marker": {
          "symbol": "circle"
         },
         "mode": "lines",
         "name": "Czech Republic",
         "orientation": "v",
         "showlegend": true,
         "type": "scatter",
         "x": {
          "bdata": "cQebB6cHwAfXBw==",
          "dtype": "i2"
         },
         "xaxis": "x",
         "y": {
          "bdata": "AQMEBQY=",
          "dtype": "i1"
         },
         "yaxis": "y"
        },
        {
         "hovertemplate": "<b>%{hovertext}</b><br><br>Country=Democratic Republic of the Congo<br>Year=%{x}<br>Cumulative Number of Prizes=%{y}<extra></extra>",
         "hovertext": [
          "Democratic Republic of the Congo"
         ],
         "legendgroup": "Democratic Republic of the Congo",
         "line": {
          "color": "#FECB52",
          "dash": "solid"
         },
         "marker": {
          "symbol": "circle"
         },
         "mode": "lines",
         "name": "Democratic Republic of the Congo",
         "orientation": "v",
         "showlegend": true,
         "type": "scatter",
         "x": {
          "bdata": "4gc=",
          "dtype": "i2"
         },
         "xaxis": "x",
         "y": {
          "bdata": "AQ==",
          "dtype": "i1"
         },
         "yaxis": "y"
        },
        {
         "hovertemplate": "<b>%{hovertext}</b><br><br>Country=Denmark<br>Year=%{x}<br>Cumulative Number of Prizes=%{y}<extra></extra>",
         "hovertext": [
          "Denmark",
          "Denmark",
          "Denmark",
          "Denmark",
          "Denmark",
          "Denmark",
          "Denmark",
          "Denmark",
          "Denmark",
          "Denmark",
          "Denmark"
         ],
         "legendgroup": "Denmark",
         "line": {
          "color": "#636efa",
          "dash": "solid"
         },
         "marker": {
          "symbol": "circle"
         },
         "mode": "lines",
         "name": "Denmark",
         "orientation": "v",
         "showlegend": true,
         "type": "scatter",
         "x": {
          "bdata": "bwd0B30HgAeCB4YHiAeXB5gHtwfNBw==",
          "dtype": "i2"
         },
         "xaxis": "x",
         "y": {
          "bdata": "AQIEBQYHCAkKCww=",
          "dtype": "i1"
         },
         "yaxis": "y"
        },
        {
         "hovertemplate": "<b>%{hovertext}</b><br><br>Country=East Timor<br>Year=%{x}<br>Cumulative Number of Prizes=%{y}<extra></extra>",
         "hovertext": [
          "East Timor"
         ],
         "legendgroup": "East Timor",
         "line": {
          "color": "#EF553B",
          "dash": "solid"
         },
         "marker": {
          "symbol": "circle"
         },
         "mode": "lines",
         "name": "East Timor",
         "orientation": "v",
         "showlegend": true,
         "type": "scatter",
         "x": {
          "bdata": "zAc=",
          "dtype": "i2"
         },
         "xaxis": "x",
         "y": {
          "bdata": "Ag==",
          "dtype": "i1"
         },
         "yaxis": "y"
        },
        {
         "hovertemplate": "<b>%{hovertext}</b><br><br>Country=Egypt<br>Year=%{x}<br>Cumulative Number of Prizes=%{y}<extra></extra>",
         "hovertext": [
          "Egypt",
          "Egypt",
          "Egypt",
          "Egypt",
          "Egypt",
          "Egypt"
         ],
         "legendgroup": "Egypt",
         "line": {
          "color": "#00cc96",
          "dash": "solid"
         },
         "marker": {
          "symbol": "circle"
         },
         "mode": "lines",
         "name": "Egypt",
         "orientation": "v",
         "showlegend": true,
         "type": "scatter",
         "x": {
          "bdata": "rAe6B8QHygfPB9UH",
          "dtype": "i2"
         },
         "xaxis": "x",
         "y": {
          "bdata": "AQIDBAUG",
          "dtype": "i1"
         },
         "yaxis": "y"
        },
        {
         "hovertemplate": "<b>%{hovertext}</b><br><br>Country=Ethiopia<br>Year=%{x}<br>Cumulative Number of Prizes=%{y}<extra></extra>",
         "hovertext": [
          "Ethiopia"
         ],
         "legendgroup": "Ethiopia",
         "line": {
          "color": "#ab63fa",
          "dash": "solid"
         },
         "marker": {
          "symbol": "circle"
         },
         "mode": "lines",
         "name": "Ethiopia",
         "orientation": "v",
         "showlegend": true,
         "type": "scatter",
         "x": {
          "bdata": "4wc=",
          "dtype": "i2"
         },
         "xaxis": "x",
         "y": {
          "bdata": "AQ==",
          "dtype": "i1"
         },
         "yaxis": "y"
        },
        {
         "hovertemplate": "<b>%{hovertext}</b><br><br>Country=Finland<br>Year=%{x}<br>Cumulative Number of Prizes=%{y}<extra></extra>",
         "hovertext": [
          "Finland",
          "Finland",
          "Finland",
          "Finland",
          "Finland"
         ],
         "legendgroup": "Finland",
         "line": {
          "color": "#FFA15A",
          "dash": "solid"
         },
         "marker": {
          "symbol": "circle"
         },
         "mode": "lines",
         "name": "Finland",
         "orientation": "v",
         "showlegend": true,
         "type": "scatter",
         "x": {
          "bdata": "kweZB68H2AfgBw==",
          "dtype": "i2"
         },
         "xaxis": "x",
         "y": {
          "bdata": "AQIDBAU=",
          "dtype": "i1"
         },
         "yaxis": "y"
        },
        {
         "hovertemplate": "<b>%{hovertext}</b><br><br>Country=France<br>Year=%{x}<br>Cumulative Number of Prizes=%{y}<extra></extra>",
         "hovertext": [
          "France",
          "France",
          "France",
          "France",
          "France",
          "France",
          "France",
          "France",
          "France",
          "France",
          "France",
          "France",
          "France",
          "France",
          "France",
          "France",
          "France",
          "France",
          "France",
          "France",
          "France",
          "France",
          "France",
          "France",
          "France",
          "France",
          "France",
          "France",
          "France",
          "France",
          "France",
          "France",
          "France",
          "France",
          "France",
          "France",
          "France",
          "France",
          "France",
          "France",
          "France"
         ],
         "legendgroup": "France",
         "line": {
          "color": "#19d3f3",
          "dash": "solid"
         },
         "marker": {
          "symbol": "circle"
         },
         "mode": "lines",
         "name": "France",
         "orientation": "v",
         "showlegend": true,
         "type": "scatter",
         "x": {
          "bdata": "bQdvB3AHcgdzB3UHeAd5B3sHgAeBB4YHhweIB4kHjweRB5sHnwegB6QHrAetB64HrwewB7IHtge5B7wHvwfDB8QHxwfXB9gH3gfgB+IH4wfkBw==",
          "dtype": "i2"
         },
         "xaxis": "x",
         "y": {
          "bdata": "AgQFBggJDA4PEBETFRYXGRobHB4fICMkJSYoKSorLC0uLzAzNTY3ODk=",
          "dtype": "i1"
         },
         "yaxis": "y"
        },
        {
         "hovertemplate": "<b>%{hovertext}</b><br><br>Country=Germany<br>Year=%{x}<br>Cumulative Number of Prizes=%{y}<extra></extra>",
         "hovertext": [
          "Germany",
          "Germany",
          "Germany",
          "Germany",
          "Germany",
          "Germany",
          "Germany",
          "Germany",
          "Germany",
          "Germany",
          "Germany",
          "Germany",
          "Germany",
          "Germany",
          "Germany",
          "Germany",
          "Germany",
          "Germany",
          "Germany",
          "Germany",
          "Germany",
          "Germany",
          "Germany",
          "Germany",
          "Germany",
          "Germany",
          "Germany",
          "Germany",
          "Germany",
          "Germany",
          "Germany",
          "Germany",
          "Germany",
          "Germany",
          "Germany",
          "Germany",
          "Germany",
          "Germany",
          "Germany",
          "Germany",
          "Germany",
          "Germany",
          "Germany",
          "Germany",
          "Germany",
          "Germany",
          "Germany",
          "Germany",
          "Germany",
          "Germany",
          "Germany",
          "Germany",
          "Germany",
          "Germany",
          "Germany",
          "Germany",
          "Germany",
          "Germany",
          "Germany",
          "Germany",
          "Germany",
          "Germany",
          "Germany"
         ],
         "legendgroup": "Germany",
         "line": {
          "color": "#FF6692",
          "dash": "solid"
         },
         "marker": {
          "symbol": "circle"
         },
         "mode": "lines",
         "name": "Germany",
         "orientation": "v",
         "showlegend": true,
         "type": "scatter",
         "x": {
          "bdata": "bQduB3EHcwd0B3UHdgd4B3oHewd+B38HgAeBB4IHhQeGB4cHiAeJB4oHiweMB48HkAeTB5gHmQeaB54HoQeiB6MHpAepB6sHrAeuB68HsQeyB7MHtAe1B7oHuwfAB8IHwwfEB8UHxwfLB84H0AfRB9UH1wfYB90H4QfjB+QH",
          "dtype": "i2"
         },
         "xaxis": "x",
         "y": {
          "bdata": "AQMFBgcICgsMDQ4PEBESFBUXGBobHR4gISIjJCUmKCkqKywuLzAxMjM1Njg5Ojs+P0NFR0hJSktNTk9QUlNU",
          "dtype": "i1"
         },
         "yaxis": "y"
        },
        {
         "hovertemplate": "<b>%{hovertext}</b><br><br>Country=Ghana<br>Year=%{x}<br>Cumulative Number of Prizes=%{y}<extra></extra>",
         "hovertext": [
          "Ghana"
         ],
         "legendgroup": "Ghana",
         "line": {
          "color": "#B6E880",
          "dash": "solid"
         },
         "marker": {
          "symbol": "circle"
         },
         "mode": "lines",
         "name": "Ghana",
         "orientation": "v",
         "showlegend": true,
         "type": "scatter",
         "x": {
          "bdata": "0Qc=",
          "dtype": "i2"
         },
         "xaxis": "x",
         "y": {
          "bdata": "AQ==",
          "dtype": "i1"
         },
         "yaxis": "y"
        },
        {
         "hovertemplate": "<b>%{hovertext}</b><br><br>Country=Greece<br>Year=%{x}<br>Cumulative Number of Prizes=%{y}<extra></extra>",
         "hovertext": [
          "Greece"
         ],
         "legendgroup": "Greece",
         "line": {
          "color": "#FF97FF",
          "dash": "solid"
         },
         "marker": {
          "symbol": "circle"
         },
         "mode": "lines",
         "name": "Greece",
         "orientation": "v",
         "showlegend": true,
         "type": "scatter",
         "x": {
          "bdata": "uwc=",
          "dtype": "i2"
         },
         "xaxis": "x",
         "y": {
          "bdata": "AQ==",
          "dtype": "i1"
         },
         "yaxis": "y"
        },
        {
         "hovertemplate": "<b>%{hovertext}</b><br><br>Country=Guadeloupe Island<br>Year=%{x}<br>Cumulative Number of Prizes=%{y}<extra></extra>",
         "hovertext": [
          "Guadeloupe Island"
         ],
         "legendgroup": "Guadeloupe Island",
         "line": {
          "color": "#FECB52",
          "dash": "solid"
         },
         "marker": {
          "symbol": "circle"
         },
         "mode": "lines",
         "name": "Guadeloupe Island",
         "orientation": "v",
         "showlegend": true,
         "type": "scatter",
         "x": {
          "bdata": "qAc=",
          "dtype": "i2"
         },
         "xaxis": "x",
         "y": {
          "bdata": "AQ==",
          "dtype": "i1"
         },
         "yaxis": "y"
        },
        {
         "hovertemplate": "<b>%{hovertext}</b><br><br>Country=Guatemala<br>Year=%{x}<br>Cumulative Number of Prizes=%{y}<extra></extra>",
         "hovertext": [
          "Guatemala",
          "Guatemala"
         ],
         "legendgroup": "Guatemala",
         "line": {
          "color": "#636efa",
          "dash": "solid"
         },
         "marker": {
          "symbol": "circle"
         },
         "mode": "lines",
         "name": "Guatemala",
         "orientation": "v",
         "showlegend": true,
         "type": "scatter",
         "x": {
          "bdata": "rwfIBw==",
          "dtype": "i2"
         },
         "xaxis": "x",
         "y": {
          "bdata": "AQI=",
          "dtype": "i1"
         },
         "yaxis": "y"
        },
        {
         "hovertemplate": "<b>%{hovertext}</b><br><br>Country=Hungary<br>Year=%{x}<br>Cumulative Number of Prizes=%{y}<extra></extra>",
         "hovertext": [
          "Hungary",
          "Hungary",
          "Hungary",
          "Hungary",
          "Hungary",
          "Hungary",
          "Hungary",
          "Hungary"
         ],
         "legendgroup": "Hungary",
         "line": {
          "color": "#EF553B",
          "dash": "solid"
         },
         "marker": {
          "symbol": "circle"
         },
         "mode": "lines",
         "name": "Hungary",
         "orientation": "v",
         "showlegend": true,
         "type": "scatter",
         "x": {
          "bdata": "kQeXB6kHqwezB8oH0gfUBw==",
          "dtype": "i2"
         },
         "xaxis": "x",
         "y": {
          "bdata": "AQIDBAUHCAk=",
          "dtype": "i1"
         },
         "yaxis": "y"
        },
        {
         "hovertemplate": "<b>%{hovertext}</b><br><br>Country=Iceland<br>Year=%{x}<br>Cumulative Number of Prizes=%{y}<extra></extra>",
         "hovertext": [
          "Iceland"
         ],
         "legendgroup": "Iceland",
         "line": {
          "color": "#00cc96",
          "dash": "solid"
         },
         "marker": {
          "symbol": "circle"
         },
         "mode": "lines",
         "name": "Iceland",
         "orientation": "v",
         "showlegend": true,
         "type": "scatter",
         "x": {
          "bdata": "owc=",
          "dtype": "i2"
         },
         "xaxis": "x",
         "y": {
          "bdata": "AQ==",
          "dtype": "i1"
         },
         "yaxis": "y"
        },
        {
         "hovertemplate": "<b>%{hovertext}</b><br><br>Country=India<br>Year=%{x}<br>Cumulative Number of Prizes=%{y}<extra></extra>",
         "hovertext": [
          "India",
          "India",
          "India",
          "India",
          "India",
          "India",
          "India",
          "India",
          "India"
         ],
         "legendgroup": "India",
         "line": {
          "color": "#ab63fa",
          "dash": "solid"
         },
         "marker": {
          "symbol": "circle"
         },
         "mode": "lines",
         "name": "India",
         "orientation": "v",
         "showlegend": true,
         "type": "scatter",
         "x": {
          "bdata": "bgdzB3kHigewB84H2QfeB+MH",
          "dtype": "i2"
         },
         "xaxis": "x",
         "y": {
          "bdata": "AQIDBAUGBwgJ",
          "dtype": "i1"
         },
         "yaxis": "y"
        },
        {
         "hovertemplate": "<b>%{hovertext}</b><br><br>Country=Indonesia<br>Year=%{x}<br>Cumulative Number of Prizes=%{y}<extra></extra>",
         "hovertext": [
          "Indonesia"
         ],
         "legendgroup": "Indonesia",
         "line": {
          "color": "#FFA15A",
          "dash": "solid"
         },
         "marker": {
          "symbol": "circle"
         },
         "mode": "lines",
         "name": "Indonesia",
         "orientation": "v",
         "showlegend": true,
         "type": "scatter",
         "x": {
          "bdata": "hAc=",
          "dtype": "i2"
         },
         "xaxis": "x",
         "y": {
          "bdata": "AQ==",
          "dtype": "i1"
         },
         "yaxis": "y"
        },
        {
         "hovertemplate": "<b>%{hovertext}</b><br><br>Country=Iran<br>Year=%{x}<br>Cumulative Number of Prizes=%{y}<extra></extra>",
         "hovertext": [
          "Iran",
          "Iran"
         ],
         "legendgroup": "Iran",
         "line": {
          "color": "#19d3f3",
          "dash": "solid"
         },
         "marker": {
          "symbol": "circle"
         },
         "mode": "lines",
         "name": "Iran",
         "orientation": "v",
         "showlegend": true,
         "type": "scatter",
         "x": {
          "bdata": "0wfXBw==",
          "dtype": "i2"
         },
         "xaxis": "x",
         "y": {
          "bdata": "AQI=",
          "dtype": "i1"
         },
         "yaxis": "y"
        },
        {
         "hovertemplate": "<b>%{hovertext}</b><br><br>Country=Iraq<br>Year=%{x}<br>Cumulative Number of Prizes=%{y}<extra></extra>",
         "hovertext": [
          "Iraq"
         ],
         "legendgroup": "Iraq",
         "line": {
          "color": "#FF6692",
          "dash": "solid"
         },
         "marker": {
          "symbol": "circle"
         },
         "mode": "lines",
         "name": "Iraq",
         "orientation": "v",
         "showlegend": true,
         "type": "scatter",
         "x": {
          "bdata": "4gc=",
          "dtype": "i2"
         },
         "xaxis": "x",
         "y": {
          "bdata": "AQ==",
          "dtype": "i1"
         },
         "yaxis": "y"
        },
        {
         "hovertemplate": "<b>%{hovertext}</b><br><br>Country=Ireland<br>Year=%{x}<br>Cumulative Number of Prizes=%{y}<extra></extra>",
         "hovertext": [
          "Ireland",
          "Ireland",
          "Ireland",
          "Ireland",
          "Ireland"
         ],
         "legendgroup": "Ireland",
         "line": {
          "color": "#B6E880",
          "dash": "solid"
         },
         "marker": {
          "symbol": "circle"
         },
         "mode": "lines",
         "name": "Ireland",
         "orientation": "v",
         "showlegend": true,
         "type": "scatter",
         "x": {
          "bdata": "gweFB58HsQffBw==",
          "dtype": "i2"
         },
         "xaxis": "x",
         "y": {
          "bdata": "AQIDBAU=",
          "dtype": "i1"
         },
         "yaxis": "y"
        },
        {
         "hovertemplate": "<b>%{hovertext}</b><br><br>Country=Israel<br>Year=%{x}<br>Cumulative Number of Prizes=%{y}<extra></extra>",
         "hovertext": [
          "Israel",
          "Israel",
          "Israel",
          "Israel",
          "Israel",
          "Israel"
         ],
         "legendgroup": "Israel",
         "line": {
          "color": "#FF97FF",
          "dash": "solid"
         },
         "marker": {
          "symbol": "circle"
         },
         "mode": "lines",
         "name": "Israel",
         "orientation": "v",
         "showlegend": true,
         "type": "scatter",
         "x": {
          "bdata": "ygfSB9QH2QfbB90H",
          "dtype": "i2"
         },
         "xaxis": "x",
         "y": {
          "bdata": "AQIDBAUG",
          "dtype": "i1"
         },
         "yaxis": "y"
        },
        {
         "hovertemplate": "<b>%{hovertext}</b><br><br>Country=Italy<br>Year=%{x}<br>Cumulative Number of Prizes=%{y}<extra></extra>",
         "hovertext": [
          "Italy",
          "Italy",
          "Italy",
          "Italy",
          "Italy",
          "Italy",
          "Italy",
          "Italy",
          "Italy",
          "Italy",
          "Italy",
          "Italy",
          "Italy",
          "Italy",
          "Italy",
          "Italy"
         ],
         "legendgroup": "Italy",
         "line": {
          "color": "#FECB52",
          "dash": "solid"
         },
         "marker": {
          "symbol": "circle"
         },
         "mode": "lines",
         "name": "Italy",
         "orientation": "v",
         "showlegend": true,
         "type": "scatter",
         "x": {
          "bdata": "cgdzB3UHhgeOB5IHpwerB7EHtwfAB8EHwgfNB9IH1wc=",
          "dtype": "i2"
         },
         "xaxis": "x",
         "y": {
          "bdata": "AgMEBQYHCQoLDQ4PEBESEw==",
          "dtype": "i1"
         },
         "yaxis": "y"
        },
        {
         "hovertemplate": "<b>%{hovertext}</b><br><br>Country=Japan<br>Year=%{x}<br>Cumulative Number of Prizes=%{y}<extra></extra>",
         "hovertext": [
          "Japan",
          "Japan",
          "Japan",
          "Japan",
          "Japan",
          "Japan",
          "Japan",
          "Japan",
          "Japan",
          "Japan",
          "Japan",
          "Japan",
          "Japan",
          "Japan",
          "Japan",
          "Japan",
          "Japan",
          "Japan",
          "Japan",
          "Japan"
         ],
         "legendgroup": "Japan",
         "line": {
          "color": "#636efa",
          "dash": "solid"
         },
         "marker": {
          "symbol": "circle"
         },
         "mode": "lines",
         "name": "Japan",
         "orientation": "v",
         "showlegend": true,
         "type": "scatter",
         "x": {
          "bdata": "nQetB7AHtQe2B70HwwfKB9AH0QfSB9gH2gfcB94H3wfgB+EH4gfjBw==",
          "dtype": "i2"
         },
         "xaxis": "x",
         "y": {
          "bdata": "AQIDBAUGBwgJCgwQERIVFxgZGhs=",
          "dtype": "i1"
         },
         "yaxis": "y"
        },
        {
         "hovertemplate": "<b>%{hovertext}</b><br><br>Country=Kenya<br>Year=%{x}<br>Cumulative Number of Prizes=%{y}<extra></extra>",
         "hovertext": [
          "Kenya"
         ],
         "legendgroup": "Kenya",
         "line": {
          "color": "#EF553B",
          "dash": "solid"
         },
         "marker": {
          "symbol": "circle"
         },
         "mode": "lines",
         "name": "Kenya",
         "orientation": "v",
         "showlegend": true,
         "type": "scatter",
         "x": {
          "bdata": "1Ac=",
          "dtype": "i2"
         },
         "xaxis": "x",
         "y": {
          "bdata": "AQ==",
          "dtype": "i1"
         },
         "yaxis": "y"
        },
        {
         "hovertemplate": "<b>%{hovertext}</b><br><br>Country=Korea (South Korea)<br>Year=%{x}<br>Cumulative Number of Prizes=%{y}<extra></extra>",
         "hovertext": [
          "Korea (South Korea)",
          "Korea (South Korea)"
         ],
         "legendgroup": "Korea (South Korea)",
         "line": {
          "color": "#00cc96",
          "dash": "solid"
         },
         "marker": {
          "symbol": "circle"
         },
         "mode": "lines",
         "name": "Korea (South Korea)",
         "orientation": "v",
         "showlegend": true,
         "type": "scatter",
         "x": {
          "bdata": "wwfQBw==",
          "dtype": "i2"
         },
         "xaxis": "x",
         "y": {
          "bdata": "AQI=",
          "dtype": "i1"
         },
         "yaxis": "y"
        },
        {
         "hovertemplate": "<b>%{hovertext}</b><br><br>Country=Latvia<br>Year=%{x}<br>Cumulative Number of Prizes=%{y}<extra></extra>",
         "hovertext": [
          "Latvia"
         ],
         "legendgroup": "Latvia",
         "line": {
          "color": "#ab63fa",
          "dash": "solid"
         },
         "marker": {
          "symbol": "circle"
         },
         "mode": "lines",
         "name": "Latvia",
         "orientation": "v",
         "showlegend": true,
         "type": "scatter",
         "x": {
          "bdata": "dQc=",
          "dtype": "i2"
         },
         "xaxis": "x",
         "y": {
          "bdata": "AQ==",
          "dtype": "i1"
         },
         "yaxis": "y"
        },
        {
         "hovertemplate": "<b>%{hovertext}</b><br><br>Country=Liberia<br>Year=%{x}<br>Cumulative Number of Prizes=%{y}<extra></extra>",
         "hovertext": [
          "Liberia"
         ],
         "legendgroup": "Liberia",
         "line": {
          "color": "#FFA15A",
          "dash": "solid"
         },
         "marker": {
          "symbol": "circle"
         },
         "mode": "lines",
         "name": "Liberia",
         "orientation": "v",
         "showlegend": true,
         "type": "scatter",
         "x": {
          "bdata": "2wc=",
          "dtype": "i2"
         },
         "xaxis": "x",
         "y": {
          "bdata": "Ag==",
          "dtype": "i1"
         },
         "yaxis": "y"
        },
        {
         "hovertemplate": "<b>%{hovertext}</b><br><br>Country=Lithuania<br>Year=%{x}<br>Cumulative Number of Prizes=%{y}<extra></extra>",
         "hovertext": [
          "Lithuania",
          "Lithuania",
          "Lithuania"
         ],
         "legendgroup": "Lithuania",
         "line": {
          "color": "#19d3f3",
          "dash": "solid"
         },
         "marker": {
          "symbol": "circle"
         },
         "mode": "lines",
         "name": "Lithuania",
         "orientation": "v",
         "showlegend": true,
         "type": "scatter",
         "x": {
          "bdata": "uQe8B74H",
          "dtype": "i2"
         },
         "xaxis": "x",
         "y": {
          "bdata": "AQID",
          "dtype": "i1"
         },
         "yaxis": "y"
        },
        {
         "hovertemplate": "<b>%{hovertext}</b><br><br>Country=Luxembourg<br>Year=%{x}<br>Cumulative Number of Prizes=%{y}<extra></extra>",
         "hovertext": [
          "Luxembourg",
          "Luxembourg"
         ],
         "legendgroup": "Luxembourg",
         "line": {
          "color": "#FF6692",
          "dash": "solid"
         },
         "marker": {
          "symbol": "circle"
         },
         "mode": "lines",
         "name": "Luxembourg",
         "orientation": "v",
         "showlegend": true,
         "type": "scatter",
         "x": {
          "bdata": "dAfbBw==",
          "dtype": "i2"
         },
         "xaxis": "x",
         "y": {
          "bdata": "AQI=",
          "dtype": "i1"
         },
         "yaxis": "y"
        },
        {
         "hovertemplate": "<b>%{hovertext}</b><br><br>Country=Madagascar<br>Year=%{x}<br>Cumulative Number of Prizes=%{y}<extra></extra>",
         "hovertext": [
          "Madagascar"
         ],
         "legendgroup": "Madagascar",
         "line": {
          "color": "#B6E880",
          "dash": "solid"
         },
         "marker": {
          "symbol": "circle"
         },
         "mode": "lines",
         "name": "Madagascar",
         "orientation": "v",
         "showlegend": true,
         "type": "scatter",
         "x": {
          "bdata": "wQc=",
          "dtype": "i2"
         },
         "xaxis": "x",
         "y": {
          "bdata": "AQ==",
          "dtype": "i1"
         },
         "yaxis": "y"
        },
        {
         "hovertemplate": "<b>%{hovertext}</b><br><br>Country=Mexico<br>Year=%{x}<br>Cumulative Number of Prizes=%{y}<extra></extra>",
         "hovertext": [
          "Mexico",
          "Mexico",
          "Mexico"
         ],
         "legendgroup": "Mexico",
         "line": {
          "color": "#FF97FF",
          "dash": "solid"
         },
         "marker": {
          "symbol": "circle"
         },
         "mode": "lines",
         "name": "Mexico",
         "orientation": "v",
         "showlegend": true,
         "type": "scatter",
         "x": {
          "bdata": "vgfGB8sH",
          "dtype": "i2"
         },
         "xaxis": "x",
         "y": {
          "bdata": "AQID",
          "dtype": "i1"
         },
         "yaxis": "y"
        },
        {
         "hovertemplate": "<b>%{hovertext}</b><br><br>Country=Morocco<br>Year=%{x}<br>Cumulative Number of Prizes=%{y}<extra></extra>",
         "hovertext": [
          "Morocco"
         ],
         "legendgroup": "Morocco",
         "line": {
          "color": "#FECB52",
          "dash": "solid"
         },
         "marker": {
          "symbol": "circle"
         },
         "mode": "lines",
         "name": "Morocco",
         "orientation": "v",
         "showlegend": true,
         "type": "scatter",
         "x": {
          "bdata": "3Ac=",
          "dtype": "i2"
         },
         "xaxis": "x",
         "y": {
          "bdata": "AQ==",
          "dtype": "i1"
         },
         "yaxis": "y"
        },
        {
         "hovertemplate": "<b>%{hovertext}</b><br><br>Country=Myanmar<br>Year=%{x}<br>Cumulative Number of Prizes=%{y}<extra></extra>",
         "hovertext": [
          "Myanmar"
         ],
         "legendgroup": "Myanmar",
         "line": {
          "color": "#636efa",
          "dash": "solid"
         },
         "marker": {
          "symbol": "circle"
         },
         "mode": "lines",
         "name": "Myanmar",
         "orientation": "v",
         "showlegend": true,
         "type": "scatter",
         "x": {
          "bdata": "xwc=",
          "dtype": "i2"
         },
         "xaxis": "x",
         "y": {
          "bdata": "AQ==",
          "dtype": "i1"
         },
         "yaxis": "y"
        },
        {
         "hovertemplate": "<b>%{hovertext}</b><br><br>Country=Netherlands<br>Year=%{x}<br>Cumulative Number of Prizes=%{y}<extra></extra>",
         "hovertext": [
          "Netherlands",
          "Netherlands",
          "Netherlands",
          "Netherlands",
          "Netherlands",
          "Netherlands",
          "Netherlands",
          "Netherlands",
          "Netherlands",
          "Netherlands",
          "Netherlands",
          "Netherlands",
          "Netherlands",
          "Netherlands",
          "Netherlands",
          "Netherlands"
         ],
         "legendgroup": "Netherlands",
         "line": {
          "color": "#EF553B",
          "dash": "solid"
         },
         "marker": {
          "symbol": "circle"
         },
         "mode": "lines",
         "name": "Netherlands",
         "orientation": "v",
         "showlegend": true,
         "type": "scatter",
         "x": {
          "bdata": "bQduB3YHdwd5B4kHkAehB7EHtQe3B70HwAfLB88H4Ac=",
          "dtype": "i2"
         },
         "xaxis": "x",
         "y": {
          "bdata": "AQMEBQYHCAkKCwwNDg8REg==",
          "dtype": "i1"
         },
         "yaxis": "y"
        },
        {
         "hovertemplate": "<b>%{hovertext}</b><br><br>Country=New Zealand<br>Year=%{x}<br>Cumulative Number of Prizes=%{y}<extra></extra>",
         "hovertext": [
          "New Zealand",
          "New Zealand",
          "New Zealand"
         ],
         "legendgroup": "New Zealand",
         "line": {
          "color": "#00cc96",
          "dash": "solid"
         },
         "marker": {
          "symbol": "circle"
         },
         "mode": "lines",
         "name": "New Zealand",
         "orientation": "v",
         "showlegend": true,
         "type": "scatter",
         "x": {
          "bdata": "dAeqB9AH",
          "dtype": "i2"
         },
         "xaxis": "x",
         "y": {
          "bdata": "AQID",
          "dtype": "i1"
         },
         "yaxis": "y"
        },
        {
         "hovertemplate": "<b>%{hovertext}</b><br><br>Country=Nigeria<br>Year=%{x}<br>Cumulative Number of Prizes=%{y}<extra></extra>",
         "hovertext": [
          "Nigeria"
         ],
         "legendgroup": "Nigeria",
         "line": {
          "color": "#ab63fa",
          "dash": "solid"
         },
         "marker": {
          "symbol": "circle"
         },
         "mode": "lines",
         "name": "Nigeria",
         "orientation": "v",
         "showlegend": true,
         "type": "scatter",
         "x": {
          "bdata": "wgc=",
          "dtype": "i2"
         },
         "xaxis": "x",
         "y": {
          "bdata": "AQ==",
          "dtype": "i1"
         },
         "yaxis": "y"
        },
        {
         "hovertemplate": "<b>%{hovertext}</b><br><br>Country=Norway<br>Year=%{x}<br>Cumulative Number of Prizes=%{y}<extra></extra>",
         "hovertext": [
          "Norway",
          "Norway",
          "Norway",
          "Norway",
          "Norway",
          "Norway",
          "Norway",
          "Norway",
          "Norway",
          "Norway"
         ],
         "legendgroup": "Norway",
         "line": {
          "color": "#FFA15A",
          "dash": "solid"
         },
         "marker": {
          "symbol": "circle"
         },
         "mode": "lines",
         "name": "Norway",
         "orientation": "v",
         "showlegend": true,
         "type": "scatter",
         "x": {
          "bdata": "bweAB4EHggewB7EHtQfFB9QH3gc=",
          "dtype": "i2"
         },
         "xaxis": "x",
         "y": {
          "bdata": "AQIDBAUHCAkKDA==",
          "dtype": "i1"
         },
         "yaxis": "y"
        },
        {
         "hovertemplate": "<b>%{hovertext}</b><br><br>Country=Pakistan<br>Year=%{x}<br>Cumulative Number of Prizes=%{y}<extra></extra>",
         "hovertext": [
          "Pakistan",
          "Pakistan",
          "Pakistan"
         ],
         "legendgroup": "Pakistan",
         "line": {
          "color": "#19d3f3",
          "dash": "solid"
         },
         "marker": {
          "symbol": "circle"
         },
         "mode": "lines",
         "name": "Pakistan",
         "orientation": "v",
         "showlegend": true,
         "type": "scatter",
         "x": {
          "bdata": "uwe/B94H",
          "dtype": "i2"
         },
         "xaxis": "x",
         "y": {
          "bdata": "AQID",
          "dtype": "i1"
         },
         "yaxis": "y"
        },
        {
         "hovertemplate": "<b>%{hovertext}</b><br><br>Country=Peru<br>Year=%{x}<br>Cumulative Number of Prizes=%{y}<extra></extra>",
         "hovertext": [
          "Peru"
         ],
         "legendgroup": "Peru",
         "line": {
          "color": "#FF6692",
          "dash": "solid"
         },
         "marker": {
          "symbol": "circle"
         },
         "mode": "lines",
         "name": "Peru",
         "orientation": "v",
         "showlegend": true,
         "type": "scatter",
         "x": {
          "bdata": "2gc=",
          "dtype": "i2"
         },
         "xaxis": "x",
         "y": {
          "bdata": "AQ==",
          "dtype": "i1"
         },
         "yaxis": "y"
        },
        {
         "hovertemplate": "<b>%{hovertext}</b><br><br>Country=Poland<br>Year=%{x}<br>Cumulative Number of Prizes=%{y}<extra></extra>",
         "hovertext": [
          "Poland",
          "Poland",
          "Poland",
          "Poland",
          "Poland",
          "Poland",
          "Poland",
          "Poland",
          "Poland",
          "Poland",
          "Poland",
          "Poland",
          "Poland",
          "Poland",
          "Poland",
          "Poland",
          "Poland",
          "Poland",
          "Poland",
          "Poland",
          "Poland",
          "Poland",
          "Poland",
          "Poland",
          "Poland"
         ],
         "legendgroup": "Poland",
         "line": {
          "color": "#B6E880",
          "dash": "solid"
         },
         "marker": {
          "symbol": "circle"
         },
         "mode": "lines",
         "name": "Poland",
         "orientation": "v",
         "showlegend": true,
         "type": "scatter",
         "x": {
          "bdata": "bQdvB3EHcwd0B3cHfgeEB4sHkweXB5gHngeiB6sHrAe6B78HwQfIB8oHywfMB88H4gc=",
          "dtype": "i2"
         },
         "xaxis": "x",
         "y": {
          "bdata": "AQIDBAUGBwgJCgsMDg8QERITFBUWFxgaGw==",
          "dtype": "i1"
         },
         "yaxis": "y"
        },
        {
         "hovertemplate": "<b>%{hovertext}</b><br><br>Country=Portugal<br>Year=%{x}<br>Cumulative Number of Prizes=%{y}<extra></extra>",
         "hovertext": [
          "Portugal",
          "Portugal"
         ],
         "legendgroup": "Portugal",
         "line": {
          "color": "#FF97FF",
          "dash": "solid"
         },
         "marker": {
          "symbol": "circle"
         },
         "mode": "lines",
         "name": "Portugal",
         "orientation": "v",
         "showlegend": true,
         "type": "scatter",
         "x": {
          "bdata": "nQfOBw==",
          "dtype": "i2"
         },
         "xaxis": "x",
         "y": {
          "bdata": "AQI=",
          "dtype": "i1"
         },
         "yaxis": "y"
        },
        {
         "hovertemplate": "<b>%{hovertext}</b><br><br>Country=Republic of Macedonia<br>Year=%{x}<br>Cumulative Number of Prizes=%{y}<extra></extra>",
         "hovertext": [
          "Republic of Macedonia"
         ],
         "legendgroup": "Republic of Macedonia",
         "line": {
          "color": "#FECB52",
          "dash": "solid"
         },
         "marker": {
          "symbol": "circle"
         },
         "mode": "lines",
         "name": "Republic of Macedonia",
         "orientation": "v",
         "showlegend": true,
         "type": "scatter",
         "x": {
          "bdata": "uwc=",
          "dtype": "i2"
         },
         "xaxis": "x",
         "y": {
          "bdata": "AQ==",
          "dtype": "i1"
         },
         "yaxis": "y"
        },
        {
         "hovertemplate": "<b>%{hovertext}</b><br><br>Country=Romania<br>Year=%{x}<br>Cumulative Number of Prizes=%{y}<extra></extra>",
         "hovertext": [
          "Romania",
          "Romania",
          "Romania",
          "Romania"
         ],
         "legendgroup": "Romania",
         "line": {
          "color": "#636efa",
          "dash": "solid"
         },
         "marker": {
          "symbol": "circle"
         },
         "mode": "lines",
         "name": "Romania",
         "orientation": "v",
         "showlegend": true,
         "type": "scatter",
         "x": {
          "bdata": "tgfCB9kH3gc=",
          "dtype": "i2"
         },
         "xaxis": "x",
         "y": {
          "bdata": "AQIDBA==",
          "dtype": "i1"
         },
         "yaxis": "y"
        },
        {
         "hovertemplate": "<b>%{hovertext}</b><br><br>Country=Russia<br>Year=%{x}<br>Cumulative Number of Prizes=%{y}<extra></extra>",
         "hovertext": [
          "Russia",
          "Russia",
          "Russia",
          "Russia",
          "Russia",
          "Russia",
          "Russia",
          "Russia",
          "Russia",
          "Russia",
          "Russia",
          "Russia",
          "Russia",
          "Russia",
          "Russia",
          "Russia",
          "Russia",
          "Russia",
          "Russia",
          "Russia"
         ],
         "legendgroup": "Russia",
         "line": {
          "color": "#EF553B",
          "dash": "solid"
         },
         "marker": {
          "symbol": "circle"
         },
         "mode": "lines",
         "name": "Russia",
         "orientation": "v",
         "showlegend": true,
         "type": "scatter",
         "x": {
          "bdata": "cAd2B3cHjQeRB6EHpAemB6wHrQeyB7UHtwe5B7oHwwfGB9MH1wfaBw==",
          "dtype": "i2"
         },
         "xaxis": "x",
         "y": {
          "bdata": "AQIDBAUGBwsMDQ4PERITFBUXGBo=",
          "dtype": "i1"
         },
         "yaxis": "y"
        },
        {
         "hovertemplate": "<b>%{hovertext}</b><br><br>Country=Saint Lucia<br>Year=%{x}<br>Cumulative Number of Prizes=%{y}<extra></extra>",
         "hovertext": [
          "Saint Lucia",
          "Saint Lucia"
         ],
         "legendgroup": "Saint Lucia",
         "line": {
          "color": "#00cc96",
          "dash": "solid"
         },
         "marker": {
          "symbol": "circle"
         },
         "mode": "lines",
         "name": "Saint Lucia",
         "orientation": "v",
         "showlegend": true,
         "type": "scatter",
         "x": {
          "bdata": "uwfIBw==",
          "dtype": "i2"
         },
         "xaxis": "x",
         "y": {
          "bdata": "AQI=",
          "dtype": "i1"
         },
         "yaxis": "y"
        },
        {
         "hovertemplate": "<b>%{hovertext}</b><br><br>Country=Slovakia<br>Year=%{x}<br>Cumulative Number of Prizes=%{y}<extra></extra>",
         "hovertext": [
          "Slovakia"
         ],
         "legendgroup": "Slovakia",
         "line": {
          "color": "#ab63fa",
          "dash": "solid"
         },
         "marker": {
          "symbol": "circle"
         },
         "mode": "lines",
         "name": "Slovakia",
         "orientation": "v",
         "showlegend": true,
         "type": "scatter",
         "x": {
          "bdata": "cQc=",
          "dtype": "i2"
         },
         "xaxis": "x",
         "y": {
          "bdata": "AQ==",
          "dtype": "i1"
         },
         "yaxis": "y"
        },
        {
         "hovertemplate": "<b>%{hovertext}</b><br><br>Country=Slovenia<br>Year=%{x}<br>Cumulative Number of Prizes=%{y}<extra></extra>",
         "hovertext": [
          "Slovenia"
         ],
         "legendgroup": "Slovenia",
         "line": {
          "color": "#FFA15A",
          "dash": "solid"
         },
         "marker": {
          "symbol": "circle"
         },
         "mode": "lines",
         "name": "Slovenia",
         "orientation": "v",
         "showlegend": true,
         "type": "scatter",
         "x": {
          "bdata": "gwc=",
          "dtype": "i2"
         },
         "xaxis": "x",
         "y": {
          "bdata": "AQ==",
          "dtype": "i1"
         },
         "yaxis": "y"
        },
        {
         "hovertemplate": "<b>%{hovertext}</b><br><br>Country=South Africa<br>Year=%{x}<br>Cumulative Number of Prizes=%{y}<extra></extra>",
         "hovertext": [
          "South Africa",
          "South Africa",
          "South Africa",
          "South Africa",
          "South Africa",
          "South Africa",
          "South Africa",
          "South Africa"
         ],
         "legendgroup": "South Africa",
         "line": {
          "color": "#19d3f3",
          "dash": "solid"
         },
         "marker": {
          "symbol": "circle"
         },
         "mode": "lines",
         "name": "South Africa",
         "orientation": "v",
         "showlegend": true,
         "type": "scatter",
         "x": {
          "bdata": "nwe7B8AHxwfJB9IH0wfdBw==",
          "dtype": "i2"
         },
         "xaxis": "x",
         "y": {
          "bdata": "AQIDBAYHCAk=",
          "dtype": "i1"
         },
         "yaxis": "y"
        },
        {
         "hovertemplate": "<b>%{hovertext}</b><br><br>Country=Spain<br>Year=%{x}<br>Cumulative Number of Prizes=%{y}<extra></extra>",
         "hovertext": [
          "Spain",
          "Spain",
          "Spain",
          "Spain",
          "Spain",
          "Spain",
          "Spain"
         ],
         "legendgroup": "Spain",
         "line": {
          "color": "#FF6692",
          "dash": "solid"
         },
         "marker": {
          "symbol": "circle"
         },
         "mode": "lines",
         "name": "Spain",
         "orientation": "v",
         "showlegend": true,
         "type": "scatter",
         "x": {
          "bdata": "cAdyB4IHpAenB7kHxQc=",
          "dtype": "i2"
         },
         "xaxis": "x",
         "y": {
          "bdata": "AQIDBAUGBw==",
          "dtype": "i1"
         },
         "yaxis": "y"
        },
        {
         "hovertemplate": "<b>%{hovertext}</b><br><br>Country=Sweden<br>Year=%{x}<br>Cumulative Number of Prizes=%{y}<extra></extra>",
         "hovertext": [
          "Sweden",
          "Sweden",
          "Sweden",
          "Sweden",
          "Sweden",
          "Sweden",
          "Sweden",
          "Sweden",
          "Sweden",
          "Sweden",
          "Sweden",
          "Sweden",
          "Sweden",
          "Sweden",
          "Sweden",
          "Sweden",
          "Sweden",
          "Sweden",
          "Sweden",
          "Sweden",
          "Sweden",
          "Sweden",
          "Sweden"
         ],
         "legendgroup": "Sweden",
         "line": {
          "color": "#B6E880",
          "dash": "solid"
         },
         "marker": {
          "symbol": "circle"
         },
         "mode": "lines",
         "name": "Sweden",
         "orientation": "v",
         "showlegend": true,
         "type": "scatter",
         "x": {
          "bdata": "bwd0B3UHdwd4B3wHgQeEB4YHigeLB5wHnwejB6kHsge2B7kHvQe+B9AH2wffBw==",
          "dtype": "i2"
         },
         "xaxis": "x",
         "y": {
          "bdata": "AQIDBAUGBwgJCgsMDQ4PERQVFxobHB0=",
          "dtype": "i1"
         },
         "yaxis": "y"
        },
        {
         "hovertemplate": "<b>%{hovertext}</b><br><br>Country=Switzerland<br>Year=%{x}<br>Cumulative Number of Prizes=%{y}<extra></extra>",
         "hovertext": [
          "Switzerland",
          "Switzerland",
          "Switzerland",
          "Switzerland",
          "Switzerland",
          "Switzerland",
          "Switzerland",
          "Switzerland",
          "Switzerland",
          "Switzerland",
          "Switzerland",
          "Switzerland",
          "Switzerland",
          "Switzerland",
          "Switzerland",
          "Switzerland",
          "Switzerland"
         ],
         "legendgroup": "Switzerland",
         "line": {
          "color": "#FF97FF",
          "dash": "solid"
         },
         "marker": {
          "symbol": "circle"
         },
         "mode": "lines",
         "name": "Switzerland",
         "orientation": "v",
         "showlegend": true,
         "type": "scatter",
         "x": {
          "bdata": "bQduB3UHfweAB5wHnQegB6UHugfCB8MHxwfMB9IH4QfjBw==",
          "dtype": "i2"
         },
         "xaxis": "x",
         "y": {
          "bdata": "AQMEBQYHCAkKCwwNDg8QERM=",
          "dtype": "i1"
         },
         "yaxis": "y"
        },
        {
         "hovertemplate": "<b>%{hovertext}</b><br><br>Country=Taiwan<br>Year=%{x}<br>Cumulative Number of Prizes=%{y}<extra></extra>",
         "hovertext": [
          "Taiwan"
         ],
         "legendgroup": "Taiwan",
         "line": {
          "color": "#FECB52",
          "dash": "solid"
         },
         "marker": {
          "symbol": "circle"
         },
         "mode": "lines",
         "name": "Taiwan",
         "orientation": "v",
         "showlegend": true,
         "type": "scatter",
         "x": {
          "bdata": "wgc=",
          "dtype": "i2"
         },
         "xaxis": "x",
         "y": {
          "bdata": "AQ==",
          "dtype": "i1"
         },
         "yaxis": "y"
        },
        {
         "hovertemplate": "<b>%{hovertext}</b><br><br>Country=Trinidad<br>Year=%{x}<br>Cumulative Number of Prizes=%{y}<extra></extra>",
         "hovertext": [
          "Trinidad"
         ],
         "legendgroup": "Trinidad",
         "line": {
          "color": "#636efa",
          "dash": "solid"
         },
         "marker": {
          "symbol": "circle"
         },
         "mode": "lines",
         "name": "Trinidad",
         "orientation": "v",
         "showlegend": true,
         "type": "scatter",
         "x": {
          "bdata": "0Qc=",
          "dtype": "i2"
         },
         "xaxis": "x",
         "y": {
          "bdata": "AQ==",
          "dtype": "i1"
         },
         "yaxis": "y"
        },
        {
         "hovertemplate": "<b>%{hovertext}</b><br><br>Country=Turkey<br>Year=%{x}<br>Cumulative Number of Prizes=%{y}<extra></extra>",
         "hovertext": [
          "Turkey",
          "Turkey",
          "Turkey"
         ],
         "legendgroup": "Turkey",
         "line": {
          "color": "#EF553B",
          "dash": "solid"
         },
         "marker": {
          "symbol": "circle"
         },
         "mode": "lines",
         "name": "Turkey",
         "orientation": "v",
         "showlegend": true,
         "type": "scatter",
         "x": {
          "bdata": "qwfWB98H",
          "dtype": "i2"
         },
         "xaxis": "x",
         "y": {
          "bdata": "AQID",
          "dtype": "i1"
         },
         "yaxis": "y"
        },
        {
         "hovertemplate": "<b>%{hovertext}</b><br><br>Country=Ukraine<br>Year=%{x}<br>Cumulative Number of Prizes=%{y}<extra></extra>",
         "hovertext": [
          "Ukraine",
          "Ukraine",
          "Ukraine",
          "Ukraine",
          "Ukraine"
         ],
         "legendgroup": "Ukraine",
         "line": {
          "color": "#00cc96",
          "dash": "solid"
         },
         "marker": {
          "symbol": "circle"
         },
         "mode": "lines",
         "name": "Ukraine",
         "orientation": "v",
         "showlegend": true,
         "type": "scatter",
         "x": {
          "bdata": "dAegB64HvQffBw==",
          "dtype": "i2"
         },
         "xaxis": "x",
         "y": {
          "bdata": "AQIDBAU=",
          "dtype": "i1"
         },
         "yaxis": "y"
        },
        {
         "hovertemplate": "<b>%{hovertext}</b><br><br>Country=United Kingdom<br>Year=%{x}<br>Cumulative Number of Prizes=%{y}<extra></extra>",
         "hovertext": [
          "United Kingdom",
          "United Kingdom",
          "United Kingdom",
          "United Kingdom",
          "United Kingdom",
          "United Kingdom",
          "United Kingdom",
          "United Kingdom",
          "United Kingdom",
          "United Kingdom",
          "United Kingdom",
          "United Kingdom",
          "United Kingdom",
          "United Kingdom",
          "United Kingdom",
          "United Kingdom",
          "United Kingdom",
          "United Kingdom",
          "United Kingdom",
          "United Kingdom",
          "United Kingdom",
          "United Kingdom",
          "United Kingdom",
          "United Kingdom",
          "United Kingdom",
          "United Kingdom",
          "United Kingdom",
          "United Kingdom",
          "United Kingdom",
          "United Kingdom",
          "United Kingdom",
          "United Kingdom",
          "United Kingdom",
          "United Kingdom",
          "United Kingdom",
          "United Kingdom",
          "United Kingdom",
          "United Kingdom",
          "United Kingdom",
          "United Kingdom",
          "United Kingdom",
          "United Kingdom",
          "United Kingdom",
          "United Kingdom",
          "United Kingdom",
          "United Kingdom",
          "United Kingdom",
          "United Kingdom",
          "United Kingdom",
          "United Kingdom",
          "United Kingdom",
          "United Kingdom",
          "United Kingdom",
          "United Kingdom",
          "United Kingdom",
          "United Kingdom",
          "United Kingdom",
          "United Kingdom",
          "United Kingdom",
          "United Kingdom",
          "United Kingdom",
          "United Kingdom",
          "United Kingdom",
          "United Kingdom",
          "United Kingdom",
          "United Kingdom",
          "United Kingdom"
         ],
         "legendgroup": "United Kingdom",
         "line": {
          "color": "#ab63fa",
          "dash": "solid"
         },
         "marker": {
          "symbol": "circle"
         },
         "mode": "lines",
         "name": "United Kingdom",
         "orientation": "v",
         "showlegend": true,
         "type": "scatter",
         "x": {
          "bdata": "bwdwB3IHewd9B4EHggeDB4UHhweIB4kHjAeNB44HjweQB5EHmQebB5wHnQeeB58HoAehB6QHpQemB6cHqgerB68HsQe0B7UHtge4B7kHuge7B7wHvge/B8AHxAfHB8kHywfMB80HzgfRB9IH0wfVB9cH2QfaB9wH3QffB+AH4QfiB+MH5Ac=",
          "dtype": "i2"
         },
         "xaxis": "x",
         "y": {
          "bdata": "AQMEBQYHCQoLDA0PEhQVFhcaGx0eHyEiJCUnKCkqLC4wMTM2OTs9PkBBQkNFRkdJSkxNUFJTVldZWltcXV5jZGVnaQ==",
          "dtype": "i1"
         },
         "yaxis": "y"
        },
        {
         "hovertemplate": "<b>%{hovertext}</b><br><br>Country=United States of America<br>Year=%{x}<br>Cumulative Number of Prizes=%{y}<extra></extra>",
         "hovertext": [
          "United States of America",
          "United States of America",
          "United States of America",
          "United States of America",
          "United States of America",
          "United States of America",
          "United States of America",
          "United States of America",
          "United States of America",
          "United States of America",
          "United States of America",
          "United States of America",
          "United States of America",
          "United States of America",
          "United States of America",
          "United States of America",
          "United States of America",
          "United States of America",
          "United States of America",
          "United States of America",
          "United States of America",
          "United States of America",
          "United States of America",
          "United States of America",
          "United States of America",
          "United States of America",
          "United States of America",
          "United States of America",
          "United States of America",
          "United States of America",
          "United States of America",
          "United States of America",
          "United States of America",
          "United States of America",
          "United States of America",
          "United States of America",
          "United States of America",
          "United States of America",
          "United States of America",
          "United States of America",
          "United States of America",
          "United States of America",
          "United States of America",
          "United States of America",
          "United States of America",
          "United States of America",
          "United States of America",
          "United States of America",
          "United States of America",
          "United States of America",
          "United States of America",
          "United States of America",
          "United States of America",
          "United States of America",
          "United States of America",
          "United States of America",
          "United States of America",
          "United States of America",
          "United States of America",
          "United States of America",
          "United States of America",
          "United States of America",
          "United States of America",
          "United States of America",
          "United States of America",
          "United States of America",
          "United States of America",
          "United States of America",
          "United States of America",
          "United States of America",
          "United States of America",
          "United States of America",
          "United States of America",
          "United States of America",
          "United States of America",
          "United States of America",
          "United States of America",
          "United States of America",
          "United States of America",
          "United States of America",
          "United States of America",
          "United States of America",
          "United States of America",
          "United States of America",
          "United States of America",
          "United States of America",
          "United States of America",
          "United States of America",
          "United States of America"
         ],
         "legendgroup": "United States of America",
         "line": {
          "color": "#FFA15A",
          "dash": "solid"
         },
         "marker": {
          "symbol": "circle"
         },
         "mode": "lines",
         "name": "United States of America",
         "orientation": "v",
         "showlegend": true,
         "type": "scatter",
         "x": {
          "bdata": "cgd4B3oHfweDB4UHhweJB4oHiweMB40HjgeQB5EHkgeTB5cHmAeZB5oHnAedB54HnwegB6EHogejB6QHpgenB6gHqQeqB6wHrQeuB68HsAexB7IHswe0B7YHtwe4B7kHuge7B7wHvQe+B78HwAfBB8IHwwfEB8UHxgfIB8kHygfLB8wHzQfOB9AH0QfSB9MH1AfVB9YH1wfYB9kH2gfbB9wH3QfeB98H4AfhB+IH4wfkBw==",
          "dtype": "i2"
         },
         "xaxis": "x",
         "y": {
          "bdata": "AQACAAMABAAFAAYABwAIAAkACwAMAA0AEQATABQAFQAWABcAGQAaACEAIgAjACYAKAApACoALwAxADMANgA4ADoAPAA/AEEARABGAEgASwBNAFAAUQBZAFoAXgBkAGcAawBuAHQAdwB5AHsAfACAAIMAhQCJAI0AlQCXAJ4AogCoAK0AswC3ALwAxADJAM0A1ADZAN8A4gDlAOsA7gD0APkA/gABAQIBAwEJAQ8BEgEZAQ==",
          "dtype": "i2"
         },
         "yaxis": "y"
        },
        {
         "hovertemplate": "<b>%{hovertext}</b><br><br>Country=Venezuela<br>Year=%{x}<br>Cumulative Number of Prizes=%{y}<extra></extra>",
         "hovertext": [
          "Venezuela"
         ],
         "legendgroup": "Venezuela",
         "line": {
          "color": "#19d3f3",
          "dash": "solid"
         },
         "marker": {
          "symbol": "circle"
         },
         "mode": "lines",
         "name": "Venezuela",
         "orientation": "v",
         "showlegend": true,
         "type": "scatter",
         "x": {
          "bdata": "vAc=",
          "dtype": "i2"
         },
         "xaxis": "x",
         "y": {
          "bdata": "AQ==",
          "dtype": "i1"
         },
         "yaxis": "y"
        },
        {
         "hovertemplate": "<b>%{hovertext}</b><br><br>Country=Vietnam<br>Year=%{x}<br>Cumulative Number of Prizes=%{y}<extra></extra>",
         "hovertext": [
          "Vietnam"
         ],
         "legendgroup": "Vietnam",
         "line": {
          "color": "#FF6692",
          "dash": "solid"
         },
         "marker": {
          "symbol": "circle"
         },
         "mode": "lines",
         "name": "Vietnam",
         "orientation": "v",
         "showlegend": true,
         "type": "scatter",
         "x": {
          "bdata": "tQc=",
          "dtype": "i2"
         },
         "xaxis": "x",
         "y": {
          "bdata": "AQ==",
          "dtype": "i1"
         },
         "yaxis": "y"
        },
        {
         "hovertemplate": "<b>%{hovertext}</b><br><br>Country=Yemen<br>Year=%{x}<br>Cumulative Number of Prizes=%{y}<extra></extra>",
         "hovertext": [
          "Yemen"
         ],
         "legendgroup": "Yemen",
         "line": {
          "color": "#B6E880",
          "dash": "solid"
         },
         "marker": {
          "symbol": "circle"
         },
         "mode": "lines",
         "name": "Yemen",
         "orientation": "v",
         "showlegend": true,
         "type": "scatter",
         "x": {
          "bdata": "2wc=",
          "dtype": "i2"
         },
         "xaxis": "x",
         "y": {
          "bdata": "AQ==",
          "dtype": "i1"
         },
         "yaxis": "y"
        },
        {
         "hovertemplate": "<b>%{hovertext}</b><br><br>Country=Zimbabwe<br>Year=%{x}<br>Cumulative Number of Prizes=%{y}<extra></extra>",
         "hovertext": [
          "Zimbabwe"
         ],
         "legendgroup": "Zimbabwe",
         "line": {
          "color": "#FF97FF",
          "dash": "solid"
         },
         "marker": {
          "symbol": "circle"
         },
         "mode": "lines",
         "name": "Zimbabwe",
         "orientation": "v",
         "showlegend": true,
         "type": "scatter",
         "x": {
          "bdata": "qAc=",
          "dtype": "i2"
         },
         "xaxis": "x",
         "y": {
          "bdata": "AQ==",
          "dtype": "i1"
         },
         "yaxis": "y"
        }
       ],
       "layout": {
        "legend": {
         "title": {
          "text": "Country"
         },
         "tracegroupgap": 0
        },
        "template": {
         "data": {
          "bar": [
           {
            "error_x": {
             "color": "#2a3f5f"
            },
            "error_y": {
             "color": "#2a3f5f"
            },
            "marker": {
             "line": {
              "color": "#E5ECF6",
              "width": 0.5
             },
             "pattern": {
              "fillmode": "overlay",
              "size": 10,
              "solidity": 0.2
             }
            },
            "type": "bar"
           }
          ],
          "barpolar": [
           {
            "marker": {
             "line": {
              "color": "#E5ECF6",
              "width": 0.5
             },
             "pattern": {
              "fillmode": "overlay",
              "size": 10,
              "solidity": 0.2
             }
            },
            "type": "barpolar"
           }
          ],
          "carpet": [
           {
            "aaxis": {
             "endlinecolor": "#2a3f5f",
             "gridcolor": "white",
             "linecolor": "white",
             "minorgridcolor": "white",
             "startlinecolor": "#2a3f5f"
            },
            "baxis": {
             "endlinecolor": "#2a3f5f",
             "gridcolor": "white",
             "linecolor": "white",
             "minorgridcolor": "white",
             "startlinecolor": "#2a3f5f"
            },
            "type": "carpet"
           }
          ],
          "choropleth": [
           {
            "colorbar": {
             "outlinewidth": 0,
             "ticks": ""
            },
            "type": "choropleth"
           }
          ],
          "contour": [
           {
            "colorbar": {
             "outlinewidth": 0,
             "ticks": ""
            },
            "colorscale": [
             [
              0,
              "#0d0887"
             ],
             [
              0.1111111111111111,
              "#46039f"
             ],
             [
              0.2222222222222222,
              "#7201a8"
             ],
             [
              0.3333333333333333,
              "#9c179e"
             ],
             [
              0.4444444444444444,
              "#bd3786"
             ],
             [
              0.5555555555555556,
              "#d8576b"
             ],
             [
              0.6666666666666666,
              "#ed7953"
             ],
             [
              0.7777777777777778,
              "#fb9f3a"
             ],
             [
              0.8888888888888888,
              "#fdca26"
             ],
             [
              1,
              "#f0f921"
             ]
            ],
            "type": "contour"
           }
          ],
          "contourcarpet": [
           {
            "colorbar": {
             "outlinewidth": 0,
             "ticks": ""
            },
            "type": "contourcarpet"
           }
          ],
          "heatmap": [
           {
            "colorbar": {
             "outlinewidth": 0,
             "ticks": ""
            },
            "colorscale": [
             [
              0,
              "#0d0887"
             ],
             [
              0.1111111111111111,
              "#46039f"
             ],
             [
              0.2222222222222222,
              "#7201a8"
             ],
             [
              0.3333333333333333,
              "#9c179e"
             ],
             [
              0.4444444444444444,
              "#bd3786"
             ],
             [
              0.5555555555555556,
              "#d8576b"
             ],
             [
              0.6666666666666666,
              "#ed7953"
             ],
             [
              0.7777777777777778,
              "#fb9f3a"
             ],
             [
              0.8888888888888888,
              "#fdca26"
             ],
             [
              1,
              "#f0f921"
             ]
            ],
            "type": "heatmap"
           }
          ],
          "histogram": [
           {
            "marker": {
             "pattern": {
              "fillmode": "overlay",
              "size": 10,
              "solidity": 0.2
             }
            },
            "type": "histogram"
           }
          ],
          "histogram2d": [
           {
            "colorbar": {
             "outlinewidth": 0,
             "ticks": ""
            },
            "colorscale": [
             [
              0,
              "#0d0887"
             ],
             [
              0.1111111111111111,
              "#46039f"
             ],
             [
              0.2222222222222222,
              "#7201a8"
             ],
             [
              0.3333333333333333,
              "#9c179e"
             ],
             [
              0.4444444444444444,
              "#bd3786"
             ],
             [
              0.5555555555555556,
              "#d8576b"
             ],
             [
              0.6666666666666666,
              "#ed7953"
             ],
             [
              0.7777777777777778,
              "#fb9f3a"
             ],
             [
              0.8888888888888888,
              "#fdca26"
             ],
             [
              1,
              "#f0f921"
             ]
            ],
            "type": "histogram2d"
           }
          ],
          "histogram2dcontour": [
           {
            "colorbar": {
             "outlinewidth": 0,
             "ticks": ""
            },
            "colorscale": [
             [
              0,
              "#0d0887"
             ],
             [
              0.1111111111111111,
              "#46039f"
             ],
             [
              0.2222222222222222,
              "#7201a8"
             ],
             [
              0.3333333333333333,
              "#9c179e"
             ],
             [
              0.4444444444444444,
              "#bd3786"
             ],
             [
              0.5555555555555556,
              "#d8576b"
             ],
             [
              0.6666666666666666,
              "#ed7953"
             ],
             [
              0.7777777777777778,
              "#fb9f3a"
             ],
             [
              0.8888888888888888,
              "#fdca26"
             ],
             [
              1,
              "#f0f921"
             ]
            ],
            "type": "histogram2dcontour"
           }
          ],
          "mesh3d": [
           {
            "colorbar": {
             "outlinewidth": 0,
             "ticks": ""
            },
            "type": "mesh3d"
           }
          ],
          "parcoords": [
           {
            "line": {
             "colorbar": {
              "outlinewidth": 0,
              "ticks": ""
             }
            },
            "type": "parcoords"
           }
          ],
          "pie": [
           {
            "automargin": true,
            "type": "pie"
           }
          ],
          "scatter": [
           {
            "fillpattern": {
             "fillmode": "overlay",
             "size": 10,
             "solidity": 0.2
            },
            "type": "scatter"
           }
          ],
          "scatter3d": [
           {
            "line": {
             "colorbar": {
              "outlinewidth": 0,
              "ticks": ""
             }
            },
            "marker": {
             "colorbar": {
              "outlinewidth": 0,
              "ticks": ""
             }
            },
            "type": "scatter3d"
           }
          ],
          "scattercarpet": [
           {
            "marker": {
             "colorbar": {
              "outlinewidth": 0,
              "ticks": ""
             }
            },
            "type": "scattercarpet"
           }
          ],
          "scattergeo": [
           {
            "marker": {
             "colorbar": {
              "outlinewidth": 0,
              "ticks": ""
             }
            },
            "type": "scattergeo"
           }
          ],
          "scattergl": [
           {
            "marker": {
             "colorbar": {
              "outlinewidth": 0,
              "ticks": ""
             }
            },
            "type": "scattergl"
           }
          ],
          "scattermap": [
           {
            "marker": {
             "colorbar": {
              "outlinewidth": 0,
              "ticks": ""
             }
            },
            "type": "scattermap"
           }
          ],
          "scattermapbox": [
           {
            "marker": {
             "colorbar": {
              "outlinewidth": 0,
              "ticks": ""
             }
            },
            "type": "scattermapbox"
           }
          ],
          "scatterpolar": [
           {
            "marker": {
             "colorbar": {
              "outlinewidth": 0,
              "ticks": ""
             }
            },
            "type": "scatterpolar"
           }
          ],
          "scatterpolargl": [
           {
            "marker": {
             "colorbar": {
              "outlinewidth": 0,
              "ticks": ""
             }
            },
            "type": "scatterpolargl"
           }
          ],
          "scatterternary": [
           {
            "marker": {
             "colorbar": {
              "outlinewidth": 0,
              "ticks": ""
             }
            },
            "type": "scatterternary"
           }
          ],
          "surface": [
           {
            "colorbar": {
             "outlinewidth": 0,
             "ticks": ""
            },
            "colorscale": [
             [
              0,
              "#0d0887"
             ],
             [
              0.1111111111111111,
              "#46039f"
             ],
             [
              0.2222222222222222,
              "#7201a8"
             ],
             [
              0.3333333333333333,
              "#9c179e"
             ],
             [
              0.4444444444444444,
              "#bd3786"
             ],
             [
              0.5555555555555556,
              "#d8576b"
             ],
             [
              0.6666666666666666,
              "#ed7953"
             ],
             [
              0.7777777777777778,
              "#fb9f3a"
             ],
             [
              0.8888888888888888,
              "#fdca26"
             ],
             [
              1,
              "#f0f921"
             ]
            ],
            "type": "surface"
           }
          ],
          "table": [
           {
            "cells": {
             "fill": {
              "color": "#EBF0F8"
             },
             "line": {
              "color": "white"
             }
            },
            "header": {
             "fill": {
              "color": "#C8D4E3"
             },
             "line": {
              "color": "white"
             }
            },
            "type": "table"
           }
          ]
         },
         "layout": {
          "annotationdefaults": {
           "arrowcolor": "#2a3f5f",
           "arrowhead": 0,
           "arrowwidth": 1
          },
          "autotypenumbers": "strict",
          "coloraxis": {
           "colorbar": {
            "outlinewidth": 0,
            "ticks": ""
           }
          },
          "colorscale": {
           "diverging": [
            [
             0,
             "#8e0152"
            ],
            [
             0.1,
             "#c51b7d"
            ],
            [
             0.2,
             "#de77ae"
            ],
            [
             0.3,
             "#f1b6da"
            ],
            [
             0.4,
             "#fde0ef"
            ],
            [
             0.5,
             "#f7f7f7"
            ],
            [
             0.6,
             "#e6f5d0"
            ],
            [
             0.7,
             "#b8e186"
            ],
            [
             0.8,
             "#7fbc41"
            ],
            [
             0.9,
             "#4d9221"
            ],
            [
             1,
             "#276419"
            ]
           ],
           "sequential": [
            [
             0,
             "#0d0887"
            ],
            [
             0.1111111111111111,
             "#46039f"
            ],
            [
             0.2222222222222222,
             "#7201a8"
            ],
            [
             0.3333333333333333,
             "#9c179e"
            ],
            [
             0.4444444444444444,
             "#bd3786"
            ],
            [
             0.5555555555555556,
             "#d8576b"
            ],
            [
             0.6666666666666666,
             "#ed7953"
            ],
            [
             0.7777777777777778,
             "#fb9f3a"
            ],
            [
             0.8888888888888888,
             "#fdca26"
            ],
            [
             1,
             "#f0f921"
            ]
           ],
           "sequentialminus": [
            [
             0,
             "#0d0887"
            ],
            [
             0.1111111111111111,
             "#46039f"
            ],
            [
             0.2222222222222222,
             "#7201a8"
            ],
            [
             0.3333333333333333,
             "#9c179e"
            ],
            [
             0.4444444444444444,
             "#bd3786"
            ],
            [
             0.5555555555555556,
             "#d8576b"
            ],
            [
             0.6666666666666666,
             "#ed7953"
            ],
            [
             0.7777777777777778,
             "#fb9f3a"
            ],
            [
             0.8888888888888888,
             "#fdca26"
            ],
            [
             1,
             "#f0f921"
            ]
           ]
          },
          "colorway": [
           "#636efa",
           "#EF553B",
           "#00cc96",
           "#ab63fa",
           "#FFA15A",
           "#19d3f3",
           "#FF6692",
           "#B6E880",
           "#FF97FF",
           "#FECB52"
          ],
          "font": {
           "color": "#2a3f5f"
          },
          "geo": {
           "bgcolor": "white",
           "lakecolor": "white",
           "landcolor": "#E5ECF6",
           "showlakes": true,
           "showland": true,
           "subunitcolor": "white"
          },
          "hoverlabel": {
           "align": "left"
          },
          "hovermode": "closest",
          "mapbox": {
           "style": "light"
          },
          "paper_bgcolor": "white",
          "plot_bgcolor": "#E5ECF6",
          "polar": {
           "angularaxis": {
            "gridcolor": "white",
            "linecolor": "white",
            "ticks": ""
           },
           "bgcolor": "#E5ECF6",
           "radialaxis": {
            "gridcolor": "white",
            "linecolor": "white",
            "ticks": ""
           }
          },
          "scene": {
           "xaxis": {
            "backgroundcolor": "#E5ECF6",
            "gridcolor": "white",
            "gridwidth": 2,
            "linecolor": "white",
            "showbackground": true,
            "ticks": "",
            "zerolinecolor": "white"
           },
           "yaxis": {
            "backgroundcolor": "#E5ECF6",
            "gridcolor": "white",
            "gridwidth": 2,
            "linecolor": "white",
            "showbackground": true,
            "ticks": "",
            "zerolinecolor": "white"
           },
           "zaxis": {
            "backgroundcolor": "#E5ECF6",
            "gridcolor": "white",
            "gridwidth": 2,
            "linecolor": "white",
            "showbackground": true,
            "ticks": "",
            "zerolinecolor": "white"
           }
          },
          "shapedefaults": {
           "line": {
            "color": "#2a3f5f"
           }
          },
          "ternary": {
           "aaxis": {
            "gridcolor": "white",
            "linecolor": "white",
            "ticks": ""
           },
           "baxis": {
            "gridcolor": "white",
            "linecolor": "white",
            "ticks": ""
           },
           "bgcolor": "#E5ECF6",
           "caxis": {
            "gridcolor": "white",
            "linecolor": "white",
            "ticks": ""
           }
          },
          "title": {
           "x": 0.05
          },
          "xaxis": {
           "automargin": true,
           "gridcolor": "white",
           "linecolor": "white",
           "ticks": "",
           "title": {
            "standoff": 15
           },
           "zerolinecolor": "white",
           "zerolinewidth": 2
          },
          "yaxis": {
           "automargin": true,
           "gridcolor": "white",
           "linecolor": "white",
           "ticks": "",
           "title": {
            "standoff": 15
           },
           "zerolinecolor": "white",
           "zerolinewidth": 2
          }
         }
        },
        "title": {
         "text": "Cumulative Nobel Prizes by Country Over Time"
        },
        "xaxis": {
         "anchor": "y",
         "domain": [
          0,
          1
         ],
         "title": {
          "text": "Year"
         }
        },
        "yaxis": {
         "anchor": "x",
         "domain": [
          0,
          1
         ],
         "title": {
          "text": "Number of Prizes"
         }
        }
       }
      }
     },
     "metadata": {},
     "output_type": "display_data"
    }
   ],
   "source": [
    "def gen_bar_fig_top20(in_df: pd.DataFrame) -> None:\n",
    "    top20_countries = in_df.groupby(by='birth_country_current').agg({'prize': 'count'}).sort_values(by='prize', ascending=False).head(20).reset_index()\n",
    "    \n",
    "    cat_country = in_df.groupby(\n",
    "        by=['birth_country_current', 'category'], \n",
    "        as_index=False\n",
    "    ).agg({'prize': 'count'}).sort_values(\n",
    "        by='prize', \n",
    "        ascending=False\n",
    "    )\n",
    "    cat_country = cat_country[cat_country.birth_country_current.isin(top20_countries.birth_country_current)]\n",
    "\n",
    "    merged_df = pd.merge(cat_country, top20_countries, on='birth_country_current')\n",
    "    merged_df.columns = ['birth_country_current', 'category', 'cat_prize', 'total_prize']\n",
    "    merged_df = merged_df.sort_values(by='total_prize')\n",
    "    \n",
    "    top20_bar_fig = px.bar(\n",
    "        data_frame=merged_df,\n",
    "        x='cat_prize',\n",
    "        y='birth_country_current',\n",
    "        orientation='h',\n",
    "        color='category',\n",
    "        title='Top 20 Countries by Number of Prizes',\n",
    "        height=len(merged_df['birth_country_current'].unique()) * 50\n",
    "    )\n",
    "    top20_bar_fig.update_layout(\n",
    "        xaxis_title='Number of Prizes', \n",
    "        yaxis_title='Country',\n",
    "        yaxis={'categoryorder': 'total ascending'}\n",
    "    )\n",
    "    top20_bar_fig.show()\n",
    "\n",
    "\n",
    "def gen_fig_map(in_df: pd.DataFrame) -> None:\n",
    "    countrywise_distribution = in_df.groupby(\n",
    "        by=['birth_country_current', 'ISO']\n",
    "    ).agg({'prize': 'count'}).sort_values(\n",
    "        by='prize', \n",
    "        ascending=False\n",
    "    ).reset_index()\n",
    "    world_map_fig = px.choropleth(\n",
    "        data_frame=countrywise_distribution,\n",
    "        locations='ISO',\n",
    "        color='prize',\n",
    "        hover_name='birth_country_current',\n",
    "        color_continuous_scale=px.colors.sequential.matter\n",
    "    )\n",
    "    world_map_fig.update_layout(coloraxis_showscale=True)\n",
    "    world_map_fig.show()\n",
    "\n",
    "\n",
    "def gen_fig_prize_by_country_over_time(in_df: pd.DataFrame) -> None:\n",
    "    yearly_country_df = in_df.groupby(\n",
    "        by=['birth_country_current', 'year']\n",
    "    ).size().reset_index(\n",
    "        name='yearly_prize_count'\n",
    "    )\n",
    "    yearly_country_df['cumulative_prize'] = yearly_country_df.groupby(by='birth_country_current')['yearly_prize_count'].cumsum()\n",
    "\n",
    "    line_chart = px.line(\n",
    "        data_frame=yearly_country_df,\n",
    "        x='year',\n",
    "        y='cumulative_prize',\n",
    "        color='birth_country_current',\n",
    "        hover_name='birth_country_current',\n",
    "        title='Cumulative Nobel Prizes by Country Over Time',\n",
    "        labels={\n",
    "            'year': 'Year',\n",
    "            'cumulative_prize': 'Cumulative Number of Prizes',\n",
    "            'birth_country_current': 'Country'\n",
    "        }\n",
    "    )\n",
    "    line_chart.update_layout(\n",
    "        xaxis_title='Year',\n",
    "        yaxis_title='Number of Prizes'\n",
    "    )\n",
    "    line_chart.show()\n",
    "\n",
    "\n",
    "if __name__ == '__main__':\n",
    "    setup_logging()\n",
    "\n",
    "    in_df = fetch_df('input-79.csv')\n",
    "    in_df = conv_df_dtype(in_df)\n",
    "\n",
    "    # gen_bar_fig_top20(in_df)\n",
    "    # gen_fig_map(in_df)\n",
    "    gen_fig_prize_by_country_over_time(in_df)\n"
   ]
  },
  {
   "cell_type": "markdown",
   "id": "fc016e63",
   "metadata": {},
   "source": [
    "# Create Sunburst Charts for a Detailed Regional Breakdown of Research Locations"
   ]
  },
  {
   "cell_type": "code",
   "execution_count": 6,
   "id": "c398a2f2",
   "metadata": {},
   "outputs": [
    {
     "data": {
      "application/vnd.plotly.v1+json": {
       "config": {
        "plotlyServerURL": "https://plot.ly"
       },
       "data": [
        {
         "branchvalues": "total",
         "domain": {
          "x": [
           0,
           1
          ],
          "y": [
           0,
           1
          ]
         },
         "hovertemplate": "labels=%{label}<br>prize=%{value}<br>parent=%{parent}<br>id=%{id}<extra></extra>",
         "ids": [
          "United States of America/Cambridge, MA/Harvard University",
          "United States of America/Stanford, CA/Stanford University",
          "United States of America/Cambridge, MA/Massachusetts Institute of Technology (MIT)",
          "United States of America/Chicago, IL/University of Chicago",
          "United States of America/Berkeley, CA/University of California",
          "United Kingdom/Cambridge/University of Cambridge",
          "United States of America/New York, NY/Columbia University",
          "United States of America/Pasadena, CA/California Institute of Technology (Caltech)",
          "United States of America/Princeton, NJ/Princeton University",
          "United States of America/New York, NY/Rockefeller University",
          "United Kingdom/Oxford/University of Oxford",
          "United Kingdom/Cambridge/MRC Laboratory of Molecular Biology",
          "United States of America/New Haven, CT/Yale University",
          "United States of America/Ithaca, NY/Cornell University",
          "France/Paris/Sorbonne University",
          "United States of America/Boston, MA/Harvard Medical School",
          "United Kingdom/London/London University",
          "France/Paris/Institut Pasteur",
          "United States of America/Los Angeles, CA/University of California",
          "United Kingdom/London/University College London",
          "Germany/Heidelberg/University of Heidelberg",
          "United States of America/Baltimore, MD/Johns Hopkins University",
          "Germany/Berlin/Berlin University",
          "Germany/Göttingen/Goettingen University",
          "Sweden/Uppsala/Uppsala University",
          "Sweden/Stockholm/Karolinska Institutet",
          "United States of America/Bethesda, MD/National Institutes of Health",
          "United States of America/Dallas, TX/University of Texas Southwestern Medical Center at Dallas",
          "United States of America/Santa Barbara, CA/University of California",
          "Germany/Munich/Munich University",
          "United States of America/Murray Hill, NJ/Bell Laboratories",
          "United States of America/Philadelphia, PA/University of Pennsylvania",
          "Russia/Moscow/P.N. Lebedev Physical Institute",
          "United States of America/New York, NY/Rockefeller Institute for Medical Research",
          "United States of America/New York, NY/New York University",
          "Switzerland/Zurich/Eidgenössische Technische Hochschule (Swiss Federal Institute of Technology)",
          "Switzerland/Rüschlikon/IBM Zurich Research Laboratory",
          "Switzerland/Zurich/University of Zurich",
          "Japan/Kyoto/Kyoto University",
          "United States of America/San Francisco, CA/University of California",
          "United States of America/Seattle, WA/University of Washington",
          "United States of America/St. Louis, MO/Washington University",
          "United States of America/Urbana, IL/University of Illinois",
          "United States of America/Boulder, CO/University of Colorado",
          "United States of America/San Diego, CA/University of California",
          "Norway/Oslo/University of Oslo",
          "Russia/Moscow/Academy of Sciences",
          "Denmark/Copenhagen/Copenhagen University",
          "United States of America/Evanston, IL/Northwestern University",
          "United States of America/Irvine, CA/University of California",
          "France/Paris/Collège de France",
          "United States of America/Seattle, WA/Fred Hutchinson Cancer Research Center",
          "Canada/Toronto/University of Toronto",
          "United States of America/Holmdel, NJ/Bell Laboratories",
          "United Kingdom/Manchester/Victoria University",
          "Israel/Haifa/Technion - Israel Institute of Technology",
          "Switzerland/Geneva/CERN",
          "Netherlands/Leiden/Leiden University",
          "Sweden/Stockholm/Stockholm University",
          "Germany/Berlin-Dahlem/Max-Planck Institut",
          "Germany/Göttingen/Max-Planck-Institut",
          "United States of America/Madison, WI/University of Wisconsin",
          "United States of America/Pittsburgh, PA/Carnegie Mellon University",
          "Germany/Kiel/Kiel University",
          "United Kingdom/London/Imperial Cancer Research Fund",
          "United Kingdom/London/Imperial College",
          "United States of America/Princeton, NJ/Institute for Advanced Study",
          "United States of America/Bloomington, IN/Indiana University",
          "United States of America/Houston, TX/Rice University",
          "France/Paris/Institut du Radium",
          "France/Strasbourg/University of Strasbourg",
          "United States of America/Nashville, TN/Vanderbilt University",
          "Austria/Graz/Graz University",
          "Belgium/Brussels/Université Libre de Bruxelles",
          "United States of America/Los Angeles, CA/University of Southern California",
          "Austria/Vienna/Vienna University",
          "United States of America/Chapel Hill, NC/University of North Carolina",
          "Germany/Berlin/Fritz-Haber-Institut der Max-Planck-Gesellschaft",
          "United Kingdom/Edinburgh/Edinburgh University",
          "United Kingdom/London/Royal Institution of Great Britain",
          "United Kingdom/London/National Institute for Medical Research",
          "Germany/Breisgau/University of Freiburg",
          "United Kingdom/Manchester/University of Manchester",
          "United Kingdom/Brighton/University of Sussex",
          "Switzerland/Geneva/University of Geneva",
          "Germany/Leipzig/Leipzig University",
          "Norway/Trondheim/Norwegian University of Science and Technology (NTNU)",
          "Switzerland/Basel/Basel Institute for Immunology",
          "Germany/Munich/Technical University",
          "Netherlands/Amsterdam/Amsterdam University",
          "Netherlands/Utrecht/Utrecht University",
          "Russia/Moscow/University of Moscow",
          "United States of America/Research Triangle Park, NC/Wellcome Research Laboratories",
          "United States of America/Rochester, MN/Mayo Clinic",
          "United States of America/Princeton, NJ/Rockefeller Institute for Medical Research",
          "United States of America/Schenectady, NY/General Electric Company",
          "Japan/Nagoya/Nagoya University",
          "United States of America/Providence, RI/Brown University",
          "United States of America/West Lafayette, IN/Purdue University",
          "Australia/Canberra/Australian National University",
          "United States of America/Worcester, MA/University of Massachusetts Medical School",
          "United States of America/Woods Hole, MA/Marine Biological Laboratory (MBL)",
          "United States of America/Wilmington, DE/Du Pont",
          "United States of America/Washington, DC/US Naval Research Laboratory",
          "United States of America/Washington, DC/Associated Universities Inc.",
          "United States of America/Waltham MA/Brandeis University",
          "United States of America/Tempe, AZ/Arizona State University",
          "United States of America/Stanford, CA/Stanford Linear Accelerator Center",
          "United States of America/St. Louis, MO/Saint Louis University",
          "United States of America/Yorktown Heights, NY/IBM Thomas J. Watson Research Center",
          "Argentina/Buenos Aires/Institute for Biochemical Research",
          "United States of America/San Francisco, CA/Parker Institute for Cancer Immunotherapy",
          "United States of America/San Diego, CA/The Salk Institute",
          "United States of America/Salt Lake City, UT/University of Utah",
          "United States of America/Rochester, NY/University of Rochester",
          "United States of America/Richmond, VA/Virginia Commonwealth University",
          "United States of America/Research Triangle Park, NC/National Institute of Environmental Health Sciences",
          "Japan/Tokyo/Tokyo University of Education",
          "Japan/Tokyo/Tokyo Institute of Technology",
          "Japan/Tokyo/Kitasato University",
          "Japan/Tokyo/Asahi Kasei Corporation",
          "Japan/Sapporo/Hokkaido University",
          "Japan/Nagoya/Meijo University",
          "Japan/Kyoto/Shimadzu Corp.",
          "Japan/Kyoto/Kyoto Sangyo University",
          "Japan/Kashiwa/University of Tokyo",
          "Italy/Trieste/International Centre for Theoretical Physics",
          "Italy/Rome/Rome University",
          "Italy/Rome/Istituto Superiore di Sanità (Chief Institute of Public Health)",
          "Italy/Rome/Institute of Cell Biology of the C.N.R.",
          "Italy/Pavia/Pavia University",
          "Russia/Moscow/Institute for Chemical Physics of the Academy of Sciences of the USSR",
          "Portugal/Lisbon/University of Lisbon",
          "Netherlands/Rotterdam/The Netherlands School of Economics",
          "Netherlands/Groningen/University of Groningen",
          "Netherlands/Groningen/Groningen University",
          "Japan/Tsukuba/High Energy Accelerator Research Organization (KEK)",
          "Japan/Tokyo/University of Tsukuba",
          "Japan/Tokyo/University of Tokyo",
          "Italy/Milan/Institute of Technology",
          "Israel/Rehovot/Weizmann Institute of Science",
          "Israel/Jerusalem/University of Jerusalem, Center for Rationality",
          "Ireland/Dublin/Trinity College",
          "India/Calcutta/Calcutta University",
          "Hungary/Szeged/Szeged University",
          "Germany/Würzburg/Würzburg University",
          "Germany/Tübingen/Max-Planck-Institut",
          "Germany/Stuttgart/Max-Planck-Institut",
          "Germany/Mülheim/Ruhr/Max-Planck-Institut",
          "Germany/Munster/Munster University",
          "Germany/Munich/Technische Hochschule (Institute of Technology)",
          "Germany/Munich/Max-Planck-Institut",
          "Switzerland/Berne/Berne University",
          "Switzerland/Basel/Laboratorium der Farben-Fabriken J.R. Geigy A.G. (Laboratory of the J.R. Geigy Dye-Factory Co.)",
          "Switzerland/Basel/Biozentrum der Universität",
          "Switzerland/Basel/Basel University",
          "Sweden/Stockholm/Stockholm School of Economics",
          "Sweden/Stockholm/Royal Institute of Technology",
          "Sweden/Lidingö-Stockholm/Swedish Gas-Accumulator Co.",
          "Sweden/Gothenburg/Göteborg University",
          "Spain/Madrid/Madrid University",
          "Russia/St. Petersburg/Military Medical Academy",
          "Russia/St. Petersburg/A.F. Ioffe Physico-Technical Institute",
          "United Kingdom/Cambridge/The Wellcome Trust Sanger Institute",
          "United Kingdom/Cambridge/Institute of Physical Chemistry",
          "United Kingdom/Cambridge/Gurdon Institute",
          "United Kingdom/Bucksburn (Scotland)/Rowett Research Institute",
          "United Kingdom/Bristol/Bristol University",
          "United Kingdom/Bodmin/Glynn Research Laboratories",
          "United Kingdom/Birmingham/Birmingham University",
          "United Kingdom/Beckenham/The Wellcome Research Laboratories",
          "Tunisia/Tunis/Institut Pasteur",
          "Switzerland/Lausanne/University of Lausanne",
          "Germany/Martinsried/Max-Planck-Institut",
          "Germany/Marburg/Marburg University",
          "Germany/Mainz/Max-Planck-Institut",
          "Germany/Mainz/Mainz University",
          "Germany/J&uuml;lich/Forschungszentrum J&uuml;lich",
          "Germany/Heidelberg/Max-Planck-Institut",
          "Germany/Heidelberg/Max-Planck Institut",
          "Germany/Heidelberg/German Cancer Research Center",
          "Germany/Halle/Halle University",
          "Germany/Greifswald/Greifswald University",
          "Germany/Garching/Max-Planck-Institut",
          "United Kingdom/London/Marconi Wireless Telegraph Co. Ltd.",
          "United Kingdom/London/London School of Economics and Political Science",
          "United Kingdom/London/Department of Scientific and Industrial Research",
          "United Kingdom/London/Central Research Laboratories, EMI",
          "United Kingdom/Liverpool/University College London",
          "United Kingdom/Liverpool/Liverpool University",
          "United Kingdom/Hertfordshire/Francis Crick Institute",
          "United Kingdom/Harwell, Berkshire/Atomic Energy Research Establishment",
          "United Kingdom/Harlow/Standard Telecommunication Laboratories",
          "United Kingdom/Edinburgh/University of Edinburgh",
          "United Kingdom/Cardiff/Cardiff University",
          "United States of America/Berkeley, CA/The Molecular Sciences Institute",
          "United States of America/Berkeley, CA/Lawrence Berkeley National Laboratory",
          "United States of America/Batavia, IL/Fermi National Accelerator Laboratory",
          "United States of America/Bar Harbor, ME/Jackson Laboratory",
          "United States of America/Austin TX/University of Texas",
          "United States of America/Ashburn, VA/Janelia Research Campus, Howard Hughes Medical Institute",
          "United States of America/Argonne, IL/Argonne National Laboratory",
          "United Kingdom/Sheffield/Sheffield University",
          "United Kingdom/Nottingham/University of Nottingham, School of Physics and Astronomy",
          "Germany/Frankfurt-on-the-Main/Max-Planck-Institut",
          "Germany/Frankfurt-on-the-Main/Frankfurt-on-the-Main University",
          "Germany/Cologne/Cologne University",
          "Germany/Bonn/University of Bonn",
          "Germany/Bonn/Rheinische Friedrich-Wilhelms-Universität",
          "Germany/Berlin-Dahlem/Fritz-Haber-Institut",
          "Germany/Berlin/Max-Planck-Institut",
          "Germany/Berlin/Max-Planck Institut",
          "Germany/Berlin/Landwirtschaftliche Hochschule (Agricultural College)",
          "Germany/Berlin/Institute for Infectious Diseases",
          "France/Toulouse/Toulouse University",
          "France/Toulouse/Toulouse School of Economics (TSE)",
          "United States of America/Cleveland, OH/Western Reserve University",
          "United States of America/Chevy Chase/Howard Hughes Medical Institute",
          "United States of America/Buffalo, NY/The Medical Foundation of Buffalo",
          "United States of America/Boulder, CO/National Institute of Standards and Technology",
          "United States of America/Boston, MA/Children's Medical Center",
          "United States of America/Boston, MA/Brigham and Women's Hospital",
          "United States of America/Beverly, MA/New England Biolabs",
          "United States of America/Houston, TX/University of Texas",
          "United States of America/Greenwich, CT/Long Term Capital Management",
          "United States of America/Greenbelt, MD/NASA Goddard Space Flight Center",
          "United States of America/Gaithersburg, MD/National Institute of Standards and Technology",
          "United States of America/Fairfax, VA/George Mason University",
          "United States of America/Fairfax, VA/Center for Study of Public Choice",
          "United States of America/Durham, NC/Howard Hughes Medical Institute",
          "United States of America/Dallas, TX/Texas Instruments",
          "United States of America/Columbia/University of Missouri",
          "United States of America/College Park, MD/University of Maryland, Department of Economics and School of Public Policy",
          "United States of America/Cold Spring Harbor, NY/Cold Spring Harbor Laboratory",
          "France/Sèvres/Bureau International des Poids et Mesures (International Bureau of Weights and Measures)",
          "France/Strasbourg/Université de Strasbourg",
          "France/Strasbourg/Université Louis Pasteur",
          "France/Strasbourg/Strasbourg University",
          "France/Rueil-Malmaison/Institut Français du Pétrole",
          "France/Paris/École municipale de physique et de chimie industrielles (Municipal School of Industrial Physics and Chemistry)",
          "France/Paris/École Supérieure de Physique et Chimie",
          "France/Paris/École Polytechnique",
          "France/Paris/École Normale Supérieure",
          "France/Paris/École Nationale Supérieur des Mines de Paris",
          "France/Paris/World Foundation for AIDS Research and Prevention",
          "France/Paris/Université de Paris, Laboratoire Immuno-Hématologie",
          "United States of America/New Brunswick, NJ/Rutgers University",
          "United States of America/Mountain View, CA/Semiconductor Laboratory of Beckman Instruments, Inc.",
          "United States of America/Mountain View, CA/Digital Pathways, Inc.",
          "United States of America/Minneapolis, MN/University of Minnesota",
          "United States of America/Memphis, TN/St. Jude Children's Research Hospital",
          "United States of America/Medford, MA/Tufts University",
          "United States of America/Maine ME/University of Maine",
          "United States of America/Madison, NJ/Drew University",
          "United States of America/La Jolla, CA/The Scripps Research Institute",
          "United States of America/Philadelphia, PA/The Institute for Cancer Research",
          "United States of America/New York, NY/Veterans Administration Hospital",
          "United States of America/New York, NY/SUNY Health Science Center",
          "United States of America/New York, NY/Laboratories of the Division of Medicine and Public Health, Rockefeller Foundation",
          "United States of America/New York, NY/City University of New York",
          "United States of America/New York, NY/Carnegie Institution of Washington",
          "United States of America/New York, NY/Binghamton University State University of New York",
          "United States of America/New York, NY/Bell Laboratories",
          "United States of America/New Orleans, LA/Veterans Administration Hospital",
          "France/Palaiseau/École Polytechnique",
          "France/Orsay/Université Paris-Saclay",
          "France/Nancy/Nancy University",
          "France/Grenoble/University of Grenoble",
          "Finland/Helsinki/University of Helsinki",
          "Denmark/Copenhagen/Polytechnic Institute",
          "Denmark/Copenhagen/Nordita",
          "Denmark/Copenhagen/Niels Bohr Institute",
          "Denmark/Copenhagen/Finsen Medical Light Institute",
          "Denmark/Aarhus/Aarhus University",
          "Czech Republic/Prague/Polarographic Institute of the Czechoslovak Academy of Science",
          "China/Beijing/China Academy of Traditional Chinese Medicine",
          "Canada/Waterloo/University of Waterloo",
          "Canada/Vancouver/University of British Columbia",
          "Australia/Melbourne/Walter and Eliza Hall Institute for Medical Research",
          "Canada/Ottawa/National Research Council of Canada",
          "Canada/Kingston/Queen's University",
          "Canada/Hamilton, Ontario/McMaster University",
          "Canada/Edmonton/University of Alberta",
          "Belgium/Louvain/Université Catholique de Louvain",
          "Belgium/Ghent/Ghent University",
          "Belgium/Brussels/Brussels University",
          "Austria/Innsbruck/Innsbruck University",
          "Austria/Altenberg; Grünau im Almtal/Konrad-Lorenz-Institut der Österreichischen Akademie der Wissen­schaften, Forschungsstelle für Ethologie",
          "Australia/Weston Creek/Australian National University",
          "Australia/Nedlands/NHMRC Helicobacter pylori Research Laboratory, QEII Medical Centre",
          "Argentina/Buenos Aires/Instituto de Biologia y Medicina Experimental (Institute for Biology and Experimental Medicine)",
          "United States of America/Cambridge, MA",
          "United States of America/Stanford, CA",
          "United States of America/Chicago, IL",
          "United States of America/Berkeley, CA",
          "United Kingdom/Cambridge",
          "United States of America/New York, NY",
          "United States of America/Pasadena, CA",
          "United States of America/Princeton, NJ",
          "United Kingdom/Oxford",
          "United States of America/New Haven, CT",
          "United States of America/Ithaca, NY",
          "France/Paris",
          "United States of America/Boston, MA",
          "United Kingdom/London",
          "United States of America/Los Angeles, CA",
          "Germany/Heidelberg",
          "United States of America/Baltimore, MD",
          "Germany/Berlin",
          "Germany/Göttingen",
          "Sweden/Uppsala",
          "Sweden/Stockholm",
          "United States of America/Bethesda, MD",
          "United States of America/Dallas, TX",
          "United States of America/Santa Barbara, CA",
          "Germany/Munich",
          "United States of America/Murray Hill, NJ",
          "United States of America/Philadelphia, PA",
          "Russia/Moscow",
          "Switzerland/Zurich",
          "Switzerland/Rüschlikon",
          "Japan/Kyoto",
          "United States of America/San Francisco, CA",
          "United States of America/Seattle, WA",
          "United States of America/St. Louis, MO",
          "United States of America/Urbana, IL",
          "United States of America/Boulder, CO",
          "United States of America/San Diego, CA",
          "Norway/Oslo",
          "Denmark/Copenhagen",
          "United States of America/Evanston, IL",
          "United States of America/Irvine, CA",
          "Canada/Toronto",
          "United States of America/Holmdel, NJ",
          "United Kingdom/Manchester",
          "Israel/Haifa",
          "Switzerland/Geneva",
          "Netherlands/Leiden",
          "Germany/Berlin-Dahlem",
          "United States of America/Madison, WI",
          "United States of America/Pittsburgh, PA",
          "Germany/Kiel",
          "United States of America/Bloomington, IN",
          "United States of America/Houston, TX",
          "France/Strasbourg",
          "United States of America/Nashville, TN",
          "Austria/Graz",
          "Belgium/Brussels",
          "Austria/Vienna",
          "United States of America/Chapel Hill, NC",
          "United Kingdom/Edinburgh",
          "Germany/Breisgau",
          "United Kingdom/Brighton",
          "Germany/Leipzig",
          "Norway/Trondheim",
          "Switzerland/Basel",
          "Netherlands/Amsterdam",
          "Netherlands/Utrecht",
          "United States of America/Research Triangle Park, NC",
          "United States of America/Rochester, MN",
          "United States of America/Schenectady, NY",
          "Japan/Nagoya",
          "United States of America/Providence, RI",
          "United States of America/West Lafayette, IN",
          "Australia/Canberra",
          "United States of America/Worcester, MA",
          "United States of America/Woods Hole, MA",
          "United States of America/Wilmington, DE",
          "United States of America/Washington, DC",
          "United States of America/Waltham MA",
          "United States of America/Tempe, AZ",
          "United States of America/Yorktown Heights, NY",
          "Argentina/Buenos Aires",
          "United States of America/Salt Lake City, UT",
          "United States of America/Rochester, NY",
          "United States of America/Richmond, VA",
          "Japan/Tokyo",
          "Japan/Sapporo",
          "Japan/Kashiwa",
          "Italy/Trieste",
          "Italy/Rome",
          "Italy/Pavia",
          "Portugal/Lisbon",
          "Netherlands/Rotterdam",
          "Netherlands/Groningen",
          "Japan/Tsukuba",
          "Italy/Milan",
          "Israel/Rehovot",
          "Israel/Jerusalem",
          "Ireland/Dublin",
          "India/Calcutta",
          "Hungary/Szeged",
          "Germany/Würzburg",
          "Germany/Tübingen",
          "Germany/Stuttgart",
          "Germany/Mülheim/Ruhr",
          "Germany/Munster",
          "Switzerland/Berne",
          "Sweden/Lidingö-Stockholm",
          "Sweden/Gothenburg",
          "Spain/Madrid",
          "Russia/St. Petersburg",
          "United Kingdom/Bucksburn (Scotland)",
          "United Kingdom/Bristol",
          "United Kingdom/Bodmin",
          "United Kingdom/Birmingham",
          "United Kingdom/Beckenham",
          "Tunisia/Tunis",
          "Switzerland/Lausanne",
          "Germany/Martinsried",
          "Germany/Marburg",
          "Germany/Mainz",
          "Germany/J&uuml;lich",
          "Germany/Halle",
          "Germany/Greifswald",
          "Germany/Garching",
          "United Kingdom/Liverpool",
          "United Kingdom/Hertfordshire",
          "United Kingdom/Harwell, Berkshire",
          "United Kingdom/Harlow",
          "United Kingdom/Cardiff",
          "United States of America/Batavia, IL",
          "United States of America/Bar Harbor, ME",
          "United States of America/Austin TX",
          "United States of America/Ashburn, VA",
          "United States of America/Argonne, IL",
          "United Kingdom/Sheffield",
          "United Kingdom/Nottingham",
          "Germany/Frankfurt-on-the-Main",
          "Germany/Cologne",
          "Germany/Bonn",
          "France/Toulouse",
          "United States of America/Cleveland, OH",
          "United States of America/Chevy Chase",
          "United States of America/Buffalo, NY",
          "United States of America/Beverly, MA",
          "United States of America/Greenwich, CT",
          "United States of America/Greenbelt, MD",
          "United States of America/Gaithersburg, MD",
          "United States of America/Fairfax, VA",
          "United States of America/Durham, NC",
          "United States of America/Columbia",
          "United States of America/College Park, MD",
          "United States of America/Cold Spring Harbor, NY",
          "France/Sèvres",
          "France/Rueil-Malmaison",
          "United States of America/New Brunswick, NJ",
          "United States of America/Mountain View, CA",
          "United States of America/Minneapolis, MN",
          "United States of America/Memphis, TN",
          "United States of America/Medford, MA",
          "United States of America/Maine ME",
          "United States of America/Madison, NJ",
          "United States of America/La Jolla, CA",
          "United States of America/New Orleans, LA",
          "France/Palaiseau",
          "France/Orsay",
          "France/Nancy",
          "France/Grenoble",
          "Finland/Helsinki",
          "Denmark/Aarhus",
          "Czech Republic/Prague",
          "China/Beijing",
          "Canada/Waterloo",
          "Canada/Vancouver",
          "Australia/Melbourne",
          "Canada/Ottawa",
          "Canada/Kingston",
          "Canada/Hamilton, Ontario",
          "Canada/Edmonton",
          "Belgium/Louvain",
          "Belgium/Ghent",
          "Austria/Innsbruck",
          "Austria/Altenberg; Grünau im Almtal",
          "Australia/Weston Creek",
          "Australia/Nedlands",
          "United States of America",
          "United Kingdom",
          "France",
          "Germany",
          "Sweden",
          "Russia",
          "Switzerland",
          "Japan",
          "Norway",
          "Denmark",
          "Canada",
          "Israel",
          "Netherlands",
          "Austria",
          "Belgium",
          "Australia",
          "Argentina",
          "Italy",
          "Portugal",
          "Ireland",
          "India",
          "Hungary",
          "Spain",
          "Tunisia",
          "Finland",
          "Czech Republic",
          "China"
         ],
         "labels": [
          "Harvard University",
          "Stanford University",
          "Massachusetts Institute of Technology (MIT)",
          "University of Chicago",
          "University of California",
          "University of Cambridge",
          "Columbia University",
          "California Institute of Technology (Caltech)",
          "Princeton University",
          "Rockefeller University",
          "University of Oxford",
          "MRC Laboratory of Molecular Biology",
          "Yale University",
          "Cornell University",
          "Sorbonne University",
          "Harvard Medical School",
          "London University",
          "Institut Pasteur",
          "University of California",
          "University College London",
          "University of Heidelberg",
          "Johns Hopkins University",
          "Berlin University",
          "Goettingen University",
          "Uppsala University",
          "Karolinska Institutet",
          "National Institutes of Health",
          "University of Texas Southwestern Medical Center at Dallas",
          "University of California",
          "Munich University",
          "Bell Laboratories",
          "University of Pennsylvania",
          "P.N. Lebedev Physical Institute",
          "Rockefeller Institute for Medical Research",
          "New York University",
          "Eidgenössische Technische Hochschule (Swiss Federal Institute of Technology)",
          "IBM Zurich Research Laboratory",
          "University of Zurich",
          "Kyoto University",
          "University of California",
          "University of Washington",
          "Washington University",
          "University of Illinois",
          "University of Colorado",
          "University of California",
          "University of Oslo",
          "Academy of Sciences",
          "Copenhagen University",
          "Northwestern University",
          "University of California",
          "Collège de France",
          "Fred Hutchinson Cancer Research Center",
          "University of Toronto",
          "Bell Laboratories",
          "Victoria University",
          "Technion - Israel Institute of Technology",
          "CERN",
          "Leiden University",
          "Stockholm University",
          "Max-Planck Institut",
          "Max-Planck-Institut",
          "University of Wisconsin",
          "Carnegie Mellon University",
          "Kiel University",
          "Imperial Cancer Research Fund",
          "Imperial College",
          "Institute for Advanced Study",
          "Indiana University",
          "Rice University",
          "Institut du Radium",
          "University of Strasbourg",
          "Vanderbilt University",
          "Graz University",
          "Université Libre de Bruxelles",
          "University of Southern California",
          "Vienna University",
          "University of North Carolina",
          "Fritz-Haber-Institut der Max-Planck-Gesellschaft",
          "Edinburgh University",
          "Royal Institution of Great Britain",
          "National Institute for Medical Research",
          "University of Freiburg",
          "University of Manchester",
          "University of Sussex",
          "University of Geneva",
          "Leipzig University",
          "Norwegian University of Science and Technology (NTNU)",
          "Basel Institute for Immunology",
          "Technical University",
          "Amsterdam University",
          "Utrecht University",
          "University of Moscow",
          "Wellcome Research Laboratories",
          "Mayo Clinic",
          "Rockefeller Institute for Medical Research",
          "General Electric Company",
          "Nagoya University",
          "Brown University",
          "Purdue University",
          "Australian National University",
          "University of Massachusetts Medical School",
          "Marine Biological Laboratory (MBL)",
          "Du Pont",
          "US Naval Research Laboratory",
          "Associated Universities Inc.",
          "Brandeis University",
          "Arizona State University",
          "Stanford Linear Accelerator Center",
          "Saint Louis University",
          "IBM Thomas J. Watson Research Center",
          "Institute for Biochemical Research",
          "Parker Institute for Cancer Immunotherapy",
          "The Salk Institute",
          "University of Utah",
          "University of Rochester",
          "Virginia Commonwealth University",
          "National Institute of Environmental Health Sciences",
          "Tokyo University of Education",
          "Tokyo Institute of Technology",
          "Kitasato University",
          "Asahi Kasei Corporation",
          "Hokkaido University",
          "Meijo University",
          "Shimadzu Corp.",
          "Kyoto Sangyo University",
          "University of Tokyo",
          "International Centre for Theoretical Physics",
          "Rome University",
          "Istituto Superiore di Sanità (Chief Institute of Public Health)",
          "Institute of Cell Biology of the C.N.R.",
          "Pavia University",
          "Institute for Chemical Physics of the Academy of Sciences of the USSR",
          "University of Lisbon",
          "The Netherlands School of Economics",
          "University of Groningen",
          "Groningen University",
          "High Energy Accelerator Research Organization (KEK)",
          "University of Tsukuba",
          "University of Tokyo",
          "Institute of Technology",
          "Weizmann Institute of Science",
          "University of Jerusalem, Center for Rationality",
          "Trinity College",
          "Calcutta University",
          "Szeged University",
          "Würzburg University",
          "Max-Planck-Institut",
          "Max-Planck-Institut",
          "Max-Planck-Institut",
          "Munster University",
          "Technische Hochschule (Institute of Technology)",
          "Max-Planck-Institut",
          "Berne University",
          "Laboratorium der Farben-Fabriken J.R. Geigy A.G. (Laboratory of the J.R. Geigy Dye-Factory Co.)",
          "Biozentrum der Universität",
          "Basel University",
          "Stockholm School of Economics",
          "Royal Institute of Technology",
          "Swedish Gas-Accumulator Co.",
          "Göteborg University",
          "Madrid University",
          "Military Medical Academy",
          "A.F. Ioffe Physico-Technical Institute",
          "The Wellcome Trust Sanger Institute",
          "Institute of Physical Chemistry",
          "Gurdon Institute",
          "Rowett Research Institute",
          "Bristol University",
          "Glynn Research Laboratories",
          "Birmingham University",
          "The Wellcome Research Laboratories",
          "Institut Pasteur",
          "University of Lausanne",
          "Max-Planck-Institut",
          "Marburg University",
          "Max-Planck-Institut",
          "Mainz University",
          "Forschungszentrum J&uuml;lich",
          "Max-Planck-Institut",
          "Max-Planck Institut",
          "German Cancer Research Center",
          "Halle University",
          "Greifswald University",
          "Max-Planck-Institut",
          "Marconi Wireless Telegraph Co. Ltd.",
          "London School of Economics and Political Science",
          "Department of Scientific and Industrial Research",
          "Central Research Laboratories, EMI",
          "University College London",
          "Liverpool University",
          "Francis Crick Institute",
          "Atomic Energy Research Establishment",
          "Standard Telecommunication Laboratories",
          "University of Edinburgh",
          "Cardiff University",
          "The Molecular Sciences Institute",
          "Lawrence Berkeley National Laboratory",
          "Fermi National Accelerator Laboratory",
          "Jackson Laboratory",
          "University of Texas",
          "Janelia Research Campus, Howard Hughes Medical Institute",
          "Argonne National Laboratory",
          "Sheffield University",
          "University of Nottingham, School of Physics and Astronomy",
          "Max-Planck-Institut",
          "Frankfurt-on-the-Main University",
          "Cologne University",
          "University of Bonn",
          "Rheinische Friedrich-Wilhelms-Universität",
          "Fritz-Haber-Institut",
          "Max-Planck-Institut",
          "Max-Planck Institut",
          "Landwirtschaftliche Hochschule (Agricultural College)",
          "Institute for Infectious Diseases",
          "Toulouse University",
          "Toulouse School of Economics (TSE)",
          "Western Reserve University",
          "Howard Hughes Medical Institute",
          "The Medical Foundation of Buffalo",
          "National Institute of Standards and Technology",
          "Children's Medical Center",
          "Brigham and Women's Hospital",
          "New England Biolabs",
          "University of Texas",
          "Long Term Capital Management",
          "NASA Goddard Space Flight Center",
          "National Institute of Standards and Technology",
          "George Mason University",
          "Center for Study of Public Choice",
          "Howard Hughes Medical Institute",
          "Texas Instruments",
          "University of Missouri",
          "University of Maryland, Department of Economics and School of Public Policy",
          "Cold Spring Harbor Laboratory",
          "Bureau International des Poids et Mesures (International Bureau of Weights and Measures)",
          "Université de Strasbourg",
          "Université Louis Pasteur",
          "Strasbourg University",
          "Institut Français du Pétrole",
          "École municipale de physique et de chimie industrielles (Municipal School of Industrial Physics and Chemistry)",
          "École Supérieure de Physique et Chimie",
          "École Polytechnique",
          "École Normale Supérieure",
          "École Nationale Supérieur des Mines de Paris",
          "World Foundation for AIDS Research and Prevention",
          "Université de Paris, Laboratoire Immuno-Hématologie",
          "Rutgers University",
          "Semiconductor Laboratory of Beckman Instruments, Inc.",
          "Digital Pathways, Inc.",
          "University of Minnesota",
          "St. Jude Children's Research Hospital",
          "Tufts University",
          "University of Maine",
          "Drew University",
          "The Scripps Research Institute",
          "The Institute for Cancer Research",
          "Veterans Administration Hospital",
          "SUNY Health Science Center",
          "Laboratories of the Division of Medicine and Public Health, Rockefeller Foundation",
          "City University of New York",
          "Carnegie Institution of Washington",
          "Binghamton University State University of New York",
          "Bell Laboratories",
          "Veterans Administration Hospital",
          "École Polytechnique",
          "Université Paris-Saclay",
          "Nancy University",
          "University of Grenoble",
          "University of Helsinki",
          "Polytechnic Institute",
          "Nordita",
          "Niels Bohr Institute",
          "Finsen Medical Light Institute",
          "Aarhus University",
          "Polarographic Institute of the Czechoslovak Academy of Science",
          "China Academy of Traditional Chinese Medicine",
          "University of Waterloo",
          "University of British Columbia",
          "Walter and Eliza Hall Institute for Medical Research",
          "National Research Council of Canada",
          "Queen's University",
          "McMaster University",
          "University of Alberta",
          "Université Catholique de Louvain",
          "Ghent University",
          "Brussels University",
          "Innsbruck University",
          "Konrad-Lorenz-Institut der Österreichischen Akademie der Wissen­schaften, Forschungsstelle für Ethologie",
          "Australian National University",
          "NHMRC Helicobacter pylori Research Laboratory, QEII Medical Centre",
          "Instituto de Biologia y Medicina Experimental (Institute for Biology and Experimental Medicine)",
          "Cambridge, MA",
          "Stanford, CA",
          "Chicago, IL",
          "Berkeley, CA",
          "Cambridge",
          "New York, NY",
          "Pasadena, CA",
          "Princeton, NJ",
          "Oxford",
          "New Haven, CT",
          "Ithaca, NY",
          "Paris",
          "Boston, MA",
          "London",
          "Los Angeles, CA",
          "Heidelberg",
          "Baltimore, MD",
          "Berlin",
          "Göttingen",
          "Uppsala",
          "Stockholm",
          "Bethesda, MD",
          "Dallas, TX",
          "Santa Barbara, CA",
          "Munich",
          "Murray Hill, NJ",
          "Philadelphia, PA",
          "Moscow",
          "Zurich",
          "Rüschlikon",
          "Kyoto",
          "San Francisco, CA",
          "Seattle, WA",
          "St. Louis, MO",
          "Urbana, IL",
          "Boulder, CO",
          "San Diego, CA",
          "Oslo",
          "Copenhagen",
          "Evanston, IL",
          "Irvine, CA",
          "Toronto",
          "Holmdel, NJ",
          "Manchester",
          "Haifa",
          "Geneva",
          "Leiden",
          "Berlin-Dahlem",
          "Madison, WI",
          "Pittsburgh, PA",
          "Kiel",
          "Bloomington, IN",
          "Houston, TX",
          "Strasbourg",
          "Nashville, TN",
          "Graz",
          "Brussels",
          "Vienna",
          "Chapel Hill, NC",
          "Edinburgh",
          "Breisgau",
          "Brighton",
          "Leipzig",
          "Trondheim",
          "Basel",
          "Amsterdam",
          "Utrecht",
          "Research Triangle Park, NC",
          "Rochester, MN",
          "Schenectady, NY",
          "Nagoya",
          "Providence, RI",
          "West Lafayette, IN",
          "Canberra",
          "Worcester, MA",
          "Woods Hole, MA",
          "Wilmington, DE",
          "Washington, DC",
          "Waltham MA",
          "Tempe, AZ",
          "Yorktown Heights, NY",
          "Buenos Aires",
          "Salt Lake City, UT",
          "Rochester, NY",
          "Richmond, VA",
          "Tokyo",
          "Sapporo",
          "Kashiwa",
          "Trieste",
          "Rome",
          "Pavia",
          "Lisbon",
          "Rotterdam",
          "Groningen",
          "Tsukuba",
          "Milan",
          "Rehovot",
          "Jerusalem",
          "Dublin",
          "Calcutta",
          "Szeged",
          "Würzburg",
          "Tübingen",
          "Stuttgart",
          "Mülheim/Ruhr",
          "Munster",
          "Berne",
          "Lidingö-Stockholm",
          "Gothenburg",
          "Madrid",
          "St. Petersburg",
          "Bucksburn (Scotland)",
          "Bristol",
          "Bodmin",
          "Birmingham",
          "Beckenham",
          "Tunis",
          "Lausanne",
          "Martinsried",
          "Marburg",
          "Mainz",
          "J&uuml;lich",
          "Halle",
          "Greifswald",
          "Garching",
          "Liverpool",
          "Hertfordshire",
          "Harwell, Berkshire",
          "Harlow",
          "Cardiff",
          "Batavia, IL",
          "Bar Harbor, ME",
          "Austin TX",
          "Ashburn, VA",
          "Argonne, IL",
          "Sheffield",
          "Nottingham",
          "Frankfurt-on-the-Main",
          "Cologne",
          "Bonn",
          "Toulouse",
          "Cleveland, OH",
          "Chevy Chase",
          "Buffalo, NY",
          "Beverly, MA",
          "Greenwich, CT",
          "Greenbelt, MD",
          "Gaithersburg, MD",
          "Fairfax, VA",
          "Durham, NC",
          "Columbia",
          "College Park, MD",
          "Cold Spring Harbor, NY",
          "Sèvres",
          "Rueil-Malmaison",
          "New Brunswick, NJ",
          "Mountain View, CA",
          "Minneapolis, MN",
          "Memphis, TN",
          "Medford, MA",
          "Maine ME",
          "Madison, NJ",
          "La Jolla, CA",
          "New Orleans, LA",
          "Palaiseau",
          "Orsay",
          "Nancy",
          "Grenoble",
          "Helsinki",
          "Aarhus",
          "Prague",
          "Beijing",
          "Waterloo",
          "Vancouver",
          "Melbourne",
          "Ottawa",
          "Kingston",
          "Hamilton, Ontario",
          "Edmonton",
          "Louvain",
          "Ghent",
          "Innsbruck",
          "Altenberg; Grünau im Almtal",
          "Weston Creek",
          "Nedlands",
          "United States of America",
          "United Kingdom",
          "France",
          "Germany",
          "Sweden",
          "Russia",
          "Switzerland",
          "Japan",
          "Norway",
          "Denmark",
          "Canada",
          "Israel",
          "Netherlands",
          "Austria",
          "Belgium",
          "Australia",
          "Argentina",
          "Italy",
          "Portugal",
          "Ireland",
          "India",
          "Hungary",
          "Spain",
          "Tunisia",
          "Finland",
          "Czech Republic",
          "China"
         ],
         "name": "",
         "parents": [
          "United States of America/Cambridge, MA",
          "United States of America/Stanford, CA",
          "United States of America/Cambridge, MA",
          "United States of America/Chicago, IL",
          "United States of America/Berkeley, CA",
          "United Kingdom/Cambridge",
          "United States of America/New York, NY",
          "United States of America/Pasadena, CA",
          "United States of America/Princeton, NJ",
          "United States of America/New York, NY",
          "United Kingdom/Oxford",
          "United Kingdom/Cambridge",
          "United States of America/New Haven, CT",
          "United States of America/Ithaca, NY",
          "France/Paris",
          "United States of America/Boston, MA",
          "United Kingdom/London",
          "France/Paris",
          "United States of America/Los Angeles, CA",
          "United Kingdom/London",
          "Germany/Heidelberg",
          "United States of America/Baltimore, MD",
          "Germany/Berlin",
          "Germany/Göttingen",
          "Sweden/Uppsala",
          "Sweden/Stockholm",
          "United States of America/Bethesda, MD",
          "United States of America/Dallas, TX",
          "United States of America/Santa Barbara, CA",
          "Germany/Munich",
          "United States of America/Murray Hill, NJ",
          "United States of America/Philadelphia, PA",
          "Russia/Moscow",
          "United States of America/New York, NY",
          "United States of America/New York, NY",
          "Switzerland/Zurich",
          "Switzerland/Rüschlikon",
          "Switzerland/Zurich",
          "Japan/Kyoto",
          "United States of America/San Francisco, CA",
          "United States of America/Seattle, WA",
          "United States of America/St. Louis, MO",
          "United States of America/Urbana, IL",
          "United States of America/Boulder, CO",
          "United States of America/San Diego, CA",
          "Norway/Oslo",
          "Russia/Moscow",
          "Denmark/Copenhagen",
          "United States of America/Evanston, IL",
          "United States of America/Irvine, CA",
          "France/Paris",
          "United States of America/Seattle, WA",
          "Canada/Toronto",
          "United States of America/Holmdel, NJ",
          "United Kingdom/Manchester",
          "Israel/Haifa",
          "Switzerland/Geneva",
          "Netherlands/Leiden",
          "Sweden/Stockholm",
          "Germany/Berlin-Dahlem",
          "Germany/Göttingen",
          "United States of America/Madison, WI",
          "United States of America/Pittsburgh, PA",
          "Germany/Kiel",
          "United Kingdom/London",
          "United Kingdom/London",
          "United States of America/Princeton, NJ",
          "United States of America/Bloomington, IN",
          "United States of America/Houston, TX",
          "France/Paris",
          "France/Strasbourg",
          "United States of America/Nashville, TN",
          "Austria/Graz",
          "Belgium/Brussels",
          "United States of America/Los Angeles, CA",
          "Austria/Vienna",
          "United States of America/Chapel Hill, NC",
          "Germany/Berlin",
          "United Kingdom/Edinburgh",
          "United Kingdom/London",
          "United Kingdom/London",
          "Germany/Breisgau",
          "United Kingdom/Manchester",
          "United Kingdom/Brighton",
          "Switzerland/Geneva",
          "Germany/Leipzig",
          "Norway/Trondheim",
          "Switzerland/Basel",
          "Germany/Munich",
          "Netherlands/Amsterdam",
          "Netherlands/Utrecht",
          "Russia/Moscow",
          "United States of America/Research Triangle Park, NC",
          "United States of America/Rochester, MN",
          "United States of America/Princeton, NJ",
          "United States of America/Schenectady, NY",
          "Japan/Nagoya",
          "United States of America/Providence, RI",
          "United States of America/West Lafayette, IN",
          "Australia/Canberra",
          "United States of America/Worcester, MA",
          "United States of America/Woods Hole, MA",
          "United States of America/Wilmington, DE",
          "United States of America/Washington, DC",
          "United States of America/Washington, DC",
          "United States of America/Waltham MA",
          "United States of America/Tempe, AZ",
          "United States of America/Stanford, CA",
          "United States of America/St. Louis, MO",
          "United States of America/Yorktown Heights, NY",
          "Argentina/Buenos Aires",
          "United States of America/San Francisco, CA",
          "United States of America/San Diego, CA",
          "United States of America/Salt Lake City, UT",
          "United States of America/Rochester, NY",
          "United States of America/Richmond, VA",
          "United States of America/Research Triangle Park, NC",
          "Japan/Tokyo",
          "Japan/Tokyo",
          "Japan/Tokyo",
          "Japan/Tokyo",
          "Japan/Sapporo",
          "Japan/Nagoya",
          "Japan/Kyoto",
          "Japan/Kyoto",
          "Japan/Kashiwa",
          "Italy/Trieste",
          "Italy/Rome",
          "Italy/Rome",
          "Italy/Rome",
          "Italy/Pavia",
          "Russia/Moscow",
          "Portugal/Lisbon",
          "Netherlands/Rotterdam",
          "Netherlands/Groningen",
          "Netherlands/Groningen",
          "Japan/Tsukuba",
          "Japan/Tokyo",
          "Japan/Tokyo",
          "Italy/Milan",
          "Israel/Rehovot",
          "Israel/Jerusalem",
          "Ireland/Dublin",
          "India/Calcutta",
          "Hungary/Szeged",
          "Germany/Würzburg",
          "Germany/Tübingen",
          "Germany/Stuttgart",
          "Germany/Mülheim/Ruhr",
          "Germany/Munster",
          "Germany/Munich",
          "Germany/Munich",
          "Switzerland/Berne",
          "Switzerland/Basel",
          "Switzerland/Basel",
          "Switzerland/Basel",
          "Sweden/Stockholm",
          "Sweden/Stockholm",
          "Sweden/Lidingö-Stockholm",
          "Sweden/Gothenburg",
          "Spain/Madrid",
          "Russia/St. Petersburg",
          "Russia/St. Petersburg",
          "United Kingdom/Cambridge",
          "United Kingdom/Cambridge",
          "United Kingdom/Cambridge",
          "United Kingdom/Bucksburn (Scotland)",
          "United Kingdom/Bristol",
          "United Kingdom/Bodmin",
          "United Kingdom/Birmingham",
          "United Kingdom/Beckenham",
          "Tunisia/Tunis",
          "Switzerland/Lausanne",
          "Germany/Martinsried",
          "Germany/Marburg",
          "Germany/Mainz",
          "Germany/Mainz",
          "Germany/J&uuml;lich",
          "Germany/Heidelberg",
          "Germany/Heidelberg",
          "Germany/Heidelberg",
          "Germany/Halle",
          "Germany/Greifswald",
          "Germany/Garching",
          "United Kingdom/London",
          "United Kingdom/London",
          "United Kingdom/London",
          "United Kingdom/London",
          "United Kingdom/Liverpool",
          "United Kingdom/Liverpool",
          "United Kingdom/Hertfordshire",
          "United Kingdom/Harwell, Berkshire",
          "United Kingdom/Harlow",
          "United Kingdom/Edinburgh",
          "United Kingdom/Cardiff",
          "United States of America/Berkeley, CA",
          "United States of America/Berkeley, CA",
          "United States of America/Batavia, IL",
          "United States of America/Bar Harbor, ME",
          "United States of America/Austin TX",
          "United States of America/Ashburn, VA",
          "United States of America/Argonne, IL",
          "United Kingdom/Sheffield",
          "United Kingdom/Nottingham",
          "Germany/Frankfurt-on-the-Main",
          "Germany/Frankfurt-on-the-Main",
          "Germany/Cologne",
          "Germany/Bonn",
          "Germany/Bonn",
          "Germany/Berlin-Dahlem",
          "Germany/Berlin",
          "Germany/Berlin",
          "Germany/Berlin",
          "Germany/Berlin",
          "France/Toulouse",
          "France/Toulouse",
          "United States of America/Cleveland, OH",
          "United States of America/Chevy Chase",
          "United States of America/Buffalo, NY",
          "United States of America/Boulder, CO",
          "United States of America/Boston, MA",
          "United States of America/Boston, MA",
          "United States of America/Beverly, MA",
          "United States of America/Houston, TX",
          "United States of America/Greenwich, CT",
          "United States of America/Greenbelt, MD",
          "United States of America/Gaithersburg, MD",
          "United States of America/Fairfax, VA",
          "United States of America/Fairfax, VA",
          "United States of America/Durham, NC",
          "United States of America/Dallas, TX",
          "United States of America/Columbia",
          "United States of America/College Park, MD",
          "United States of America/Cold Spring Harbor, NY",
          "France/Sèvres",
          "France/Strasbourg",
          "France/Strasbourg",
          "France/Strasbourg",
          "France/Rueil-Malmaison",
          "France/Paris",
          "France/Paris",
          "France/Paris",
          "France/Paris",
          "France/Paris",
          "France/Paris",
          "France/Paris",
          "United States of America/New Brunswick, NJ",
          "United States of America/Mountain View, CA",
          "United States of America/Mountain View, CA",
          "United States of America/Minneapolis, MN",
          "United States of America/Memphis, TN",
          "United States of America/Medford, MA",
          "United States of America/Maine ME",
          "United States of America/Madison, NJ",
          "United States of America/La Jolla, CA",
          "United States of America/Philadelphia, PA",
          "United States of America/New York, NY",
          "United States of America/New York, NY",
          "United States of America/New York, NY",
          "United States of America/New York, NY",
          "United States of America/New York, NY",
          "United States of America/New York, NY",
          "United States of America/New York, NY",
          "United States of America/New Orleans, LA",
          "France/Palaiseau",
          "France/Orsay",
          "France/Nancy",
          "France/Grenoble",
          "Finland/Helsinki",
          "Denmark/Copenhagen",
          "Denmark/Copenhagen",
          "Denmark/Copenhagen",
          "Denmark/Copenhagen",
          "Denmark/Aarhus",
          "Czech Republic/Prague",
          "China/Beijing",
          "Canada/Waterloo",
          "Canada/Vancouver",
          "Australia/Melbourne",
          "Canada/Ottawa",
          "Canada/Kingston",
          "Canada/Hamilton, Ontario",
          "Canada/Edmonton",
          "Belgium/Louvain",
          "Belgium/Ghent",
          "Belgium/Brussels",
          "Austria/Innsbruck",
          "Austria/Altenberg; Grünau im Almtal",
          "Australia/Weston Creek",
          "Australia/Nedlands",
          "Argentina/Buenos Aires",
          "United States of America",
          "United States of America",
          "United States of America",
          "United States of America",
          "United Kingdom",
          "United States of America",
          "United States of America",
          "United States of America",
          "United Kingdom",
          "United States of America",
          "United States of America",
          "France",
          "United States of America",
          "United Kingdom",
          "United States of America",
          "Germany",
          "United States of America",
          "Germany",
          "Germany",
          "Sweden",
          "Sweden",
          "United States of America",
          "United States of America",
          "United States of America",
          "Germany",
          "United States of America",
          "United States of America",
          "Russia",
          "Switzerland",
          "Switzerland",
          "Japan",
          "United States of America",
          "United States of America",
          "United States of America",
          "United States of America",
          "United States of America",
          "United States of America",
          "Norway",
          "Denmark",
          "United States of America",
          "United States of America",
          "Canada",
          "United States of America",
          "United Kingdom",
          "Israel",
          "Switzerland",
          "Netherlands",
          "Germany",
          "United States of America",
          "United States of America",
          "Germany",
          "United States of America",
          "United States of America",
          "France",
          "United States of America",
          "Austria",
          "Belgium",
          "Austria",
          "United States of America",
          "United Kingdom",
          "Germany",
          "United Kingdom",
          "Germany",
          "Norway",
          "Switzerland",
          "Netherlands",
          "Netherlands",
          "United States of America",
          "United States of America",
          "United States of America",
          "Japan",
          "United States of America",
          "United States of America",
          "Australia",
          "United States of America",
          "United States of America",
          "United States of America",
          "United States of America",
          "United States of America",
          "United States of America",
          "United States of America",
          "Argentina",
          "United States of America",
          "United States of America",
          "United States of America",
          "Japan",
          "Japan",
          "Japan",
          "Italy",
          "Italy",
          "Italy",
          "Portugal",
          "Netherlands",
          "Netherlands",
          "Japan",
          "Italy",
          "Israel",
          "Israel",
          "Ireland",
          "India",
          "Hungary",
          "Germany",
          "Germany",
          "Germany",
          "Germany",
          "Germany",
          "Switzerland",
          "Sweden",
          "Sweden",
          "Spain",
          "Russia",
          "United Kingdom",
          "United Kingdom",
          "United Kingdom",
          "United Kingdom",
          "United Kingdom",
          "Tunisia",
          "Switzerland",
          "Germany",
          "Germany",
          "Germany",
          "Germany",
          "Germany",
          "Germany",
          "Germany",
          "United Kingdom",
          "United Kingdom",
          "United Kingdom",
          "United Kingdom",
          "United Kingdom",
          "United States of America",
          "United States of America",
          "United States of America",
          "United States of America",
          "United States of America",
          "United Kingdom",
          "United Kingdom",
          "Germany",
          "Germany",
          "Germany",
          "France",
          "United States of America",
          "United States of America",
          "United States of America",
          "United States of America",
          "United States of America",
          "United States of America",
          "United States of America",
          "United States of America",
          "United States of America",
          "United States of America",
          "United States of America",
          "United States of America",
          "France",
          "France",
          "United States of America",
          "United States of America",
          "United States of America",
          "United States of America",
          "United States of America",
          "United States of America",
          "United States of America",
          "United States of America",
          "United States of America",
          "France",
          "France",
          "France",
          "France",
          "Finland",
          "Denmark",
          "Czech Republic",
          "China",
          "Canada",
          "Canada",
          "Australia",
          "Canada",
          "Canada",
          "Canada",
          "Canada",
          "Belgium",
          "Belgium",
          "Austria",
          "Austria",
          "Australia",
          "Australia",
          "",
          "",
          "",
          "",
          "",
          "",
          "",
          "",
          "",
          "",
          "",
          "",
          "",
          "",
          "",
          "",
          "",
          "",
          "",
          "",
          "",
          "",
          "",
          "",
          "",
          "",
          ""
         ],
         "type": "sunburst",
         "values": {
          "bdata": "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",
          "dtype": "f8"
         }
        }
       ],
       "layout": {
        "legend": {
         "tracegroupgap": 0
        },
        "template": {
         "data": {
          "bar": [
           {
            "error_x": {
             "color": "#2a3f5f"
            },
            "error_y": {
             "color": "#2a3f5f"
            },
            "marker": {
             "line": {
              "color": "#E5ECF6",
              "width": 0.5
             },
             "pattern": {
              "fillmode": "overlay",
              "size": 10,
              "solidity": 0.2
             }
            },
            "type": "bar"
           }
          ],
          "barpolar": [
           {
            "marker": {
             "line": {
              "color": "#E5ECF6",
              "width": 0.5
             },
             "pattern": {
              "fillmode": "overlay",
              "size": 10,
              "solidity": 0.2
             }
            },
            "type": "barpolar"
           }
          ],
          "carpet": [
           {
            "aaxis": {
             "endlinecolor": "#2a3f5f",
             "gridcolor": "white",
             "linecolor": "white",
             "minorgridcolor": "white",
             "startlinecolor": "#2a3f5f"
            },
            "baxis": {
             "endlinecolor": "#2a3f5f",
             "gridcolor": "white",
             "linecolor": "white",
             "minorgridcolor": "white",
             "startlinecolor": "#2a3f5f"
            },
            "type": "carpet"
           }
          ],
          "choropleth": [
           {
            "colorbar": {
             "outlinewidth": 0,
             "ticks": ""
            },
            "type": "choropleth"
           }
          ],
          "contour": [
           {
            "colorbar": {
             "outlinewidth": 0,
             "ticks": ""
            },
            "colorscale": [
             [
              0,
              "#0d0887"
             ],
             [
              0.1111111111111111,
              "#46039f"
             ],
             [
              0.2222222222222222,
              "#7201a8"
             ],
             [
              0.3333333333333333,
              "#9c179e"
             ],
             [
              0.4444444444444444,
              "#bd3786"
             ],
             [
              0.5555555555555556,
              "#d8576b"
             ],
             [
              0.6666666666666666,
              "#ed7953"
             ],
             [
              0.7777777777777778,
              "#fb9f3a"
             ],
             [
              0.8888888888888888,
              "#fdca26"
             ],
             [
              1,
              "#f0f921"
             ]
            ],
            "type": "contour"
           }
          ],
          "contourcarpet": [
           {
            "colorbar": {
             "outlinewidth": 0,
             "ticks": ""
            },
            "type": "contourcarpet"
           }
          ],
          "heatmap": [
           {
            "colorbar": {
             "outlinewidth": 0,
             "ticks": ""
            },
            "colorscale": [
             [
              0,
              "#0d0887"
             ],
             [
              0.1111111111111111,
              "#46039f"
             ],
             [
              0.2222222222222222,
              "#7201a8"
             ],
             [
              0.3333333333333333,
              "#9c179e"
             ],
             [
              0.4444444444444444,
              "#bd3786"
             ],
             [
              0.5555555555555556,
              "#d8576b"
             ],
             [
              0.6666666666666666,
              "#ed7953"
             ],
             [
              0.7777777777777778,
              "#fb9f3a"
             ],
             [
              0.8888888888888888,
              "#fdca26"
             ],
             [
              1,
              "#f0f921"
             ]
            ],
            "type": "heatmap"
           }
          ],
          "histogram": [
           {
            "marker": {
             "pattern": {
              "fillmode": "overlay",
              "size": 10,
              "solidity": 0.2
             }
            },
            "type": "histogram"
           }
          ],
          "histogram2d": [
           {
            "colorbar": {
             "outlinewidth": 0,
             "ticks": ""
            },
            "colorscale": [
             [
              0,
              "#0d0887"
             ],
             [
              0.1111111111111111,
              "#46039f"
             ],
             [
              0.2222222222222222,
              "#7201a8"
             ],
             [
              0.3333333333333333,
              "#9c179e"
             ],
             [
              0.4444444444444444,
              "#bd3786"
             ],
             [
              0.5555555555555556,
              "#d8576b"
             ],
             [
              0.6666666666666666,
              "#ed7953"
             ],
             [
              0.7777777777777778,
              "#fb9f3a"
             ],
             [
              0.8888888888888888,
              "#fdca26"
             ],
             [
              1,
              "#f0f921"
             ]
            ],
            "type": "histogram2d"
           }
          ],
          "histogram2dcontour": [
           {
            "colorbar": {
             "outlinewidth": 0,
             "ticks": ""
            },
            "colorscale": [
             [
              0,
              "#0d0887"
             ],
             [
              0.1111111111111111,
              "#46039f"
             ],
             [
              0.2222222222222222,
              "#7201a8"
             ],
             [
              0.3333333333333333,
              "#9c179e"
             ],
             [
              0.4444444444444444,
              "#bd3786"
             ],
             [
              0.5555555555555556,
              "#d8576b"
             ],
             [
              0.6666666666666666,
              "#ed7953"
             ],
             [
              0.7777777777777778,
              "#fb9f3a"
             ],
             [
              0.8888888888888888,
              "#fdca26"
             ],
             [
              1,
              "#f0f921"
             ]
            ],
            "type": "histogram2dcontour"
           }
          ],
          "mesh3d": [
           {
            "colorbar": {
             "outlinewidth": 0,
             "ticks": ""
            },
            "type": "mesh3d"
           }
          ],
          "parcoords": [
           {
            "line": {
             "colorbar": {
              "outlinewidth": 0,
              "ticks": ""
             }
            },
            "type": "parcoords"
           }
          ],
          "pie": [
           {
            "automargin": true,
            "type": "pie"
           }
          ],
          "scatter": [
           {
            "fillpattern": {
             "fillmode": "overlay",
             "size": 10,
             "solidity": 0.2
            },
            "type": "scatter"
           }
          ],
          "scatter3d": [
           {
            "line": {
             "colorbar": {
              "outlinewidth": 0,
              "ticks": ""
             }
            },
            "marker": {
             "colorbar": {
              "outlinewidth": 0,
              "ticks": ""
             }
            },
            "type": "scatter3d"
           }
          ],
          "scattercarpet": [
           {
            "marker": {
             "colorbar": {
              "outlinewidth": 0,
              "ticks": ""
             }
            },
            "type": "scattercarpet"
           }
          ],
          "scattergeo": [
           {
            "marker": {
             "colorbar": {
              "outlinewidth": 0,
              "ticks": ""
             }
            },
            "type": "scattergeo"
           }
          ],
          "scattergl": [
           {
            "marker": {
             "colorbar": {
              "outlinewidth": 0,
              "ticks": ""
             }
            },
            "type": "scattergl"
           }
          ],
          "scattermap": [
           {
            "marker": {
             "colorbar": {
              "outlinewidth": 0,
              "ticks": ""
             }
            },
            "type": "scattermap"
           }
          ],
          "scattermapbox": [
           {
            "marker": {
             "colorbar": {
              "outlinewidth": 0,
              "ticks": ""
             }
            },
            "type": "scattermapbox"
           }
          ],
          "scatterpolar": [
           {
            "marker": {
             "colorbar": {
              "outlinewidth": 0,
              "ticks": ""
             }
            },
            "type": "scatterpolar"
           }
          ],
          "scatterpolargl": [
           {
            "marker": {
             "colorbar": {
              "outlinewidth": 0,
              "ticks": ""
             }
            },
            "type": "scatterpolargl"
           }
          ],
          "scatterternary": [
           {
            "marker": {
             "colorbar": {
              "outlinewidth": 0,
              "ticks": ""
             }
            },
            "type": "scatterternary"
           }
          ],
          "surface": [
           {
            "colorbar": {
             "outlinewidth": 0,
             "ticks": ""
            },
            "colorscale": [
             [
              0,
              "#0d0887"
             ],
             [
              0.1111111111111111,
              "#46039f"
             ],
             [
              0.2222222222222222,
              "#7201a8"
             ],
             [
              0.3333333333333333,
              "#9c179e"
             ],
             [
              0.4444444444444444,
              "#bd3786"
             ],
             [
              0.5555555555555556,
              "#d8576b"
             ],
             [
              0.6666666666666666,
              "#ed7953"
             ],
             [
              0.7777777777777778,
              "#fb9f3a"
             ],
             [
              0.8888888888888888,
              "#fdca26"
             ],
             [
              1,
              "#f0f921"
             ]
            ],
            "type": "surface"
           }
          ],
          "table": [
           {
            "cells": {
             "fill": {
              "color": "#EBF0F8"
             },
             "line": {
              "color": "white"
             }
            },
            "header": {
             "fill": {
              "color": "#C8D4E3"
             },
             "line": {
              "color": "white"
             }
            },
            "type": "table"
           }
          ]
         },
         "layout": {
          "annotationdefaults": {
           "arrowcolor": "#2a3f5f",
           "arrowhead": 0,
           "arrowwidth": 1
          },
          "autotypenumbers": "strict",
          "coloraxis": {
           "colorbar": {
            "outlinewidth": 0,
            "ticks": ""
           }
          },
          "colorscale": {
           "diverging": [
            [
             0,
             "#8e0152"
            ],
            [
             0.1,
             "#c51b7d"
            ],
            [
             0.2,
             "#de77ae"
            ],
            [
             0.3,
             "#f1b6da"
            ],
            [
             0.4,
             "#fde0ef"
            ],
            [
             0.5,
             "#f7f7f7"
            ],
            [
             0.6,
             "#e6f5d0"
            ],
            [
             0.7,
             "#b8e186"
            ],
            [
             0.8,
             "#7fbc41"
            ],
            [
             0.9,
             "#4d9221"
            ],
            [
             1,
             "#276419"
            ]
           ],
           "sequential": [
            [
             0,
             "#0d0887"
            ],
            [
             0.1111111111111111,
             "#46039f"
            ],
            [
             0.2222222222222222,
             "#7201a8"
            ],
            [
             0.3333333333333333,
             "#9c179e"
            ],
            [
             0.4444444444444444,
             "#bd3786"
            ],
            [
             0.5555555555555556,
             "#d8576b"
            ],
            [
             0.6666666666666666,
             "#ed7953"
            ],
            [
             0.7777777777777778,
             "#fb9f3a"
            ],
            [
             0.8888888888888888,
             "#fdca26"
            ],
            [
             1,
             "#f0f921"
            ]
           ],
           "sequentialminus": [
            [
             0,
             "#0d0887"
            ],
            [
             0.1111111111111111,
             "#46039f"
            ],
            [
             0.2222222222222222,
             "#7201a8"
            ],
            [
             0.3333333333333333,
             "#9c179e"
            ],
            [
             0.4444444444444444,
             "#bd3786"
            ],
            [
             0.5555555555555556,
             "#d8576b"
            ],
            [
             0.6666666666666666,
             "#ed7953"
            ],
            [
             0.7777777777777778,
             "#fb9f3a"
            ],
            [
             0.8888888888888888,
             "#fdca26"
            ],
            [
             1,
             "#f0f921"
            ]
           ]
          },
          "colorway": [
           "#636efa",
           "#EF553B",
           "#00cc96",
           "#ab63fa",
           "#FFA15A",
           "#19d3f3",
           "#FF6692",
           "#B6E880",
           "#FF97FF",
           "#FECB52"
          ],
          "font": {
           "color": "#2a3f5f"
          },
          "geo": {
           "bgcolor": "white",
           "lakecolor": "white",
           "landcolor": "#E5ECF6",
           "showlakes": true,
           "showland": true,
           "subunitcolor": "white"
          },
          "hoverlabel": {
           "align": "left"
          },
          "hovermode": "closest",
          "mapbox": {
           "style": "light"
          },
          "paper_bgcolor": "white",
          "plot_bgcolor": "#E5ECF6",
          "polar": {
           "angularaxis": {
            "gridcolor": "white",
            "linecolor": "white",
            "ticks": ""
           },
           "bgcolor": "#E5ECF6",
           "radialaxis": {
            "gridcolor": "white",
            "linecolor": "white",
            "ticks": ""
           }
          },
          "scene": {
           "xaxis": {
            "backgroundcolor": "#E5ECF6",
            "gridcolor": "white",
            "gridwidth": 2,
            "linecolor": "white",
            "showbackground": true,
            "ticks": "",
            "zerolinecolor": "white"
           },
           "yaxis": {
            "backgroundcolor": "#E5ECF6",
            "gridcolor": "white",
            "gridwidth": 2,
            "linecolor": "white",
            "showbackground": true,
            "ticks": "",
            "zerolinecolor": "white"
           },
           "zaxis": {
            "backgroundcolor": "#E5ECF6",
            "gridcolor": "white",
            "gridwidth": 2,
            "linecolor": "white",
            "showbackground": true,
            "ticks": "",
            "zerolinecolor": "white"
           }
          },
          "shapedefaults": {
           "line": {
            "color": "#2a3f5f"
           }
          },
          "ternary": {
           "aaxis": {
            "gridcolor": "white",
            "linecolor": "white",
            "ticks": ""
           },
           "baxis": {
            "gridcolor": "white",
            "linecolor": "white",
            "ticks": ""
           },
           "bgcolor": "#E5ECF6",
           "caxis": {
            "gridcolor": "white",
            "linecolor": "white",
            "ticks": ""
           }
          },
          "title": {
           "x": 0.05
          },
          "xaxis": {
           "automargin": true,
           "gridcolor": "white",
           "linecolor": "white",
           "ticks": "",
           "title": {
            "standoff": 15
           },
           "zerolinecolor": "white",
           "zerolinewidth": 2
          },
          "yaxis": {
           "automargin": true,
           "gridcolor": "white",
           "linecolor": "white",
           "ticks": "",
           "title": {
            "standoff": 15
           },
           "zerolinecolor": "white",
           "zerolinewidth": 2
          }
         }
        },
        "title": {
         "text": "Where do discoveries take place?"
        },
        "xaxis": {
         "title": {
          "text": "Number of Prizes"
         }
        },
        "yaxis": {
         "title": {
          "text": "City"
         }
        }
       }
      }
     },
     "metadata": {},
     "output_type": "display_data"
    }
   ],
   "source": [
    "def gen_fig_top20_org(in_df: pd.DataFrame) -> None:\n",
    "    org_df = in_df.groupby(by='organization_name', as_index=False).agg({'prize': 'count'}).sort_values(by='prize', ascending=False).head(20)\n",
    "\n",
    "    org_bar_fig = px.bar(\n",
    "        data_frame=org_df,\n",
    "        x='prize',\n",
    "        y='organization_name',\n",
    "        orientation='h',\n",
    "        color='prize',\n",
    "        color_continuous_scale=px.colors.sequential.haline,\n",
    "        title='Top 20 organization noble distribution',\n",
    "        height=len(org_df['organization_name'].unique()) * 30,\n",
    "        labels={'prize': 'Number of Prizes', 'organization_name': 'Institution'}\n",
    "    )\n",
    "    org_bar_fig.update_layout(\n",
    "        coloraxis_showscale=False,\n",
    "        yaxis={'categoryorder': 'total ascending'}\n",
    "    )\n",
    "    org_bar_fig.show()\n",
    "\n",
    "\n",
    "def gen_fig_org_city(in_df: pd.DataFrame) -> None:\n",
    "    org_city_df = in_df.groupby(by='organization_city', as_index=False).agg({'prize': 'count'}).sort_values(by='prize', ascending=False).head(20)\n",
    "    org_city_bar_fig = px.bar(\n",
    "        data_frame=org_city_df,\n",
    "        x='prize',\n",
    "        y='organization_city',\n",
    "        orientation='h',\n",
    "        color='prize',\n",
    "        color_continuous_scale=px.colors.sequential.Plasma,\n",
    "        title='Which Cities Do the Most Research?',\n",
    "        height=len(org_city_df['organization_city'].unique()) * 30,\n",
    "        labels={'prize': 'Number of Prizes', 'organization_city': 'City'}\n",
    "    )\n",
    "    org_city_bar_fig.update_layout(\n",
    "        coloraxis_showscale=False,\n",
    "        yaxis={'categoryorder': 'total ascending'}\n",
    "    )\n",
    "    org_city_bar_fig.show()\n",
    "\n",
    "\n",
    "def gen_fig_birth_city(in_df: pd.DataFrame) -> None:\n",
    "    top20_laurate_birth_city = in_df.groupby(by='birth_city', as_index=False).agg({'prize': 'count'}).sort_values(by='prize', ascending=False).head(20)\n",
    "    # print(top20_laurate_birth_city)\n",
    "    laurate_birth_city_bar_fig = px.bar(\n",
    "        data_frame=top20_laurate_birth_city,\n",
    "        x='prize',\n",
    "        y='birth_city',\n",
    "        orientation='h',\n",
    "        color='prize',\n",
    "        color_continuous_scale=px.colors.sequential.Plasma,\n",
    "        title='Where were the Nobel laurates born?',\n",
    "        height=len(top20_laurate_birth_city['birth_city'].unique()) * 30,\n",
    "        labels={'prize': 'Number of Prizes', 'birth_city': 'Birth City'}\n",
    "    )\n",
    "    laurate_birth_city_bar_fig.update_layout(\n",
    "        coloraxis_showscale=False,\n",
    "        yaxis={'categoryorder': 'total ascending'}\n",
    "    )\n",
    "    laurate_birth_city_bar_fig.show()\n",
    "\n",
    "\n",
    "def gen_sunburst(in_df: pd.DataFrame) -> None:\n",
    "    country_city_org = in_df.groupby(\n",
    "        by=['organization_country', 'organization_city', 'organization_name'],\n",
    "        as_index=False\n",
    "        ).agg({'prize': 'count'}).sort_values(by='prize', ascending=False)\n",
    "    # print(country_city_org)\n",
    "    burst = px.sunburst(\n",
    "        data_frame=country_city_org,\n",
    "        path=[\n",
    "            'organization_country',\n",
    "            'organization_city',\n",
    "            'organization_name',\n",
    "        ],\n",
    "        values='prize',\n",
    "        title='Where do discoveries take place?'\n",
    "    )\n",
    "    burst.update_layout(\n",
    "        xaxis_title='Number of Prizes',\n",
    "        yaxis_title='City'\n",
    "    )\n",
    "    burst.show()\n",
    "\n",
    "\n",
    "if __name__ == '__main__':\n",
    "    setup_logging()\n",
    "\n",
    "    in_df = fetch_df('input-79.csv')\n",
    "    in_df = conv_df_dtype(in_df)\n",
    "\n",
    "    # gen_fig_top20_org(in_df)    \n",
    "    # gen_fig_org_city(in_df)\n",
    "    # gen_fig_birth_city(in_df)\n",
    "    gen_sunburst(in_df)\n",
    "\n",
    "    \n",
    "\n"
   ]
  },
  {
   "cell_type": "markdown",
   "id": "bcd0fa8a",
   "metadata": {},
   "source": [
    "# Unearthing Patterns in the Laureate Age at the Time of the Award"
   ]
  },
  {
   "cell_type": "code",
   "execution_count": 26,
   "id": "03f02dc1",
   "metadata": {},
   "outputs": [
    {
     "data": {
      "image/png": "[encoded data removed]",
      "text/plain": [
       "<Figure size 1500x750 with 1 Axes>"
      ]
     },
     "metadata": {},
     "output_type": "display_data"
    },
    {
     "data": {
      "image/png": "[encoded data removed]",
      "text/plain": [
       "<Figure size 1500x750 with 1 Axes>"
      ]
     },
     "metadata": {},
     "output_type": "display_data"
    },
    {
     "data": {
      "image/png": "[encoded data removed]",
      "text/plain": [
       "<Figure size 1500x750 with 1 Axes>"
      ]
     },
     "metadata": {},
     "output_type": "display_data"
    },
    {
     "data": {
      "image/png": "[encoded data removed]",
      "text/plain": [
       "<Figure size 1048.5x400 with 1 Axes>"
      ]
     },
     "metadata": {},
     "output_type": "display_data"
    }
   ],
   "source": [
    "def explore_winning_age(in_df: pd.DataFrame) -> None:\n",
    "    display(in_df.nlargest(n=1, columns='winning_age'))\n",
    "    display(in_df.nsmallest(n=1, columns='winning_age'))\n",
    "\n",
    "    print(f'Winning age info: {in_df.winning_age.describe()}')\n",
    "\n",
    "\n",
    "def gen_fig_winning_age(in_df: pd.DataFrame) -> None:\n",
    "    plt.figure(\n",
    "        figsize=(10, 5),\n",
    "        dpi=150\n",
    "    )\n",
    "    sns.histplot(\n",
    "        data=in_df,\n",
    "        x=in_df.winning_age,\n",
    "        bins=30,\n",
    "        kde=True,\n",
    "        color='skyblue'\n",
    "    )\n",
    "    plt.xlabel('Age at award')\n",
    "    plt.ylabel('Number of Laurates')\n",
    "    plt.title('Distribution of Age on Receipt of Prize')\n",
    "    plt.grid(True, linestyle='--', alpha=0.5)\n",
    "    plt.tight_layout()\n",
    "    plt.show()\n",
    "\n",
    "\n",
    "def gen_fig_winning_age_over_time(in_df: pd.DataFrame) -> None:\n",
    "    plt.figure(\n",
    "        figsize=(10, 5),\n",
    "        dpi=150\n",
    "    )\n",
    "    with sns.axes_style('whitegrid'):\n",
    "        sns.regplot(\n",
    "            data=in_df,\n",
    "            x='year',\n",
    "            y='winning_age',\n",
    "            lowess=True,\n",
    "            scatter_kws= {'alpha': 0.4},\n",
    "            line_kws={'color': 'black'}\n",
    "        )\n",
    "    plt.xlabel('Year')\n",
    "    plt.ylabel('Winning Age')\n",
    "    plt.title('Trend of Prize winning age over Time')\n",
    "    plt.tight_layout()\n",
    "    plt.show()\n",
    "\n",
    "\n",
    "def gen_plt_agediff_cat(in_df: pd.DataFrame) -> None:\n",
    "    # sort categories by median winning age\n",
    "    ordered_cats = in_df.groupby('category')['winning_age'].median().sort_values().index\n",
    "\n",
    "    plt.figure(\n",
    "        figsize=(10, 5),\n",
    "        dpi=150\n",
    "    )\n",
    "    with sns.axes_style('whitegrid'):\n",
    "        sns.boxplot(\n",
    "            data=in_df,\n",
    "            x='category',\n",
    "            y='winning_age',\n",
    "            order=ordered_cats,\n",
    "            hue='category',\n",
    "            showmeans=True, \n",
    "            meanprops={\"marker\": \"o\", \"markerfacecolor\": \"white\", \"markeredgecolor\": \"black\"}\n",
    "        )\n",
    "    plt.title('Distribution of Nobel Prize Winning Age by Category')\n",
    "    plt.xlabel('Prize Category')\n",
    "    plt.ylabel('Winning Age')\n",
    "    plt.xticks(rotation=45)\n",
    "    plt.grid(axis='y', linestyle='--', alpha=0.5)\n",
    "    plt.tight_layout()\n",
    "    plt.show()\n",
    "\n",
    "\n",
    "def gen_plt_age_cat_over_time(in_df: pd.DataFrame) -> None:\n",
    "    with sns.axes_style('whitegrid'):\n",
    "        g = sns.lmplot(\n",
    "            data=in_df,\n",
    "            x='year',\n",
    "            y='winning_age',\n",
    "            hue='category',\n",
    "            lowess=True,\n",
    "            height=4,\n",
    "            aspect=2,\n",
    "            scatter_kws={'alpha': 0.5, 's': 20},\n",
    "            palette='Set2'\n",
    "        )\n",
    "    g.set_axis_labels('Year', 'Winning Age')\n",
    "    g.fig.suptitle('Prize Winning Age Over Time by Category', y=1.03)\n",
    "    g.add_legend(title='Category')\n",
    "    plt.tight_layout()\n",
    "    plt.show()\n",
    "\n",
    "\n",
    "if __name__ == '__main__':\n",
    "    setup_logging()\n",
    "\n",
    "    in_df = fetch_df('input-79.csv')\n",
    "    in_df = conv_df_dtype(in_df)\n",
    "\n",
    "    in_df['winning_age'] = in_df.year - in_df.birth_date.dt.year\n",
    "\n",
    "    # explore_winning_age(in_df)\n",
    "    gen_fig_winning_age(in_df)\n",
    "    gen_fig_winning_age_over_time(in_df)\n",
    "    gen_plt_agediff_cat(in_df)\n",
    "    gen_plt_age_cat_over_time(in_df)"
   ]
  }
 ],
 "metadata": {
  "kernelspec": {
   "display_name": ".venv",
   "language": "python",
   "name": "python3"
  },
  "language_info": {
   "codemirror_mode": {
    "name": "ipython",
    "version": 3
   },
   "file_extension": ".py",
   "mimetype": "text/x-python",
   "name": "python",
   "nbconvert_exporter": "python",
   "pygments_lexer": "ipython3",
   "version": "3.12.3"
  }
 },
 "nbformat": 4,
 "nbformat_minor": 5
}
