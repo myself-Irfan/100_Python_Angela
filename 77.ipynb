{
 "cells": [
  {
   "cell_type": "code",
   "execution_count": null,
   "id": "277e7a2e",
   "metadata": {},
   "outputs": [],
   "source": [
    "import logging\n",
    "import numpy as np\n",
    "import matplotlib.pyplot as plt\n",
    "from PIL import Image\n",
    "\n",
    "def setup_logging():\n",
    "    logging.basicConfig(\n",
    "        level=logging.INFO,\n",
    "        format='%(asctime)s - %(levelname)s - %(funcName)s | %(message)s',\n",
    "        handlers=[\n",
    "            logging.FileHandler('77-ipynb.log')\n",
    "        ]\n",
    "    )\n",
    "\n",
    "    logging.info(\"Logging setup complete.\")"
   ]
  },
  {
   "cell_type": "markdown",
   "id": "cf6e5030",
   "metadata": {},
   "source": [
    "# NumPy's ndarray"
   ]
  },
  {
   "cell_type": "code",
   "execution_count": null,
   "id": "09d5a89b",
   "metadata": {},
   "outputs": [],
   "source": [
    "if __name__ == \"__main__\":"
   ]
  }
 ],
 "metadata": {
  "kernelspec": {
   "display_name": ".venv",
   "language": "python",
   "name": "python3"
  },
  "language_info": {
   "codemirror_mode": {
    "name": "ipython",
    "version": 3
   },
   "file_extension": ".py",
   "mimetype": "text/x-python",
   "name": "python",
   "nbconvert_exporter": "python",
   "pygments_lexer": "ipython3",
   "version": "3.12.3"
  }
 },
 "nbformat": 4,
 "nbformat_minor": 5
}
