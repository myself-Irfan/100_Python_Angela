{
 "cells": [
  {
   "cell_type": "code",
   "execution_count": null,
   "id": "277e7a2e",
   "metadata": {},
   "outputs": [],
   "source": [
    "import logging\n",
    "import numpy as np\n",
    "import matplotlib.pyplot as plt\n",
    "from PIL import Image\n",
    "\n",
    "def setup_logging():\n",
    "    logging.basicConfig(\n",
    "        level=logging.INFO,\n",
    "        format='%(asctime)s - %(levelname)s - %(funcName)s | %(message)s',\n",
    "        handlers=[\n",
    "            logging.FileHandler('77-ipynb.log')\n",
    "        ]\n",
    "    )\n",
    "\n",
    "    logging.info(\"Logging setup complete.\")"
   ]
  },
  {
   "cell_type": "markdown",
   "id": "cf6e5030",
   "metadata": {},
   "source": [
    "# NumPy's ndarray"
   ]
  },
  {
   "cell_type": "code",
   "execution_count": 32,
   "id": "09d5a89b",
   "metadata": {},
   "outputs": [
    {
     "name": "stdout",
     "output_type": "stream",
     "text": [
      "1-dimensional array\n",
      "Shape: (4,)\n",
      "Access element by index: 8.1\n",
      "Dimensions: 1\n",
      "2-dimensional array\n",
      "Shape: (2, 3)\n",
      "Access element by index: 2.2\n",
      "Dimensions: 2\n",
      "All values in second row: [4.7 3.3 2.2]\n",
      "Dimensions: 3\n",
      "Mystery array shape: (3, 2, 4)\n",
      "Access value by index: 18\n",
      "Access 1-d vector: [97  0 27 18]\n",
      "Access (3, 2) matrix: [[ 0  4]\n",
      " [ 7  5]\n",
      " [ 5 97]]\n"
     ]
    }
   ],
   "source": [
    "if __name__ == \"__main__\":\n",
    "    setup_logging()\n",
    "\n",
    "    print('1-dimensional array')\n",
    "    d1 = np.array([1.1, 9.2, 8.1, 4.7])\n",
    "    print(f'Shape: {d1.shape}')\n",
    "    print(f'Access element by index: {d1[2]}')\n",
    "    print(f'Dimensions: {d1.ndim}')\n",
    "\n",
    "    print('2-dimensional array')\n",
    "    d2 = np.array([[1.1, 9.2, 8.1], [4.7, 3.3, 2.2]])\n",
    "    print(f'Shape: {d2.shape}')\n",
    "    print(f'Access element by index: {d2[1, 2]}')\n",
    "    print(f'Dimensions: {d2.ndim}')\n",
    "    print(f'All values in second row: {d2[1]}')\n",
    "\n",
    "    # challenge\n",
    "    mystery_array = np.array(\n",
    "        [\n",
    "            [\n",
    "                [0, 1, 2, 3],\n",
    "                [4, 5, 6, 7]\n",
    "            ],               \n",
    "            [\n",
    "                [7, 86, 6, 98],\n",
    "                [5, 1, 0, 4]\n",
    "            ],    \n",
    "            [\n",
    "                [5, 36, 32, 48],\n",
    "                [97, 0, 27, 18]\n",
    "            ]\n",
    "        ]\n",
    "    )\n",
    "\n",
    "    print(f'Dimensions: {mystery_array.ndim}')\n",
    "    print(f'Mystery array shape: {mystery_array.shape}')\n",
    "    print(f'Access value by index: {mystery_array[2, 1, 3]}')\n",
    "    print(f'Access 1-d vector: {mystery_array[2, 1]}')\n",
    "    print(f'Access (3, 2) matrix: {mystery_array[: , : , 0]}')"
   ]
  },
  {
   "cell_type": "markdown",
   "id": "21d65ed9",
   "metadata": {},
   "source": [
    "# Generating and Manipulating ndarrays"
   ]
  },
  {
   "cell_type": "code",
   "execution_count": 56,
   "id": "21dee1f3",
   "metadata": {},
   "outputs": [
    {
     "name": "stdout",
     "output_type": "stream",
     "text": [
      "Generated array: [10 11 12 13 14 15 16 17 18 19 20 21 22 23 24 25 26 27 28 29]\n",
      "Array with last 3 elements: [27 28 29]\n",
      "Array with only element 4, 5, 6: [13 14 15]\n",
      "Array without first 12: [22 23 24 25 26 27 28 29]\n",
      "Every second element: [10 12 14 16 18 20 22 24 26 28]\n",
      "Reversed: [29 28 27 26 25 24 23 22 21 20 19 18 17 16 15 14 13 12 11 10]\n",
      "Non-zero indices: (array([0, 2, 5]),)\n",
      "Random 3x3x3 array:\n",
      "[[[0.5411489  0.04739687 0.6238703 ]\n",
      "  [0.6804785  0.55978132 0.2028965 ]\n",
      "  [0.61649531 0.90726908 0.10026514]]\n",
      "\n",
      " [[0.38110089 0.4807135  0.3550554 ]\n",
      "  [0.56162546 0.00799644 0.20975841]\n",
      "  [0.74687141 0.69593586 0.96853191]]\n",
      "\n",
      " [[0.76072972 0.66705663 0.35365369]\n",
      "  [0.76915332 0.4561906  0.12406738]\n",
      "  [0.64767032 0.43373101 0.55365286]]]\n",
      "Linspace of 9 elements with 0-100: [  0.   12.5  25.   37.5  50.   62.5  75.   87.5 100. ]\n"
     ]
    },
    {
     "data": {
      "image/png": "[encoded data removed]",
      "text/plain": [
       "<Figure size 640x480 with 1 Axes>"
      ]
     },
     "metadata": {},
     "output_type": "display_data"
    }
   ],
   "source": [
    "if __name__ == \"__main__\":\n",
    "    setup_logging()\n",
    "\n",
    "    # challenge 1\n",
    "    arr1 = np.arange(10, 30)\n",
    "    print(f'Generated array: {arr1}')\n",
    "\n",
    "    # challenge 2\n",
    "    print(f'Array with last 3 elements: {arr1[-3:]}')\n",
    "    print(f'Array with only element 4, 5, 6: {arr1[3:6]}')\n",
    "    print(f'Array without first 12: {arr1[12:]}')\n",
    "    print(f'Every second element: {arr1[::2]}')\n",
    "    \n",
    "    # challenge 3\n",
    "    print(f'Reversed: {np.flip(arr1)}')\n",
    "\n",
    "    # challange 4\n",
    "    arr2 = np.array([6,0,9,0,0,5,0])\n",
    "    print(f'Non-zero indices: {np.nonzero(arr2)}')\n",
    "\n",
    "    # challenge 5\n",
    "    print(f'Random 3x3x3 array:\\n{np.random.random((3, 3, 3))}')\n",
    "\n",
    "    # challenge 6\n",
    "    lnespace_array1 = np.linspace(start=0, stop=100, num=9)\n",
    "    print(f'Linspace of 9 elements with 0-100: {lnespace_array1}')\n",
    "\n",
    "    # challenge 7\n",
    "    lnespace_array2 = np.linspace(start=-3, stop=3, num=9)\n",
    "    plt.plot(\n",
    "        lnespace_array1,\n",
    "        lnespace_array2,\n",
    "        marker='o',\n",
    "        linestyle='-',\n",
    "        color='blue',\n",
    "        label='Linspace Plot'\n",
    "    )\n",
    "    plt.show()"
   ]
  }
 ],
 "metadata": {
  "kernelspec": {
   "display_name": ".venv",
   "language": "python",
   "name": "python3"
  },
  "language_info": {
   "codemirror_mode": {
    "name": "ipython",
    "version": 3
   },
   "file_extension": ".py",
   "mimetype": "text/x-python",
   "name": "python",
   "nbconvert_exporter": "python",
   "pygments_lexer": "ipython3",
   "version": "3.12.3"
  }
 },
 "nbformat": 4,
 "nbformat_minor": 5
}
