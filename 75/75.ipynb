{
 "cells": [
  {
   "cell_type": "markdown",
   "id": "55d6713d",
   "metadata": {},
   "source": [
    "# import statements"
   ]
  },
  {
   "cell_type": "code",
   "execution_count": 4,
   "id": "8164f627",
   "metadata": {},
   "outputs": [],
   "source": [
    "import logging\n",
    "import pandas as pd\n",
    "import matplotlib.pyplot as plt"
   ]
  },
  {
   "cell_type": "markdown",
   "id": "3b68c43c",
   "metadata": {},
   "source": [
    "# custom method"
   ]
  },
  {
   "cell_type": "code",
   "execution_count": 5,
   "id": "46516c46",
   "metadata": {},
   "outputs": [],
   "source": [
    "def setup_logging():\n",
    "    logging.basicConfig(\n",
    "        level=logging.INFO,\n",
    "        format='%(asctime)s - %(levelname)s - %(funcName)s | %(message)s',\n",
    "        handlers=[\n",
    "            # logging.StreamHandler(),\n",
    "            logging.FileHandler('75-ipynb.log')\n",
    "        ]\n",
    "    )\n",
    "    logging.info(\"Logging setup complete.\")\n",
    "\n",
    "\n",
    "def fetch_df(file_path: str) -> pd.DataFrame:\n",
    "\n",
    "    try:\n",
    "        df = pd.read_csv(f'data/{file_path}')\n",
    "    except FileNotFoundError as notfound_err:\n",
    "        logging.error(f\"File not found: {file_path}. Error: {notfound_err}\")\n",
    "        raise notfound_err\n",
    "    except pd.errors.EmptyDataError as empty_err:\n",
    "        logging.error(f\"Empty data error for file: {file_path}. Error: {empty_err}\")\n",
    "        raise empty_err\n",
    "    except pd.errors.ParserError as parse_err:\n",
    "        logging.error(f\"Parser error for file: {file_path}. Error: {parse_err}\")\n",
    "        raise parse_err \n",
    "    except Exception as e:\n",
    "        logging.error(f\"Error loading DataFrame from {file_path}: {e}\")\n",
    "        raise e\n",
    "    else:\n",
    "        logging.info(f'Dataframe loaded successfully. Shape: {df.shape}')\n",
    "        return df"
   ]
  },
  {
   "cell_type": "markdown",
   "id": "979e4650",
   "metadata": {},
   "source": [
    "# Data Exploration - Making Sense of Google Search Data"
   ]
  },
  {
   "cell_type": "code",
   "execution_count": null,
   "id": "f8fbc4a7",
   "metadata": {},
   "outputs": [
    {
     "name": "stdout",
     "output_type": "stream",
     "text": [
      "Dataframe shape: (124, 3)\n",
      "DataFrame columns: ['MONTH', 'TSLA_WEB_SEARCH', 'TSLA_USD_CLOSE']\n",
      "DataFrame Description:\n",
      "       TSLA_WEB_SEARCH  TSLA_USD_CLOSE\n",
      "count       124.000000      124.000000\n",
      "mean          8.725806       50.962145\n",
      "std           5.870332       65.908389\n",
      "min           2.000000        3.896000\n",
      "25%           3.750000        7.352500\n",
      "50%           8.000000       44.653000\n",
      "75%          12.000000       58.991999\n",
      "max          31.000000      498.320007\n",
      "NaN: False\n",
      "Max number in TSLA_WEB_SEARCH: 31\n",
      "Dataframe shape: (73, 2)\n",
      "DataFrame columns: ['MONTH', 'BTC_NEWS_SEARCH']\n",
      "DataFrame Description:\n",
      "       BTC_NEWS_SEARCH\n",
      "count        73.000000\n",
      "mean         15.013699\n",
      "std          15.146959\n",
      "min           3.000000\n",
      "25%           5.000000\n",
      "50%          14.000000\n",
      "75%          18.000000\n",
      "max         100.000000\n",
      "NaN: False\n",
      "Max number in BTC_NEWS_SEARCH: 100\n",
      "Dataframe shape: (2204, 3)\n",
      "DataFrame columns: ['DATE', 'CLOSE', 'VOLUME']\n",
      "DataFrame Description:\n",
      "              CLOSE        VOLUME\n",
      "count   2203.000000  2.203000e+03\n",
      "mean    4429.421245  8.043622e+09\n",
      "std     4148.150071  1.176529e+10\n",
      "min      178.102997  5.914570e+06\n",
      "25%      433.629502  6.029915e+07\n",
      "50%     3637.520020  2.018890e+09\n",
      "75%     7997.372803  1.322478e+10\n",
      "max    19497.400391  7.415677e+10\n",
      "NaN: True\n",
      "NaN count: DATE      0\n",
      "CLOSE     1\n",
      "VOLUME    1\n",
      "dtype: int64\n",
      "Dataframe shape: (181, 3)\n",
      "DataFrame columns: ['MONTH', 'UE_BENEFITS_WEB_SEARCH', 'UNRATE']\n",
      "DataFrame Description:\n",
      "       UE_BENEFITS_WEB_SEARCH      UNRATE\n",
      "count              181.000000  181.000000\n",
      "mean                35.110497    6.217680\n",
      "std                 20.484925    1.891859\n",
      "min                 14.000000    3.700000\n",
      "25%                 21.000000    4.700000\n",
      "50%                 26.000000    5.400000\n",
      "75%                 45.000000    7.800000\n",
      "max                100.000000   10.000000\n",
      "NaN: False\n",
      "Max number in UE_BENEFITS_WEB_SEARCH: 100\n"
     ]
    }
   ],
   "source": [
    "def log_base_info(df: pd.DataFrame):\n",
    "    print(f'Dataframe shape: {df.shape}')\n",
    "    print(f\"DataFrame columns: {df.columns.tolist()}\")\n",
    "    print(f\"DataFrame Description:\\n{df.describe()}\")\n",
    "    has_na = df.isna().values.any()\n",
    "    print(f'NaN: {has_na}')\n",
    "    if has_na:\n",
    "        print(f'NaN count: {df.isna().sum()}')\n",
    "\n",
    "\n",
    "if __name__ == \"__main__\":\n",
    "    setup_logging()\n",
    "\n",
    "    df_tesla = fetch_df('TESLA Search Trend vs Price.csv')\n",
    "    log_base_info(df_tesla)\n",
    "    print(f'Max number in TSLA_WEB_SEARCH: {df_tesla.TSLA_WEB_SEARCH.max()}')\n",
    "\n",
    "    df_btc_search = fetch_df('Bitcoin Search Trend.csv')\n",
    "    log_base_info(df_btc_search)\n",
    "    print(f'Max number in BTC_NEWS_SEARCH: {df_btc_search.BTC_NEWS_SEARCH.max()}')\n",
    "\n",
    "    df_btc_price = fetch_df('Daily Bitcoin Price.csv')\n",
    "    log_base_info(df_btc_price)\n",
    "\n",
    "    df_unemployment = fetch_df('UE Benefits Search vs UE Rate 2004-19.csv')\n",
    "    log_base_info(df_unemployment)\n",
    "    print(f'Max number in UE_BENEFITS_WEB_SEARCH: {df_unemployment.UE_BENEFITS_WEB_SEARCH.max()}')\n",
    "\n"
   ]
  },
  {
   "cell_type": "markdown",
   "id": "60d5262a",
   "metadata": {},
   "source": [
    "# Data Cleaning - Resampling Time Series Data"
   ]
  },
  {
   "cell_type": "code",
   "execution_count": null,
   "id": "1442d652",
   "metadata": {},
   "outputs": [],
   "source": [
    "def log_base_info(df: pd.DataFrame):\n",
    "    print(f'Dataframe shape: {df.shape}')\n",
    "    print(f\"DataFrame columns: {df.columns.tolist()}\")\n",
    "    print(f\"DataFrame Description:\\n{df.describe()}\")\n",
    "    has_na = df.isna().values.any()\n",
    "    print(f'NaN: {has_na}')\n",
    "    if has_na:\n",
    "        print(f'NaN count: {df.isna().sum()}')\n",
    "\n",
    "\n",
    "if __name__ == \"__main__\":\n",
    "    setup_logging()\n",
    "\n",
    "    df_tesla = fetch_df('TESLA Search Trend vs Price.csv')\n",
    "    log_base_info(df_tesla)\n",
    "    print(f'Max number in TSLA_WEB_SEARCH: {df_tesla.TSLA_WEB_SEARCH.max()}')\n",
    "    df_tesla.MONTH = pd.to_datetime(df_tesla.MONTH)\n",
    "\n",
    "    df_btc_search = fetch_df('Bitcoin Search Trend.csv')\n",
    "    log_base_info(df_btc_search)\n",
    "    print(f'Max number in BTC_NEWS_SEARCH: {df_btc_search.BTC_NEWS_SEARCH.max()}')\n",
    "    df_btc_search.MONTH = pd.to_datetime(df_btc_search.MONTH)\n",
    "\n",
    "    df_btc_price = fetch_df('Daily Bitcoin Price.csv')\n",
    "    log_base_info(df_btc_price)\n",
    "    df_btc_price = df_btc_price.dropna()\n",
    "    df_btc_price.DATE = pd.to_datetime(df_btc_price.DATE)\n",
    "    df_btc_price_monthly = df_btc_price.resample('M', on='DATE').last()\n",
    "\n",
    "    df_unemployment = fetch_df('UE Benefits Search vs UE Rate 2004-19.csv')\n",
    "    log_base_info(df_unemployment)\n",
    "    print(f'Max number in UE_BENEFITS_WEB_SEARCH: {df_unemployment.UE_BENEFITS_WEB_SEARCH.max()}')\n",
    "    df_unemployment.MONTH = pd.to_datetime(df_unemployment.MONTH)\n",
    "\n"
   ]
  }
 ],
 "metadata": {
  "kernelspec": {
   "display_name": ".venv",
   "language": "python",
   "name": "python3"
  },
  "language_info": {
   "codemirror_mode": {
    "name": "ipython",
    "version": 3
   },
   "file_extension": ".py",
   "mimetype": "text/x-python",
   "name": "python",
   "nbconvert_exporter": "python",
   "pygments_lexer": "ipython3",
   "version": "3.12.3"
  }
 },
 "nbformat": 4,
 "nbformat_minor": 5
}
